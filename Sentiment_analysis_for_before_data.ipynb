{
 "cells": [
  {
   "cell_type": "code",
   "execution_count": 1,
   "id": "352363da",
   "metadata": {},
   "outputs": [],
   "source": [
    "import re\n",
    "import numpy as np\n",
    "\n",
    "import matplotlib.pyplot as plt\n",
    "import seaborn as sns\n",
    "\n",
    "import pandas as pd\n",
    "\n",
    "import datetime as dt\n",
    "from collections import Counter\n",
    "\n",
    "import nltk\n",
    "from nltk.tokenize import sent_tokenize\n",
    "from nltk.tokenize import TweetTokenizer\n",
    "from nltk.tokenize import word_tokenize\n",
    "from nltk.corpus import words\n",
    "from nltk.corpus import stopwords\n",
    "from nltk.stem import PorterStemmer\n",
    "from nltk.stem import WordNetLemmatizer"
   ]
  },
  {
   "cell_type": "code",
   "execution_count": 2,
   "id": "93e0c46a",
   "metadata": {
    "scrolled": true
   },
   "outputs": [
    {
     "name": "stderr",
     "output_type": "stream",
     "text": [
      "C:\\Users\\Mourya Kuntamukkala\\AppData\\Local\\Temp\\ipykernel_7276\\375709397.py:1: FutureWarning: The error_bad_lines argument has been deprecated and will be removed in a future version. Use on_bad_lines in the future.\n",
      "\n",
      "\n",
      "  df = pd.read_csv(r'C:\\Users\\Mourya Kuntamukkala\\Desktop\\Courses\\SMDM\\Final Project\\Edited\\Biden_No_Retweet_Full_Text_Before_Election.csv',error_bad_lines=False)\n"
     ]
    }
   ],
   "source": [
    "df = pd.read_csv(r'C:\\Users\\Mourya Kuntamukkala\\Desktop\\Courses\\SMDM\\Final Project\\Edited\\Biden_No_Retweet_Full_Text_Before_Election.csv',error_bad_lines=False)"
   ]
  },
  {
   "cell_type": "code",
   "execution_count": 3,
   "id": "046a1358",
   "metadata": {},
   "outputs": [
    {
     "data": {
      "text/html": [
       "<div>\n",
       "<style scoped>\n",
       "    .dataframe tbody tr th:only-of-type {\n",
       "        vertical-align: middle;\n",
       "    }\n",
       "\n",
       "    .dataframe tbody tr th {\n",
       "        vertical-align: top;\n",
       "    }\n",
       "\n",
       "    .dataframe thead th {\n",
       "        text-align: right;\n",
       "    }\n",
       "</style>\n",
       "<table border=\"1\" class=\"dataframe\">\n",
       "  <thead>\n",
       "    <tr style=\"text-align: right;\">\n",
       "      <th></th>\n",
       "      <th>Date</th>\n",
       "      <th>Tweet_id</th>\n",
       "      <th>Verified</th>\n",
       "      <th>Tweet</th>\n",
       "      <th>User</th>\n",
       "      <th>Location</th>\n",
       "      <th>Source</th>\n",
       "      <th>Likes</th>\n",
       "      <th>Followers</th>\n",
       "      <th>Following</th>\n",
       "      <th>Retweets</th>\n",
       "    </tr>\n",
       "  </thead>\n",
       "  <tbody>\n",
       "    <tr>\n",
       "      <th>0</th>\n",
       "      <td>2020-07-21 23:59:43</td>\n",
       "      <td>1285726179907993601</td>\n",
       "      <td>False</td>\n",
       "      <td>@JoeBiden VP Biden I wish you wouldn't debate ...</td>\n",
       "      <td>BballmomEjZay</td>\n",
       "      <td>United States</td>\n",
       "      <td>Twitter for Android</td>\n",
       "      <td>0</td>\n",
       "      <td>54</td>\n",
       "      <td>192</td>\n",
       "      <td>0</td>\n",
       "    </tr>\n",
       "    <tr>\n",
       "      <th>1</th>\n",
       "      <td>2020-07-21 23:59:27</td>\n",
       "      <td>1285726110513344520</td>\n",
       "      <td>False</td>\n",
       "      <td>#GeorgeWill , it’s so sad you wake up everyday...</td>\n",
       "      <td>TalbotMac</td>\n",
       "      <td>East Aurora, NY</td>\n",
       "      <td>Twitter for iPhone</td>\n",
       "      <td>0</td>\n",
       "      <td>882</td>\n",
       "      <td>1554</td>\n",
       "      <td>0</td>\n",
       "    </tr>\n",
       "    <tr>\n",
       "      <th>2</th>\n",
       "      <td>2020-07-21 23:59:24</td>\n",
       "      <td>1285726099239055361</td>\n",
       "      <td>False</td>\n",
       "      <td>Question:\\nIf @JoeBiden doesn’t pick a woman o...</td>\n",
       "      <td>bk_middleclass</td>\n",
       "      <td>Nashville, TN</td>\n",
       "      <td>Twitter for iPhone</td>\n",
       "      <td>0</td>\n",
       "      <td>1294</td>\n",
       "      <td>1213</td>\n",
       "      <td>0</td>\n",
       "    </tr>\n",
       "    <tr>\n",
       "      <th>3</th>\n",
       "      <td>2020-07-21 23:58:47</td>\n",
       "      <td>1285725945849151490</td>\n",
       "      <td>False</td>\n",
       "      <td>Right? 🤣🤣🤣 #Biden formally implicated in #Ukra...</td>\n",
       "      <td>MMorganBlair</td>\n",
       "      <td>United States</td>\n",
       "      <td>Twitter for iPhone</td>\n",
       "      <td>1</td>\n",
       "      <td>2476</td>\n",
       "      <td>3334</td>\n",
       "      <td>1</td>\n",
       "    </tr>\n",
       "    <tr>\n",
       "      <th>4</th>\n",
       "      <td>2020-07-21 23:58:02</td>\n",
       "      <td>1285725754961965056</td>\n",
       "      <td>False</td>\n",
       "      <td>These idiots let Trump do anything he wants. W...</td>\n",
       "      <td>realfacade1</td>\n",
       "      <td>Purgatory</td>\n",
       "      <td>Twitter for Android</td>\n",
       "      <td>0</td>\n",
       "      <td>2764</td>\n",
       "      <td>3799</td>\n",
       "      <td>0</td>\n",
       "    </tr>\n",
       "  </tbody>\n",
       "</table>\n",
       "</div>"
      ],
      "text/plain": [
       "                  Date             Tweet_id  Verified  \\\n",
       "0  2020-07-21 23:59:43  1285726179907993601     False   \n",
       "1  2020-07-21 23:59:27  1285726110513344520     False   \n",
       "2  2020-07-21 23:59:24  1285726099239055361     False   \n",
       "3  2020-07-21 23:58:47  1285725945849151490     False   \n",
       "4  2020-07-21 23:58:02  1285725754961965056     False   \n",
       "\n",
       "                                               Tweet            User  \\\n",
       "0  @JoeBiden VP Biden I wish you wouldn't debate ...   BballmomEjZay   \n",
       "1  #GeorgeWill , it’s so sad you wake up everyday...       TalbotMac   \n",
       "2  Question:\\nIf @JoeBiden doesn’t pick a woman o...  bk_middleclass   \n",
       "3  Right? 🤣🤣🤣 #Biden formally implicated in #Ukra...    MMorganBlair   \n",
       "4  These idiots let Trump do anything he wants. W...     realfacade1   \n",
       "\n",
       "          Location               Source  Likes  Followers  Following  Retweets  \n",
       "0    United States  Twitter for Android      0         54        192         0  \n",
       "1  East Aurora, NY   Twitter for iPhone      0        882       1554         0  \n",
       "2    Nashville, TN   Twitter for iPhone      0       1294       1213         0  \n",
       "3    United States   Twitter for iPhone      1       2476       3334         1  \n",
       "4       Purgatory   Twitter for Android      0       2764       3799         0  "
      ]
     },
     "execution_count": 3,
     "metadata": {},
     "output_type": "execute_result"
    }
   ],
   "source": [
    "df.head()"
   ]
  },
  {
   "cell_type": "code",
   "execution_count": 4,
   "id": "f220fbe1",
   "metadata": {},
   "outputs": [
    {
     "name": "stdout",
     "output_type": "stream",
     "text": [
      "<class 'pandas.core.frame.DataFrame'>\n",
      "RangeIndex: 15098 entries, 0 to 15097\n",
      "Data columns (total 11 columns):\n",
      " #   Column     Non-Null Count  Dtype \n",
      "---  ------     --------------  ----- \n",
      " 0   Date       15098 non-null  object\n",
      " 1   Tweet_id   15098 non-null  int64 \n",
      " 2   Verified   15098 non-null  bool  \n",
      " 3   Tweet      15098 non-null  object\n",
      " 4   User       15098 non-null  object\n",
      " 5   Location   11032 non-null  object\n",
      " 6   Source     15098 non-null  object\n",
      " 7   Likes      15098 non-null  int64 \n",
      " 8   Followers  15098 non-null  int64 \n",
      " 9   Following  15098 non-null  int64 \n",
      " 10  Retweets   15098 non-null  int64 \n",
      "dtypes: bool(1), int64(5), object(5)\n",
      "memory usage: 1.2+ MB\n"
     ]
    }
   ],
   "source": [
    "df.info()"
   ]
  },
  {
   "cell_type": "code",
   "execution_count": 5,
   "id": "fabe2384",
   "metadata": {},
   "outputs": [
    {
     "data": {
      "text/plain": [
       "(15098, 11)"
      ]
     },
     "execution_count": 5,
     "metadata": {},
     "output_type": "execute_result"
    }
   ],
   "source": [
    "df.shape"
   ]
  },
  {
   "cell_type": "markdown",
   "id": "26866da1",
   "metadata": {},
   "source": [
    "Preprocessing"
   ]
  },
  {
   "cell_type": "code",
   "execution_count": 6,
   "id": "39f733b8",
   "metadata": {},
   "outputs": [
    {
     "data": {
      "text/html": [
       "<div>\n",
       "<style scoped>\n",
       "    .dataframe tbody tr th:only-of-type {\n",
       "        vertical-align: middle;\n",
       "    }\n",
       "\n",
       "    .dataframe tbody tr th {\n",
       "        vertical-align: top;\n",
       "    }\n",
       "\n",
       "    .dataframe thead th {\n",
       "        text-align: right;\n",
       "    }\n",
       "</style>\n",
       "<table border=\"1\" class=\"dataframe\">\n",
       "  <thead>\n",
       "    <tr style=\"text-align: right;\">\n",
       "      <th></th>\n",
       "      <th>Date</th>\n",
       "      <th>Tweet_id</th>\n",
       "      <th>Verified</th>\n",
       "      <th>Tweet</th>\n",
       "      <th>User</th>\n",
       "      <th>Location</th>\n",
       "      <th>Source</th>\n",
       "      <th>Likes</th>\n",
       "      <th>Followers</th>\n",
       "      <th>Following</th>\n",
       "      <th>Retweets</th>\n",
       "    </tr>\n",
       "  </thead>\n",
       "  <tbody>\n",
       "    <tr>\n",
       "      <th>0</th>\n",
       "      <td>2020-07-21 23:59:43</td>\n",
       "      <td>1285726179907993601</td>\n",
       "      <td>False</td>\n",
       "      <td>@JoeBiden VP Biden I wish you wouldn't debate ...</td>\n",
       "      <td>BballmomEjZay</td>\n",
       "      <td>United States</td>\n",
       "      <td>Twitter for Android</td>\n",
       "      <td>0</td>\n",
       "      <td>54</td>\n",
       "      <td>192</td>\n",
       "      <td>0</td>\n",
       "    </tr>\n",
       "    <tr>\n",
       "      <th>1</th>\n",
       "      <td>2020-07-21 23:59:27</td>\n",
       "      <td>1285726110513344520</td>\n",
       "      <td>False</td>\n",
       "      <td>#GeorgeWill , it’s so sad you wake up everyday...</td>\n",
       "      <td>TalbotMac</td>\n",
       "      <td>East Aurora, NY</td>\n",
       "      <td>Twitter for iPhone</td>\n",
       "      <td>0</td>\n",
       "      <td>882</td>\n",
       "      <td>1554</td>\n",
       "      <td>0</td>\n",
       "    </tr>\n",
       "    <tr>\n",
       "      <th>2</th>\n",
       "      <td>2020-07-21 23:59:24</td>\n",
       "      <td>1285726099239055361</td>\n",
       "      <td>False</td>\n",
       "      <td>Question:\\nIf @JoeBiden doesn’t pick a woman o...</td>\n",
       "      <td>bk_middleclass</td>\n",
       "      <td>Nashville, TN</td>\n",
       "      <td>Twitter for iPhone</td>\n",
       "      <td>0</td>\n",
       "      <td>1294</td>\n",
       "      <td>1213</td>\n",
       "      <td>0</td>\n",
       "    </tr>\n",
       "    <tr>\n",
       "      <th>3</th>\n",
       "      <td>2020-07-21 23:58:47</td>\n",
       "      <td>1285725945849151490</td>\n",
       "      <td>False</td>\n",
       "      <td>Right? 🤣🤣🤣 #Biden formally implicated in #Ukra...</td>\n",
       "      <td>MMorganBlair</td>\n",
       "      <td>United States</td>\n",
       "      <td>Twitter for iPhone</td>\n",
       "      <td>1</td>\n",
       "      <td>2476</td>\n",
       "      <td>3334</td>\n",
       "      <td>1</td>\n",
       "    </tr>\n",
       "    <tr>\n",
       "      <th>4</th>\n",
       "      <td>2020-07-21 23:58:02</td>\n",
       "      <td>1285725754961965056</td>\n",
       "      <td>False</td>\n",
       "      <td>These idiots let Trump do anything he wants. W...</td>\n",
       "      <td>realfacade1</td>\n",
       "      <td>Purgatory</td>\n",
       "      <td>Twitter for Android</td>\n",
       "      <td>0</td>\n",
       "      <td>2764</td>\n",
       "      <td>3799</td>\n",
       "      <td>0</td>\n",
       "    </tr>\n",
       "  </tbody>\n",
       "</table>\n",
       "</div>"
      ],
      "text/plain": [
       "                  Date             Tweet_id  Verified  \\\n",
       "0  2020-07-21 23:59:43  1285726179907993601     False   \n",
       "1  2020-07-21 23:59:27  1285726110513344520     False   \n",
       "2  2020-07-21 23:59:24  1285726099239055361     False   \n",
       "3  2020-07-21 23:58:47  1285725945849151490     False   \n",
       "4  2020-07-21 23:58:02  1285725754961965056     False   \n",
       "\n",
       "                                               Tweet            User  \\\n",
       "0  @JoeBiden VP Biden I wish you wouldn't debate ...   BballmomEjZay   \n",
       "1  #GeorgeWill , it’s so sad you wake up everyday...       TalbotMac   \n",
       "2  Question:\\nIf @JoeBiden doesn’t pick a woman o...  bk_middleclass   \n",
       "3  Right? 🤣🤣🤣 #Biden formally implicated in #Ukra...    MMorganBlair   \n",
       "4  These idiots let Trump do anything he wants. W...     realfacade1   \n",
       "\n",
       "          Location               Source  Likes  Followers  Following  Retweets  \n",
       "0    United States  Twitter for Android      0         54        192         0  \n",
       "1  East Aurora, NY   Twitter for iPhone      0        882       1554         0  \n",
       "2    Nashville, TN   Twitter for iPhone      0       1294       1213         0  \n",
       "3    United States   Twitter for iPhone      1       2476       3334         1  \n",
       "4       Purgatory   Twitter for Android      0       2764       3799         0  "
      ]
     },
     "execution_count": 6,
     "metadata": {},
     "output_type": "execute_result"
    }
   ],
   "source": [
    "df['Date'] = df['Date'].apply(lambda x: x[:-6] if '+' in x else x)\n",
    "df.head()"
   ]
  },
  {
   "cell_type": "code",
   "execution_count": 7,
   "id": "cf11580d",
   "metadata": {},
   "outputs": [],
   "source": [
    "\n",
    "df['Date'] = df['Date'].apply(lambda x: dt.datetime.strptime(x,'%Y-%m-%d %H:%M:%S')) #Convert to date time format"
   ]
  },
  {
   "cell_type": "code",
   "execution_count": 8,
   "id": "cb832a67",
   "metadata": {},
   "outputs": [
    {
     "data": {
      "text/plain": [
       "Date         datetime64[ns]\n",
       "Tweet_id              int64\n",
       "Verified               bool\n",
       "Tweet                object\n",
       "User                 object\n",
       "Location             object\n",
       "Source               object\n",
       "Likes                 int64\n",
       "Followers             int64\n",
       "Following             int64\n",
       "Retweets              int64\n",
       "dtype: object"
      ]
     },
     "execution_count": 8,
     "metadata": {},
     "output_type": "execute_result"
    }
   ],
   "source": [
    "df.dtypes"
   ]
  },
  {
   "cell_type": "code",
   "execution_count": 9,
   "id": "c71940c6",
   "metadata": {},
   "outputs": [
    {
     "data": {
      "text/plain": [
       "Date            0\n",
       "Tweet_id        0\n",
       "Verified        0\n",
       "Tweet           0\n",
       "User            0\n",
       "Location     4066\n",
       "Source          0\n",
       "Likes           0\n",
       "Followers       0\n",
       "Following       0\n",
       "Retweets        0\n",
       "dtype: int64"
      ]
     },
     "execution_count": 9,
     "metadata": {},
     "output_type": "execute_result"
    }
   ],
   "source": [
    "df.isnull().sum()"
   ]
  },
  {
   "cell_type": "code",
   "execution_count": 10,
   "id": "6b67f735",
   "metadata": {},
   "outputs": [
    {
     "data": {
      "text/plain": [
       "Twitter Web App            5910\n",
       "Twitter for iPhone         4565\n",
       "Twitter for Android        3267\n",
       "Twitter for iPad            705\n",
       "TweetDeck                   150\n",
       "                           ... \n",
       "Tweeting Neural Network       1\n",
       "Moa Bridge                    1\n",
       "Airtime Pro                   1\n",
       "SocialPilot.co                1\n",
       "Restream.io                   1\n",
       "Name: Source, Length: 87, dtype: int64"
      ]
     },
     "execution_count": 10,
     "metadata": {},
     "output_type": "execute_result"
    }
   ],
   "source": [
    "df['Source'].value_counts()"
   ]
  },
  {
   "cell_type": "code",
   "execution_count": 11,
   "id": "d5b14fca",
   "metadata": {},
   "outputs": [
    {
     "data": {
      "text/plain": [
       "3200"
      ]
     },
     "execution_count": 11,
     "metadata": {},
     "output_type": "execute_result"
    }
   ],
   "source": [
    "df['Location'].nunique()"
   ]
  },
  {
   "cell_type": "code",
   "execution_count": 12,
   "id": "1d73e892",
   "metadata": {},
   "outputs": [
    {
     "data": {
      "text/plain": [
       "15098"
      ]
     },
     "execution_count": 12,
     "metadata": {},
     "output_type": "execute_result"
    }
   ],
   "source": [
    "tweets_list = df['Tweet'].tolist()\n",
    "len(tweets_list)"
   ]
  },
  {
   "cell_type": "code",
   "execution_count": 13,
   "id": "42f0def2",
   "metadata": {},
   "outputs": [
    {
     "data": {
      "text/plain": [
       "15046"
      ]
     },
     "execution_count": 13,
     "metadata": {},
     "output_type": "execute_result"
    }
   ],
   "source": [
    "tweets_list_updated = set(tweets_list)\n",
    "len(tweets_list_updated)"
   ]
  },
  {
   "cell_type": "code",
   "execution_count": 14,
   "id": "a5b70851",
   "metadata": {},
   "outputs": [
    {
     "data": {
      "text/plain": [
       "list"
      ]
     },
     "execution_count": 14,
     "metadata": {},
     "output_type": "execute_result"
    }
   ],
   "source": [
    "tweets_list_updated  = list(tweets_list_updated)\n",
    "type(tweets_list_updated)"
   ]
  },
  {
   "cell_type": "code",
   "execution_count": 15,
   "id": "8b4b32ce",
   "metadata": {},
   "outputs": [
    {
     "data": {
      "text/plain": [
       "52"
      ]
     },
     "execution_count": 15,
     "metadata": {},
     "output_type": "execute_result"
    }
   ],
   "source": [
    "df['Tweet'].duplicated().sum()"
   ]
  },
  {
   "cell_type": "code",
   "execution_count": 16,
   "id": "9f1c8971",
   "metadata": {},
   "outputs": [
    {
     "data": {
      "text/plain": [
       "(15046, 11)"
      ]
     },
     "execution_count": 16,
     "metadata": {},
     "output_type": "execute_result"
    }
   ],
   "source": [
    "df = df.drop_duplicates(subset = 'Tweet', keep = 'first',ignore_index = True)\n",
    "df.shape"
   ]
  },
  {
   "cell_type": "code",
   "execution_count": 17,
   "id": "04aa660d",
   "metadata": {},
   "outputs": [
    {
     "data": {
      "text/plain": [
       "0"
      ]
     },
     "execution_count": 17,
     "metadata": {},
     "output_type": "execute_result"
    }
   ],
   "source": [
    "df['Tweet'].duplicated().sum()"
   ]
  },
  {
   "cell_type": "markdown",
   "id": "c406e423",
   "metadata": {},
   "source": [
    "removing emojis"
   ]
  },
  {
   "cell_type": "code",
   "execution_count": 18,
   "id": "beb001de",
   "metadata": {},
   "outputs": [],
   "source": [
    "def remove_emoji(tweet):\n",
    "    emoji_pattern = re.compile(\"[\"\n",
    "            u\"\\U0001F600-\\U0001F64F\"  # emoticons\n",
    "            u\"\\U0001F300-\\U0001F5FF\"  # symbols & pictographs\n",
    "            u\"\\U0001F680-\\U0001F6FF\"  # transport & map symbols\n",
    "            u\"\\U0001F1E0-\\U0001F1FF\"  # flags (iOS)\n",
    "                               \"]+\", flags=re.UNICODE)\n",
    "    return emoji_pattern.sub(r'', tweet)\n",
    "\n",
    "df['Processed_Tweet']=df.Tweet.apply(remove_emoji)"
   ]
  },
  {
   "cell_type": "code",
   "execution_count": 19,
   "id": "0be89e5c",
   "metadata": {},
   "outputs": [
    {
     "data": {
      "text/plain": [
       "0"
      ]
     },
     "execution_count": 19,
     "metadata": {},
     "output_type": "execute_result"
    }
   ],
   "source": [
    "count = 0\n",
    "for i in df['Processed_Tweet']:\n",
    "    if re.match(r'^RT', i):  #remove any rows that contain RT\n",
    "        df.drop(df.loc[df['Processed_Tweet']==i].index,inplace = True)\n",
    "        count+=1\n",
    "    \n",
    "count"
   ]
  },
  {
   "cell_type": "code",
   "execution_count": 20,
   "id": "dc00a43e",
   "metadata": {},
   "outputs": [
    {
     "data": {
      "text/plain": [
       "0        @JoeBiden VP Biden I wish you wouldn't debate ...\n",
       "1        #GeorgeWill , it’s so sad you wake up everyday...\n",
       "2        Question:\\nIf @JoeBiden doesn’t pick a woman o...\n",
       "3        Right? 🤣🤣🤣 #Biden formally implicated in #Ukra...\n",
       "4        These idiots let Trump do anything he wants. W...\n",
       "                               ...                        \n",
       "15041    Other than going big by eulogizing #StromThurm...\n",
       "15042    Don't want to leave out the left! Show your su...\n",
       "15043    Some chatter about #Biden maybe activating res...\n",
       "15044    Fake #Polls? Why #Biden's 'Nationwide Lead' Ov...\n",
       "15045    #Joe #Biden #Trump police should not be armed ...\n",
       "Name: Processed_Tweet, Length: 15046, dtype: object"
      ]
     },
     "execution_count": 20,
     "metadata": {},
     "output_type": "execute_result"
    }
   ],
   "source": [
    "df['Processed_Tweet']"
   ]
  },
  {
   "cell_type": "markdown",
   "id": "72800063",
   "metadata": {},
   "source": [
    "removing retweets that is the tweet which has RT"
   ]
  },
  {
   "cell_type": "code",
   "execution_count": 21,
   "id": "0d2ae216",
   "metadata": {},
   "outputs": [],
   "source": [
    "df['Processed_Tweet'] = [re.sub('^RT[\\s]','',i) for i in df['Processed_Tweet']]  #Remove RT substring"
   ]
  },
  {
   "cell_type": "code",
   "execution_count": 22,
   "id": "b9eb8881",
   "metadata": {},
   "outputs": [
    {
     "data": {
      "text/plain": [
       "0        @JoeBiden VP Biden I wish you wouldn't debate ...\n",
       "1        #GeorgeWill , it’s so sad you wake up everyday...\n",
       "2        Question:\\nIf @JoeBiden doesn’t pick a woman o...\n",
       "3        Right? 🤣🤣🤣 #Biden formally implicated in #Ukra...\n",
       "4        These idiots let Trump do anything he wants. W...\n",
       "                               ...                        \n",
       "15041    Other than going big by eulogizing #StromThurm...\n",
       "15042    Don't want to leave out the left! Show your su...\n",
       "15043    Some chatter about #Biden maybe activating res...\n",
       "15044    Fake #Polls? Why #Biden's 'Nationwide Lead' Ov...\n",
       "15045    #Joe #Biden #Trump police should not be armed ...\n",
       "Name: Processed_Tweet, Length: 15046, dtype: object"
      ]
     },
     "execution_count": 22,
     "metadata": {},
     "output_type": "execute_result"
    }
   ],
   "source": [
    "df['Processed_Tweet']"
   ]
  },
  {
   "cell_type": "markdown",
   "id": "0484fea1",
   "metadata": {},
   "source": [
    "removing usernames"
   ]
  },
  {
   "cell_type": "code",
   "execution_count": 23,
   "id": "954238a6",
   "metadata": {},
   "outputs": [],
   "source": [
    "df['Processed_Tweet'] = [re.sub('@[^\\s]+', ' ', i) for i in df['Processed_Tweet']] #remove usernames"
   ]
  },
  {
   "cell_type": "code",
   "execution_count": 24,
   "id": "2530938b",
   "metadata": {},
   "outputs": [
    {
     "data": {
      "text/plain": [
       "0          VP Biden I wish you wouldn't debate Trump un...\n",
       "1        #GeorgeWill , it’s so sad you wake up everyday...\n",
       "2        Question:\\nIf   doesn’t pick a woman of color,...\n",
       "3        Right? 🤣🤣🤣 #Biden formally implicated in #Ukra...\n",
       "4        These idiots let Trump do anything he wants. W...\n",
       "                               ...                        \n",
       "15041    Other than going big by eulogizing #StromThurm...\n",
       "15042    Don't want to leave out the left! Show your su...\n",
       "15043    Some chatter about #Biden maybe activating res...\n",
       "15044    Fake #Polls? Why #Biden's 'Nationwide Lead' Ov...\n",
       "15045    #Joe #Biden #Trump police should not be armed ...\n",
       "Name: Processed_Tweet, Length: 15046, dtype: object"
      ]
     },
     "execution_count": 24,
     "metadata": {},
     "output_type": "execute_result"
    }
   ],
   "source": [
    "df['Processed_Tweet']"
   ]
  },
  {
   "cell_type": "markdown",
   "id": "f0c1af9e",
   "metadata": {},
   "source": [
    "removing anyh urls that are present"
   ]
  },
  {
   "cell_type": "code",
   "execution_count": 25,
   "id": "36460875",
   "metadata": {},
   "outputs": [],
   "source": [
    "df['Processed_Tweet'] = [re.sub('((www\\.[^\\s]+)|(https?://[^\\s]+))', '', i) for i in df['Processed_Tweet']] #Remove urls"
   ]
  },
  {
   "cell_type": "code",
   "execution_count": 26,
   "id": "ce391141",
   "metadata": {},
   "outputs": [
    {
     "data": {
      "text/plain": [
       "0          VP Biden I wish you wouldn't debate Trump un...\n",
       "1        #GeorgeWill , it’s so sad you wake up everyday...\n",
       "2        Question:\\nIf   doesn’t pick a woman of color,...\n",
       "3        Right? 🤣🤣🤣 #Biden formally implicated in #Ukra...\n",
       "4        These idiots let Trump do anything he wants. W...\n",
       "                               ...                        \n",
       "15041    Other than going big by eulogizing #StromThurm...\n",
       "15042    Don't want to leave out the left! Show your su...\n",
       "15043    Some chatter about #Biden maybe activating res...\n",
       "15044    Fake #Polls? Why #Biden's 'Nationwide Lead' Ov...\n",
       "15045    #Joe #Biden #Trump police should not be armed ...\n",
       "Name: Processed_Tweet, Length: 15046, dtype: object"
      ]
     },
     "execution_count": 26,
     "metadata": {},
     "output_type": "execute_result"
    }
   ],
   "source": [
    "df['Processed_Tweet']"
   ]
  },
  {
   "cell_type": "markdown",
   "id": "2912ddf1",
   "metadata": {},
   "source": [
    "removing the hashtags symbol from the tweets"
   ]
  },
  {
   "cell_type": "code",
   "execution_count": 27,
   "id": "26a2d3a9",
   "metadata": {},
   "outputs": [],
   "source": [
    "df['Processed_Tweet'] = [re.sub(r'#([^\\s]+)', r'\\1', i) for i in df['Processed_Tweet']] # remove the # in #hashtag"
   ]
  },
  {
   "cell_type": "code",
   "execution_count": 28,
   "id": "8a4a271e",
   "metadata": {},
   "outputs": [
    {
     "data": {
      "text/plain": [
       "0          VP Biden I wish you wouldn't debate Trump un...\n",
       "1        GeorgeWill , it’s so sad you wake up everyday ...\n",
       "2        Question:\\nIf   doesn’t pick a woman of color,...\n",
       "3        Right? 🤣🤣🤣 Biden formally implicated in Ukrain...\n",
       "4        These idiots let Trump do anything he wants. W...\n",
       "                               ...                        \n",
       "15041    Other than going big by eulogizing StromThurmo...\n",
       "15042    Don't want to leave out the left! Show your su...\n",
       "15043    Some chatter about Biden maybe activating reso...\n",
       "15044    Fake Polls? Why Biden's 'Nationwide Lead' Over...\n",
       "15045    Joe Biden Trump police should not be armed to ...\n",
       "Name: Processed_Tweet, Length: 15046, dtype: object"
      ]
     },
     "execution_count": 28,
     "metadata": {},
     "output_type": "execute_result"
    }
   ],
   "source": [
    "df['Processed_Tweet']"
   ]
  },
  {
   "cell_type": "markdown",
   "id": "649a1930",
   "metadata": {},
   "source": [
    "using library to preprocess the tweets"
   ]
  },
  {
   "cell_type": "code",
   "execution_count": 29,
   "id": "1c683248",
   "metadata": {},
   "outputs": [],
   "source": [
    "import preprocessor as p #Module for faster preprocessing specifically for tweets"
   ]
  },
  {
   "cell_type": "code",
   "execution_count": 30,
   "id": "c96446f5",
   "metadata": {
    "scrolled": true
   },
   "outputs": [],
   "source": [
    "df['Processed_Tweet'] = [p.clean(i) for i in df['Processed_Tweet']]"
   ]
  },
  {
   "cell_type": "code",
   "execution_count": 31,
   "id": "58331b52",
   "metadata": {},
   "outputs": [
    {
     "data": {
      "text/plain": [
       "0        VP Biden I wish you wouldn't debate Trump unle...\n",
       "1        GeorgeWill , its so sad you wake up everyday f...\n",
       "2        Question:If doesnt pick a woman of color, woul...\n",
       "3        Right? Biden formally implicated in Ukraine sc...\n",
       "4        These idiots let Trump do anything he wants. W...\n",
       "                               ...                        \n",
       "15041    Other than going big by eulogizing StromThurmo...\n",
       "15042    Don't want to leave out the left! Show your su...\n",
       "15043    Some chatter about Biden maybe activating reso...\n",
       "15044    Fake Polls? Why Biden's 'Nationwide Lead' Over...\n",
       "15045    Joe Biden Trump police should not be armed to ...\n",
       "Name: Processed_Tweet, Length: 15046, dtype: object"
      ]
     },
     "execution_count": 31,
     "metadata": {},
     "output_type": "execute_result"
    }
   ],
   "source": [
    "df['Processed_Tweet']"
   ]
  },
  {
   "cell_type": "code",
   "execution_count": 32,
   "id": "d2c8aebd",
   "metadata": {},
   "outputs": [
    {
     "name": "stderr",
     "output_type": "stream",
     "text": [
      "C:\\Users\\Mourya Kuntamukkala\\AppData\\Local\\Temp\\ipykernel_7276\\1181258175.py:2: FutureWarning: The default value of regex will change from True to False in a future version.\n",
      "  df.Processed_Tweet = df.Processed_Tweet.str.replace(\"[^a-zA-Z]\", \" \")\n"
     ]
    }
   ],
   "source": [
    "#removing unnecessary special characters, numbers, punctuations in tweets\n",
    "df.Processed_Tweet = df.Processed_Tweet.str.replace(\"[^a-zA-Z]\", \" \")"
   ]
  },
  {
   "cell_type": "code",
   "execution_count": 33,
   "id": "828b74d6",
   "metadata": {},
   "outputs": [
    {
     "data": {
      "text/plain": [
       "0        VP Biden I wish you wouldn t debate Trump unle...\n",
       "1        GeorgeWill   its so sad you wake up everyday f...\n",
       "2        Question If doesnt pick a woman of color  woul...\n",
       "3        Right  Biden formally implicated in Ukraine sc...\n",
       "4        These idiots let Trump do anything he wants  W...\n",
       "                               ...                        \n",
       "15041    Other than going big by eulogizing StromThurmo...\n",
       "15042    Don t want to leave out the left  Show your su...\n",
       "15043    Some chatter about Biden maybe activating reso...\n",
       "15044    Fake Polls  Why Biden s  Nationwide Lead  Over...\n",
       "15045    Joe Biden Trump police should not be armed to ...\n",
       "Name: Processed_Tweet, Length: 15046, dtype: object"
      ]
     },
     "execution_count": 33,
     "metadata": {},
     "output_type": "execute_result"
    }
   ],
   "source": [
    "df[\"Processed_Tweet\"]"
   ]
  },
  {
   "cell_type": "code",
   "execution_count": 34,
   "id": "c205d9c6",
   "metadata": {},
   "outputs": [],
   "source": [
    "df.Processed_Tweet = [low.lower() for low in df.Processed_Tweet] #Converting into lower case "
   ]
  },
  {
   "cell_type": "code",
   "execution_count": 35,
   "id": "747c2439",
   "metadata": {},
   "outputs": [
    {
     "data": {
      "text/plain": [
       "0        vp biden i wish you wouldn t debate trump unle...\n",
       "1        georgewill   its so sad you wake up everyday f...\n",
       "2        question if doesnt pick a woman of color  woul...\n",
       "3        right  biden formally implicated in ukraine sc...\n",
       "4        these idiots let trump do anything he wants  w...\n",
       "                               ...                        \n",
       "15041    other than going big by eulogizing stromthurmo...\n",
       "15042    don t want to leave out the left  show your su...\n",
       "15043    some chatter about biden maybe activating reso...\n",
       "15044    fake polls  why biden s  nationwide lead  over...\n",
       "15045    joe biden trump police should not be armed to ...\n",
       "Name: Processed_Tweet, Length: 15046, dtype: object"
      ]
     },
     "execution_count": 35,
     "metadata": {},
     "output_type": "execute_result"
    }
   ],
   "source": [
    "df[\"Processed_Tweet\"]"
   ]
  },
  {
   "cell_type": "code",
   "execution_count": 36,
   "id": "6ddc4545",
   "metadata": {},
   "outputs": [],
   "source": [
    "df.Processed_Tweet =  df.Processed_Tweet.str.replace(\"amp\", \"\")"
   ]
  },
  {
   "cell_type": "code",
   "execution_count": 37,
   "id": "8afdc1f5",
   "metadata": {},
   "outputs": [
    {
     "data": {
      "text/plain": [
       "'hey guys  it s time to realize we ve been duped   granted biden is a horrible idea  just maybe if he wins patriots will get off their asses and take america back   '"
      ]
     },
     "execution_count": 37,
     "metadata": {},
     "output_type": "execute_result"
    }
   ],
   "source": [
    "df['Processed_Tweet'][11] #Sample tweet"
   ]
  },
  {
   "cell_type": "markdown",
   "id": "684b40c0",
   "metadata": {},
   "source": [
    "Exploratory data analysis"
   ]
  },
  {
   "cell_type": "code",
   "execution_count": 38,
   "id": "4a0d4208",
   "metadata": {},
   "outputs": [
    {
     "data": {
      "text/plain": [
       "Hotpage_News      544\n",
       "jacketrose86      174\n",
       "mobygrapefan       71\n",
       "defeatthedevil     67\n",
       "deepen915          61\n",
       "                 ... \n",
       "IiiDenzel           1\n",
       "OzRant              1\n",
       "SuePBC65            1\n",
       "AlenLLC             1\n",
       "GraphicMedia4       1\n",
       "Name: User, Length: 8270, dtype: int64"
      ]
     },
     "execution_count": 38,
     "metadata": {},
     "output_type": "execute_result"
    }
   ],
   "source": [
    "df['User'].value_counts()"
   ]
  },
  {
   "cell_type": "code",
   "execution_count": 39,
   "id": "9f24c343",
   "metadata": {},
   "outputs": [
    {
     "data": {
      "text/plain": [
       "['lincoln project trolls trump by adding laugh track to disastrous chris wallace interview   biden trump gop republican democrat democrats liberal conservative independent covid   covid coronavirus',\n",
       " 'we sent our kids to summer c  it shutdown with a covid    outbreak after just a few days  this is what school will look like    covid   covid coronavirus trump biden pandemic virus mask schoolreopening',\n",
       " 'trump blasts china in public  but privately trump org imports tons of chinese goods   biden trump gop republican democrat democrats liberal conservative independent covid   covid coronavirus',\n",
       " 'giants  gabe kapler becomes first mlb manager to kneel during national anthem   biden trump gop republican democrat democrats liberal conservative independent covid   covid coronavirus',\n",
       " 'trump says the game is over for him if athletes kneel during national anthem   biden trump gop republican democrat democrats liberal conservative independent covid   covid coronavirus',\n",
       " 'walmart  mcdonalds  and geico are the latest companies to reportedly pull advertising from facebook amid a growing boycott   biden trump',\n",
       " 'facebook allows trump to post lie claiming that voting by mail will lead to a  corrupt election    biden trump',\n",
       " 'a second great depression  unemployment crisis hits big cities hard   covid   covid coronavirus trump biden pandemic virus hotspot mask schoolreopening',\n",
       " 'the doctor behind a cognitive test trump took says its supposed to be easy   biden trump gop republican democrat democrats liberal conservative independent covid   covid coronavirus portland',\n",
       " 'even where trump is popular  some school leaders reject his push to reopen schools   covid   covid coronavirus trump biden pandemic virus hotspot mask schoolreopening',\n",
       " 'missouri high school sees coronavirus outbreak after prom and graduation ceremonies   covid   covid coronavirus trump biden pandemic virus hotspot mask schoolreopening',\n",
       " 'virus concerns nudge some teachers toward classroom exits   covid   covid coronavirus trump biden pandemic virus hotspot mask schoolreopening',\n",
       " 'surgeon general  we need to lower transmission rate of coronavirus to reopen schools   covid   covid coronavirus trump biden pandemic virus hotspot mask schoolreopening',\n",
       " 'trump aides fear presidents new coronavirus task force briefings will be more like embarrassing caign rallies   covid   covid coronavirus trump biden pandemic virus hotspot mask schoolreopening',\n",
       " 'chris wallace s brutal takeaway from trump interview   doesn t seem to have a handle on  coronavirus pandemic   covid   covid coronavirus trump biden pandemic virus hotspot mask schoolreopening',\n",
       " 'sweden hoped herd immunity would curb covid     don t do what we did  it s not working    covid   covid coronavirus trump biden pandemic virus hotspot mask schoolreopening',\n",
       " 'marriott will require guests to wear masks at all us hotels   covid   covid coronavirus trump biden pandemic virus hotspot mask schoolreopening',\n",
       " 'iowa city mayor to issue mask mandate despite governor s objections   covid   covid coronavirus trump biden pandemic virus hotspot mask schoolreopening',\n",
       " 'florida sees record hospitalizations   covid   covid coronavirus trump biden pandemic virus hotspot mask schoolreopening',\n",
       " ' flying blind   us failure to report vital coronavirus data is hobbling response   covid   covid coronavirus trump biden pandemic virus hotspot mask schoolreopening',\n",
       " 'pandemic far from over in us   covid   covid coronavirus trump biden pandemic virus hotspot mask schoolreopening',\n",
       " 'trump wants more lafayette parks   biden trump gop republican democrat democrats liberal conservative independent covid   covid coronavirus portland',\n",
       " 'trump s secret police on the prowl   this is what dictators do   biden trump gop republican democrat democrats liberal conservative independent covid   covid coronavirus portland',\n",
       " 'trump approval percent   biden trump gop republican democrat democrats liberal conservative independent covid   covid coronavirus portland',\n",
       " 'california announces delay of high school football season until december or january   covid   covid coronavirus trump biden pandemic virus hotspot mask schoolreopening',\n",
       " 'swac lays out plans to move football to spring   covid   covid coronavirus trump biden pandemic virus hotspot mask schoolreopening',\n",
       " 'mayors accuse trump s storm troopers of escalating violence   biden trump gop republican democrat democrats liberal conservative independent covid   covid coronavirus portland',\n",
       " 'navy veteran recounts being beaten by trump s storm troopers in portland  if theyre going to gas moms  theyre going to gas vets   biden trump gop republican democrat democrats conservative independent covid   covid coronavirus portland',\n",
       " 'trump s  unmarked paramilitary units  are  trial run  for  trying to steal this election    biden trump gop republican democrat democrats liberal conservative independent covid   covid coronavirus portland',\n",
       " 'biden  better child  elderly care can create million jobs   covid   covid coronavirus trump biden pandemic virus hotspot mask schoolreopening',\n",
       " 'is it safe to go to the gym during the coronavirus pandemic    probably not   covid   covid coronavirus trump biden pandemic virus hotspot mask schoolreopening',\n",
       " 'summer vacation plans stay the course in spite of covid    spikes   covid   covid coronavirus trump biden pandemic virus hotspot mask schoolreopening',\n",
       " 'walmart customer spits on woman after she asked him to put on a face mask   covid   covid coronavirus trump biden pandemic virus hotspot mask schoolreopening',\n",
       " 'facing budget shortfalls  nearly texas mayors plead with congress for coronavirus relief funding   covid   covid coronavirus trump biden pandemic virus hotspot mask schoolreopening',\n",
       " 'trump s grip on gop loosens as polls sink   covid   covid coronavirus trump biden pandemic virus hotspot mask schoolreopening',\n",
       " 'how remote work divides america   covid   covid coronavirus trump biden pandemic virus hotspot mask schoolreopening',\n",
       " 'wall street prepares for the  blue wave  democratic sweep   covid   covid coronavirus trump biden pandemic virus hotspot mask schoolreopening',\n",
       " 'extra      in jobless benefits ends in days  it could prove  disastrous    covid   covid coronavirus trump biden pandemic virus hotspot mask schoolreopening',\n",
       " ' a very dark feeling   oklahoma jobless lines look like s   covid   covid coronavirus trump biden pandemic virus hotspot mask schoolreopening',\n",
       " 'church related covid    outbreaks continue to pop up in west virginia   covid   covid coronavirus trump biden pandemic virus hotspot mask schoolreopening',\n",
       " 'fauci responds to trump   i consider myself a realist  as opposed to an alarmist    covid   covid coronavirus trump biden pandemic virus hotspot mask schoolreopening',\n",
       " 'trump  congress square off over virus aid as crisis worsens   covid   covid coronavirus trump biden pandemic virus hotspot mask schoolreopening',\n",
       " 'trump wont wear a mask unless gop praises him like he learned to use the big boy toilet   covid   covid coronavirus trump biden pandemic virus hotspot mask schoolreopening',\n",
       " 'trump to turn covid    briefings into clorox variety hour again   covid   covid coronavirus trump biden pandemic virus hotspot mask schoolreopening',\n",
       " 'u s  companies fear airborne risk amid pressure to reopen   covid   covid coronavirus trump biden pandemic virus hotspot mask schoolreopening',\n",
       " 'california went from bending the curve to a major coronavirus surge    covid   covid coronavirus trump biden pandemic virus hotspot mask schoolreopening',\n",
       " 'coronavirus is spreading in idaho   covid   covid coronavirus trump biden pandemic virus hotspot mask schoolreopening',\n",
       " 'bankruptcies surging as coronavirus levels the u s  economy   covid   covid coronavirus trump biden pandemic virus hotspot mask schoolreopening',\n",
       " 'navy vet beaten by federal agents   they came out to fight    covid   covid coronavirus trump biden pandemic virus hotspot mask schoolreopening',\n",
       " 'corporate phone giants shut down trump texting program   covid   covid coronavirus trump biden pandemic virus hotspot mask schoolreopening',\n",
       " 'george will reveals he is voting for joe biden the first time hes ever cast a vote for a democrat   covid   covid coronavirus trump biden pandemic virus hotspot mask schoolreopening',\n",
       " 'ex gov  john kasich  republican  slated to speak at the democratic national convention for joe biden   covid   covid coronavirus trump biden pandemic virus hotspot mask schoolreopening',\n",
       " 'texas county warns covid    positive residents must stay home or face prosecution   covid   covid coronavirus trump biden pandemic virus hotspot mask schoolreopening',\n",
       " 'biden outlines priorities for next pandemic relief package   covid   covid coronavirus trump biden pandemic virus hotspot mask schoolreopening',\n",
       " 'mayors accuse trump s federal agents of escalating violence against civilians   covid   covid coronavirus trump biden pandemic virus hotspot mask schoolreopening',\n",
       " 'fox s napolitano rips trump for sending troops into portland   not only unlawful and unconstitutional  it s just plain wrong    biden trump gop republican democrat democrats liberal conservative independent covid   covid coronavirus portland',\n",
       " 'st  louis couple that pointed guns at protesters charged with felonies   biden trump gop republican democrat democrats liberal conservative independent covid   covid coronavirus portland',\n",
       " 'trump is not patriotic because he sent a tweet wearing a coronavirus mask  far right blogger   covid   covid coronavirus trump biden pandemic virus hotspot mask schoolreopening',\n",
       " 'la mayor warns the city is  on the brink  of another lockdown order   covid   covid coronavirus trump biden pandemic virus hotspot mask schoolreopening',\n",
       " 'trump looks to act on call to slow down testing he falsely blames for surge in cases   covid   covid coronavirus trump biden pandemic virus hotspot mask schoolreopening',\n",
       " 'trump official says latest us coronavirus surge is  very clear    covid   covid coronavirus trump biden pandemic virus hotspot mask schoolreopening',\n",
       " 'surgeon general to fox viewers  i m pleading with you   wear masks   covid   covid coronavirus trump biden pandemic virus hotspot mask schoolreopening',\n",
       " 'some states keep smashing unwanted covid    records as a trump official says the surge is real   covid   covid coronavirus trump biden pandemic virus hotspot mask schoolreopening',\n",
       " 'missouri governor says schools must reopen even though all kids may get covid      and get parents sick   covid   covid coronavirus trump biden pandemic virus hotspot mask schoolreopening',\n",
       " 'florida teachers union sues state over school reopening order   covid   covid coronavirus trump biden pandemic virus hotspot mask schoolreopening',\n",
       " 'trump wants his private army of storm troopers to takeover cities   covid   covid coronavirus trump biden pandemic virus hotspot mask schoolreopening',\n",
       " 'colorado governor criticizes the us s coronavirus testing abilities as  almost useless   covid   covid coronavirus trump biden pandemic virus hotspot mask schoolreopening',\n",
       " 'disney world bans eating while walking after guests break face mask rules   covid   covid coronavirus trump biden pandemic virus hotspot mask schoolreopening',\n",
       " 'take the masks off  gop county commissioner in new mexico urges people to get exposed to covid      covid   covid coronavirus trump biden pandemic virus hotspot mask schoolreopening',\n",
       " 'oxford coronavirus vaccine induces strong immune response  early trial results suggest   covid   covid coronavirus trump biden pandemic virus hotspot mask schoolreopening',\n",
       " 'florida reports over new cases of covid    for sixth day in a row   covid   covid coronavirus trump biden pandemic virus hotspot mask schoolreopening',\n",
       " 'trump is doubling down on a payroll tax cut which has no gop support and would do virtually nothing to help jobless americans   covid   covid coronavirus trump biden pandemic virus hotspot mask',\n",
       " 'summer cs bring ominous virus warning in test run for schools   covid   covid coronavirus trump biden pandemic virus hotspot mask schoolreopening',\n",
       " 'cramer says he can t recall a  self inflicted  disaster in america ever as bad as the coronavirus   covid   covid coronavirus trump biden pandemic virus hotspot mask schoolreopening',\n",
       " ' wall of moms  stand between portland blm protesters and trump s storm troopers   biden trump gop republican democrat democrats liberal conservative independent covid   covid coronavirus portland',\n",
       " 'gop senator slams trump for sending unidentified federal agents into cities   biden trump gop republican democrat democrats liberal conservative independent covid   covid coronavirus portland',\n",
       " 'a gunman killed a federal judge s son at her new jersey home  he appeared to be dressed as a delivery driver   biden trump gop republican democrat democrats liberal conservative independent covid   covid coronavirus',\n",
       " 'can we save loved ones from fox news   i don t know if it s too late or not    biden trump gop republican democrat democrats liberal conservative independent covid   covid coronavirus',\n",
       " 'trump turned my hometown into a war zone to distract from his failures   biden trump gop republican democrat democrats liberal conservative independent covid   covid coronavirus',\n",
       " 'trump storm troopers again tear gas protesters in portland  oregon   biden trump gop republican democrat democrats liberal conservative independent covid   covid coronavirus',\n",
       " 'biden eyes gop supporters while trump focuses on his base   biden trump gop republican democrat democrats liberal conservative independent covid   covid coronavirus',\n",
       " 'cholesterol drug could reduce coronavirus to the common cold   covid   covid coronavirus trump biden pandemic virus hotspot mask schoolreopening',\n",
       " 'rulers of oil rich saudi arabia and kuwait are hospitalized   covid   covid coronavirus trump biden pandemic virus hotspot mask schoolreopening',\n",
       " 'crew members aboard factory trawler test positive for covid      covid   covid coronavirus trump biden pandemic virus hotspot mask schoolreopening',\n",
       " 'bermuda pitches island life as escape from pandemic madness   covid   covid coronavirus trump biden pandemic virus hotspot mask schoolreopening',\n",
       " 'bahamas bans flights from usa and closes beaches due to surge in cases   covid   covid coronavirus trump biden pandemic virus hotspot mask schoolreopening',\n",
       " 'the rich are looking to buy access to covid safe havens   covid   covid coronavirus trump biden pandemic virus hotspot mask schoolreopening',\n",
       " ' critical shortage  of glass vials could be disastrous for pandemic response   covid   covid coronavirus trump biden pandemic virus hotspot mask schoolreopening',\n",
       " 'kentucky couple fit with ankle monitors  placed on house arrest for refusing to sign quarantine documents   covid   covid coronavirus trump biden pandemic virus hotspot mask schoolreopening',\n",
       " 'u s  companies fear workplace coronavirus precautions do not address airborne risk   covid   covid coronavirus trump biden pandemic virus hotspot mask schoolreopening',\n",
       " 'covid    outbreaks are exploding as churches reopen   covid   covid coronavirus trump biden pandemic virus hotspot mask schoolreopening',\n",
       " 'us cities with soaring coronavirus rates consider new stay at home orders   covid   covid coronavirus trump biden pandemic virus hotspot mask schoolreopening',\n",
       " 'trump living in an alternate reality when it comes to the covid    threat   covid   covid coronavirus trump biden pandemic virus hotspot mask schoolreopening',\n",
       " 'morning joe laughs at trump bragging about acing a cognitive test   this is for people with dementia    covid   covid coronavirus trump biden pandemic virus hotspot mask schoolreopening',\n",
       " 'trumps covid    bungling has turned america into a basket case in the eyes of the world  morning joe   covid   covid coronavirus trump biden pandemic virus hotspot mask schoolreopening',\n",
       " 'trump is confused  rattled  angry  ignorant and completely checked out on covid    crisis  msnbcs morning joe   covid   covid coronavirus trump biden pandemic virus hotspot mask schoolreopening',\n",
       " 'trump insists he s  right  on the virus as more americans get sick and die   covid   covid coronavirus trump biden pandemic virus hotspot mask schoolreopening',\n",
       " 'arizona took trumps advice on reopening and now its economy faces disaster   covid   covid coronavirus trump biden pandemic virus hotspot mask schoolreopening',\n",
       " 'virus is crushing united states   covid   covid coronavirus trump biden pandemic virus hotspot mask schoolreopening',\n",
       " 'trump official despairs at his train wreck chris wallace interview   covid   covid coronavirus trump biden pandemic virus hotspot mask schoolreopening',\n",
       " 'donald trump  fox news grandpa  tv tells him what to do  and he does it   covid   covid coronavirus trump biden pandemic virus hotspot mask schoolreopening',\n",
       " 'protester in navy sweater doesnt flinch as a trump storm trooper tees off on him with baton  video    biden trump gop republican democrat democrats liberal conservative independent covid   covid coronavirus',\n",
       " 'this is how it starts  lincoln project releases new attack calling out trump for sending unmarked agents into our streets   biden trump gop republican democrat democrats liberal conservative independent covid   covid coronavirus',\n",
       " 'a day at the office in a covid world   covid   covid coronavirus trump biden pandemic virus hotspot mask schoolreopening',\n",
       " 'rural real estate prices rise as people exit cities   covid   covid coronavirus trump biden pandemic virus hotspot mask schoolreopening',\n",
       " 'facing uncertain fall  schools make flexible reopening plans   covid   covid coronavirus trump biden pandemic virus hotspot mask schoolreopening',\n",
       " 'jennifer aniston warns of covid dangers with photo and story about friend   covid   covid coronavirus trump biden pandemic virus hotspot mask schoolreopening',\n",
       " 'jack nicklaus reveals he and his wife had coronavirus   covid   covid coronavirus trump biden pandemic virus hotspot mask schoolreopening',\n",
       " 'colorado governor says businesses can call the police if people refuse to follow statewide  no mask  no service  mandate   covid   covid coronavirus trump biden pandemic virus hotspot mask schoolreopening',\n",
       " 'arizona s rugged individualism poses barrier to mask rules   covid   covid coronavirus trump biden pandemic virus hotspot mask schoolreopening',\n",
       " 'there are no icu beds available at florida hospitals   covid   covid coronavirus trump biden pandemic virus hotspot mask schoolreopening',\n",
       " 'florida gangs terrorize residents with massive covid    parties   covid   covid coronavirus trump biden pandemic virus hotspot mask schoolreopening',\n",
       " 'florida records another covid    cases and new deaths   covid   covid coronavirus trump biden pandemic virus hotspot mask schoolreopening',\n",
       " 'florida needs to close down   covid   covid coronavirus trump biden pandemic virus hotspot mask schoolreopening',\n",
       " 'indiana going the wrong way with second highest daily total of covid    cases   covid   covid coronavirus trump biden pandemic virus hotspot mask schoolreopening',\n",
       " 'indiana isnt following white house covid    suggestions   covid   covid coronavirus trump biden pandemic virus hotspot mask schoolreopening',\n",
       " 'sc edges closer to covid    cases with new single day high   covid   covid coronavirus trump biden pandemic virus hotspot mask schoolreopening',\n",
       " 'ohio heading in the wrong direction and  could become florida  as coronavirus surges   covid   covid coronavirus trump biden pandemic virus hotspot mask schoolreopening',\n",
       " 'california governor told he had to ask and thank trump to get help with covid    response   covid   covid coronavirus trump biden pandemic virus hotspot mask schoolreopening',\n",
       " 'texas governor deploys five us navy teams to combat covid      covid   covid coronavirus trump biden pandemic virus hotspot mask schoolreopening',\n",
       " 'texas reports new covid    cases for straight days   covid   covid coronavirus trump biden pandemic virus hotspot mask schoolreopening',\n",
       " 'covid    patients with symptoms have at least one of these three   covid   covid coronavirus trump biden pandemic virus hotspot mask schoolreopening',\n",
       " 'the best and worst choices for a cloth face mask   covid   covid coronavirus trump biden pandemic virus hotspot mask schoolreopening',\n",
       " 'nih director  states haven t paid much attention to cdc recommendations about reopening   covid   covid coronavirus trump biden pandemic virus hotspot mask schoolreopening',\n",
       " 'nih director says wearing masks is not  optional    covid   covid coronavirus trump biden pandemic virus hotspot mask schoolreopening',\n",
       " 'trump doubles down on fantasy claim coronavirus will disappear   i ll be right eventually    covid   covid coronavirus trump biden pandemic virus hotspot mask schoolreopening',\n",
       " 'as trump ignores virus crisis  republicans start to contradict him   covid   covid coronavirus trump biden pandemic virus hotspot mask schoolreopening',\n",
       " 'the crisis that shocked the world  americas response to the coronavirus   covid   covid coronavirus trump biden pandemic virus hotspot mask schoolreopening',\n",
       " 'fox news  chris wallace mocks trump s  very hard  cognitive test and reveals questions the president  aced  included  what day is it    biden trump gop republican democrat democrats liberal conservative independent covid   covid coronavirus',\n",
       " 'trump probably won t leave if he loses   biden trump gop republican democrat democrats liberal conservative independent covid   covid coronavirus',\n",
       " 'trump says confederate flag proud symbol of u s  south   biden trump gop republican democrat democrats liberal conservative independent covid   covid coronavirus',\n",
       " 'trump on falsely claiming coronavirus pandemic will disappear  ill be right eventually   covid   covid coronavirus trump biden pandemic virus hotspot mask schoolreopening',\n",
       " 'new polls show joe biden is winning suburbanites by a historic margin   biden trump gop republican democrat democrats liberal conservative independent covid   covid coronavirus',\n",
       " 'im not a fan of fox  trump erupts at chris wallace   biden trump gop republican democrat democrats liberal conservative independent covid   covid coronavirus',\n",
       " 'trump not ready to commit to election results if he loses   biden trump gop republican democrat democrats liberal conservative independent covid   covid coronavirus',\n",
       " 'give a direct answer fox news chris wallace grills trump for suggesting he wont accept election results   biden trump gop republican democrat democrats liberal conservative independent covid   covid coronavirus',\n",
       " ' that s not true   chris wallace confronts trump on covid mortality rate  president demands chart from aides   covid   covid coronavirus trump biden pandemic virus hotspot mask schoolreopening',\n",
       " 'fox news chris wallace fact checks trump as he melts down over covid death rate   covid   covid coronavirus trump biden pandemic virus hotspot mask schoolreopening',\n",
       " 'la mayor blames trump for coronavirus surge   we ve seen no national leadership    covid   covid coronavirus trump biden pandemic virus hotspot mask schoolreopening',\n",
       " 'nih director  states jumped over hoops  didnt pay much attention to cdc recommendations about reopening   covid   covid coronavirus trump biden pandemic virus hotspot mask schoolreopening',\n",
       " 'nih director says wearing masks is not  optional  to curb pandemic s spread   covid   covid coronavirus trump biden pandemic virus hotspot mask schoolreopening',\n",
       " 'covid    infections on the rise in kids and teens   covid   covid coronavirus trump biden pandemic virus hotspot mask schoolreopening',\n",
       " 'fauci holds up new york as model for fighting coronavirus   covid   covid coronavirus trump biden pandemic virus hotspot mask schoolreopening',\n",
       " 'struggling businesses across the country adding covid surcharges   covid   covid coronavirus trump biden pandemic virus hotspot mask schoolreopening',\n",
       " 'trumps attempt to scare white voters away from joe biden is blowing up in his face   biden trump gop republican democrat democrats liberal conservative independent covid   covid coronavirus',\n",
       " 'twitter disables trump tweet over copyright complaint   biden trump gop republican democrat democrats liberal conservative independent covid   covid coronavirus',\n",
       " 'schools the latest battleground in fight over mandatory masks   covid   covid coronavirus trump biden pandemic virus hotspot mask schoolreopening',\n",
       " 'private tutoring exposes the wealth gap and the learning gap that could follow   covid   covid coronavirus trump biden pandemic virus hotspot mask schoolreopening',\n",
       " 'parents find themselves digging up new options on schooling just weeks ahead of academic year   covid   covid coronavirus trump biden pandemic virus hotspot mask schoolreopening',\n",
       " 'europe s lessons for the u s  on reopening the schools   covid   covid coronavirus trump biden pandemic virus hotspot mask schoolreopening',\n",
       " 'miami beach curfew shuts down south beach parties early   covid   covid coronavirus trump biden pandemic virus hotspot mask schoolreopening',\n",
       " 'average age of covid patients at sf hospital is   covid   covid coronavirus trump biden pandemic virus hotspot mask schoolreopening',\n",
       " 'congress confronts new virus crisis rescue as pandemic grows   covid   covid coronavirus trump biden pandemic virus hotspot mask schoolreopening',\n",
       " 'trump talks less about virus  states look inward for answers   covid   covid coronavirus trump biden pandemic virus hotspot mask schoolreopening',\n",
       " 'almost all covid    patients with symptoms had at least one of these three  small cdc survey says   covid   covid coronavirus trump biden pandemic virus hotspot mask schoolreopening',\n",
       " 'emergency rooms swed as virus surges in some states   covid   covid coronavirus trump biden pandemic virus hotspot mask schoolreopening',\n",
       " 'covid     texas sees case spike in babies   covid   covid coronavirus trump biden pandemic virus hotspot mask schoolreopening',\n",
       " 'why more young people are getting sick in the latest covid    outbreaks   covid   covid coronavirus trump biden pandemic virus hotspot mask schoolreopening',\n",
       " 'trump objects to demands for more spending on coronavirus testing  tracing   covid   covid coronavirus trump biden pandemic virus hotspot mask schoolreopening',\n",
       " 'dr  deborah birx told the trump in april that coronavirus was going away   covid   covid coronavirus trump biden pandemic virus hotspot mask schoolreopening',\n",
       " 'the us keeps setting new single day case highs   covid   covid coronavirus trump biden pandemic virus hotspot mask schoolreopening',\n",
       " 'pandemic surge damages trump  boosting biden s white house bid  poll   biden trump gop republican democrat democrats liberal conservative independent covid   covid coronavirus',\n",
       " 'biden leads trump by points   biden trump gop republican democrat democrats liberal conservative independent covid   covid coronavirus',\n",
       " 'who reports record daily increase in global coronavirus cases for second day in a row   covid   covid coronavirus trump biden pandemic virus hotspot mask schoolreopening',\n",
       " 'underground parties continue to dismiss social distancing rules   covid   covid coronavirus trump biden pandemic virus hotspot mask schoolreopening',\n",
       " 'healthy  year old dies after experiencing covid    symptoms   covid   covid coronavirus trump biden pandemic virus hotspot mask schoolreopening',\n",
       " 'u s  bungles coronavirus testing again  this time with delayed results due to hotspots  lack of federal coordination   covid   covid coronavirus trump biden pandemic virus hotspot mask schoolreopening',\n",
       " 'the founding fathers wouldve been pro face mask   covid   covid coronavirus trump biden pandemic virus hotspot mask schoolreopening',\n",
       " 'corporate america leads call for mandatory face coverings   as trump goes awol   covid   covid coronavirus trump biden pandemic virus hotspot mask schoolreopening',\n",
       " 'health care workers becoming infected with covid      covid   covid coronavirus trump biden pandemic virus hotspot mask schoolreopening',\n",
       " 'doctor who survived covid    bewildered by public disregard   covid   covid coronavirus trump biden pandemic virus hotspot mask schoolreopening',\n",
       " 'man leaves hospital after  day fight with covid      covid   covid coronavirus trump biden pandemic virus hotspot mask schoolreopening',\n",
       " 'florida dad hospitalized with covid    after son refused to wear a mask   covid   covid coronavirus trump biden pandemic virus hotspot mask schoolreopening',\n",
       " 'virus deaths rise  with records set in hard hit states   covid   covid coronavirus trump biden pandemic virus hotspot mask schoolreopening',\n",
       " 'if covid    keeps spreading in south florida  lockdown could be only weeks away   covid   covid coronavirus trump biden pandemic virus hotspot mask schoolreopening',\n",
       " ' we really need help   coronavirus overwhelms rural oregon   covid   covid coronavirus trump biden pandemic virus hotspot mask schoolreopening',\n",
       " 'as virus surges in some us states  emergency rooms swed   covid   covid coronavirus trump biden pandemic virus hotspot mask schoolreopening',\n",
       " 'in arizona  school reopening sparks protest movement   covid   covid coronavirus trump biden pandemic virus hotspot mask schoolreopening',\n",
       " 'florida adds coronavirus cases  virus related deaths saturday   covid   covid coronavirus trump biden pandemic virus hotspot mask schoolreopening',\n",
       " 'texas hits th day over   covid   covid coronavirus trump biden pandemic virus hotspot mask schoolreopening',\n",
       " 'inside trumps failure  the rush to abandon leadership role on the virus   covid   covid coronavirus trump biden pandemic virus hotspot mask schoolreopening',\n",
       " 'trump pushing to block new money for testing  tracing  and cdc in upcoming coronavirus relief bill   covid   covid coronavirus trump biden pandemic virus hotspot mask schoolreopening',\n",
       " 'were fighting our own state  southern mayors push back on state coronavirus response   covid   covid coronavirus trump biden pandemic virus hotspot mask schoolreopening',\n",
       " 'study  middle and high schoolers can spread coronavirus as effectively as adults   covid   covid coronavirus trump biden pandemic virus hotspot mask schoolreopening',\n",
       " 'fauci says young people driving the surge in coronavirus cases by  not caring    covid   covid coronavirus trump biden pandemic virus hotspot mask schoolreopening',\n",
       " 'young people are increasingly driving covid    s spread   covid   covid coronavirus trump biden pandemic virus hotspot mask schoolreopening',\n",
       " 'covid    infections on the rise in kids and teens with school approaching   covid   covid coronavirus trump biden pandemic virus hotspot mask schoolreopening',\n",
       " 'fauci holds up new york as model for fighting coronavirus    they did it correctly    covid   covid coronavirus trump biden pandemic virus hotspot mask schoolreopening',\n",
       " 'atlantic postpones fall sports due to coronavirus   covid   covid coronavirus trump biden pandemic virus hotspot mask schoolreopening',\n",
       " 'surging democrats expand senate targets to gop states   biden trump gop republican democrat democrats liberal conservative independent',\n",
       " 'biden  after intel briefings  warns of election interference   biden trump gop republican democrat democrats liberal conservative independent',\n",
       " 'trump keeps fighting a confederate flag battle many supporters have conceded   biden trump gop republican democrat democrats liberal conservative independent',\n",
       " 'trump s caign is disintegrating before our eyes   biden trump gop republican democrat democrats liberal conservative independent',\n",
       " 'mary trump  president is  psychologically deeply damaged man    covid   covid coronavirus trump biden pandemic virus hotspot mask schoolreopening',\n",
       " 'tired of lockdown  barbados tempts remote workers with  month visas   covid   covid coronavirus trump biden pandemic virus hotspot mask schoolreopening',\n",
       " 'infants under age tested positive for coronavirus in one texas county   covid   covid coronavirus trump biden pandemic virus hotspot mask schoolreopening',\n",
       " 'the battle against covid    is not going in the us s favor   covid   covid coronavirus trump biden pandemic virus hotspot mask schoolreopening',\n",
       " 'can t shake covid     warnings from young survivors still suffering   covid   covid coronavirus trump biden pandemic virus hotspot mask schoolreopening',\n",
       " 'floridas mini trump ron desantis under growing pressure as covid    cases surge   covid   covid coronavirus trump biden pandemic virus hotspot mask schoolreopening',\n",
       " 'florida now has more covid    cases than any other state   covid   covid coronavirus trump biden pandemic virus hotspot mask schoolreopening',\n",
       " 'republican georgia gov  kemps stubborn war on masks   covid   covid coronavirus trump biden pandemic virus hotspot mask schoolreopening',\n",
       " 'gop senators sound alarm as coronavirus surges in home states   covid   covid coronavirus trump biden pandemic virus hotspot mask schoolreopening',\n",
       " 'trump stops interview to demand  proof  biden wants to defund police   but his staff can t provide any   biden trump gop republican democrat democrats liberal conservative independent',\n",
       " 'trump is not worried about covid    cases  aide admits he is not really working on this anymore   covid   covid coronavirus trump biden pandemic virus hotspot mask schoolreopening',\n",
       " 'states  washington d c   and puerto rico have issued mask mandates to prevent spread of covid      covid   covid coronavirus trump biden pandemic virus hotspot mask schoolreopening',\n",
       " ' the virus doesn t care about excuses   us faces terrifying autumn as covid    surges   covid   covid coronavirus trump biden pandemic virus hotspot mask schoolreopening',\n",
       " 'trump will not require americans to wear face masks   covid   covid coronavirus trump biden pandemic virus hotspot mask schoolreopening',\n",
       " 'corporate america calls for mandatory face coverings in businesses   covid   covid coronavirus trump biden pandemic virus hotspot mask schoolreopening',\n",
       " 'white house portraits of bill clinton and george w  bush moved from prominent space to storage room   trump biden',\n",
       " 'new california rules mean most schools will start online   covid   covid coronavirus trump biden pandemic virus hotspot mask schoolreopening',\n",
       " 'reality shows shortfalls of trump s claim to  best testing    covid   covid coronavirus trump biden pandemic virus hotspot mask schoolreopening',\n",
       " 'brutal supercut of trump predicting pandemic will disappear after caign official claims he never downplayed the virus   covid   covid coronavirus trump biden pandemic virus hotspot mask',\n",
       " 'with coronavirus antibodies fading fast  vaccine hopes fade  too   covid   covid coronavirus trump biden pandemic virus hotspot mask schoolreopening',\n",
       " 'trump says he won t issue national mask mandate   covid   covid coronavirus trump biden pandemic virus hotspot mask schoolreopening',\n",
       " 'trump says  i don t agree  with cdc director s mask message   covid   covid coronavirus trump biden pandemic virus hotspot mask schoolreopening',\n",
       " 'scientists identify six different types of coronavirus with increasing severity levels   covid   covid coronavirus trump biden pandemic virus hotspot mask schoolreopening',\n",
       " 'texas asks schools to hold online only classes through november   covid   covid coronavirus trump biden pandemic virus hotspot mask schoolreopening',\n",
       " 'florida counties impose curfews as coronavirus cases spike   covid   covid coronavirus trump biden pandemic virus hotspot mask schoolreopening',\n",
       " 'just percent of americans want to see schools fully reopen for fall sessions   covid   covid coronavirus trump biden pandemic virus hotspot mask schoolreopening',\n",
       " 'trump blocks cdc director from testifying on schools reopening   covid   covid coronavirus trump biden pandemic virus hotspot mask schoolreopening',\n",
       " 'the new normal  overwhelmed morgues  crowded hospitals  older americans stuck at home   covid   covid coronavirus trump biden pandemic virus hotspot mask schoolreopening',\n",
       " 'biden says trump is trying trying to hide the skyrocketing number of coronavirus cases from public view   covid   covid coronavirus trump biden pandemic virus hotspot mask schoolreopening',\n",
       " 'mayor of portland to trump  get your storm troopers out of the city   biden trump gop republican democrat democrats liberal conservative independent',\n",
       " 'oregon governor calls for federal officers to  stay off our streets  during portland protests   biden trump gop republican democrat democrats liberal conservative independent',\n",
       " 'iu pauses voluntary workouts after positive tests   covid   covid coronavirus trump biden pandemic virus hotspot mask schoolreopening',\n",
       " 'san francisco mayor pauses reopening indefinitely as coronavirus cases climb   covid   covid coronavirus trump biden pandemic virus hotspot mask schoolreopening',\n",
       " 'u s  bank ceos warn of tougher economic road after recent gains   covid   covid coronavirus trump biden pandemic virus hotspot mask schoolreopening',\n",
       " 'white house blocks cdc director from testifying before house panel on reopening schools   covid   covid coronavirus trump biden pandemic virus hotspot mask schoolreopening',\n",
       " 'millions of kids told full return to school in fall unlikely   covid   covid coronavirus trump biden pandemic virus hotspot mask schoolreopening',\n",
       " 'watch  ivanka trump slammed  cant feed your kids  let them eat cake   covid   covid coronavirus trump biden pandemic virus hotspot mask schoolreopening',\n",
       " 'mcconnell has given up on trumps re election and is making plans to handcuff biden   covid   covid coronavirus trump biden pandemic virus hotspot mask schoolreopening',\n",
       " 'trumps crumbling poll numbers threaten gop control of congress   covid   covid coronavirus trump biden pandemic virus hotspot mask schoolreopening',\n",
       " 'flight to suburbs boosts u s  homebuilding  but covid    surge erodes consumer sentiment   covid   covid coronavirus trump biden pandemic virus hotspot mask schoolreopening',\n",
       " 'texas lets schools stick to online learning well into fall   covid   covid coronavirus trump biden pandemic virus hotspot mask schoolreopening',\n",
       " 'florida adds coronavirus cases  virus related deaths friday   covid   covid coronavirus trump biden pandemic virus hotspot mask schoolreopening',\n",
       " 'fauci urges state  local leaders to  be as forceful as possible  on masks   covid   covid coronavirus trump biden pandemic virus hotspot mask schoolreopening',\n",
       " 'fauci says u s  needs to  get better control  of the coronavirus to reopen without outbreaks   covid   covid coronavirus trump biden pandemic virus hotspot mask schoolreopening',\n",
       " 'u s  divided over mask wearing and schools reopening as coronavirus cases surge   covid   covid coronavirus trump biden pandemic virus hotspot mask schoolreopening',\n",
       " 'joe biden says more money  planning is needed to reopen u s  schools   covid   covid coronavirus trump biden pandemic virus hotspot mask schoolreopening',\n",
       " 'biden  science  not politics  should decide school reopening   covid   covid coronavirus trump biden pandemic virus hotspot mask schoolreopening',\n",
       " 'hospitalizations are getting out of control as us cases surge   covid   covid coronavirus trump biden pandemic virus hotspot mask schoolreopening',\n",
       " 'watch  trump flips out after foxs chris wallace tells him joe biden doesnt support defunding police   covid   covid coronavirus trump biden pandemic virus hotspot mask schoolreopening',\n",
       " 'military medics deploy in california  texas as virus surges   covid   covid coronavirus trump biden pandemic virus hotspot mask schoolreopening',\n",
       " 'pentagon bucks trump bans confederate flags on all military property   covid   covid coronavirus trump biden pandemic virus hotspot mask schoolreopening',\n",
       " 'donald trumps niece says she heard him use the n word  calls him virulently racist   biden trump gop republican democrat democrats liberal conservative independent',\n",
       " 'trump goes off on strange rant about dishwashers while covid pummels america   covid   covid coronavirus trump biden pandemic virus hotspot mask schoolreopening',\n",
       " 'trump stares down a ticking economic time bomb   covid   covid coronavirus trump biden pandemic virus hotspot mask schoolreopening',\n",
       " 'trump will quit to avoid stunning loss to biden   covid   covid coronavirus trump biden pandemic virus hotspot mask schoolreopening',\n",
       " 'many see trump as the real cause of his caign s woes   covid   covid coronavirus trump biden pandemic virus hotspot mask schoolreopening',\n",
       " 'ballparks to use crowd noise from video game during season   covid   covid coronavirus trump biden pandemic virus hotspot mask schoolreopening mlb',\n",
       " 'british airways retires entire fleet due to covid    crisis   covid   covid coronavirus trump biden pandemic virus hotspot mask schoolreopening',\n",
       " 'cdc extends us ban on cruise ships through september   covid   covid coronavirus trump biden pandemic virus hotspot mask schoolreopening',\n",
       " ' a sinking ship  arizona docs say ducey steered state into covid    surge   covid   covid coronavirus trump biden pandemic virus hotspot mask schoolreopening',\n",
       " 'days grow long at nursing homes as virus lockdowns drag on   covid   covid coronavirus trump biden pandemic virus hotspot mask schoolreopening',\n",
       " 'zuckerberg trashes trump s handling of pandemic in facebook chat with dr  fauci   covid   covid coronavirus trump biden pandemic virus hotspot mask schoolreopening',\n",
       " 'florida coronavirus patient went from diagnosis to dying in her daughter s arms in a matter of days   covid   covid coronavirus trump biden pandemic virus hotspot mask schoolreopening',\n",
       " ' this is real   doctors  nurses who helped with new york epidemic warn their home states   covid   covid coronavirus trump biden pandemic virus hotspot mask schoolreopening',\n",
       " ' epicenter of the epicenter   young people partying in miami beach despite covid    threat   covid   covid coronavirus trump biden pandemic virus hotspot mask schoolreopening',\n",
       " 'more than deaths reported in one day as us coronavirus cases shatter another record   covid   covid coronavirus trump biden pandemic virus hotspot mask schoolreopening',\n",
       " 'more than new cases of coronavirus were reported in the us on thursday  the most ever   covid   covid coronavirus trump biden pandemic virus hotspot mask schoolreopening',\n",
       " 'illinois gov  jb pritzker files lawsuit to require face masks in schools   covid   covid coronavirus trump biden pandemic virus hotspot mask schoolreopening',\n",
       " 'on eve of bankruptcy  u s  firms shower execs with bonuses   covid   covid coronavirus trump biden pandemic virus hotspot mask schoolreopening',\n",
       " 'utah public meeting goes off the rails as trump fans denounce mask order   covid   covid coronavirus trump biden pandemic virus hotspot mask schoolreopening',\n",
       " 'ceo of world s biggest money manager says wearing masks will help economy avoid another shutdown   covid   covid coronavirus trump biden pandemic virus hotspot mask schoolreopening',\n",
       " 'only states in the us are requiring people to wear masks   covid   covid coronavirus trump biden pandemic virus hotspot mask schoolreopening',\n",
       " 'millions who suffered covid    go uncounted   covid   covid coronavirus trump biden pandemic virus hotspot mask schoolreopening',\n",
       " 'governors demand trump to delay changes to hospital covid    reporting   covid   covid coronavirus trump biden pandemic virus hotspot mask schoolreopening',\n",
       " 'the cdc held off publishing new guidelines for school reopenings after attacks from trump   covid   covid coronavirus trump biden pandemic virus hotspot mask schoolreopening',\n",
       " 'dr faucis boss baffled at trumps attempts to undermine him  losing his leadership is unthinkable   covid   covid coronavirus trump biden pandemic virus hotspot mask schoolreopening',\n",
       " 'trump issued covid    travel restrictions too late to help nyc  cdc report   covid   covid coronavirus trump biden pandemic virus hotspot mask schoolreopening',\n",
       " 'trump s outrageous refusal to lead is making the pandemic worse   covid   covid coronavirus trump biden pandemic virus hotspot mask schoolreopening',\n",
       " 'georgia lieutenant governor bucks trump loving governor and encourages people to wear masks   covid   covid coronavirus trump biden pandemic virus hotspot mask schoolreopening',\n",
       " 'georgia massaged virus data to reopen  then voided mask orders   covid   covid coronavirus trump biden pandemic virus hotspot mask schoolreopening',\n",
       " 'task force report says states in coronavirus  red zone  should roll back reopening   covid   covid coronavirus trump biden pandemic virus hotspot mask schoolreopening',\n",
       " 'white house document shows states in coronavirus  red zone    covid   covid coronavirus trump biden pandemic virus hotspot mask schoolreopening',\n",
       " 'virus prompts drastic measures as death tolls set records   covid   covid coronavirus trump biden pandemic virus hotspot mask schoolreopening',\n",
       " 'the mid eastern athletic conference suspends all fall sports for indefinite period   covid   covid coronavirus trump biden pandemic virus hotspot mask schoolreopening',\n",
       " 'nfl players tested positive for coronavirus   covid   covid coronavirus trump biden pandemic virus hotspot mask schoolreopening',\n",
       " 'sports gets fast test results and you dont   covid   covid coronavirus trump biden pandemic virus hotspot mask schoolreopening',\n",
       " 'ncaa prez says college football  other fall sports in jeopardy of being canceled   covid   covid coronavirus trump biden pandemic virus hotspot mask schoolreopening',\n",
       " 'white house press secretary says  science should not stand in the way  of school reopenings   covid   covid coronavirus trump biden pandemic virus hotspot mask schoolreopening',\n",
       " 'utah public hearing on schools dismissed after angry parents pack room without masks   covid   covid coronavirus trump biden pandemic virus hotspot mask schoolreopening',\n",
       " 'two thirds of parents don t back trump s school reopening demands   covid   covid coronavirus trump biden pandemic virus hotspot mask schoolreopening',\n",
       " 'chicago mayor lori lightfoot calls white house press secretary  karen    covid   covid coronavirus trump biden pandemic virus hotspot mask schoolreopening',\n",
       " 'nearly one third of florida children tested for covid    test positive   covid   covid coronavirus trump biden pandemic virus hotspot mask schoolreopening',\n",
       " 'south carolina draws crowds of tourists  despite surge in coronavirus infections   covid   covid coronavirus trump biden pandemic virus hotspot mask schoolreopening',\n",
       " 'zuckerberg says he s been disappointed by trump s handling of covid      covid   covid coronavirus trump biden pandemic virus hotspot mask schoolreopening',\n",
       " 'virus surges  work hours plateau  u s  may be flattening the wrong curve   covid   covid coronavirus trump biden pandemic virus hotspot mask schoolreopening',\n",
       " 'covid    infections on the rise in kids and teens with school approaching   covid   covid coronavirus trump biden pandemic virus hotspot mask schoolreopening',\n",
       " 'dr  anthony fauci pleads with young people   you re propagating the pandemic    covid   covid coronavirus trump biden pandemic virus hotspot mask schoolreopening',\n",
       " 'rapid testing  contact tracing might reduce covid    transmission by percent   covid   covid coronavirus trump biden pandemic virus hotspot mask schoolreopening',\n",
       " 'target  cvs join list of retailers mandating masks   covid   covid coronavirus trump biden pandemic virus hotspot mask schoolreopening',\n",
       " 'colorado gov  jared polis orders statewide mask mandate   covid   covid coronavirus trump biden pandemic virus hotspot mask schoolreopening',\n",
       " 'people not wearing masks can get      fine in miami dade county   covid   covid coronavirus trump biden pandemic virus hotspot mask schoolreopening',\n",
       " 'republican governors break from trump amid growing calls for mask mandates   covid   covid coronavirus trump biden pandemic virus hotspot mask schoolreopening',\n",
       " 'its murder  gop governor ripped for suing mayor to block mask mandate   covid   covid coronavirus trump biden pandemic virus hotspot mask schoolreopening',\n",
       " 'rising coronavirus infections threaten us economic recovery   covid   covid coronavirus trump biden pandemic virus hotspot mask schoolreopening',\n",
       " 'russia is hacking virus vaccine trials  us  uk  canada say   covid   covid coronavirus trump biden pandemic virus hotspot mask schoolreopening',\n",
       " 'trump used n word and anti semitic slurs   covid   covid coronavirus trump biden pandemic virus hotspot mask schoolreopening',\n",
       " 'manhattans party scene roars back to life  covid or no covid   covid   covid coronavirus trump biden pandemic virus hotspot mask schoolreopening',\n",
       " 'savannah  georgia mayor hits kemp for overriding local mask mandates  he  does not give a damn about us    covid   covid coronavirus trump biden pandemic virus hotspot mask schoolreopening',\n",
       " 'rnc to restrict attendance at florida convention amid coronavirus surge   covid   covid coronavirus trump biden pandemic virus hotspot mask schoolreopening',\n",
       " 'game show host retweeted by trump deletes his account after announcing his son has coronavirus   covid   covid coronavirus trump biden pandemic virus hotspot mask schoolreopening',\n",
       " 'weekly jobless claims rise by more than million for th straight week   covid   covid coronavirus trump biden pandemic virus hotspot mask schoolreopening',\n",
       " 'u s  coronavirus data has already disappeared after trump administration shifted control from cdc to hhs   covid   covid coronavirus trump biden pandemic virus hotspot mask schoolreopening',\n",
       " 'maryland s gop governor publishes a scathing indictment of trump s coronavirus response   covid   covid coronavirus trump biden pandemic virus hotspot mask schoolreopening',\n",
       " 'florida among most defiant states when it comes to mask mandates   covid   covid coronavirus trump biden pandemic virus hotspot mask schoolreopening',\n",
       " 'florida walmart shopper pulls gun on man in dispute over masks   covid   covid coronavirus trump biden pandemic virus hotspot mask schoolreopening',\n",
       " 'percent of us counties seeing epidemic spread of covid      covid   covid coronavirus trump biden pandemic virus hotspot mask schoolreopening',\n",
       " 'californians turn against each other amid nd coronavirus shutdown   covid   covid coronavirus trump biden pandemic virus hotspot mask schoolreopening',\n",
       " 'covid    deaths hit new high in texas   covid   covid coronavirus trump biden pandemic virus hotspot mask schoolreopening',\n",
       " 'florida reports biggest one day increase in covid    deaths since pandemic started  new cases   covid   covid coronavirus trump biden pandemic virus hotspot mask schoolreopening',\n",
       " 'brutal video targeting moms hits trump for trying to hurt their children by returning to school in pandemic   covid   covid coronavirus trump biden pandemic virus hotspot mask schoolreopening',\n",
       " 'texas teacher writes will as she prepares for new school year amid pandemic   covid   covid coronavirus trump biden pandemic virus hotspot mask schoolreopening',\n",
       " 'greenwich mansions with pools are all the rage in pandemic era   covid   covid coronavirus trump biden pandemic virus hotspot mask schoolreopening',\n",
       " 'everyone wearing face masks could save america from a    trillion gdp loss   covid   covid coronavirus trump biden pandemic virus hotspot mask schoolreopening',\n",
       " 'tourists facing restrictions amid fears of new virus spikes   covid   covid coronavirus trump biden pandemic virus hotspot mask schoolreopening',\n",
       " 'demand for jobless aid high   covid   covid coronavirus trump biden pandemic virus hotspot mask schoolreopening',\n",
       " 'atlanta mayor  trump broke city law by refusing to wear a face mask   covid   covid coronavirus trump biden pandemic virus hotspot mask schoolreopening',\n",
       " 'trump has no second term plan   covid   covid coronavirus trump biden pandemic virus hotspot mask schoolreopening',\n",
       " 'chris cuomo erupts over trump s goya endorsement amid spiking pandemic  how does he  have time for this bullsh t      covid   covid coronavirus trump biden pandemic virus hotspot mask schoolreopening',\n",
       " 'trump team cheers up gloomy president by lying to him about polls and tv ratings   covid   covid coronavirus trump biden pandemic virus hotspot mask schoolreopening',\n",
       " 'trump team launches a sweeping loyalty test   covid   covid coronavirus trump biden pandemic virus hotspot mask schoolreopening',\n",
       " 'i m a gop governor  why didn t trump help my state with coronavirus testing    covid   covid coronavirus trump biden pandemic virus hotspot mask schoolreopening',\n",
       " 'georgia gov  brian kemp goes full trump and bans cities  counties from requiring masks   covid   covid coronavirus trump biden pandemic virus hotspot mask schoolreopening',\n",
       " 'trump replaces caign manager amid sinking poll numbers   covid   covid coronavirus trump biden pandemic virus hotspot mask schoolreopening',\n",
       " 'trump is inundated with polls that show him trailing joe biden   covid   covid coronavirus trump biden pandemic virus hotspot mask schoolreopening',\n",
       " 'trump approval only percent   covid   covid coronavirus trump biden pandemic virus hotspot mask schoolreopening',\n",
       " 'americans don t trust the president  but they do trust dr  fauci   covid   covid coronavirus trump biden pandemic virus hotspot mask schoolreopening',\n",
       " 'over million americans have now filed for first time jobless benefits since lockdowns began   covid   covid coronavirus trump biden pandemic virus hotspot mask schoolreopening',\n",
       " 'u s  jobless claims signal slowing labor market rebound   covid   covid coronavirus trump biden pandemic virus hotspot mask schoolreopening',\n",
       " 'public health groups denounce new trump move sidelining cdc   covid   covid coronavirus trump biden pandemic virus hotspot mask schoolreopening',\n",
       " 'as trump refuses to lead  america tries to save itself   covid   covid coronavirus trump biden pandemic virus hotspot mask schoolreopening',\n",
       " 'young adults may face higher risk for severe covid than thought   covid   covid coronavirus trump biden pandemic virus hotspot mask schoolreopening',\n",
       " 'half of all states pause reopening or take steps to halt the spread of covid      covid   covid coronavirus trump biden pandemic virus hotspot mask schoolreopening',\n",
       " 'new us coronavirus cases hit record high  south and west worst hit   covid   covid coronavirus trump biden pandemic virus hotspot mask schoolreopening',\n",
       " 'more states and businesses make masks mandatory   covid   covid coronavirus trump biden pandemic virus hotspot mask schoolreopening',\n",
       " 'trump fires caign manager as he plunges in the polls   biden trump gop republican democrat democrats liberal conservative independent',\n",
       " 'shock poll  trump approval percent   biden trump gop republican democrat democrats liberal conservative independent',\n",
       " 'texas reports record highs for daily coronavirus cases  deaths   covid   covid coronavirus trump biden pandemic virus hotspot mask schoolreopening',\n",
       " 'chains including walmart  kroger  and kohl s are now requiring customers to wear masks  here s the full list    covid   covid coronavirus trump biden pandemic virus hotspot mask schoolreopening',\n",
       " 'why trump not biden might have an enthusiasm problem   covid   covid coronavirus trump biden pandemic virus hotspot mask schoolreopening',\n",
       " 'u s  job gains look like theyre slowing or reversing in july   covid   covid coronavirus trump biden pandemic virus hotspot mask schoolreopening',\n",
       " 'trump s approval rating on the economy tanks in new poll   covid   covid coronavirus trump biden pandemic virus hotspot mask schoolreopening',\n",
       " 'covid    deaths are increasing  americans disagree with trump on what to do about it    covid   covid coronavirus trump biden pandemic virus hotspot mask schoolreopening',\n",
       " 'trump officials are waving the white flag on fauci attacks after trump threw navarro under the bus   covid   covid coronavirus trump biden pandemic virus hotspot mask schoolreopening',\n",
       " 'pence  fauci a  valued  member of coronavirus task force   covid   covid coronavirus trump biden pandemic virus hotspot mask schoolreopening',\n",
       " 'gop leader mcconnell says he has  total  confidence in fauci   covid   covid coronavirus trump biden pandemic virus hotspot mask schoolreopening',\n",
       " 'fauci  bizarre white house behavior only hurts the president   covid   covid coronavirus trump biden pandemic virus hotspot mask schoolreopening',\n",
       " 'fauci calls white house criticism of him bizarre  says  let s stop this nonsense  and fight coronavirus   covid   covid coronavirus trump biden pandemic virus hotspot mask schoolreopening',\n",
       " 'trump  authorized  and  encouraged  an op ed attacking dr  fauci   covid   covid coronavirus trump biden pandemic virus hotspot mask schoolreopening',\n",
       " 'threat of a trump without rallies triggers fears across gop   covid   covid coronavirus trump biden pandemic virus hotspot mask schoolreopening',\n",
       " 'donald trump trails joe biden by points   quinnipiac poll   covid   covid coronavirus trump biden pandemic virus hotspot mask schoolreopening',\n",
       " 'biden opens up  point national lead over trump in nbc news wsj poll   covid   covid coronavirus trump biden pandemic virus hotspot mask schoolreopening',\n",
       " 'cramer  we desperately need another round of federal stimulus  despite vaccine progress   covid   covid coronavirus trump biden pandemic virus hotspot mask schoolreopening',\n",
       " 'coronavirus is rapidly spreading in texas nursing homes   covid   covid coronavirus trump biden pandemic virus hotspot mask schoolreopening',\n",
       " 'the u s  is the accidental sweden  which could make the fall catastrophic for covid      covid   covid coronavirus trump biden pandemic virus hotspot mask schoolreopening',\n",
       " 'kroger requiring all customers to wear masks at stores nationwide   covid   covid coronavirus trump biden pandemic virus hotspot mask schoolreopening',\n",
       " 'gov  hogan discourages marylanders from traveling out of state   covid   covid coronavirus trump biden pandemic virus hotspot mask schoolreopening',\n",
       " 'hospitals are running out of staff  supplies  and beds for covid    patients   covid   covid coronavirus trump biden pandemic virus hotspot mask schoolreopening',\n",
       " 'us covid    epidemic projected to worsen   covid   covid coronavirus trump biden pandemic virus hotspot mask schoolreopening',\n",
       " 'spring s coronavirus surge was bad  but states are doing much worse now   covid   covid coronavirus trump biden pandemic virus hotspot mask schoolreopening',\n",
       " 'kentucky governor warns gop s war on masks will cause explosive covid outbreak   covid   covid coronavirus trump biden pandemic virus hotspot mask schoolreopening',\n",
       " 'most say trump is hurting efforts to slow spread of coronavirus   covid   covid coronavirus trump biden pandemic virus hotspot mask schoolreopening',\n",
       " 'for fourth time in days  u s  breaks record for new coronavirus cases   covid   covid coronavirus trump biden pandemic virus hotspot mask schoolreopening',\n",
       " 'mcconnell says he has  total  confidence in fauci   covid   covid coronavirus trump biden pandemic virus hotspot mask schoolreopening',\n",
       " 'cost of ensuring school safety complicates reopening plans   covid   covid coronavirus trump biden pandemic virus hotspot mask schoolreopening',\n",
       " 'quarantines or not  americans descend on summer vacation spots   covid   covid coronavirus trump biden pandemic virus hotspot mask schoolreopening',\n",
       " 'chuck woolerys son gets covid connection  tests positive for virus after game show host said everyone is lying   covid   covid coronavirus trump biden pandemic virus hotspot mask schoolreopening',\n",
       " 'chicago mayor warns city might have to move back to phase   covid   covid coronavirus trump biden pandemic virus hotspot mask schoolreopening',\n",
       " 'you cant make me  anti maskers revolt after walmart announces mandatory face covering rule   covid   covid coronavirus trump biden pandemic virus hotspot mask schoolreopening',\n",
       " 'public s disconnect from covid    reality worries experts   covid   covid coronavirus trump biden pandemic virus hotspot mask schoolreopening',\n",
       " 'coronavirus hospital data will now be sent to trump administration instead of cdc   covid   covid coronavirus trump biden pandemic virus hotspot mask schoolreopening',\n",
       " 'alabama governor issues statewide mask order   covid   covid coronavirus trump biden pandemic virus hotspot mask schoolreopening',\n",
       " 'oklahoma gov  kevin stitt tests positive for coronavirus   covid   covid coronavirus trump biden pandemic virus hotspot mask schoolreopening',\n",
       " 'texas could go democrat  fox news   covid   covid coronavirus trump biden pandemic virus hotspot mask schoolreopening',\n",
       " 'walmart will require customers to wear masks at its stores   covid   covid coronavirus trump biden pandemic virus hotspot mask schoolreopening',\n",
       " 'trump s  law and order  is a code for maintaining personal power   biden trump gop republican democrat democrats liberal conservative independent',\n",
       " 'biden s    trillion climate plan aims to reframe debate   biden trump gop republican democrat democrats liberal conservative independent',\n",
       " 'ivanka trumps endorsement of goya foods puts her in serious legal trouble   biden trump gop republican democrat democrats liberal conservative independent',\n",
       " 'just when you thought ivanka trump couldn t get more out of touch   biden trump gop republican democrat democrats liberal conservative independent',\n",
       " 'trump white house  down to kool aid drinkers and next of kin    covid   covid coronavirus trump biden pandemic virus hotspot mask schoolreopening',\n",
       " 'trump caign advisers frustrated that hes making the election all about himself   covid   covid coronavirus trump biden pandemic virus hotspot mask schoolreopening',\n",
       " 'even foxnews is rattled as trumps unhinged rose garden caign rally shows his sideshow act is getting truly pathetic   covid   covid coronavirus trump biden pandemic virus hotspot mask schoolreopening',\n",
       " 'trump rose garden speech on china devolves into rambling diatribe of grievances  bashing biden and other foes   covid   covid coronavirus trump biden pandemic virus hotspot mask schoolreopening',\n",
       " 'self destruction of the president   covid   covid coronavirus trump biden pandemic virus hotspot mask schoolreopening',\n",
       " 'cdc director sees scary fall and winter   covid   covid coronavirus trump biden pandemic virus hotspot mask schoolreopening',\n",
       " 'u s  testing czar rebuts trump  warns of rising virus death toll   covid   covid coronavirus trump biden pandemic virus hotspot mask schoolreopening',\n",
       " 'let the good times     hold  virus recloses new orleans bars   covid   covid coronavirus trump biden pandemic virus hotspot mask schoolreopening',\n",
       " 'total failure  voters in covid afflicted texas city go off on trumps pandemic response   covid   covid coronavirus trump biden pandemic virus hotspot mask schoolreopening',\n",
       " 'trump approval at record low among battleground voters  poll   covid   covid coronavirus trump biden pandemic virus hotspot mask schoolreopening',\n",
       " 'rules once lifted are reimposed to try to curb new outbreaks   covid   covid coronavirus trump biden pandemic virus hotspot mask schoolreopening',\n",
       " 'hospitals see rise in younger admissions for covid     raising doctors  concerns   covid   covid coronavirus trump biden pandemic virus hotspot mask schoolreopening',\n",
       " 'hazmat suits for air travel are here   covid   covid coronavirus trump biden pandemic virus hotspot mask schoolreopening',\n",
       " 'ac systems can make covid    spread worse   covid   covid coronavirus trump biden pandemic virus hotspot mask schoolreopening',\n",
       " 'phoenix s mayor says arizona s coronavirus surge was preventable   covid   covid coronavirus trump biden pandemic virus hotspot mask schoolreopening',\n",
       " 'l a  county sets record for covid    cases  hospitalizations as conditions worsen   covid   covid coronavirus trump biden pandemic virus hotspot mask schoolreopening',\n",
       " 'as pandemic worsens  miami beach visitors party  residents mostly comply   covid   covid coronavirus trump biden pandemic virus hotspot mask schoolreopening',\n",
       " 'hospitals overwhelmed as florida reports record virus deaths   covid   covid coronavirus trump biden pandemic virus hotspot mask schoolreopening',\n",
       " ' we are headed in a terrible direction  says nashville mayor as city breaks case record   covid   covid coronavirus trump biden pandemic virus hotspot mask schoolreopening',\n",
       " 'the pandemic is crushing small businesses and their expectations have essentially collapsed   covid   covid coronavirus trump biden pandemic virus hotspot mask schoolreopening',\n",
       " 'stocks are stunningly decoupled from reality  economist warns   covid   covid coronavirus trump biden pandemic virus hotspot mask schoolreopening',\n",
       " 'mary trump warns her  dangerous  uncle is  utterly incapable of leading  america   covid   covid coronavirus trump biden pandemic virus hotspot mask schoolreopening',\n",
       " 'trump s niece   resign    covid   covid coronavirus trump biden pandemic virus hotspot mask schoolreopening',\n",
       " 'trump offers denial and delusion as pandemic crisis overtakes his presidency   covid   covid coronavirus trump biden pandemic virus hotspot mask schoolreopening',\n",
       " 'donald the dope     or doctor fauci    covid   covid coronavirus trump biden pandemic virus hotspot mask schoolreopening',\n",
       " 'cdc director  u s  could control covid    in    weeks if all wore masks   covid   covid coronavirus trump biden pandemic virus hotspot mask schoolreopening',\n",
       " 'u s  reports record single day spike of new coronavirus cases   covid   covid coronavirus trump biden pandemic virus hotspot mask schoolreopening',\n",
       " 'long waits for test results spark new covid    fears   covid   covid coronavirus trump biden pandemic virus hotspot mask schoolreopening',\n",
       " 'trump abandons policy to deport foreign students   covid   covid coronavirus trump biden pandemic virus hotspot mask schoolreopening',\n",
       " 'college football season in the spring  support for the concept is growing   covid   covid coronavirus trump biden pandemic virus hotspot mask schoolreopening',\n",
       " 'at least test positive for coronavirus after michigan house party  more exposed   covid   covid coronavirus trump biden pandemic virus hotspot mask schoolreopening',\n",
       " 'fauci to warn young of covid    risks as white house continues to attack him   covid   covid coronavirus trump biden pandemic virus hotspot mask schoolreopening',\n",
       " 'fauci on who to trust amid coronavirus   stick with respected medical authorities    covid   covid coronavirus trump biden pandemic virus hotspot mask schoolreopening',\n",
       " 'gop sen  lindsey graham backs fauci over trump   covid   covid coronavirus trump biden pandemic virus hotspot mask schoolreopening',\n",
       " 'white house tells hospitals to bypass cdc on covid    data reporting   covid   covid coronavirus trump biden pandemic virus hotspot mask schoolreopening',\n",
       " 'cdc says u s  could get coronavirus under control in one to two months if everyone wears a mask   covid   covid coronavirus trump biden pandemic virus hotspot mask schoolreopening',\n",
       " 'mitch mcconnell warns kentucky about coronavirus surge as trump downplays pandemic   covid   covid coronavirus trump biden pandemic virus hotspot mask schoolreopening',\n",
       " 'republicans are breaking from trumps coronavirus talking points   covid   covid coronavirus trump biden pandemic virus hotspot mask schoolreopening',\n",
       " 'missouri school district asks parents to sign covid    death waiver for children   covid   covid coronavirus trump biden pandemic virus hotspot mask schoolreopening',\n",
       " 'north carolina sets single day record for coronavirus hospitalizations   covid   covid coronavirus trump biden pandemic virus hotspot mask schoolreopening',\n",
       " 'alabama  florida and north carolina see record rises in covid    deaths   covid   covid coronavirus trump biden pandemic virus hotspot mask schoolreopening',\n",
       " 'cdc director warns fall  winter will likely be one of the most difficult times weve experienced in american public health   covid   coronavirus trump biden pandemic virus hotspot mask schoolreopening',\n",
       " 'new shutdowns add to trump woes   covid   covid coronavirus trump biden pandemic virus hotspot mask schoolreopening',\n",
       " 'its time for investors to stop buying stocks that are stunningly decoupled from reality  economist warns   covid   covid coronavirus trump biden pandemic virus hotspot mask schoolreopening',\n",
       " 'fox anchor  trump speech is incoherent rant   biden trump gop republican democrat democrats liberal conservative independent',\n",
       " 'trump defends confederate flag   biden trump gop republican democrat democrats liberal conservative independent',\n",
       " 'trump on black americans killed by police   so are white people    biden trump gop republican democrat democrats liberal conservative independent',\n",
       " 'a message for president donald trump from his niece   resign    biden trump gop republican democrat democrats liberal conservative independent',\n",
       " 'tiger woods put safety first during coronavirus in avoiding tournaments   covid   covid coronavirus trump biden pandemic virus hotspot mask schoolreopening',\n",
       " 'people who don t wear a mask have lower cognitive ability  says study   covid   covid coronavirus trump biden pandemic virus hotspot mask schoolreopening',\n",
       " 'more than percent of small firms that got ppp loans say they will run out of money by august   covid   covid coronavirus trump biden pandemic virus hotspot mask schoolreopening',\n",
       " 'teachers shouldn t be forced to choose between their lives and their jobs   covid   covid coronavirus trump biden pandemic virus hotspot mask schoolreopening',\n",
       " 'scratch that august trip to hawaii  the state just extended its quarantine until sept    covid   covid coronavirus trump biden pandemic virus hotspot mask schoolreopening',\n",
       " 'a year old texas icu nurse is hospitalized with covid    after testing negative   covid   covid coronavirus trump biden pandemic virus hotspot mask schoolreopening',\n",
       " 'almost half of all states are spiking at a faster rate than in the spring   covid   covid coronavirus trump biden pandemic virus hotspot mask schoolreopening',\n",
       " 'trump wallowing in self pity as covid    pandemic derails his re election plans   covid   covid coronavirus trump biden pandemic virus hotspot mask schoolreopening',\n",
       " 'while coronavirus cases spike in the south  the northeast seems to have it under control   covid   covid coronavirus trump biden pandemic virus hotspot mask schoolreopening',\n",
       " 'nyc recovery stalling as consumer activity levels underwhelm   covid   covid coronavirus trump biden pandemic virus hotspot mask schoolreopening',\n",
       " 'states now on ny quarantine list   covid   covid coronavirus trump biden pandemic virus hotspot mask schoolreopening',\n",
       " ' within days  i lost my mother  my father  and my brother    covid   covid coronavirus trump biden pandemic virus hotspot mask schoolreopening',\n",
       " 'doctors cry foul as white house targets fauci  cdc   covid   covid coronavirus trump biden pandemic virus hotspot mask schoolreopening',\n",
       " 'top infectious disease experts lend support to fauci after white house attacks   covid   covid coronavirus trump biden pandemic virus hotspot mask schoolreopening',\n",
       " 'trump s top aide shares a cartoon mocking fauci   covid   covid coronavirus trump biden pandemic virus hotspot mask schoolreopening',\n",
       " 'florida sets single day record for coronavirus deaths with   adds new cases   covid   covid coronavirus trump biden pandemic virus hotspot mask schoolreopening',\n",
       " 'covid    antibodies may fade after months   covid   covid coronavirus trump biden pandemic virus hotspot mask schoolreopening',\n",
       " 'young adults are vulnerable to severe coronavirus infections   covid   covid coronavirus trump biden pandemic virus hotspot mask schoolreopening',\n",
       " 'rncs attack on joe biden backfires   covid   covid coronavirus trump biden pandemic virus hotspot mask schoolreopening',\n",
       " 'trump s scant use of defense production act leads to ongoing shortages of ppe   covid   covid coronavirus trump biden pandemic virus hotspot mask schoolreopening',\n",
       " 'small businesses worldwide fight for survival amid pandemic   covid   covid coronavirus trump biden pandemic virus hotspot mask schoolreopening',\n",
       " 'white house turns on fauci as trump minimizes virus spike   covid   covid coronavirus trump biden pandemic virus hotspot mask schoolreopening',\n",
       " 'the one constant in trump s presidency  tomorrow will be much worse   covid   covid coronavirus trump biden pandemic virus hotspot mask schoolreopening',\n",
       " 'drone video shows packed missouri party traced to covid    case cluster   covid   covid coronavirus trump biden pandemic virus hotspot mask schoolreopening',\n",
       " 'qantas pulls all international flights until march of next year   covid   covid coronavirus trump biden pandemic virus hotspot mask schoolreopening',\n",
       " 'growth has stalled       surging infections hit airlines   covid   covid coronavirus trump biden pandemic virus hotspot mask schoolreopening',\n",
       " 'hong kong adopts its strictest ever virus measures as city reels   covid   covid coronavirus trump biden pandemic virus hotspot mask schoolreopening',\n",
       " 'restaurant owner kicks out crazy trump supporter who flashed a gun at employee who asked him to wear a mask   covid   covid coronavirus trump biden pandemic virus hotspot mask schoolreopening',\n",
       " 'anti maskers put shops  businesses on edge   covid   covid coronavirus trump biden pandemic virus hotspot mask schoolreopening',\n",
       " 'atlanta  l a   san diego to keep schools closed   covid   covid coronavirus trump biden pandemic virus hotspot mask schoolreopening',\n",
       " 'masks for kids  schools confront the politics of reopening   covid   covid coronavirus trump biden pandemic virus hotspot mask schoolreopening',\n",
       " 'trump s threat to cut school funding does little to sway state  local officials   covid   covid coronavirus trump biden pandemic virus hotspot mask schoolreopening',\n",
       " 'coronavirus spread threatens to overrun school reopening plans   covid   covid coronavirus trump biden pandemic virus hotspot mask schoolreopening',\n",
       " 'in parents say sending kids to school a risk   covid   covid coronavirus trump biden pandemic virus hotspot mask schoolreopening',\n",
       " 'americans fear return to school   covid   covid coronavirus trump biden pandemic virus hotspot mask schoolreopening',\n",
       " 'when school opens kids will be super spreaders   covid   covid coronavirus trump biden pandemic virus hotspot mask schoolreopening',\n",
       " 'israeli data show school openings were a disaster that wiped out lockdown gains   covid   covid coronavirus trump biden pandemic virus hotspot mask schoolreopening',\n",
       " 'texas hospitals are running out of drugs  beds  ventilators  staff   covid   covid coronavirus trump biden pandemic virus hotspot mask schoolreopening',\n",
       " 'how texas s coronavirus outbreak spiraled out of control in a matter of weeks   covid   covid coronavirus trump biden pandemic virus hotspot mask schoolreopening',\n",
       " 'refrigerated trucks requested in arizona  texas as morgues reach capacity amid covid    surge   covid   covid coronavirus trump biden pandemic virus hotspot mask schoolreopening',\n",
       " 'with hospitalizations rising  florida governor calls in nurses to help manage covid    cases   covid   covid coronavirus trump biden pandemic virus hotspot mask schoolreopening',\n",
       " 'florida lawmakers call for another statewide stay at home order   covid   covid coronavirus trump biden pandemic virus hotspot mask schoolreopening',\n",
       " 'miami is the epicenter of the pandemic    covid   covid coronavirus trump biden pandemic virus hotspot mask schoolreopening',\n",
       " 'florida is the new wuhan   covid   covid coronavirus trump biden pandemic virus hotspot mask schoolreopening',\n",
       " 'los angeles mayor eric garcetti warns he is on brink of issuing a total shutdown order   covid   covid coronavirus trump biden pandemic virus hotspot mask schoolreopening',\n",
       " 'orange county leaders vote to send kids back to school without masks or distancing in california hot spot   covid   covid coronavirus trump biden pandemic virus hotspot mask schoolreopening',\n",
       " 'california shuts down   covid   covid coronavirus trump biden pandemic virus hotspot mask schoolreopening',\n",
       " 'surge in u s  coronavirus cases causes testing delays across the nation   covid   covid coronavirus trump biden pandemic virus hotspot mask schoolreopening',\n",
       " 'million americans lost health insurance amid pandemic   covid   covid coronavirus trump biden pandemic virus hotspot mask schoolreopening',\n",
       " 'trump official pushes back against presidents promotion of anti cdc conspiracy theory   covid   covid coronavirus trump biden pandemic virus hotspot mask schoolreopening',\n",
       " 'ways trump failed to protect america from covid      covid   covid coronavirus trump biden pandemic virus hotspot mask schoolreopening',\n",
       " 'leaving the pandemic response to states doomed the country to failure   covid   covid coronavirus trump biden pandemic virus hotspot mask schoolreopening',\n",
       " 'america shuts down again    choosing reality over trump s false claims   covid   covid coronavirus trump biden pandemic virus hotspot mask schoolreopening',\n",
       " 'trump s scant use of defense production act leads to ongoing shortages of protective gear   covid   covid coronavirus trump biden pandemic virus hotspot mask schoolreopening',\n",
       " 'trump s demand that schools fully reopen spurned   covid   covid coronavirus trump biden pandemic virus hotspot mask schoolreopening',\n",
       " 'houston mayor proposes  week shutdown  at the minimum  to quell covid    spread   covid   covid coronavirus trump biden pandemic virus hotspot mask schoolreopening',\n",
       " 'in young adults are vulnerable to severe coronavirus infections   covid   covid coronavirus trump biden pandemic virus hotspot mask schoolreopening',\n",
       " 'los angeles schools  move to online learning could be a nationwide tipping point   covid   covid coronavirus trump biden pandemic virus hotspot mask schoolreopening',\n",
       " 'miami hospital icu doctor  new influx of patients is younger than before   covid   covid coronavirus trump biden pandemic virus hotspot mask schoolreopening',\n",
       " 'study indicates covid    antibodies may fade after months   covid   covid coronavirus trump biden pandemic virus hotspot mask schoolreopening',\n",
       " 'texas republican official who shared racist image of banana next to mlk jr  quote is no longer resigning as promised   biden trump gop republican democrat democrats liberal conservative independent',\n",
       " 'rncs attack on joe biden backfires internet cheers old photo of joe holding his young son in his arms   biden trump gop republican democrat democrats liberal conservative independent',\n",
       " 'california shuts down again   covid   covid coronavirus trump biden pandemic virus hotspot mask schoolreopening',\n",
       " 'the one constant in trump s presidency  tomorrow will be worse   covid   covid coronavirus trump biden pandemic virus hotspot mask schoolreopening',\n",
       " 'nfl unveils oakley mouth shield to combat virus   covid   covid coronavirus trump biden pandemic virus hotspot mask schoolreopening',\n",
       " 'nba star westbrook announces positive covid    case   covid   covid coronavirus trump biden pandemic virus hotspot mask schoolreopening',\n",
       " ' i beg them   still unemployed workers plead for congress to extend federal      benefit   covid   covid coronavirus trump biden pandemic virus hotspot mask schoolreopening',\n",
       " 'sen  ted cruz spotted on american airlines flight without mask   covid   covid coronavirus trump biden pandemic virus hotspot mask schoolreopening',\n",
       " 'scans reveal heart damage in over half of covid    patients in study   covid   covid coronavirus trump biden pandemic virus hotspot mask schoolreopening',\n",
       " 'us debates school reopening  who warns  no return to normal    covid   covid coronavirus trump biden pandemic virus hotspot mask schoolreopening',\n",
       " 'arizona s surge in coronavirus cases has been  the worst in the entire country   health expert says   covid   covid coronavirus trump biden pandemic virus hotspot mask schoolreopening',\n",
       " 'cnn host goes off on trump as covid    surges  the president is peddling debunked illogical crap   covid   covid coronavirus trump biden pandemic virus hotspot mask schoolreopening',\n",
       " 'when you test  you create cases  trump refuses to acknowledge covid    is actually spreading   covid   covid coronavirus trump biden pandemic virus hotspot mask schoolreopening',\n",
       " 'trump is rattled by dr  fauci s high approval ratings   covid   covid coronavirus trump biden pandemic virus hotspot mask schoolreopening',\n",
       " ' we haven t even begun to see the end  of virus  fauci says   covid   covid coronavirus trump biden pandemic virus hotspot mask schoolreopening',\n",
       " 'fauci says u s  coronavirus cases are surging because nation didn t totally shut down   covid   covid coronavirus trump biden pandemic virus hotspot mask schoolreopening',\n",
       " 'oregon announces ban on indoor social gatherings of more than people  outdoor mask mandate   covid   covid coronavirus trump biden pandemic virus hotspot mask schoolreopening',\n",
       " 'la  san diego school systems to start year with online only classes   covid   covid coronavirus trump biden pandemic virus hotspot mask schoolreopening',\n",
       " 'california closing all bars  indoor restaurants statewide   covid   covid coronavirus trump biden pandemic virus hotspot mask schoolreopening',\n",
       " 'california rolls back reopening as coronavirus cases surge   covid   covid coronavirus trump biden pandemic virus hotspot mask schoolreopening',\n",
       " 'alaska sets new daily record for covid    cases   covid   covid coronavirus trump biden pandemic virus hotspot mask schoolreopening',\n",
       " 'empty seats  trumps reboot in turmoil as caign struggles to hold rallies in key states   covid   covid coronavirus trump biden pandemic virus hotspot mask schoolreopening',\n",
       " 'disney reopens despite worsening virus outbreak in florida  faces backlash   covid   covid coronavirus trump biden pandemic virus hotspot mask schoolreopening',\n",
       " 'florida reports over new coronavirus cases on monday   covid   covid coronavirus trump biden pandemic virus hotspot mask schoolreopening',\n",
       " 'trumps attempt to smear fauci ends up focusing spotlight on white house bumbling and dysfunction   covid   covid coronavirus trump biden pandemic virus hotspot mask schoolreopening',\n",
       " 'fauci s  good press  a source of irritation for trump   covid   covid coronavirus trump biden pandemic virus hotspot mask schoolreopening',\n",
       " 'trump turns on fauci as disaster grows out of aggressive state openings   covid   covid coronavirus trump biden pandemic virus hotspot mask schoolreopening',\n",
       " 'trumps incompetence has painted him into corner   covid   covid coronavirus trump biden pandemic virus hotspot mask schoolreopening',\n",
       " 'trump tweets claim that cdc  media  democrats and doctors are all  lying  about coronavirus   covid   covid coronavirus trump biden pandemic virus hotspot mask schoolreopening',\n",
       " 'covid    reinvades u s  states that already beat it back once   covid   covid coronavirus trump biden pandemic virus hotspot mask schoolreopening',\n",
       " 'coronavirus crisis may get  worse and worse and worse   warns who   covid   covid coronavirus trump biden pandemic virus hotspot mask schoolreopening',\n",
       " 'trump just made his th misleading claim  lie  as president   covid   covid coronavirus trump biden pandemic virus hotspot mask schoolreopening',\n",
       " 'seniors reflect on how they re enduring covid    seclusion   covid   covid coronavirus trump biden pandemic virus hotspot mask schoolreopening',\n",
       " 'college fraternity houses could become coronavirus hotbeds   covid   covid coronavirus trump biden pandemic virus hotspot mask schoolreopening',\n",
       " 'covid    turned college towns into ghost towns and businesses are struggling to survive   covid   covid coronavirus trump biden pandemic virus hotspot mask schoolreopening',\n",
       " 'one of us s largest public school systems has a message for trump   you can t put every kid back in a school    covid   covid coronavirus trump biden pandemic virus hotspot mask schoolreopening',\n",
       " 'virus spread  not politics should guide schools   covid   covid coronavirus trump biden pandemic virus hotspot mask schoolreopening',\n",
       " 'teachers face off against trump   covid   covid coronavirus trump biden pandemic virus hotspot mask schoolreopening',\n",
       " 'doctor shreds betsy devos for evidence free plan to reopen schools   covid   covid coronavirus trump biden pandemic virus hotspot mask schoolreopening',\n",
       " 'ap fact check  trump team s false comfort on schools  virus   covid   covid coronavirus trump biden pandemic virus hotspot mask schoolreopening',\n",
       " 'trump suppressing cdc warning that full school reopenings pose highest risk of covid    spread   covid   covid coronavirus trump biden pandemic virus hotspot mask schoolreopening',\n",
       " 'dental patients paying extra for ppe as supplies run thin   covid   covid coronavirus trump biden pandemic virus hotspot mask schoolreopening',\n",
       " 'first documented case of baby infected with covid    in womb reported in texas   covid   covid coronavirus trump biden pandemic virus hotspot mask schoolreopening',\n",
       " 'my patient caught covid    twice  so long to herd immunity hopes    covid   covid coronavirus trump biden pandemic virus hotspot mask schoolreopening',\n",
       " 'japan has long accepted covid s airborne spread  and scientists say ventilation is key   covid   covid coronavirus trump biden pandemic virus hotspot mask schoolreopening',\n",
       " 'americans are pushed to the brink as they continue to wait for delayed unemployment payments   covid   covid coronavirus trump biden pandemic virus hotspot mask schoolreopening',\n",
       " 'ohio man dies from covid    after calling the pandemic  hype    covid   covid coronavirus trump biden pandemic virus hotspot mask schoolreopening',\n",
       " 'houston leaders call for lockdown as coronavirus cases spike   covid   covid coronavirus trump biden pandemic virus hotspot mask schoolreopening',\n",
       " 'white house takes aim at fauci as he disagrees with trump on virus   covid   covid coronavirus trump biden pandemic virus hotspot mask schoolreopening',\n",
       " 'trump once said virus would magically go away  it rages across u s    covid   covid coronavirus trump biden pandemic virus hotspot mask schoolreopening',\n",
       " 'morning joe rains hell on pathetic trump for white house smear caign against dr fauci   covid   covid coronavirus trump biden pandemic virus hotspot mask schoolreopening',\n",
       " 'trump accuses the cdc and doctors of lying about covid    to hurt his caign   covid   covid coronavirus trump biden pandemic virus hotspot mask schoolreopening',\n",
       " 'watch  trump has been wrong about every aspect of the pandemic   covid   covid coronavirus trump biden pandemic virus hotspot mask schoolreopening',\n",
       " 'at least states are seeing a rise in new covid    cases   covid   covid coronavirus trump biden pandemic virus hotspot mask schoolreopening',\n",
       " 'we ll be living with masks for years   covid   covid coronavirus trump biden pandemic virus hotspot mask schoolreopening']"
      ]
     },
     "execution_count": 39,
     "metadata": {},
     "output_type": "execute_result"
    }
   ],
   "source": [
    "df.query('User == \"Hotpage_News\"').Processed_Tweet.tolist()"
   ]
  },
  {
   "cell_type": "code",
   "execution_count": 40,
   "id": "e16b0b70",
   "metadata": {},
   "outputs": [
    {
     "name": "stderr",
     "output_type": "stream",
     "text": [
      "C:\\Users\\Mourya Kuntamukkala\\AppData\\Local\\Programs\\Python\\Python310\\lib\\site-packages\\seaborn\\_decorators.py:36: FutureWarning: Pass the following variable as a keyword arg: x. From version 0.12, the only valid positional argument will be `data`, and passing other arguments without an explicit keyword will result in an error or misinterpretation.\n",
      "  warnings.warn(\n"
     ]
    },
    {
     "data": {
      "image/png": "[encoded data removed]",
      "text/plain": [
       "<Figure size 432x288 with 1 Axes>"
      ]
     },
     "metadata": {
      "needs_background": "light"
     },
     "output_type": "display_data"
    }
   ],
   "source": [
    "bar = sns.countplot(df['Verified'])"
   ]
  },
  {
   "cell_type": "code",
   "execution_count": 41,
   "id": "abbaeb80",
   "metadata": {},
   "outputs": [
    {
     "data": {
      "text/plain": [
       "False    14830\n",
       "True       216\n",
       "Name: Verified, dtype: int64"
      ]
     },
     "execution_count": 41,
     "metadata": {},
     "output_type": "execute_result"
    }
   ],
   "source": [
    "df['Verified'].value_counts()"
   ]
  },
  {
   "cell_type": "code",
   "execution_count": 42,
   "id": "03a7745a",
   "metadata": {},
   "outputs": [],
   "source": [
    "df_verified = df.query('Verified == True')"
   ]
  },
  {
   "cell_type": "code",
   "execution_count": 43,
   "id": "1260bbe7",
   "metadata": {},
   "outputs": [
    {
     "data": {
      "text/plain": [
       "AndyOstroy         15\n",
       "JudicialWatch       9\n",
       "The_NewArab         7\n",
       "DemsAbroad          7\n",
       "Varneyco            7\n",
       "                   ..\n",
       "Lee4USCongress      1\n",
       "UnivisionNews       1\n",
       "DrJasonJohnson      1\n",
       "GordonRepinski      1\n",
       "plagiarismtoday     1\n",
       "Name: User, Length: 121, dtype: int64"
      ]
     },
     "execution_count": 43,
     "metadata": {},
     "output_type": "execute_result"
    }
   ],
   "source": [
    "df_verified['User'].value_counts()"
   ]
  },
  {
   "cell_type": "code",
   "execution_count": 44,
   "id": "ab603931",
   "metadata": {},
   "outputs": [
    {
     "data": {
      "text/plain": [
       "['its intellectually dishonest  and quite hypocritical  for liberals who preach unity and bipartisanship to be losing their damn minds because one republican is gonna speak at the democratic convention    johnkasich kasich biden',\n",
       " 'we are now at a new cray cray low in the trump presidency where he s challenged biden to a duel to see who can  ace  the  is this a lion or a monkey   cognitive test    chriswallace',\n",
       " 'humiliating   historic    landslide  its coming     trump election     biden',\n",
       " 'hey like how you cried daddy  daddy  please dont let them make me go to vietnam  before he bought you those deferments  coward    trump chriswallace biden',\n",
       " 'how do you feel about susanrice as biden s vp ',\n",
       " 'i believe on nov rd were going to witness the biggest  most humiliating  most historic backlash against and republicans this country has ever seen and could ever have imagined    election     biden trump',\n",
       " 'hey moron   all of this darkness  despair  dysfunction  disease  death you re showing here happened on your watch  great ad for biden     trump election    ',\n",
       " 'kudos chriswallace  manbaby just hates being caught in his pathetic lies    trump biden',\n",
       " 'hey its over  resign  youre gonna lose in the biggest  most humiliating landslide in american history    trump biden',\n",
       " 'you do realize the chaos  violence  looting  riots and fires you show warn about in your biden ad actually happened on your watch  right trump',\n",
       " 'hey if fauci  the nations top virus expert  is lying  then fire him  stop tweeting  stop spewing oppo research  stop acting like a coward in a bunker  grow some balls and fire him  so that biden can hire him    we can get the daily briefings we deserve   ',\n",
       " 'chance   i love ya   but ya gotta do better than this   whoever you vote for   really  do you think there s a  chance  in hell trump would push real prison reform  reparations  aid to native americans and give a crap about the homeless  we need you to help elect biden   ',\n",
       " 'yes  it is  because is not an ignorant  incompetent  pathologically lying sexist  racist  dangerous  corrupt coward traitor whos killed thousands of americans and put our troops in grave danger overseas  got it  trump biden election    ',\n",
       " 'hey while you can before youre dealt the biggest  most humiliating landslide in american history    trump biden election    ',\n",
       " 'he still tweets that covid  s a hoax and has yet to confront putin for bountygate  if you vote for this sick twisted gaslighting coward traitor theres something very wrong with you    trump election     coronavirus biden']"
      ]
     },
     "execution_count": 44,
     "metadata": {},
     "output_type": "execute_result"
    }
   ],
   "source": [
    "df_verified.query('User == \"AndyOstroy\"').Processed_Tweet.tolist()"
   ]
  },
  {
   "cell_type": "code",
   "execution_count": 45,
   "id": "7973cda9",
   "metadata": {},
   "outputs": [],
   "source": [
    "days = df['Date'].dt.day.tolist()"
   ]
  },
  {
   "cell_type": "code",
   "execution_count": 46,
   "id": "c0dd2051",
   "metadata": {},
   "outputs": [
    {
     "data": {
      "text/plain": [
       "Counter({21: 2084,\n",
       "         20: 1862,\n",
       "         19: 1712,\n",
       "         18: 1322,\n",
       "         17: 1573,\n",
       "         16: 1638,\n",
       "         15: 2020,\n",
       "         14: 1884,\n",
       "         13: 951})"
      ]
     },
     "execution_count": 46,
     "metadata": {},
     "output_type": "execute_result"
    }
   ],
   "source": [
    "no_of_days = Counter(days)\n",
    "no_of_days"
   ]
  },
  {
   "cell_type": "code",
   "execution_count": 47,
   "id": "d5d7c252",
   "metadata": {},
   "outputs": [
    {
     "data": {
      "text/plain": [
       "Text(0.5, 1.0, 'Count Of Extracted Tweets On Each Day')"
      ]
     },
     "execution_count": 47,
     "metadata": {},
     "output_type": "execute_result"
    },
    {
     "data": {
      "image/png": "[encoded data removed]",
      "text/plain": [
       "<Figure size 1080x504 with 1 Axes>"
      ]
     },
     "metadata": {
      "needs_background": "light"
     },
     "output_type": "display_data"
    }
   ],
   "source": [
    "fig = plt.figure(figsize = (15,7))\n",
    "plt.bar(range(len(no_of_days)), list(no_of_days.values()), align='center', alpha = 0.5,color = 'red')\n",
    "plt.xticks(range(len(no_of_days)), list(no_of_days.keys()))\n",
    "plt.xlabel(\"Day\")\n",
    "plt.ylabel(\"Count Of Tweets\")\n",
    "plt.title(\"Count Of Extracted Tweets On Each Day\")"
   ]
  },
  {
   "cell_type": "code",
   "execution_count": 48,
   "id": "ed9a23fa",
   "metadata": {},
   "outputs": [],
   "source": [
    "hours = df['Date'].dt.hour.tolist()"
   ]
  },
  {
   "cell_type": "code",
   "execution_count": 49,
   "id": "1eeba715",
   "metadata": {},
   "outputs": [
    {
     "data": {
      "text/plain": [
       "Counter({23: 857,\n",
       "         22: 917,\n",
       "         21: 891,\n",
       "         20: 829,\n",
       "         19: 828,\n",
       "         18: 1107,\n",
       "         17: 938,\n",
       "         16: 953,\n",
       "         15: 867,\n",
       "         14: 834,\n",
       "         13: 740,\n",
       "         12: 560,\n",
       "         11: 423,\n",
       "         10: 260,\n",
       "         9: 156,\n",
       "         8: 157,\n",
       "         7: 198,\n",
       "         6: 237,\n",
       "         5: 290,\n",
       "         4: 397,\n",
       "         3: 475,\n",
       "         2: 628,\n",
       "         1: 780,\n",
       "         0: 724})"
      ]
     },
     "execution_count": 49,
     "metadata": {},
     "output_type": "execute_result"
    }
   ],
   "source": [
    "no_of_hours = Counter(hours)\n",
    "no_of_hours"
   ]
  },
  {
   "cell_type": "code",
   "execution_count": 50,
   "id": "13227494",
   "metadata": {},
   "outputs": [
    {
     "data": {
      "text/plain": [
       "Text(0.5, 1.0, 'Count Of Extracted Tweets On Each Hour')"
      ]
     },
     "execution_count": 50,
     "metadata": {},
     "output_type": "execute_result"
    },
    {
     "data": {
      "image/png": "[encoded data removed]",
      "text/plain": [
       "<Figure size 1080x576 with 1 Axes>"
      ]
     },
     "metadata": {
      "needs_background": "light"
     },
     "output_type": "display_data"
    }
   ],
   "source": [
    "fig = plt.figure(figsize = (15,8))\n",
    "plt.bar(range(len(no_of_hours)), list(no_of_hours.values()), align='center', alpha = 0.5,color = 'red')\n",
    "plt.xticks(range(len(no_of_hours)), list(no_of_hours.keys()))\n",
    "plt.xlabel(\"Hour\")\n",
    "plt.ylabel(\"Count Of Tweets\")\n",
    "plt.title(\"Count Of Extracted Tweets On Each Hour\")"
   ]
  },
  {
   "cell_type": "code",
   "execution_count": 51,
   "id": "bdaa9259",
   "metadata": {},
   "outputs": [],
   "source": [
    "from wordcloud import WordCloud\n",
    "tokenizer = TweetTokenizer()\n"
   ]
  },
  {
   "cell_type": "markdown",
   "id": "172b2c37",
   "metadata": {},
   "source": [
    "removing stopwords"
   ]
  },
  {
   "cell_type": "code",
   "execution_count": 52,
   "id": "25664b66",
   "metadata": {},
   "outputs": [
    {
     "name": "stdout",
     "output_type": "stream",
     "text": [
      "['yourself', 'just', 'should', 'm', \"you're\", 'each', 'by', \"didn't\", 'did', \"wouldn't\", 'it', 'any', 'is', \"wasn't\", 'same', 'haven', 'why', 'after', \"mightn't\", 'don', 'our', 'couldn', 'isn', 'but', \"doesn't\", 'o', 'have', \"weren't\", 'she', 'll', \"you'd\", 'having', \"should've\", 'myself', 'her', 'because', 'aren', 'if', 'them', 'doing', 'ma', 'most', 'ourselves', 'was', 'how', 'some', 'what', 'won', 'or', 're', 'before', \"don't\", 'such', 'd', \"couldn't\", 'will', 'yours', \"hadn't\", 'themselves', 'me', 'being', \"it's\", 'are', 'all', 'too', \"shouldn't\", 'out', 'nor', 'with', 'we', 'ain', 'i', \"aren't\", 'up', \"you've\", \"needn't\", 'y', 'a', 'been', \"that'll\", 'when', 'they', 'yourselves', \"mustn't\", 'he', 'who', 'him', 'now', 'doesn', 'hasn', 'my', 'then', 'more', 'you', 'until', 'didn', 'itself', 'other', 'few', \"isn't\", 'am', 'while', 'both', 'shouldn', 'at', 'from', 'for', 'an', 'between', 'further', 'that', 'their', 'so', 'himself', 'of', 'ours', 'whom', \"you'll\", 'own', 'in', \"she's\", 'does', \"haven't\", 'shan', 'can', \"shan't\", 'through', 'mustn', 'not', 'theirs', 'do', 'over', 'be', \"hasn't\", 'down', 'below', 'these', 't', 'again', 'about', 'needn', 'very', 'herself', 'had', 'off', 'there', 'only', 'and', 'hers', 'mightn', 'against', 'into', 'during', 'has', 'no', 'hadn', 'here', 'were', 'its', 'on', 'the', 'once', 'than', 's', 'above', 've', 'where', 'his', 'to', 'this', 'weren', 'which', 'those', 'under', 'wouldn', \"won't\", 'your', 'wasn', 'as']\n"
     ]
    }
   ],
   "source": [
    "stop_words = set(stopwords.words('english')) \n",
    "stop_words = list(stop_words)\n",
    "print(stop_words)"
   ]
  },
  {
   "cell_type": "code",
   "execution_count": 53,
   "id": "34b8b3b0",
   "metadata": {},
   "outputs": [],
   "source": [
    "df['Processed_Tweet'] = df.Processed_Tweet.apply(lambda x: ' '.join(w for w in x.split() if w not in stop_words))   #Remove stopwords"
   ]
  },
  {
   "cell_type": "code",
   "execution_count": 54,
   "id": "40c6743b",
   "metadata": {},
   "outputs": [
    {
     "data": {
      "text/plain": [
       "0        vp biden wish debate trump unless debate trump...\n",
       "1        georgewill sad wake everyday forgetting george...\n",
       "2        question doesnt pick woman color would black c...\n",
       "3        right biden formally implicated ukraine scanda...\n",
       "4        idiots let trump anything wants biden gets ele...\n",
       "                               ...                        \n",
       "15041    going big eulogizing stromthurmond look right ...\n",
       "15042    want leave left show support election hearts f...\n",
       "15043    chatter biden maybe activating resources fight...\n",
       "15044    fake polls biden nationwide lead trump says no...\n",
       "15045                   joe biden trump police armed teeth\n",
       "Name: Processed_Tweet, Length: 15046, dtype: object"
      ]
     },
     "execution_count": 54,
     "metadata": {},
     "output_type": "execute_result"
    }
   ],
   "source": [
    "df['Processed_Tweet']"
   ]
  },
  {
   "cell_type": "markdown",
   "id": "4b147e53",
   "metadata": {},
   "source": [
    "Tokenizing"
   ]
  },
  {
   "cell_type": "code",
   "execution_count": 55,
   "id": "925e6391",
   "metadata": {},
   "outputs": [],
   "source": [
    "df['Processed_Tweet'] = df['Processed_Tweet'].apply(lambda x: tokenizer.tokenize(x))"
   ]
  },
  {
   "cell_type": "code",
   "execution_count": 56,
   "id": "afdd78d3",
   "metadata": {},
   "outputs": [
    {
     "data": {
      "text/plain": [
       "0        [vp, biden, wish, debate, trump, unless, debat...\n",
       "1        [georgewill, sad, wake, everyday, forgetting, ...\n",
       "2        [question, doesnt, pick, woman, color, would, ...\n",
       "3        [right, biden, formally, implicated, ukraine, ...\n",
       "4        [idiots, let, trump, anything, wants, biden, g...\n",
       "                               ...                        \n",
       "15041    [going, big, eulogizing, stromthurmond, look, ...\n",
       "15042    [want, leave, left, show, support, election, h...\n",
       "15043    [chatter, biden, maybe, activating, resources,...\n",
       "15044    [fake, polls, biden, nationwide, lead, trump, ...\n",
       "15045            [joe, biden, trump, police, armed, teeth]\n",
       "Name: Processed_Tweet, Length: 15046, dtype: object"
      ]
     },
     "execution_count": 56,
     "metadata": {},
     "output_type": "execute_result"
    }
   ],
   "source": [
    "df['Processed_Tweet']"
   ]
  },
  {
   "cell_type": "markdown",
   "id": "87e08017",
   "metadata": {},
   "source": [
    "Stemming"
   ]
  },
  {
   "cell_type": "code",
   "execution_count": 57,
   "id": "c7417107",
   "metadata": {},
   "outputs": [],
   "source": [
    "def lemmatize_stemming(text):\n",
    "    stemmer=PorterStemmer()\n",
    "    return stemmer.stem(text)"
   ]
  },
  {
   "cell_type": "code",
   "execution_count": 58,
   "id": "87808972",
   "metadata": {},
   "outputs": [],
   "source": [
    "df['Processed_Tweet'] = df['Processed_Tweet'].apply(lambda x: [lemmatize_stemming(i) for i in x]) # stemming"
   ]
  },
  {
   "cell_type": "code",
   "execution_count": 59,
   "id": "104c42fe",
   "metadata": {},
   "outputs": [
    {
     "data": {
      "text/plain": [
       "0        [vp, biden, wish, debat, trump, unless, debat,...\n",
       "1        [georgewil, sad, wake, everyday, forget, georg...\n",
       "2        [question, doesnt, pick, woman, color, would, ...\n",
       "3        [right, biden, formal, implic, ukrain, scandal...\n",
       "4        [idiot, let, trump, anyth, want, biden, get, e...\n",
       "                               ...                        \n",
       "15041    [go, big, eulog, stromthurmond, look, right, l...\n",
       "15042    [want, leav, left, show, support, elect, heart...\n",
       "15043    [chatter, biden, mayb, activ, resourc, fight, ...\n",
       "15044    [fake, poll, biden, nationwid, lead, trump, sa...\n",
       "15045               [joe, biden, trump, polic, arm, teeth]\n",
       "Name: Processed_Tweet, Length: 15046, dtype: object"
      ]
     },
     "execution_count": 59,
     "metadata": {},
     "output_type": "execute_result"
    }
   ],
   "source": [
    "df['Processed_Tweet']"
   ]
  },
  {
   "cell_type": "code",
   "execution_count": 60,
   "id": "3524c339",
   "metadata": {},
   "outputs": [],
   "source": [
    "df['Processed_Tweet'] = df.Processed_Tweet.apply(lambda x: [i for i in x if len(i)>2])"
   ]
  },
  {
   "cell_type": "code",
   "execution_count": 61,
   "id": "28aefc2b",
   "metadata": {},
   "outputs": [
    {
     "data": {
      "text/html": [
       "<div>\n",
       "<style scoped>\n",
       "    .dataframe tbody tr th:only-of-type {\n",
       "        vertical-align: middle;\n",
       "    }\n",
       "\n",
       "    .dataframe tbody tr th {\n",
       "        vertical-align: top;\n",
       "    }\n",
       "\n",
       "    .dataframe thead th {\n",
       "        text-align: right;\n",
       "    }\n",
       "</style>\n",
       "<table border=\"1\" class=\"dataframe\">\n",
       "  <thead>\n",
       "    <tr style=\"text-align: right;\">\n",
       "      <th></th>\n",
       "      <th>Date</th>\n",
       "      <th>Tweet_id</th>\n",
       "      <th>Verified</th>\n",
       "      <th>Tweet</th>\n",
       "      <th>User</th>\n",
       "      <th>Location</th>\n",
       "      <th>Source</th>\n",
       "      <th>Likes</th>\n",
       "      <th>Followers</th>\n",
       "      <th>Following</th>\n",
       "      <th>Retweets</th>\n",
       "      <th>Processed_Tweet</th>\n",
       "    </tr>\n",
       "  </thead>\n",
       "  <tbody>\n",
       "    <tr>\n",
       "      <th>0</th>\n",
       "      <td>2020-07-21 23:59:43</td>\n",
       "      <td>1285726179907993601</td>\n",
       "      <td>False</td>\n",
       "      <td>@JoeBiden VP Biden I wish you wouldn't debate ...</td>\n",
       "      <td>BballmomEjZay</td>\n",
       "      <td>United States</td>\n",
       "      <td>Twitter for Android</td>\n",
       "      <td>0</td>\n",
       "      <td>54</td>\n",
       "      <td>192</td>\n",
       "      <td>0</td>\n",
       "      <td>[biden, wish, debat, trump, unless, debat, tru...</td>\n",
       "    </tr>\n",
       "    <tr>\n",
       "      <th>1</th>\n",
       "      <td>2020-07-21 23:59:27</td>\n",
       "      <td>1285726110513344520</td>\n",
       "      <td>False</td>\n",
       "      <td>#GeorgeWill , it’s so sad you wake up everyday...</td>\n",
       "      <td>TalbotMac</td>\n",
       "      <td>East Aurora, NY</td>\n",
       "      <td>Twitter for iPhone</td>\n",
       "      <td>0</td>\n",
       "      <td>882</td>\n",
       "      <td>1554</td>\n",
       "      <td>0</td>\n",
       "      <td>[georgewil, sad, wake, everyday, forget, georg...</td>\n",
       "    </tr>\n",
       "    <tr>\n",
       "      <th>2</th>\n",
       "      <td>2020-07-21 23:59:24</td>\n",
       "      <td>1285726099239055361</td>\n",
       "      <td>False</td>\n",
       "      <td>Question:\\nIf @JoeBiden doesn’t pick a woman o...</td>\n",
       "      <td>bk_middleclass</td>\n",
       "      <td>Nashville, TN</td>\n",
       "      <td>Twitter for iPhone</td>\n",
       "      <td>0</td>\n",
       "      <td>1294</td>\n",
       "      <td>1213</td>\n",
       "      <td>0</td>\n",
       "      <td>[question, doesnt, pick, woman, color, would, ...</td>\n",
       "    </tr>\n",
       "    <tr>\n",
       "      <th>3</th>\n",
       "      <td>2020-07-21 23:58:47</td>\n",
       "      <td>1285725945849151490</td>\n",
       "      <td>False</td>\n",
       "      <td>Right? 🤣🤣🤣 #Biden formally implicated in #Ukra...</td>\n",
       "      <td>MMorganBlair</td>\n",
       "      <td>United States</td>\n",
       "      <td>Twitter for iPhone</td>\n",
       "      <td>1</td>\n",
       "      <td>2476</td>\n",
       "      <td>3334</td>\n",
       "      <td>1</td>\n",
       "      <td>[right, biden, formal, implic, ukrain, scandal...</td>\n",
       "    </tr>\n",
       "    <tr>\n",
       "      <th>4</th>\n",
       "      <td>2020-07-21 23:58:02</td>\n",
       "      <td>1285725754961965056</td>\n",
       "      <td>False</td>\n",
       "      <td>These idiots let Trump do anything he wants. W...</td>\n",
       "      <td>realfacade1</td>\n",
       "      <td>Purgatory</td>\n",
       "      <td>Twitter for Android</td>\n",
       "      <td>0</td>\n",
       "      <td>2764</td>\n",
       "      <td>3799</td>\n",
       "      <td>0</td>\n",
       "      <td>[idiot, let, trump, anyth, want, biden, get, e...</td>\n",
       "    </tr>\n",
       "    <tr>\n",
       "      <th>...</th>\n",
       "      <td>...</td>\n",
       "      <td>...</td>\n",
       "      <td>...</td>\n",
       "      <td>...</td>\n",
       "      <td>...</td>\n",
       "      <td>...</td>\n",
       "      <td>...</td>\n",
       "      <td>...</td>\n",
       "      <td>...</td>\n",
       "      <td>...</td>\n",
       "      <td>...</td>\n",
       "      <td>...</td>\n",
       "    </tr>\n",
       "    <tr>\n",
       "      <th>15041</th>\n",
       "      <td>2020-07-13 10:57:58</td>\n",
       "      <td>1282630342038499329</td>\n",
       "      <td>False</td>\n",
       "      <td>Other than going big by eulogizing #StromThurm...</td>\n",
       "      <td>robertson_alton</td>\n",
       "      <td>Fort Worth, or thereabouts.</td>\n",
       "      <td>Twitter Web App</td>\n",
       "      <td>0</td>\n",
       "      <td>1004</td>\n",
       "      <td>4999</td>\n",
       "      <td>0</td>\n",
       "      <td>[big, eulog, stromthurmond, look, right, look,...</td>\n",
       "    </tr>\n",
       "    <tr>\n",
       "      <th>15042</th>\n",
       "      <td>2020-07-13 10:56:26</td>\n",
       "      <td>1282629958205145091</td>\n",
       "      <td>False</td>\n",
       "      <td>Don't want to leave out the left! Show your su...</td>\n",
       "      <td>GraphicMedia4</td>\n",
       "      <td>NaN</td>\n",
       "      <td>Twitter Web App</td>\n",
       "      <td>0</td>\n",
       "      <td>1</td>\n",
       "      <td>0</td>\n",
       "      <td>0</td>\n",
       "      <td>[want, leav, left, show, support, elect, heart...</td>\n",
       "    </tr>\n",
       "    <tr>\n",
       "      <th>15043</th>\n",
       "      <td>2020-07-13 10:53:50</td>\n",
       "      <td>1282629302199164928</td>\n",
       "      <td>False</td>\n",
       "      <td>Some chatter about #Biden maybe activating res...</td>\n",
       "      <td>copiousjawnt</td>\n",
       "      <td>Lehigh Valley, PA</td>\n",
       "      <td>Twitter for Android</td>\n",
       "      <td>0</td>\n",
       "      <td>84</td>\n",
       "      <td>210</td>\n",
       "      <td>0</td>\n",
       "      <td>[chatter, biden, mayb, activ, resourc, fight, ...</td>\n",
       "    </tr>\n",
       "    <tr>\n",
       "      <th>15044</th>\n",
       "      <td>2020-07-13 10:53:46</td>\n",
       "      <td>1282629284524433409</td>\n",
       "      <td>False</td>\n",
       "      <td>Fake #Polls? Why #Biden's 'Nationwide Lead' Ov...</td>\n",
       "      <td>blinova14</td>\n",
       "      <td>NaN</td>\n",
       "      <td>Twitter Web App</td>\n",
       "      <td>4</td>\n",
       "      <td>836</td>\n",
       "      <td>432</td>\n",
       "      <td>0</td>\n",
       "      <td>[fake, poll, biden, nationwid, lead, trump, sa...</td>\n",
       "    </tr>\n",
       "    <tr>\n",
       "      <th>15045</th>\n",
       "      <td>2020-07-13 10:45:12</td>\n",
       "      <td>1282627129172271104</td>\n",
       "      <td>False</td>\n",
       "      <td>#Joe #Biden #Trump police should not be armed ...</td>\n",
       "      <td>try4freedom</td>\n",
       "      <td>Brookline, MA</td>\n",
       "      <td>Smart Post App</td>\n",
       "      <td>1</td>\n",
       "      <td>125</td>\n",
       "      <td>612</td>\n",
       "      <td>0</td>\n",
       "      <td>[joe, biden, trump, polic, arm, teeth]</td>\n",
       "    </tr>\n",
       "  </tbody>\n",
       "</table>\n",
       "<p>15046 rows × 12 columns</p>\n",
       "</div>"
      ],
      "text/plain": [
       "                     Date             Tweet_id  Verified  \\\n",
       "0     2020-07-21 23:59:43  1285726179907993601     False   \n",
       "1     2020-07-21 23:59:27  1285726110513344520     False   \n",
       "2     2020-07-21 23:59:24  1285726099239055361     False   \n",
       "3     2020-07-21 23:58:47  1285725945849151490     False   \n",
       "4     2020-07-21 23:58:02  1285725754961965056     False   \n",
       "...                   ...                  ...       ...   \n",
       "15041 2020-07-13 10:57:58  1282630342038499329     False   \n",
       "15042 2020-07-13 10:56:26  1282629958205145091     False   \n",
       "15043 2020-07-13 10:53:50  1282629302199164928     False   \n",
       "15044 2020-07-13 10:53:46  1282629284524433409     False   \n",
       "15045 2020-07-13 10:45:12  1282627129172271104     False   \n",
       "\n",
       "                                                   Tweet             User  \\\n",
       "0      @JoeBiden VP Biden I wish you wouldn't debate ...    BballmomEjZay   \n",
       "1      #GeorgeWill , it’s so sad you wake up everyday...        TalbotMac   \n",
       "2      Question:\\nIf @JoeBiden doesn’t pick a woman o...   bk_middleclass   \n",
       "3      Right? 🤣🤣🤣 #Biden formally implicated in #Ukra...     MMorganBlair   \n",
       "4      These idiots let Trump do anything he wants. W...      realfacade1   \n",
       "...                                                  ...              ...   \n",
       "15041  Other than going big by eulogizing #StromThurm...  robertson_alton   \n",
       "15042  Don't want to leave out the left! Show your su...    GraphicMedia4   \n",
       "15043  Some chatter about #Biden maybe activating res...     copiousjawnt   \n",
       "15044  Fake #Polls? Why #Biden's 'Nationwide Lead' Ov...        blinova14   \n",
       "15045  #Joe #Biden #Trump police should not be armed ...      try4freedom   \n",
       "\n",
       "                           Location               Source  Likes  Followers  \\\n",
       "0                     United States  Twitter for Android      0         54   \n",
       "1                   East Aurora, NY   Twitter for iPhone      0        882   \n",
       "2                     Nashville, TN   Twitter for iPhone      0       1294   \n",
       "3                     United States   Twitter for iPhone      1       2476   \n",
       "4                        Purgatory   Twitter for Android      0       2764   \n",
       "...                             ...                  ...    ...        ...   \n",
       "15041  Fort Worth, or thereabouts.       Twitter Web App      0       1004   \n",
       "15042                           NaN      Twitter Web App      0          1   \n",
       "15043             Lehigh Valley, PA  Twitter for Android      0         84   \n",
       "15044                           NaN      Twitter Web App      4        836   \n",
       "15045                 Brookline, MA       Smart Post App      1        125   \n",
       "\n",
       "       Following  Retweets                                    Processed_Tweet  \n",
       "0            192         0  [biden, wish, debat, trump, unless, debat, tru...  \n",
       "1           1554         0  [georgewil, sad, wake, everyday, forget, georg...  \n",
       "2           1213         0  [question, doesnt, pick, woman, color, would, ...  \n",
       "3           3334         1  [right, biden, formal, implic, ukrain, scandal...  \n",
       "4           3799         0  [idiot, let, trump, anyth, want, biden, get, e...  \n",
       "...          ...       ...                                                ...  \n",
       "15041       4999         0  [big, eulog, stromthurmond, look, right, look,...  \n",
       "15042          0         0  [want, leav, left, show, support, elect, heart...  \n",
       "15043        210         0  [chatter, biden, mayb, activ, resourc, fight, ...  \n",
       "15044        432         0  [fake, poll, biden, nationwid, lead, trump, sa...  \n",
       "15045        612         0             [joe, biden, trump, polic, arm, teeth]  \n",
       "\n",
       "[15046 rows x 12 columns]"
      ]
     },
     "execution_count": 61,
     "metadata": {},
     "output_type": "execute_result"
    }
   ],
   "source": [
    "df"
   ]
  },
  {
   "cell_type": "markdown",
   "id": "e83eebbe",
   "metadata": {},
   "source": [
    "modifying the tweets to feed them into the model"
   ]
  },
  {
   "cell_type": "code",
   "execution_count": 62,
   "id": "8e7b6363",
   "metadata": {},
   "outputs": [],
   "source": [
    "texts = []\n",
    "texts = df.Processed_Tweet.apply(lambda x: [i for i in x] )"
   ]
  },
  {
   "cell_type": "code",
   "execution_count": 63,
   "id": "34dc2d32",
   "metadata": {},
   "outputs": [],
   "source": [
    "all_words = []\n",
    "for i in texts:\n",
    "    all_words.append(\" \".join(i))"
   ]
  },
  {
   "cell_type": "code",
   "execution_count": 64,
   "id": "ba86e652",
   "metadata": {},
   "outputs": [],
   "source": [
    "text = []\n",
    "for i in texts:\n",
    "    for j in i:\n",
    "        text.append(j)"
   ]
  },
  {
   "cell_type": "code",
   "execution_count": 65,
   "id": "23e4ee0a",
   "metadata": {},
   "outputs": [
    {
     "data": {
      "text/plain": [
       "227438"
      ]
     },
     "execution_count": 65,
     "metadata": {},
     "output_type": "execute_result"
    }
   ],
   "source": [
    "len(text)"
   ]
  },
  {
   "cell_type": "code",
   "execution_count": 66,
   "id": "d0f69310",
   "metadata": {},
   "outputs": [],
   "source": [
    "wordcloud = WordCloud(width=800, height=500, random_state=21, max_font_size=110).generate(' '.join(text))"
   ]
  },
  {
   "cell_type": "code",
   "execution_count": 67,
   "id": "8b55bd8c",
   "metadata": {},
   "outputs": [
    {
     "data": {
      "image/png": "[encoded data removed]",
      "text/plain": [
       "<Figure size 864x864 with 1 Axes>"
      ]
     },
     "metadata": {
      "needs_background": "light"
     },
     "output_type": "display_data"
    }
   ],
   "source": [
    "plt.figure(figsize = (12, 12), facecolor=\"None\") \n",
    "plt.imshow(wordcloud,interpolation='bilinear') \n",
    "plt.axis(\"off\") \n",
    "plt.title(\"WordCloud of Biden Tweets\")\n",
    "plt.show()"
   ]
  },
  {
   "cell_type": "markdown",
   "id": "52cfb9a4",
   "metadata": {},
   "source": [
    "SENTIMENT ANALYSIS"
   ]
  },
  {
   "cell_type": "code",
   "execution_count": 68,
   "id": "3363f276",
   "metadata": {},
   "outputs": [],
   "source": [
    "from textblob import TextBlob"
   ]
  },
  {
   "cell_type": "code",
   "execution_count": 69,
   "id": "af4acbc9",
   "metadata": {},
   "outputs": [],
   "source": [
    "pol=[]\n",
    "for Tweet in all_words:\n",
    "    blob = TextBlob(Tweet)\n",
    "    pol.append(blob.sentiment.polarity)"
   ]
  },
  {
   "cell_type": "code",
   "execution_count": 70,
   "id": "89ecb7ab",
   "metadata": {},
   "outputs": [
    {
     "data": {
      "text/plain": [
       "15046"
      ]
     },
     "execution_count": 70,
     "metadata": {},
     "output_type": "execute_result"
    }
   ],
   "source": [
    "len(pol)"
   ]
  },
  {
   "cell_type": "code",
   "execution_count": 71,
   "id": "86a4a3fa",
   "metadata": {},
   "outputs": [
    {
     "data": {
      "text/plain": [
       "227438"
      ]
     },
     "execution_count": 71,
     "metadata": {},
     "output_type": "execute_result"
    }
   ],
   "source": [
    "len(text)"
   ]
  },
  {
   "cell_type": "code",
   "execution_count": 72,
   "id": "dd01e6e7",
   "metadata": {},
   "outputs": [
    {
     "data": {
      "text/plain": [
       "0        [biden, wish, debat, trump, unless, debat, tru...\n",
       "1        [georgewil, sad, wake, everyday, forget, georg...\n",
       "2        [question, doesnt, pick, woman, color, would, ...\n",
       "3        [right, biden, formal, implic, ukrain, scandal...\n",
       "4        [idiot, let, trump, anyth, want, biden, get, e...\n",
       "                               ...                        \n",
       "15041    [big, eulog, stromthurmond, look, right, look,...\n",
       "15042    [want, leav, left, show, support, elect, heart...\n",
       "15043    [chatter, biden, mayb, activ, resourc, fight, ...\n",
       "15044    [fake, poll, biden, nationwid, lead, trump, sa...\n",
       "15045               [joe, biden, trump, polic, arm, teeth]\n",
       "Name: Processed_Tweet, Length: 15046, dtype: object"
      ]
     },
     "execution_count": 72,
     "metadata": {},
     "output_type": "execute_result"
    }
   ],
   "source": [
    "df['Processed_Tweet']"
   ]
  },
  {
   "cell_type": "markdown",
   "id": "ff8216bf",
   "metadata": {},
   "source": [
    "classidying tweets into positive,negative and neutral"
   ]
  },
  {
   "cell_type": "code",
   "execution_count": 73,
   "id": "3fb26e62",
   "metadata": {},
   "outputs": [
    {
     "name": "stdout",
     "output_type": "stream",
     "text": [
      "Positive Tweets: 5953\n",
      "Negative Tweets: 3050\n",
      "Neutral Tweets 6043\n"
     ]
    }
   ],
   "source": [
    "positive=0\n",
    "negative=0\n",
    "neutral=0\n",
    "for i in pol:\n",
    "    if i>0:\n",
    "        positive+=1\n",
    "    elif i<0:\n",
    "        negative+=1\n",
    "    else:\n",
    "        neutral+=1\n",
    "print(\"Positive Tweets:\",positive)\n",
    "print(\"Negative Tweets:\",negative)\n",
    "print(\"Neutral Tweets\",neutral)"
   ]
  },
  {
   "cell_type": "code",
   "execution_count": 74,
   "id": "a2a306da",
   "metadata": {},
   "outputs": [
    {
     "name": "stderr",
     "output_type": "stream",
     "text": [
      "[nltk_data] Downloading package vader_lexicon to C:\\Users\\Mourya\n",
      "[nltk_data]     Kuntamukkala\\AppData\\Roaming\\nltk_data...\n",
      "[nltk_data]   Package vader_lexicon is already up-to-date!\n"
     ]
    },
    {
     "data": {
      "text/plain": [
       "True"
      ]
     },
     "execution_count": 74,
     "metadata": {},
     "output_type": "execute_result"
    }
   ],
   "source": [
    "import nltk\n",
    "nltk.download('vader_lexicon')"
   ]
  },
  {
   "cell_type": "code",
   "execution_count": 75,
   "id": "e43b9c91",
   "metadata": {},
   "outputs": [],
   "source": [
    "from nltk.sentiment.vader import SentimentIntensityAnalyzer\n",
    "sid = SentimentIntensityAnalyzer()\n",
    "sentiment_scores= []\n",
    "for i in all_words:\n",
    "    sentiment_scores.append([sid.polarity_scores(i)])"
   ]
  },
  {
   "cell_type": "code",
   "execution_count": 76,
   "id": "9e510ed3",
   "metadata": {},
   "outputs": [],
   "source": [
    "value = []\n",
    "for i in sentiment_scores:\n",
    "    for dict1 in i:\n",
    "        value.append(list(dict1.values()))"
   ]
  },
  {
   "cell_type": "code",
   "execution_count": 77,
   "id": "b9e0bb92",
   "metadata": {},
   "outputs": [
    {
     "data": {
      "text/html": [
       "<div>\n",
       "<style scoped>\n",
       "    .dataframe tbody tr th:only-of-type {\n",
       "        vertical-align: middle;\n",
       "    }\n",
       "\n",
       "    .dataframe tbody tr th {\n",
       "        vertical-align: top;\n",
       "    }\n",
       "\n",
       "    .dataframe thead th {\n",
       "        text-align: right;\n",
       "    }\n",
       "</style>\n",
       "<table border=\"1\" class=\"dataframe\">\n",
       "  <thead>\n",
       "    <tr style=\"text-align: right;\">\n",
       "      <th></th>\n",
       "      <th>Negative</th>\n",
       "      <th>Neutral</th>\n",
       "      <th>Positive</th>\n",
       "      <th>Compound</th>\n",
       "    </tr>\n",
       "  </thead>\n",
       "  <tbody>\n",
       "    <tr>\n",
       "      <th>0</th>\n",
       "      <td>0.214</td>\n",
       "      <td>0.619</td>\n",
       "      <td>0.167</td>\n",
       "      <td>-0.3612</td>\n",
       "    </tr>\n",
       "    <tr>\n",
       "      <th>1</th>\n",
       "      <td>0.204</td>\n",
       "      <td>0.694</td>\n",
       "      <td>0.102</td>\n",
       "      <td>-0.3612</td>\n",
       "    </tr>\n",
       "    <tr>\n",
       "      <th>2</th>\n",
       "      <td>0.000</td>\n",
       "      <td>1.000</td>\n",
       "      <td>0.000</td>\n",
       "      <td>0.0000</td>\n",
       "    </tr>\n",
       "    <tr>\n",
       "      <th>3</th>\n",
       "      <td>0.266</td>\n",
       "      <td>0.734</td>\n",
       "      <td>0.000</td>\n",
       "      <td>-0.4404</td>\n",
       "    </tr>\n",
       "    <tr>\n",
       "      <th>4</th>\n",
       "      <td>0.148</td>\n",
       "      <td>0.493</td>\n",
       "      <td>0.359</td>\n",
       "      <td>0.4019</td>\n",
       "    </tr>\n",
       "    <tr>\n",
       "      <th>...</th>\n",
       "      <td>...</td>\n",
       "      <td>...</td>\n",
       "      <td>...</td>\n",
       "      <td>...</td>\n",
       "    </tr>\n",
       "    <tr>\n",
       "      <th>15041</th>\n",
       "      <td>0.180</td>\n",
       "      <td>0.820</td>\n",
       "      <td>0.000</td>\n",
       "      <td>-0.6808</td>\n",
       "    </tr>\n",
       "    <tr>\n",
       "      <th>15042</th>\n",
       "      <td>0.000</td>\n",
       "      <td>0.810</td>\n",
       "      <td>0.190</td>\n",
       "      <td>0.4588</td>\n",
       "    </tr>\n",
       "    <tr>\n",
       "      <th>15043</th>\n",
       "      <td>0.206</td>\n",
       "      <td>0.794</td>\n",
       "      <td>0.000</td>\n",
       "      <td>-0.6369</td>\n",
       "    </tr>\n",
       "    <tr>\n",
       "      <th>15044</th>\n",
       "      <td>0.121</td>\n",
       "      <td>0.623</td>\n",
       "      <td>0.257</td>\n",
       "      <td>0.5423</td>\n",
       "    </tr>\n",
       "    <tr>\n",
       "      <th>15045</th>\n",
       "      <td>0.000</td>\n",
       "      <td>1.000</td>\n",
       "      <td>0.000</td>\n",
       "      <td>0.0000</td>\n",
       "    </tr>\n",
       "  </tbody>\n",
       "</table>\n",
       "<p>15046 rows × 4 columns</p>\n",
       "</div>"
      ],
      "text/plain": [
       "       Negative  Neutral  Positive  Compound\n",
       "0         0.214    0.619     0.167   -0.3612\n",
       "1         0.204    0.694     0.102   -0.3612\n",
       "2         0.000    1.000     0.000    0.0000\n",
       "3         0.266    0.734     0.000   -0.4404\n",
       "4         0.148    0.493     0.359    0.4019\n",
       "...         ...      ...       ...       ...\n",
       "15041     0.180    0.820     0.000   -0.6808\n",
       "15042     0.000    0.810     0.190    0.4588\n",
       "15043     0.206    0.794     0.000   -0.6369\n",
       "15044     0.121    0.623     0.257    0.5423\n",
       "15045     0.000    1.000     0.000    0.0000\n",
       "\n",
       "[15046 rows x 4 columns]"
      ]
     },
     "execution_count": 77,
     "metadata": {},
     "output_type": "execute_result"
    }
   ],
   "source": [
    "sentimental_score_df = pd.DataFrame(data = value, columns = ['Negative','Neutral','Positive','Compound'])\n",
    "sentimental_score_df"
   ]
  },
  {
   "cell_type": "code",
   "execution_count": 78,
   "id": "1dbe4f69",
   "metadata": {},
   "outputs": [
    {
     "data": {
      "text/html": [
       "<div>\n",
       "<style scoped>\n",
       "    .dataframe tbody tr th:only-of-type {\n",
       "        vertical-align: middle;\n",
       "    }\n",
       "\n",
       "    .dataframe tbody tr th {\n",
       "        vertical-align: top;\n",
       "    }\n",
       "\n",
       "    .dataframe thead th {\n",
       "        text-align: right;\n",
       "    }\n",
       "</style>\n",
       "<table border=\"1\" class=\"dataframe\">\n",
       "  <thead>\n",
       "    <tr style=\"text-align: right;\">\n",
       "      <th></th>\n",
       "      <th>Negative</th>\n",
       "      <th>Neutral</th>\n",
       "      <th>Positive</th>\n",
       "      <th>Compound</th>\n",
       "      <th>val</th>\n",
       "    </tr>\n",
       "  </thead>\n",
       "  <tbody>\n",
       "    <tr>\n",
       "      <th>0</th>\n",
       "      <td>0.214</td>\n",
       "      <td>0.619</td>\n",
       "      <td>0.167</td>\n",
       "      <td>-0.3612</td>\n",
       "      <td>Negative</td>\n",
       "    </tr>\n",
       "    <tr>\n",
       "      <th>1</th>\n",
       "      <td>0.204</td>\n",
       "      <td>0.694</td>\n",
       "      <td>0.102</td>\n",
       "      <td>-0.3612</td>\n",
       "      <td>Negative</td>\n",
       "    </tr>\n",
       "    <tr>\n",
       "      <th>2</th>\n",
       "      <td>0.000</td>\n",
       "      <td>1.000</td>\n",
       "      <td>0.000</td>\n",
       "      <td>0.0000</td>\n",
       "      <td>Neutral</td>\n",
       "    </tr>\n",
       "    <tr>\n",
       "      <th>3</th>\n",
       "      <td>0.266</td>\n",
       "      <td>0.734</td>\n",
       "      <td>0.000</td>\n",
       "      <td>-0.4404</td>\n",
       "      <td>Negative</td>\n",
       "    </tr>\n",
       "    <tr>\n",
       "      <th>4</th>\n",
       "      <td>0.148</td>\n",
       "      <td>0.493</td>\n",
       "      <td>0.359</td>\n",
       "      <td>0.4019</td>\n",
       "      <td>Positive</td>\n",
       "    </tr>\n",
       "  </tbody>\n",
       "</table>\n",
       "</div>"
      ],
      "text/plain": [
       "   Negative  Neutral  Positive  Compound       val\n",
       "0     0.214    0.619     0.167   -0.3612  Negative\n",
       "1     0.204    0.694     0.102   -0.3612  Negative\n",
       "2     0.000    1.000     0.000    0.0000   Neutral\n",
       "3     0.266    0.734     0.000   -0.4404  Negative\n",
       "4     0.148    0.493     0.359    0.4019  Positive"
      ]
     },
     "execution_count": 78,
     "metadata": {},
     "output_type": "execute_result"
    }
   ],
   "source": [
    "sentimental_score_df['val'] = sentimental_score_df['Compound'].apply(lambda x: 'Neutral' if x == 0 else ('Positive' if x > 0 else 'Negative'))\n",
    "sentimental_score_df.head()"
   ]
  },
  {
   "cell_type": "code",
   "execution_count": 79,
   "id": "993962e7",
   "metadata": {},
   "outputs": [
    {
     "data": {
      "text/plain": [
       "<AxesSubplot:xlabel='sentiment', ylabel='count'>"
      ]
     },
     "execution_count": 79,
     "metadata": {},
     "output_type": "execute_result"
    },
    {
     "data": {
      "image/png": "[encoded data removed]",
      "text/plain": [
       "<Figure size 432x288 with 1 Axes>"
      ]
     },
     "metadata": {
      "needs_background": "light"
     },
     "output_type": "display_data"
    }
   ],
   "source": [
    "sent_count = pd.DataFrame.from_dict(Counter(sentimental_score_df['val']), orient = 'index').reset_index()\n",
    "sent_count.columns = ['sentiment', 'count']\n",
    "\n",
    "sns.barplot(y=\"count\", x='sentiment', data=sent_count)"
   ]
  },
  {
   "cell_type": "code",
   "execution_count": 80,
   "id": "277961a9",
   "metadata": {},
   "outputs": [
    {
     "data": {
      "text/plain": [
       "86343"
      ]
     },
     "execution_count": 80,
     "metadata": {},
     "output_type": "execute_result"
    }
   ],
   "source": [
    "filepath = r\"C:\\Users\\Mourya Kuntamukkala\\Desktop\\Courses\\SMDM\\Final Project\\Edited\\NRC Emotion Lexicon.txt\"\n",
    "emolex_df = pd.read_csv(filepath,  names=[\"word\", \"emotion\", \"association\"], skiprows=45, sep='\\t')\n",
    "emolex_df.head(12)\n",
    "len(emolex_df)"
   ]
  },
  {
   "cell_type": "code",
   "execution_count": 81,
   "id": "7adad7e7",
   "metadata": {},
   "outputs": [],
   "source": [
    "emotions={'positive':0, 'negative':0, 'surprise':0,'sadness':0,\n",
    "          'anger':0,'joy':0,'negative':0,'trust':0,'fear':0,'anticipation':0,'disgust':0}"
   ]
  },
  {
   "cell_type": "code",
   "execution_count": 82,
   "id": "aec496e0",
   "metadata": {},
   "outputs": [],
   "source": [
    "word_emotion=dict()\n",
    "for i in range(0,86343):\n",
    "    emotion=emolex_df['emotion'][i]\n",
    "    word=emolex_df['word'][i]\n",
    "    association=emolex_df['association'][i]\n",
    "    \n",
    "    if word not in word_emotion:\n",
    "        word_emotion[word]=dict()\n",
    "    word_emotion[word][emotion]=association  "
   ]
  },
  {
   "cell_type": "code",
   "execution_count": 83,
   "id": "4396931e",
   "metadata": {},
   "outputs": [],
   "source": [
    "for i in range(0,15046):\n",
    "    text=df['Tweet'][i]\n",
    "    for j in text.split():\n",
    "        if j in word_emotion:\n",
    "            for k in word_emotion[j]:\n",
    "                emotions[k]+=word_emotion[j][k]"
   ]
  },
  {
   "cell_type": "code",
   "execution_count": 84,
   "id": "c156fd8a",
   "metadata": {},
   "outputs": [
    {
     "data": {
      "text/plain": [
       "{'positive': 5752.0,\n",
       " 'negative': 5936.0,\n",
       " 'surprise': 1491.0,\n",
       " 'sadness': 2759.0,\n",
       " 'anger': 3044.0,\n",
       " 'joy': 1994.0,\n",
       " 'trust': 3538.0,\n",
       " 'fear': 3265.0,\n",
       " 'anticipation': 2296.0,\n",
       " 'disgust': 1944.0}"
      ]
     },
     "execution_count": 84,
     "metadata": {},
     "output_type": "execute_result"
    }
   ],
   "source": [
    "emotions"
   ]
  },
  {
   "cell_type": "code",
   "execution_count": 85,
   "id": "87221e53",
   "metadata": {},
   "outputs": [
    {
     "data": {
      "image/png": "[encoded data removed]",
      "text/plain": [
       "<Figure size 1080x360 with 1 Axes>"
      ]
     },
     "metadata": {},
     "output_type": "display_data"
    }
   ],
   "source": [
    "plt.style.use('fivethirtyeight')\n",
    "plt.rcParams[\"figure.figsize\"] = [15,5]\n",
    "plt.bar(list(emotions.keys()),list(emotions.values()),color='red',alpha = 0.6)\n",
    "plt.xlabel('Emotions')\n",
    "plt.ylabel('Count')\n",
    "plt.title('Calculated Emotions Of Users ')\n",
    "plt.show()"
   ]
  },
  {
   "cell_type": "code",
   "execution_count": 86,
   "id": "c42b19b4",
   "metadata": {},
   "outputs": [],
   "source": [
    "df.Location  = df.Location.fillna('USA')"
   ]
  },
  {
   "cell_type": "code",
   "execution_count": 87,
   "id": "b40be30c",
   "metadata": {},
   "outputs": [
    {
     "data": {
      "text/plain": [
       "[]"
      ]
     },
     "execution_count": 87,
     "metadata": {},
     "output_type": "execute_result"
    }
   ],
   "source": [
    "f = [i for i in df['Location'] if type(i) != str]\n",
    "f"
   ]
  },
  {
   "cell_type": "code",
   "execution_count": 88,
   "id": "4107187f",
   "metadata": {},
   "outputs": [],
   "source": [
    "df.Location = df.Location.apply(lambda x: x.replace('United States','USA'))"
   ]
  },
  {
   "cell_type": "code",
   "execution_count": 89,
   "id": "195da1b8",
   "metadata": {},
   "outputs": [
    {
     "data": {
      "text/plain": [
       "USA                        5487\n",
       "First star to the right     174\n",
       "Florida, USA                158\n",
       "Washington, DC              157\n",
       "Earth                       136\n",
       "                           ... \n",
       "My office...                  1\n",
       "Behind a log, NC              1\n",
       "Orange Co.                    1\n",
       "Gadigal land                  1\n",
       "NEVADA                        1\n",
       "Name: Location, Length: 3195, dtype: int64"
      ]
     },
     "execution_count": 89,
     "metadata": {},
     "output_type": "execute_result"
    }
   ],
   "source": [
    "df.Location.value_counts()"
   ]
  },
  {
   "cell_type": "code",
   "execution_count": 90,
   "id": "cd20a296",
   "metadata": {},
   "outputs": [
    {
     "data": {
      "text/html": [
       "<div>\n",
       "<style scoped>\n",
       "    .dataframe tbody tr th:only-of-type {\n",
       "        vertical-align: middle;\n",
       "    }\n",
       "\n",
       "    .dataframe tbody tr th {\n",
       "        vertical-align: top;\n",
       "    }\n",
       "\n",
       "    .dataframe thead th {\n",
       "        text-align: right;\n",
       "    }\n",
       "</style>\n",
       "<table border=\"1\" class=\"dataframe\">\n",
       "  <thead>\n",
       "    <tr style=\"text-align: right;\">\n",
       "      <th></th>\n",
       "      <th>Date</th>\n",
       "      <th>Tweet_id</th>\n",
       "      <th>Verified</th>\n",
       "      <th>Tweet</th>\n",
       "      <th>User</th>\n",
       "      <th>Location</th>\n",
       "      <th>Source</th>\n",
       "      <th>Likes</th>\n",
       "      <th>Followers</th>\n",
       "      <th>Following</th>\n",
       "      <th>Retweets</th>\n",
       "      <th>Processed_Tweet</th>\n",
       "      <th>Processed_Location</th>\n",
       "    </tr>\n",
       "  </thead>\n",
       "  <tbody>\n",
       "    <tr>\n",
       "      <th>0</th>\n",
       "      <td>2020-07-21 23:59:43</td>\n",
       "      <td>1285726179907993601</td>\n",
       "      <td>False</td>\n",
       "      <td>@JoeBiden VP Biden I wish you wouldn't debate ...</td>\n",
       "      <td>BballmomEjZay</td>\n",
       "      <td>USA</td>\n",
       "      <td>Twitter for Android</td>\n",
       "      <td>0</td>\n",
       "      <td>54</td>\n",
       "      <td>192</td>\n",
       "      <td>0</td>\n",
       "      <td>[biden, wish, debat, trump, unless, debat, tru...</td>\n",
       "      <td>USA</td>\n",
       "    </tr>\n",
       "    <tr>\n",
       "      <th>1</th>\n",
       "      <td>2020-07-21 23:59:27</td>\n",
       "      <td>1285726110513344520</td>\n",
       "      <td>False</td>\n",
       "      <td>#GeorgeWill , it’s so sad you wake up everyday...</td>\n",
       "      <td>TalbotMac</td>\n",
       "      <td>East Aurora, NY</td>\n",
       "      <td>Twitter for iPhone</td>\n",
       "      <td>0</td>\n",
       "      <td>882</td>\n",
       "      <td>1554</td>\n",
       "      <td>0</td>\n",
       "      <td>[georgewil, sad, wake, everyday, forget, georg...</td>\n",
       "      <td>East Aurora</td>\n",
       "    </tr>\n",
       "    <tr>\n",
       "      <th>2</th>\n",
       "      <td>2020-07-21 23:59:24</td>\n",
       "      <td>1285726099239055361</td>\n",
       "      <td>False</td>\n",
       "      <td>Question:\\nIf @JoeBiden doesn’t pick a woman o...</td>\n",
       "      <td>bk_middleclass</td>\n",
       "      <td>Nashville, TN</td>\n",
       "      <td>Twitter for iPhone</td>\n",
       "      <td>0</td>\n",
       "      <td>1294</td>\n",
       "      <td>1213</td>\n",
       "      <td>0</td>\n",
       "      <td>[question, doesnt, pick, woman, color, would, ...</td>\n",
       "      <td>Nashville</td>\n",
       "    </tr>\n",
       "    <tr>\n",
       "      <th>3</th>\n",
       "      <td>2020-07-21 23:58:47</td>\n",
       "      <td>1285725945849151490</td>\n",
       "      <td>False</td>\n",
       "      <td>Right? 🤣🤣🤣 #Biden formally implicated in #Ukra...</td>\n",
       "      <td>MMorganBlair</td>\n",
       "      <td>USA</td>\n",
       "      <td>Twitter for iPhone</td>\n",
       "      <td>1</td>\n",
       "      <td>2476</td>\n",
       "      <td>3334</td>\n",
       "      <td>1</td>\n",
       "      <td>[right, biden, formal, implic, ukrain, scandal...</td>\n",
       "      <td>USA</td>\n",
       "    </tr>\n",
       "    <tr>\n",
       "      <th>4</th>\n",
       "      <td>2020-07-21 23:58:02</td>\n",
       "      <td>1285725754961965056</td>\n",
       "      <td>False</td>\n",
       "      <td>These idiots let Trump do anything he wants. W...</td>\n",
       "      <td>realfacade1</td>\n",
       "      <td>Purgatory</td>\n",
       "      <td>Twitter for Android</td>\n",
       "      <td>0</td>\n",
       "      <td>2764</td>\n",
       "      <td>3799</td>\n",
       "      <td>0</td>\n",
       "      <td>[idiot, let, trump, anyth, want, biden, get, e...</td>\n",
       "      <td>Purgatory</td>\n",
       "    </tr>\n",
       "    <tr>\n",
       "      <th>...</th>\n",
       "      <td>...</td>\n",
       "      <td>...</td>\n",
       "      <td>...</td>\n",
       "      <td>...</td>\n",
       "      <td>...</td>\n",
       "      <td>...</td>\n",
       "      <td>...</td>\n",
       "      <td>...</td>\n",
       "      <td>...</td>\n",
       "      <td>...</td>\n",
       "      <td>...</td>\n",
       "      <td>...</td>\n",
       "      <td>...</td>\n",
       "    </tr>\n",
       "    <tr>\n",
       "      <th>15041</th>\n",
       "      <td>2020-07-13 10:57:58</td>\n",
       "      <td>1282630342038499329</td>\n",
       "      <td>False</td>\n",
       "      <td>Other than going big by eulogizing #StromThurm...</td>\n",
       "      <td>robertson_alton</td>\n",
       "      <td>Fort Worth, or thereabouts.</td>\n",
       "      <td>Twitter Web App</td>\n",
       "      <td>0</td>\n",
       "      <td>1004</td>\n",
       "      <td>4999</td>\n",
       "      <td>0</td>\n",
       "      <td>[big, eulog, stromthurmond, look, right, look,...</td>\n",
       "      <td>Fort Worth</td>\n",
       "    </tr>\n",
       "    <tr>\n",
       "      <th>15042</th>\n",
       "      <td>2020-07-13 10:56:26</td>\n",
       "      <td>1282629958205145091</td>\n",
       "      <td>False</td>\n",
       "      <td>Don't want to leave out the left! Show your su...</td>\n",
       "      <td>GraphicMedia4</td>\n",
       "      <td>USA</td>\n",
       "      <td>Twitter Web App</td>\n",
       "      <td>0</td>\n",
       "      <td>1</td>\n",
       "      <td>0</td>\n",
       "      <td>0</td>\n",
       "      <td>[want, leav, left, show, support, elect, heart...</td>\n",
       "      <td>USA</td>\n",
       "    </tr>\n",
       "    <tr>\n",
       "      <th>15043</th>\n",
       "      <td>2020-07-13 10:53:50</td>\n",
       "      <td>1282629302199164928</td>\n",
       "      <td>False</td>\n",
       "      <td>Some chatter about #Biden maybe activating res...</td>\n",
       "      <td>copiousjawnt</td>\n",
       "      <td>Lehigh Valley, PA</td>\n",
       "      <td>Twitter for Android</td>\n",
       "      <td>0</td>\n",
       "      <td>84</td>\n",
       "      <td>210</td>\n",
       "      <td>0</td>\n",
       "      <td>[chatter, biden, mayb, activ, resourc, fight, ...</td>\n",
       "      <td>Lehigh Valley</td>\n",
       "    </tr>\n",
       "    <tr>\n",
       "      <th>15044</th>\n",
       "      <td>2020-07-13 10:53:46</td>\n",
       "      <td>1282629284524433409</td>\n",
       "      <td>False</td>\n",
       "      <td>Fake #Polls? Why #Biden's 'Nationwide Lead' Ov...</td>\n",
       "      <td>blinova14</td>\n",
       "      <td>USA</td>\n",
       "      <td>Twitter Web App</td>\n",
       "      <td>4</td>\n",
       "      <td>836</td>\n",
       "      <td>432</td>\n",
       "      <td>0</td>\n",
       "      <td>[fake, poll, biden, nationwid, lead, trump, sa...</td>\n",
       "      <td>USA</td>\n",
       "    </tr>\n",
       "    <tr>\n",
       "      <th>15045</th>\n",
       "      <td>2020-07-13 10:45:12</td>\n",
       "      <td>1282627129172271104</td>\n",
       "      <td>False</td>\n",
       "      <td>#Joe #Biden #Trump police should not be armed ...</td>\n",
       "      <td>try4freedom</td>\n",
       "      <td>Brookline, MA</td>\n",
       "      <td>Smart Post App</td>\n",
       "      <td>1</td>\n",
       "      <td>125</td>\n",
       "      <td>612</td>\n",
       "      <td>0</td>\n",
       "      <td>[joe, biden, trump, polic, arm, teeth]</td>\n",
       "      <td>Brookline</td>\n",
       "    </tr>\n",
       "  </tbody>\n",
       "</table>\n",
       "<p>15046 rows × 13 columns</p>\n",
       "</div>"
      ],
      "text/plain": [
       "                     Date             Tweet_id  Verified  \\\n",
       "0     2020-07-21 23:59:43  1285726179907993601     False   \n",
       "1     2020-07-21 23:59:27  1285726110513344520     False   \n",
       "2     2020-07-21 23:59:24  1285726099239055361     False   \n",
       "3     2020-07-21 23:58:47  1285725945849151490     False   \n",
       "4     2020-07-21 23:58:02  1285725754961965056     False   \n",
       "...                   ...                  ...       ...   \n",
       "15041 2020-07-13 10:57:58  1282630342038499329     False   \n",
       "15042 2020-07-13 10:56:26  1282629958205145091     False   \n",
       "15043 2020-07-13 10:53:50  1282629302199164928     False   \n",
       "15044 2020-07-13 10:53:46  1282629284524433409     False   \n",
       "15045 2020-07-13 10:45:12  1282627129172271104     False   \n",
       "\n",
       "                                                   Tweet             User  \\\n",
       "0      @JoeBiden VP Biden I wish you wouldn't debate ...    BballmomEjZay   \n",
       "1      #GeorgeWill , it’s so sad you wake up everyday...        TalbotMac   \n",
       "2      Question:\\nIf @JoeBiden doesn’t pick a woman o...   bk_middleclass   \n",
       "3      Right? 🤣🤣🤣 #Biden formally implicated in #Ukra...     MMorganBlair   \n",
       "4      These idiots let Trump do anything he wants. W...      realfacade1   \n",
       "...                                                  ...              ...   \n",
       "15041  Other than going big by eulogizing #StromThurm...  robertson_alton   \n",
       "15042  Don't want to leave out the left! Show your su...    GraphicMedia4   \n",
       "15043  Some chatter about #Biden maybe activating res...     copiousjawnt   \n",
       "15044  Fake #Polls? Why #Biden's 'Nationwide Lead' Ov...        blinova14   \n",
       "15045  #Joe #Biden #Trump police should not be armed ...      try4freedom   \n",
       "\n",
       "                           Location               Source  Likes  Followers  \\\n",
       "0                               USA  Twitter for Android      0         54   \n",
       "1                   East Aurora, NY   Twitter for iPhone      0        882   \n",
       "2                     Nashville, TN   Twitter for iPhone      0       1294   \n",
       "3                               USA   Twitter for iPhone      1       2476   \n",
       "4                        Purgatory   Twitter for Android      0       2764   \n",
       "...                             ...                  ...    ...        ...   \n",
       "15041  Fort Worth, or thereabouts.       Twitter Web App      0       1004   \n",
       "15042                           USA      Twitter Web App      0          1   \n",
       "15043             Lehigh Valley, PA  Twitter for Android      0         84   \n",
       "15044                           USA      Twitter Web App      4        836   \n",
       "15045                 Brookline, MA       Smart Post App      1        125   \n",
       "\n",
       "       Following  Retweets                                    Processed_Tweet  \\\n",
       "0            192         0  [biden, wish, debat, trump, unless, debat, tru...   \n",
       "1           1554         0  [georgewil, sad, wake, everyday, forget, georg...   \n",
       "2           1213         0  [question, doesnt, pick, woman, color, would, ...   \n",
       "3           3334         1  [right, biden, formal, implic, ukrain, scandal...   \n",
       "4           3799         0  [idiot, let, trump, anyth, want, biden, get, e...   \n",
       "...          ...       ...                                                ...   \n",
       "15041       4999         0  [big, eulog, stromthurmond, look, right, look,...   \n",
       "15042          0         0  [want, leav, left, show, support, elect, heart...   \n",
       "15043        210         0  [chatter, biden, mayb, activ, resourc, fight, ...   \n",
       "15044        432         0  [fake, poll, biden, nationwid, lead, trump, sa...   \n",
       "15045        612         0             [joe, biden, trump, polic, arm, teeth]   \n",
       "\n",
       "      Processed_Location  \n",
       "0                    USA  \n",
       "1            East Aurora  \n",
       "2              Nashville  \n",
       "3                    USA  \n",
       "4             Purgatory   \n",
       "...                  ...  \n",
       "15041         Fort Worth  \n",
       "15042                USA  \n",
       "15043      Lehigh Valley  \n",
       "15044                USA  \n",
       "15045          Brookline  \n",
       "\n",
       "[15046 rows x 13 columns]"
      ]
     },
     "execution_count": 90,
     "metadata": {},
     "output_type": "execute_result"
    }
   ],
   "source": [
    "locations = []\n",
    "locations_1 = []\n",
    "\n",
    "locations = [i.split(',')[-1] for i in df['Location']]\n",
    "locations_1 =  [i.split(',')[0] for i in df['Location']]\n",
    "df['Processed_Location'] = locations_1\n",
    "df"
   ]
  },
  {
   "cell_type": "code",
   "execution_count": 91,
   "id": "cea5141b",
   "metadata": {},
   "outputs": [],
   "source": [
    "df1 = df"
   ]
  },
  {
   "cell_type": "code",
   "execution_count": 92,
   "id": "5232c84f",
   "metadata": {},
   "outputs": [],
   "source": [
    "df1['sentiment'] = sentimental_score_df['val']"
   ]
  },
  {
   "cell_type": "code",
   "execution_count": 93,
   "id": "3c30b8e0",
   "metadata": {},
   "outputs": [
    {
     "data": {
      "text/html": [
       "<div>\n",
       "<style scoped>\n",
       "    .dataframe tbody tr th:only-of-type {\n",
       "        vertical-align: middle;\n",
       "    }\n",
       "\n",
       "    .dataframe tbody tr th {\n",
       "        vertical-align: top;\n",
       "    }\n",
       "\n",
       "    .dataframe thead th {\n",
       "        text-align: right;\n",
       "    }\n",
       "</style>\n",
       "<table border=\"1\" class=\"dataframe\">\n",
       "  <thead>\n",
       "    <tr style=\"text-align: right;\">\n",
       "      <th></th>\n",
       "      <th>Date</th>\n",
       "      <th>Tweet_id</th>\n",
       "      <th>Verified</th>\n",
       "      <th>Tweet</th>\n",
       "      <th>User</th>\n",
       "      <th>Location</th>\n",
       "      <th>Source</th>\n",
       "      <th>Likes</th>\n",
       "      <th>Followers</th>\n",
       "      <th>Following</th>\n",
       "      <th>Retweets</th>\n",
       "      <th>Processed_Tweet</th>\n",
       "      <th>Processed_Location</th>\n",
       "      <th>sentiment</th>\n",
       "    </tr>\n",
       "  </thead>\n",
       "  <tbody>\n",
       "    <tr>\n",
       "      <th>0</th>\n",
       "      <td>2020-07-21 23:59:43</td>\n",
       "      <td>1285726179907993601</td>\n",
       "      <td>False</td>\n",
       "      <td>@JoeBiden VP Biden I wish you wouldn't debate ...</td>\n",
       "      <td>BballmomEjZay</td>\n",
       "      <td>USA</td>\n",
       "      <td>Twitter for Android</td>\n",
       "      <td>0</td>\n",
       "      <td>54</td>\n",
       "      <td>192</td>\n",
       "      <td>0</td>\n",
       "      <td>[biden, wish, debat, trump, unless, debat, tru...</td>\n",
       "      <td>USA</td>\n",
       "      <td>Negative</td>\n",
       "    </tr>\n",
       "    <tr>\n",
       "      <th>1</th>\n",
       "      <td>2020-07-21 23:59:27</td>\n",
       "      <td>1285726110513344520</td>\n",
       "      <td>False</td>\n",
       "      <td>#GeorgeWill , it’s so sad you wake up everyday...</td>\n",
       "      <td>TalbotMac</td>\n",
       "      <td>East Aurora, NY</td>\n",
       "      <td>Twitter for iPhone</td>\n",
       "      <td>0</td>\n",
       "      <td>882</td>\n",
       "      <td>1554</td>\n",
       "      <td>0</td>\n",
       "      <td>[georgewil, sad, wake, everyday, forget, georg...</td>\n",
       "      <td>East Aurora</td>\n",
       "      <td>Negative</td>\n",
       "    </tr>\n",
       "    <tr>\n",
       "      <th>2</th>\n",
       "      <td>2020-07-21 23:59:24</td>\n",
       "      <td>1285726099239055361</td>\n",
       "      <td>False</td>\n",
       "      <td>Question:\\nIf @JoeBiden doesn’t pick a woman o...</td>\n",
       "      <td>bk_middleclass</td>\n",
       "      <td>Nashville, TN</td>\n",
       "      <td>Twitter for iPhone</td>\n",
       "      <td>0</td>\n",
       "      <td>1294</td>\n",
       "      <td>1213</td>\n",
       "      <td>0</td>\n",
       "      <td>[question, doesnt, pick, woman, color, would, ...</td>\n",
       "      <td>Nashville</td>\n",
       "      <td>Neutral</td>\n",
       "    </tr>\n",
       "    <tr>\n",
       "      <th>3</th>\n",
       "      <td>2020-07-21 23:58:47</td>\n",
       "      <td>1285725945849151490</td>\n",
       "      <td>False</td>\n",
       "      <td>Right? 🤣🤣🤣 #Biden formally implicated in #Ukra...</td>\n",
       "      <td>MMorganBlair</td>\n",
       "      <td>USA</td>\n",
       "      <td>Twitter for iPhone</td>\n",
       "      <td>1</td>\n",
       "      <td>2476</td>\n",
       "      <td>3334</td>\n",
       "      <td>1</td>\n",
       "      <td>[right, biden, formal, implic, ukrain, scandal...</td>\n",
       "      <td>USA</td>\n",
       "      <td>Negative</td>\n",
       "    </tr>\n",
       "    <tr>\n",
       "      <th>4</th>\n",
       "      <td>2020-07-21 23:58:02</td>\n",
       "      <td>1285725754961965056</td>\n",
       "      <td>False</td>\n",
       "      <td>These idiots let Trump do anything he wants. W...</td>\n",
       "      <td>realfacade1</td>\n",
       "      <td>Purgatory</td>\n",
       "      <td>Twitter for Android</td>\n",
       "      <td>0</td>\n",
       "      <td>2764</td>\n",
       "      <td>3799</td>\n",
       "      <td>0</td>\n",
       "      <td>[idiot, let, trump, anyth, want, biden, get, e...</td>\n",
       "      <td>Purgatory</td>\n",
       "      <td>Positive</td>\n",
       "    </tr>\n",
       "  </tbody>\n",
       "</table>\n",
       "</div>"
      ],
      "text/plain": [
       "                 Date             Tweet_id  Verified  \\\n",
       "0 2020-07-21 23:59:43  1285726179907993601     False   \n",
       "1 2020-07-21 23:59:27  1285726110513344520     False   \n",
       "2 2020-07-21 23:59:24  1285726099239055361     False   \n",
       "3 2020-07-21 23:58:47  1285725945849151490     False   \n",
       "4 2020-07-21 23:58:02  1285725754961965056     False   \n",
       "\n",
       "                                               Tweet            User  \\\n",
       "0  @JoeBiden VP Biden I wish you wouldn't debate ...   BballmomEjZay   \n",
       "1  #GeorgeWill , it’s so sad you wake up everyday...       TalbotMac   \n",
       "2  Question:\\nIf @JoeBiden doesn’t pick a woman o...  bk_middleclass   \n",
       "3  Right? 🤣🤣🤣 #Biden formally implicated in #Ukra...    MMorganBlair   \n",
       "4  These idiots let Trump do anything he wants. W...     realfacade1   \n",
       "\n",
       "          Location               Source  Likes  Followers  Following  \\\n",
       "0              USA  Twitter for Android      0         54        192   \n",
       "1  East Aurora, NY   Twitter for iPhone      0        882       1554   \n",
       "2    Nashville, TN   Twitter for iPhone      0       1294       1213   \n",
       "3              USA   Twitter for iPhone      1       2476       3334   \n",
       "4       Purgatory   Twitter for Android      0       2764       3799   \n",
       "\n",
       "   Retweets                                    Processed_Tweet  \\\n",
       "0         0  [biden, wish, debat, trump, unless, debat, tru...   \n",
       "1         0  [georgewil, sad, wake, everyday, forget, georg...   \n",
       "2         0  [question, doesnt, pick, woman, color, would, ...   \n",
       "3         1  [right, biden, formal, implic, ukrain, scandal...   \n",
       "4         0  [idiot, let, trump, anyth, want, biden, get, e...   \n",
       "\n",
       "  Processed_Location sentiment  \n",
       "0                USA  Negative  \n",
       "1        East Aurora  Negative  \n",
       "2          Nashville   Neutral  \n",
       "3                USA  Negative  \n",
       "4         Purgatory   Positive  "
      ]
     },
     "execution_count": 93,
     "metadata": {},
     "output_type": "execute_result"
    }
   ],
   "source": [
    "df1.head()"
   ]
  },
  {
   "cell_type": "code",
   "execution_count": 94,
   "id": "7f212c4d",
   "metadata": {},
   "outputs": [],
   "source": [
    "df1.to_csv('Location.csv',index = False)"
   ]
  },
  {
   "cell_type": "code",
   "execution_count": 95,
   "id": "0f48f4c8",
   "metadata": {},
   "outputs": [
    {
     "data": {
      "text/html": [
       "<div>\n",
       "<style scoped>\n",
       "    .dataframe tbody tr th:only-of-type {\n",
       "        vertical-align: middle;\n",
       "    }\n",
       "\n",
       "    .dataframe tbody tr th {\n",
       "        vertical-align: top;\n",
       "    }\n",
       "\n",
       "    .dataframe thead th {\n",
       "        text-align: right;\n",
       "    }\n",
       "</style>\n",
       "<table border=\"1\" class=\"dataframe\">\n",
       "  <thead>\n",
       "    <tr style=\"text-align: right;\">\n",
       "      <th></th>\n",
       "      <th>Date</th>\n",
       "      <th>Tweet_id</th>\n",
       "      <th>Verified</th>\n",
       "      <th>Tweet</th>\n",
       "      <th>User</th>\n",
       "      <th>Location</th>\n",
       "      <th>Source</th>\n",
       "      <th>Likes</th>\n",
       "      <th>Followers</th>\n",
       "      <th>Following</th>\n",
       "      <th>Retweets</th>\n",
       "      <th>Processed_Tweet</th>\n",
       "      <th>Processed_Location</th>\n",
       "      <th>sentiment</th>\n",
       "      <th>day</th>\n",
       "    </tr>\n",
       "  </thead>\n",
       "  <tbody>\n",
       "    <tr>\n",
       "      <th>0</th>\n",
       "      <td>2020-07-21 23:59:43</td>\n",
       "      <td>1285726179907993601</td>\n",
       "      <td>False</td>\n",
       "      <td>@JoeBiden VP Biden I wish you wouldn't debate ...</td>\n",
       "      <td>BballmomEjZay</td>\n",
       "      <td>USA</td>\n",
       "      <td>Twitter for Android</td>\n",
       "      <td>0</td>\n",
       "      <td>54</td>\n",
       "      <td>192</td>\n",
       "      <td>0</td>\n",
       "      <td>[biden, wish, debat, trump, unless, debat, tru...</td>\n",
       "      <td>USA</td>\n",
       "      <td>Negative</td>\n",
       "      <td>21</td>\n",
       "    </tr>\n",
       "    <tr>\n",
       "      <th>1</th>\n",
       "      <td>2020-07-21 23:59:27</td>\n",
       "      <td>1285726110513344520</td>\n",
       "      <td>False</td>\n",
       "      <td>#GeorgeWill , it’s so sad you wake up everyday...</td>\n",
       "      <td>TalbotMac</td>\n",
       "      <td>East Aurora, NY</td>\n",
       "      <td>Twitter for iPhone</td>\n",
       "      <td>0</td>\n",
       "      <td>882</td>\n",
       "      <td>1554</td>\n",
       "      <td>0</td>\n",
       "      <td>[georgewil, sad, wake, everyday, forget, georg...</td>\n",
       "      <td>East Aurora</td>\n",
       "      <td>Negative</td>\n",
       "      <td>21</td>\n",
       "    </tr>\n",
       "    <tr>\n",
       "      <th>2</th>\n",
       "      <td>2020-07-21 23:59:24</td>\n",
       "      <td>1285726099239055361</td>\n",
       "      <td>False</td>\n",
       "      <td>Question:\\nIf @JoeBiden doesn’t pick a woman o...</td>\n",
       "      <td>bk_middleclass</td>\n",
       "      <td>Nashville, TN</td>\n",
       "      <td>Twitter for iPhone</td>\n",
       "      <td>0</td>\n",
       "      <td>1294</td>\n",
       "      <td>1213</td>\n",
       "      <td>0</td>\n",
       "      <td>[question, doesnt, pick, woman, color, would, ...</td>\n",
       "      <td>Nashville</td>\n",
       "      <td>Neutral</td>\n",
       "      <td>21</td>\n",
       "    </tr>\n",
       "    <tr>\n",
       "      <th>3</th>\n",
       "      <td>2020-07-21 23:58:47</td>\n",
       "      <td>1285725945849151490</td>\n",
       "      <td>False</td>\n",
       "      <td>Right? 🤣🤣🤣 #Biden formally implicated in #Ukra...</td>\n",
       "      <td>MMorganBlair</td>\n",
       "      <td>USA</td>\n",
       "      <td>Twitter for iPhone</td>\n",
       "      <td>1</td>\n",
       "      <td>2476</td>\n",
       "      <td>3334</td>\n",
       "      <td>1</td>\n",
       "      <td>[right, biden, formal, implic, ukrain, scandal...</td>\n",
       "      <td>USA</td>\n",
       "      <td>Negative</td>\n",
       "      <td>21</td>\n",
       "    </tr>\n",
       "    <tr>\n",
       "      <th>4</th>\n",
       "      <td>2020-07-21 23:58:02</td>\n",
       "      <td>1285725754961965056</td>\n",
       "      <td>False</td>\n",
       "      <td>These idiots let Trump do anything he wants. W...</td>\n",
       "      <td>realfacade1</td>\n",
       "      <td>Purgatory</td>\n",
       "      <td>Twitter for Android</td>\n",
       "      <td>0</td>\n",
       "      <td>2764</td>\n",
       "      <td>3799</td>\n",
       "      <td>0</td>\n",
       "      <td>[idiot, let, trump, anyth, want, biden, get, e...</td>\n",
       "      <td>Purgatory</td>\n",
       "      <td>Positive</td>\n",
       "      <td>21</td>\n",
       "    </tr>\n",
       "  </tbody>\n",
       "</table>\n",
       "</div>"
      ],
      "text/plain": [
       "                 Date             Tweet_id  Verified  \\\n",
       "0 2020-07-21 23:59:43  1285726179907993601     False   \n",
       "1 2020-07-21 23:59:27  1285726110513344520     False   \n",
       "2 2020-07-21 23:59:24  1285726099239055361     False   \n",
       "3 2020-07-21 23:58:47  1285725945849151490     False   \n",
       "4 2020-07-21 23:58:02  1285725754961965056     False   \n",
       "\n",
       "                                               Tweet            User  \\\n",
       "0  @JoeBiden VP Biden I wish you wouldn't debate ...   BballmomEjZay   \n",
       "1  #GeorgeWill , it’s so sad you wake up everyday...       TalbotMac   \n",
       "2  Question:\\nIf @JoeBiden doesn’t pick a woman o...  bk_middleclass   \n",
       "3  Right? 🤣🤣🤣 #Biden formally implicated in #Ukra...    MMorganBlair   \n",
       "4  These idiots let Trump do anything he wants. W...     realfacade1   \n",
       "\n",
       "          Location               Source  Likes  Followers  Following  \\\n",
       "0              USA  Twitter for Android      0         54        192   \n",
       "1  East Aurora, NY   Twitter for iPhone      0        882       1554   \n",
       "2    Nashville, TN   Twitter for iPhone      0       1294       1213   \n",
       "3              USA   Twitter for iPhone      1       2476       3334   \n",
       "4       Purgatory   Twitter for Android      0       2764       3799   \n",
       "\n",
       "   Retweets                                    Processed_Tweet  \\\n",
       "0         0  [biden, wish, debat, trump, unless, debat, tru...   \n",
       "1         0  [georgewil, sad, wake, everyday, forget, georg...   \n",
       "2         0  [question, doesnt, pick, woman, color, would, ...   \n",
       "3         1  [right, biden, formal, implic, ukrain, scandal...   \n",
       "4         0  [idiot, let, trump, anyth, want, biden, get, e...   \n",
       "\n",
       "  Processed_Location sentiment  day  \n",
       "0                USA  Negative   21  \n",
       "1        East Aurora  Negative   21  \n",
       "2          Nashville   Neutral   21  \n",
       "3                USA  Negative   21  \n",
       "4         Purgatory   Positive   21  "
      ]
     },
     "execution_count": 95,
     "metadata": {},
     "output_type": "execute_result"
    }
   ],
   "source": [
    "df1['day'] = df.Date.dt.day\n",
    "df1.head()"
   ]
  },
  {
   "cell_type": "code",
   "execution_count": 96,
   "id": "7ad0da4e",
   "metadata": {},
   "outputs": [
    {
     "name": "stderr",
     "output_type": "stream",
     "text": [
      "C:\\Users\\Mourya Kuntamukkala\\AppData\\Local\\Programs\\Python\\Python310\\lib\\site-packages\\seaborn\\_decorators.py:36: FutureWarning: Pass the following variable as a keyword arg: x. From version 0.12, the only valid positional argument will be `data`, and passing other arguments without an explicit keyword will result in an error or misinterpretation.\n",
      "  warnings.warn(\n"
     ]
    },
    {
     "data": {
      "text/plain": [
       "<AxesSubplot:xlabel='day', ylabel='count'>"
      ]
     },
     "execution_count": 96,
     "metadata": {},
     "output_type": "execute_result"
    },
    {
     "data": {
      "image/png": "[encoded data removed]",
      "text/plain": [
       "<Figure size 1080x360 with 1 Axes>"
      ]
     },
     "metadata": {},
     "output_type": "display_data"
    }
   ],
   "source": [
    "sns.countplot(df['day'],hue = df['sentiment'])"
   ]
  },
  {
   "cell_type": "markdown",
   "id": "279c9b3f",
   "metadata": {},
   "source": [
    "Predictions"
   ]
  },
  {
   "cell_type": "code",
   "execution_count": 97,
   "id": "2e42fdb5",
   "metadata": {},
   "outputs": [],
   "source": [
    "from sklearn.feature_extraction.text import CountVectorizer\n",
    "from sklearn.model_selection import train_test_split\n",
    "from sklearn.naive_bayes import GaussianNB\n",
    "from sklearn.naive_bayes import MultinomialNB\n",
    "from sklearn.metrics import confusion_matrix\n",
    "from sklearn.tree import DecisionTreeClassifier\n",
    "from sklearn.ensemble import RandomForestClassifier\n",
    "from sklearn.preprocessing import LabelEncoder \n",
    "from sklearn.model_selection import GridSearchCV\n",
    "from sklearn import model_selection\n",
    "\n",
    "from sklearn.model_selection import cross_val_score\n",
    "from sklearn.metrics import accuracy_score\n",
    "from sklearn.metrics import precision_score\n",
    "from sklearn.metrics import recall_score\n",
    "from sklearn.metrics import f1_score"
   ]
  },
  {
   "cell_type": "code",
   "execution_count": 98,
   "id": "767e2e0f",
   "metadata": {},
   "outputs": [],
   "source": [
    "le = LabelEncoder() \n",
    "  \n",
    "df1['sentiment_1']= le.fit_transform(df1['sentiment']) "
   ]
  },
  {
   "cell_type": "code",
   "execution_count": 99,
   "id": "6f3885cc",
   "metadata": {},
   "outputs": [
    {
     "data": {
      "text/html": [
       "<div>\n",
       "<style scoped>\n",
       "    .dataframe tbody tr th:only-of-type {\n",
       "        vertical-align: middle;\n",
       "    }\n",
       "\n",
       "    .dataframe tbody tr th {\n",
       "        vertical-align: top;\n",
       "    }\n",
       "\n",
       "    .dataframe thead th {\n",
       "        text-align: right;\n",
       "    }\n",
       "</style>\n",
       "<table border=\"1\" class=\"dataframe\">\n",
       "  <thead>\n",
       "    <tr style=\"text-align: right;\">\n",
       "      <th></th>\n",
       "      <th>Date</th>\n",
       "      <th>Tweet_id</th>\n",
       "      <th>Verified</th>\n",
       "      <th>Tweet</th>\n",
       "      <th>User</th>\n",
       "      <th>Location</th>\n",
       "      <th>Source</th>\n",
       "      <th>Likes</th>\n",
       "      <th>Followers</th>\n",
       "      <th>Following</th>\n",
       "      <th>Retweets</th>\n",
       "      <th>Processed_Tweet</th>\n",
       "      <th>Processed_Location</th>\n",
       "      <th>sentiment</th>\n",
       "      <th>day</th>\n",
       "      <th>sentiment_1</th>\n",
       "    </tr>\n",
       "  </thead>\n",
       "  <tbody>\n",
       "    <tr>\n",
       "      <th>0</th>\n",
       "      <td>2020-07-21 23:59:43</td>\n",
       "      <td>1285726179907993601</td>\n",
       "      <td>False</td>\n",
       "      <td>@JoeBiden VP Biden I wish you wouldn't debate ...</td>\n",
       "      <td>BballmomEjZay</td>\n",
       "      <td>USA</td>\n",
       "      <td>Twitter for Android</td>\n",
       "      <td>0</td>\n",
       "      <td>54</td>\n",
       "      <td>192</td>\n",
       "      <td>0</td>\n",
       "      <td>[biden, wish, debat, trump, unless, debat, tru...</td>\n",
       "      <td>USA</td>\n",
       "      <td>Negative</td>\n",
       "      <td>21</td>\n",
       "      <td>0</td>\n",
       "    </tr>\n",
       "    <tr>\n",
       "      <th>1</th>\n",
       "      <td>2020-07-21 23:59:27</td>\n",
       "      <td>1285726110513344520</td>\n",
       "      <td>False</td>\n",
       "      <td>#GeorgeWill , it’s so sad you wake up everyday...</td>\n",
       "      <td>TalbotMac</td>\n",
       "      <td>East Aurora, NY</td>\n",
       "      <td>Twitter for iPhone</td>\n",
       "      <td>0</td>\n",
       "      <td>882</td>\n",
       "      <td>1554</td>\n",
       "      <td>0</td>\n",
       "      <td>[georgewil, sad, wake, everyday, forget, georg...</td>\n",
       "      <td>East Aurora</td>\n",
       "      <td>Negative</td>\n",
       "      <td>21</td>\n",
       "      <td>0</td>\n",
       "    </tr>\n",
       "    <tr>\n",
       "      <th>2</th>\n",
       "      <td>2020-07-21 23:59:24</td>\n",
       "      <td>1285726099239055361</td>\n",
       "      <td>False</td>\n",
       "      <td>Question:\\nIf @JoeBiden doesn’t pick a woman o...</td>\n",
       "      <td>bk_middleclass</td>\n",
       "      <td>Nashville, TN</td>\n",
       "      <td>Twitter for iPhone</td>\n",
       "      <td>0</td>\n",
       "      <td>1294</td>\n",
       "      <td>1213</td>\n",
       "      <td>0</td>\n",
       "      <td>[question, doesnt, pick, woman, color, would, ...</td>\n",
       "      <td>Nashville</td>\n",
       "      <td>Neutral</td>\n",
       "      <td>21</td>\n",
       "      <td>1</td>\n",
       "    </tr>\n",
       "    <tr>\n",
       "      <th>3</th>\n",
       "      <td>2020-07-21 23:58:47</td>\n",
       "      <td>1285725945849151490</td>\n",
       "      <td>False</td>\n",
       "      <td>Right? 🤣🤣🤣 #Biden formally implicated in #Ukra...</td>\n",
       "      <td>MMorganBlair</td>\n",
       "      <td>USA</td>\n",
       "      <td>Twitter for iPhone</td>\n",
       "      <td>1</td>\n",
       "      <td>2476</td>\n",
       "      <td>3334</td>\n",
       "      <td>1</td>\n",
       "      <td>[right, biden, formal, implic, ukrain, scandal...</td>\n",
       "      <td>USA</td>\n",
       "      <td>Negative</td>\n",
       "      <td>21</td>\n",
       "      <td>0</td>\n",
       "    </tr>\n",
       "    <tr>\n",
       "      <th>4</th>\n",
       "      <td>2020-07-21 23:58:02</td>\n",
       "      <td>1285725754961965056</td>\n",
       "      <td>False</td>\n",
       "      <td>These idiots let Trump do anything he wants. W...</td>\n",
       "      <td>realfacade1</td>\n",
       "      <td>Purgatory</td>\n",
       "      <td>Twitter for Android</td>\n",
       "      <td>0</td>\n",
       "      <td>2764</td>\n",
       "      <td>3799</td>\n",
       "      <td>0</td>\n",
       "      <td>[idiot, let, trump, anyth, want, biden, get, e...</td>\n",
       "      <td>Purgatory</td>\n",
       "      <td>Positive</td>\n",
       "      <td>21</td>\n",
       "      <td>2</td>\n",
       "    </tr>\n",
       "    <tr>\n",
       "      <th>...</th>\n",
       "      <td>...</td>\n",
       "      <td>...</td>\n",
       "      <td>...</td>\n",
       "      <td>...</td>\n",
       "      <td>...</td>\n",
       "      <td>...</td>\n",
       "      <td>...</td>\n",
       "      <td>...</td>\n",
       "      <td>...</td>\n",
       "      <td>...</td>\n",
       "      <td>...</td>\n",
       "      <td>...</td>\n",
       "      <td>...</td>\n",
       "      <td>...</td>\n",
       "      <td>...</td>\n",
       "      <td>...</td>\n",
       "    </tr>\n",
       "    <tr>\n",
       "      <th>15041</th>\n",
       "      <td>2020-07-13 10:57:58</td>\n",
       "      <td>1282630342038499329</td>\n",
       "      <td>False</td>\n",
       "      <td>Other than going big by eulogizing #StromThurm...</td>\n",
       "      <td>robertson_alton</td>\n",
       "      <td>Fort Worth, or thereabouts.</td>\n",
       "      <td>Twitter Web App</td>\n",
       "      <td>0</td>\n",
       "      <td>1004</td>\n",
       "      <td>4999</td>\n",
       "      <td>0</td>\n",
       "      <td>[big, eulog, stromthurmond, look, right, look,...</td>\n",
       "      <td>Fort Worth</td>\n",
       "      <td>Negative</td>\n",
       "      <td>13</td>\n",
       "      <td>0</td>\n",
       "    </tr>\n",
       "    <tr>\n",
       "      <th>15042</th>\n",
       "      <td>2020-07-13 10:56:26</td>\n",
       "      <td>1282629958205145091</td>\n",
       "      <td>False</td>\n",
       "      <td>Don't want to leave out the left! Show your su...</td>\n",
       "      <td>GraphicMedia4</td>\n",
       "      <td>USA</td>\n",
       "      <td>Twitter Web App</td>\n",
       "      <td>0</td>\n",
       "      <td>1</td>\n",
       "      <td>0</td>\n",
       "      <td>0</td>\n",
       "      <td>[want, leav, left, show, support, elect, heart...</td>\n",
       "      <td>USA</td>\n",
       "      <td>Positive</td>\n",
       "      <td>13</td>\n",
       "      <td>2</td>\n",
       "    </tr>\n",
       "    <tr>\n",
       "      <th>15043</th>\n",
       "      <td>2020-07-13 10:53:50</td>\n",
       "      <td>1282629302199164928</td>\n",
       "      <td>False</td>\n",
       "      <td>Some chatter about #Biden maybe activating res...</td>\n",
       "      <td>copiousjawnt</td>\n",
       "      <td>Lehigh Valley, PA</td>\n",
       "      <td>Twitter for Android</td>\n",
       "      <td>0</td>\n",
       "      <td>84</td>\n",
       "      <td>210</td>\n",
       "      <td>0</td>\n",
       "      <td>[chatter, biden, mayb, activ, resourc, fight, ...</td>\n",
       "      <td>Lehigh Valley</td>\n",
       "      <td>Negative</td>\n",
       "      <td>13</td>\n",
       "      <td>0</td>\n",
       "    </tr>\n",
       "    <tr>\n",
       "      <th>15044</th>\n",
       "      <td>2020-07-13 10:53:46</td>\n",
       "      <td>1282629284524433409</td>\n",
       "      <td>False</td>\n",
       "      <td>Fake #Polls? Why #Biden's 'Nationwide Lead' Ov...</td>\n",
       "      <td>blinova14</td>\n",
       "      <td>USA</td>\n",
       "      <td>Twitter Web App</td>\n",
       "      <td>4</td>\n",
       "      <td>836</td>\n",
       "      <td>432</td>\n",
       "      <td>0</td>\n",
       "      <td>[fake, poll, biden, nationwid, lead, trump, sa...</td>\n",
       "      <td>USA</td>\n",
       "      <td>Positive</td>\n",
       "      <td>13</td>\n",
       "      <td>2</td>\n",
       "    </tr>\n",
       "    <tr>\n",
       "      <th>15045</th>\n",
       "      <td>2020-07-13 10:45:12</td>\n",
       "      <td>1282627129172271104</td>\n",
       "      <td>False</td>\n",
       "      <td>#Joe #Biden #Trump police should not be armed ...</td>\n",
       "      <td>try4freedom</td>\n",
       "      <td>Brookline, MA</td>\n",
       "      <td>Smart Post App</td>\n",
       "      <td>1</td>\n",
       "      <td>125</td>\n",
       "      <td>612</td>\n",
       "      <td>0</td>\n",
       "      <td>[joe, biden, trump, polic, arm, teeth]</td>\n",
       "      <td>Brookline</td>\n",
       "      <td>Neutral</td>\n",
       "      <td>13</td>\n",
       "      <td>1</td>\n",
       "    </tr>\n",
       "  </tbody>\n",
       "</table>\n",
       "<p>15046 rows × 16 columns</p>\n",
       "</div>"
      ],
      "text/plain": [
       "                     Date             Tweet_id  Verified  \\\n",
       "0     2020-07-21 23:59:43  1285726179907993601     False   \n",
       "1     2020-07-21 23:59:27  1285726110513344520     False   \n",
       "2     2020-07-21 23:59:24  1285726099239055361     False   \n",
       "3     2020-07-21 23:58:47  1285725945849151490     False   \n",
       "4     2020-07-21 23:58:02  1285725754961965056     False   \n",
       "...                   ...                  ...       ...   \n",
       "15041 2020-07-13 10:57:58  1282630342038499329     False   \n",
       "15042 2020-07-13 10:56:26  1282629958205145091     False   \n",
       "15043 2020-07-13 10:53:50  1282629302199164928     False   \n",
       "15044 2020-07-13 10:53:46  1282629284524433409     False   \n",
       "15045 2020-07-13 10:45:12  1282627129172271104     False   \n",
       "\n",
       "                                                   Tweet             User  \\\n",
       "0      @JoeBiden VP Biden I wish you wouldn't debate ...    BballmomEjZay   \n",
       "1      #GeorgeWill , it’s so sad you wake up everyday...        TalbotMac   \n",
       "2      Question:\\nIf @JoeBiden doesn’t pick a woman o...   bk_middleclass   \n",
       "3      Right? 🤣🤣🤣 #Biden formally implicated in #Ukra...     MMorganBlair   \n",
       "4      These idiots let Trump do anything he wants. W...      realfacade1   \n",
       "...                                                  ...              ...   \n",
       "15041  Other than going big by eulogizing #StromThurm...  robertson_alton   \n",
       "15042  Don't want to leave out the left! Show your su...    GraphicMedia4   \n",
       "15043  Some chatter about #Biden maybe activating res...     copiousjawnt   \n",
       "15044  Fake #Polls? Why #Biden's 'Nationwide Lead' Ov...        blinova14   \n",
       "15045  #Joe #Biden #Trump police should not be armed ...      try4freedom   \n",
       "\n",
       "                           Location               Source  Likes  Followers  \\\n",
       "0                               USA  Twitter for Android      0         54   \n",
       "1                   East Aurora, NY   Twitter for iPhone      0        882   \n",
       "2                     Nashville, TN   Twitter for iPhone      0       1294   \n",
       "3                               USA   Twitter for iPhone      1       2476   \n",
       "4                        Purgatory   Twitter for Android      0       2764   \n",
       "...                             ...                  ...    ...        ...   \n",
       "15041  Fort Worth, or thereabouts.       Twitter Web App      0       1004   \n",
       "15042                           USA      Twitter Web App      0          1   \n",
       "15043             Lehigh Valley, PA  Twitter for Android      0         84   \n",
       "15044                           USA      Twitter Web App      4        836   \n",
       "15045                 Brookline, MA       Smart Post App      1        125   \n",
       "\n",
       "       Following  Retweets                                    Processed_Tweet  \\\n",
       "0            192         0  [biden, wish, debat, trump, unless, debat, tru...   \n",
       "1           1554         0  [georgewil, sad, wake, everyday, forget, georg...   \n",
       "2           1213         0  [question, doesnt, pick, woman, color, would, ...   \n",
       "3           3334         1  [right, biden, formal, implic, ukrain, scandal...   \n",
       "4           3799         0  [idiot, let, trump, anyth, want, biden, get, e...   \n",
       "...          ...       ...                                                ...   \n",
       "15041       4999         0  [big, eulog, stromthurmond, look, right, look,...   \n",
       "15042          0         0  [want, leav, left, show, support, elect, heart...   \n",
       "15043        210         0  [chatter, biden, mayb, activ, resourc, fight, ...   \n",
       "15044        432         0  [fake, poll, biden, nationwid, lead, trump, sa...   \n",
       "15045        612         0             [joe, biden, trump, polic, arm, teeth]   \n",
       "\n",
       "      Processed_Location sentiment  day  sentiment_1  \n",
       "0                    USA  Negative   21            0  \n",
       "1            East Aurora  Negative   21            0  \n",
       "2              Nashville   Neutral   21            1  \n",
       "3                    USA  Negative   21            0  \n",
       "4             Purgatory   Positive   21            2  \n",
       "...                  ...       ...  ...          ...  \n",
       "15041         Fort Worth  Negative   13            0  \n",
       "15042                USA  Positive   13            2  \n",
       "15043      Lehigh Valley  Negative   13            0  \n",
       "15044                USA  Positive   13            2  \n",
       "15045          Brookline   Neutral   13            1  \n",
       "\n",
       "[15046 rows x 16 columns]"
      ]
     },
     "execution_count": 99,
     "metadata": {},
     "output_type": "execute_result"
    }
   ],
   "source": [
    "df1"
   ]
  },
  {
   "cell_type": "code",
   "execution_count": 100,
   "id": "b61dd3a7",
   "metadata": {},
   "outputs": [],
   "source": [
    "cv = CountVectorizer(max_features = 1500)\n",
    "X = cv.fit_transform(all_words).toarray()\n",
    "y = df1['sentiment_1']"
   ]
  },
  {
   "cell_type": "code",
   "execution_count": 101,
   "id": "580f7c06",
   "metadata": {},
   "outputs": [],
   "source": [
    "X_train, X_test, y_train, y_test = train_test_split(X, y, test_size = 0.3, random_state = 0)\n",
    "# NEGATIVE == 0\n",
    "# NEUTRAL == 1\n",
    "# POSITIVE == 2"
   ]
  },
  {
   "cell_type": "markdown",
   "id": "9c2eeddb",
   "metadata": {},
   "source": [
    "DECISION TREE"
   ]
  },
  {
   "cell_type": "code",
   "execution_count": 102,
   "id": "0c0b80f4",
   "metadata": {},
   "outputs": [],
   "source": [
    "classifier_DT = DecisionTreeClassifier()\n",
    "classifier_DT.fit(X_train, y_train)\n",
    "y_pred_DT = classifier_DT.predict(X_test)"
   ]
  },
  {
   "cell_type": "code",
   "execution_count": 103,
   "id": "ba848885",
   "metadata": {},
   "outputs": [
    {
     "name": "stdout",
     "output_type": "stream",
     "text": [
      "Accuracy Score:  0.8068232166592822\n",
      "Precision Score:  0.8068232166592822\n",
      "Recall Score:  0.8068232166592822\n",
      "F1 Score:  0.8068232166592824\n"
     ]
    }
   ],
   "source": [
    "accuracy_score_DT = accuracy_score(y_test, y_pred_DT)\n",
    "precision_score_DT = precision_score(y_test, y_pred_DT , average = 'micro')\n",
    "recall_score_DT = recall_score(y_test, y_pred_DT , average = 'micro')\n",
    "f1_score_DT = f1_score(y_test, y_pred_DT , average = 'micro')\n",
    "print(\"Accuracy Score: \" , accuracy_score_DT)\n",
    "print(\"Precision Score: \" , precision_score_DT)\n",
    "print(\"Recall Score: \" , recall_score_DT)\n",
    "print(\"F1 Score: \" , f1_score_DT)"
   ]
  },
  {
   "cell_type": "code",
   "execution_count": 104,
   "id": "ac9a389f",
   "metadata": {},
   "outputs": [
    {
     "data": {
      "image/png": "[encoded data removed]",
      "text/plain": [
       "<Figure size 720x432 with 2 Axes>"
      ]
     },
     "metadata": {},
     "output_type": "display_data"
    }
   ],
   "source": [
    "cm_DT = confusion_matrix(y_test, y_pred_DT)\n",
    "\n",
    "      # neg # neutr  # pos\n",
    "# pos #  232   65      1397\n",
    "# neu #  87   1175     51\n",
    "# neg # 1104   82      321\n",
    "\n",
    "df_cm_DT = pd.DataFrame(cm_DT, range(3), range(3))\n",
    "plt.figure(figsize=(10,6))\n",
    "categories = ['Negative','Neutral','Positive']\n",
    "sns.set(font_scale=1.2) # for label size\n",
    "sns.heatmap(df_cm_DT, annot=True, annot_kws={\"size\": 18}, xticklabels = categories,\n",
    "            yticklabels = categories ,fmt=\"d\") # font size\n",
    "plt.ylim(0, 3)\n",
    "plt.show()"
   ]
  },
  {
   "cell_type": "markdown",
   "id": "56779484",
   "metadata": {},
   "source": [
    "RANDOM FOREST CLASSIFIER"
   ]
  },
  {
   "cell_type": "code",
   "execution_count": 105,
   "id": "8c1a236b",
   "metadata": {},
   "outputs": [],
   "source": [
    "classifier_RF = RandomForestClassifier()\n",
    "classifier_RF.fit(X_train, y_train)\n",
    "y_pred_RF = classifier_RF.predict(X_test)"
   ]
  },
  {
   "cell_type": "code",
   "execution_count": 106,
   "id": "36d448ae",
   "metadata": {},
   "outputs": [
    {
     "name": "stdout",
     "output_type": "stream",
     "text": [
      "Accuracy Score:  0.8524590163934426\n",
      "Precision Score:  0.8524590163934426\n",
      "Recall Score:  0.8524590163934426\n",
      "F1 Score:  0.8524590163934426\n"
     ]
    }
   ],
   "source": [
    "accuracy_score_RF = accuracy_score(y_test, y_pred_RF)\n",
    "precision_score_RF = precision_score(y_test, y_pred_RF , average = 'micro')\n",
    "recall_score_RF = recall_score(y_test, y_pred_RF, average = 'micro')\n",
    "f1_score_RF = f1_score(y_test, y_pred_RF, average = 'micro')\n",
    "print(\"Accuracy Score: \" , accuracy_score_RF)\n",
    "print(\"Precision Score: \" , precision_score_RF)\n",
    "print(\"Recall Score: \" , recall_score_RF)\n",
    "print(\"F1 Score: \" , f1_score_RF)"
   ]
  },
  {
   "cell_type": "code",
   "execution_count": 107,
   "id": "b0ae60cd",
   "metadata": {},
   "outputs": [
    {
     "data": {
      "image/png": "[encoded data removed]",
      "text/plain": [
       "<Figure size 720x432 with 2 Axes>"
      ]
     },
     "metadata": {},
     "output_type": "display_data"
    }
   ],
   "source": [
    "cm_RF = confusion_matrix(y_test, y_pred_RF)\n",
    "\n",
    "      # neg # neutr  # pos\n",
    "# pos # 198    92     1404\n",
    "# neu #  53   1233      27\n",
    "# neg # 1120   121     266\n",
    "\n",
    "df_cm_RF = pd.DataFrame(cm_RF, range(3), range(3))\n",
    "categories = ['Negative','Neutral','Positive']\n",
    "plt.figure(figsize=(10,6))\n",
    "sns.set(font_scale=1.2) # for label size\n",
    "sns.heatmap(df_cm_RF, annot=True, annot_kws={\"size\": 18}, xticklabels = categories,\n",
    "            yticklabels = categories,fmt=\"d\") # font size\n",
    "plt.ylim(0, 3)\n",
    "plt.show()"
   ]
  },
  {
   "cell_type": "markdown",
   "id": "a3a81973",
   "metadata": {},
   "source": [
    "NAIVE BAYES"
   ]
  },
  {
   "cell_type": "code",
   "execution_count": 108,
   "id": "716bc930",
   "metadata": {},
   "outputs": [],
   "source": [
    "classifier_NB = MultinomialNB()\n",
    "classifier_NB.fit(X_train, y_train)\n",
    "y_pred_NB = classifier_NB.predict(X_test)"
   ]
  },
  {
   "cell_type": "code",
   "execution_count": 109,
   "id": "632a55e3",
   "metadata": {},
   "outputs": [
    {
     "name": "stdout",
     "output_type": "stream",
     "text": [
      "Accuracy Score:  0.745680106335844\n",
      "Precision Score:  0.745680106335844\n",
      "Recall Score:  0.745680106335844\n",
      "F1 Score:  0.745680106335844\n"
     ]
    }
   ],
   "source": [
    "accuracy_score_NB = accuracy_score(y_test, y_pred_NB)\n",
    "precision_score_NB = precision_score(y_test, y_pred_NB , average = 'micro')\n",
    "recall_score_NB = recall_score(y_test, y_pred_NB, average = 'micro')\n",
    "f1_score_NB = f1_score(y_test, y_pred_NB, average = 'micro')\n",
    "print(\"Accuracy Score: \" , accuracy_score_NB)\n",
    "print(\"Precision Score: \" , precision_score_NB)\n",
    "print(\"Recall Score: \" , recall_score_NB)\n",
    "print(\"F1 Score: \" , f1_score_NB)"
   ]
  },
  {
   "cell_type": "code",
   "execution_count": 110,
   "id": "40d42f7d",
   "metadata": {},
   "outputs": [
    {
     "data": {
      "image/png": "[encoded data removed]",
      "text/plain": [
       "<Figure size 720x432 with 2 Axes>"
      ]
     },
     "metadata": {},
     "output_type": "display_data"
    }
   ],
   "source": [
    "cm_NB = confusion_matrix(y_test, y_pred_NB)\n",
    "\n",
    "      # neg # neutr  # pos\n",
    "# pos # 202    133     1359\n",
    "# neu # 137   931      245\n",
    "# neg # 1076  160      271\n",
    "\n",
    "df_cm_NB = pd.DataFrame(cm_NB, range(3), range(3))\n",
    "plt.figure(figsize=(10,6))\n",
    "categories = ['Negative','Neutral','Positive']\n",
    "sns.set(font_scale=1.2) # for label size\n",
    "sns.heatmap(df_cm_NB, annot=True, annot_kws={\"size\": 18}, xticklabels = categories,\n",
    "            yticklabels = categories,fmt=\"d\") # font size\n",
    "plt.ylim(0, 3)\n",
    "plt.show()"
   ]
  },
  {
   "cell_type": "markdown",
   "id": "8f97d42a",
   "metadata": {},
   "source": [
    "COMPARING THE MODELS"
   ]
  },
  {
   "cell_type": "code",
   "execution_count": 111,
   "id": "0e0e3c54",
   "metadata": {},
   "outputs": [
    {
     "data": {
      "image/png": "[encoded data removed]",
      "text/plain": [
       "<Figure size 1080x360 with 1 Axes>"
      ]
     },
     "metadata": {},
     "output_type": "display_data"
    }
   ],
   "source": [
    "Accuracy = [accuracy_score_RF, accuracy_score_DT, accuracy_score_NB]\n",
    "Methods = ['Random_Forest', 'Decision_Trees', 'Naive_Bayes']\n",
    "Accuracy_pos = np.arange(len(Methods))\n",
    "plt.bar(Accuracy_pos, Accuracy)\n",
    "plt.xticks(Accuracy_pos, Methods)\n",
    "plt.title('Comparing Accuracy Score')\n",
    "plt.show()"
   ]
  },
  {
   "cell_type": "code",
   "execution_count": 112,
   "id": "50ea88b8",
   "metadata": {},
   "outputs": [
    {
     "data": {
      "image/png": "[encoded data removed]",
      "text/plain": [
       "<Figure size 1080x360 with 1 Axes>"
      ]
     },
     "metadata": {},
     "output_type": "display_data"
    }
   ],
   "source": [
    "Precision = [precision_score_RF, precision_score_DT, precision_score_NB]\n",
    "Methods = ['Random_Forest', 'Decision_Trees', 'Naive_Bayes']\n",
    "Precision_pos = np.arange(len(Methods))\n",
    "plt.bar(Precision_pos, Precision)\n",
    "plt.xticks(Precision_pos, Methods)\n",
    "plt.title('Comparing Precision Score')\n",
    "plt.show()"
   ]
  },
  {
   "cell_type": "code",
   "execution_count": 113,
   "id": "e3909620",
   "metadata": {},
   "outputs": [
    {
     "data": {
      "image/png": "[encoded data removed]",
      "text/plain": [
       "<Figure size 1080x360 with 1 Axes>"
      ]
     },
     "metadata": {},
     "output_type": "display_data"
    }
   ],
   "source": [
    "Recall = [recall_score_RF, recall_score_DT, recall_score_NB]\n",
    "Methods = ['Random_Forest', 'Decision_Trees', 'Naive_Bayes']\n",
    "Recall_pos = np.arange(len(Methods))\n",
    "plt.bar(Recall_pos, Recall)\n",
    "plt.xticks(Recall_pos, Methods)\n",
    "plt.title('Comparing Recall Score')\n",
    "plt.show()"
   ]
  },
  {
   "cell_type": "code",
   "execution_count": 114,
   "id": "9e470221",
   "metadata": {},
   "outputs": [
    {
     "data": {
      "image/png": "[encoded data removed]",
      "text/plain": [
       "<Figure size 1080x360 with 1 Axes>"
      ]
     },
     "metadata": {},
     "output_type": "display_data"
    }
   ],
   "source": [
    "F1 = [f1_score_RF,f1_score_DT,f1_score_NB]\n",
    "Methods = ['Random_Forest', 'Decision_Trees', 'Naive_Bayes']\n",
    "F1_pos = np.arange(len(Methods))\n",
    "plt.bar(F1_pos, F1)\n",
    "plt.xticks(F1_pos, Methods)\n",
    "plt.title('Comparing F1 Score')\n",
    "plt.show()"
   ]
  },
  {
   "cell_type": "markdown",
   "id": "a9f183b0",
   "metadata": {},
   "source": [
    "IT MEANS THAT RANDOM FOREST CLASSIFIER WORKS BEST "
   ]
  },
  {
   "cell_type": "code",
   "execution_count": null,
   "id": "e6a9ad6d",
   "metadata": {},
   "outputs": [],
   "source": []
  }
 ],
 "metadata": {
  "kernelspec": {
   "display_name": "Python 3 (ipykernel)",
   "language": "python",
   "name": "python3"
  },
  "language_info": {
   "codemirror_mode": {
    "name": "ipython",
    "version": 3
   },
   "file_extension": ".py",
   "mimetype": "text/x-python",
   "name": "python",
   "nbconvert_exporter": "python",
   "pygments_lexer": "ipython3",
   "version": "3.10.1"
  }
 },
 "nbformat": 4,
 "nbformat_minor": 5
}
