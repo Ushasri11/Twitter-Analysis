{
 "cells": [
  {
   "cell_type": "code",
   "execution_count": 2,
   "id": "ad712977",
   "metadata": {},
   "outputs": [],
   "source": [
    "import re\n",
    "import numpy as np\n",
    "\n",
    "import matplotlib.pyplot as plt\n",
    "import seaborn as sns\n",
    "\n",
    "import pandas as pd\n",
    "\n",
    "import datetime as dt\n",
    "from collections import Counter\n",
    "\n",
    "import nltk\n",
    "from nltk.tokenize import sent_tokenize\n",
    "from nltk.tokenize import TweetTokenizer\n",
    "from nltk.tokenize import word_tokenize\n",
    "from nltk.corpus import words\n",
    "from nltk.corpus import stopwords\n",
    "from nltk.stem import PorterStemmer\n",
    "from nltk.stem import WordNetLemmatizer"
   ]
  },
  {
   "cell_type": "code",
   "execution_count": 3,
   "id": "ab56a58d",
   "metadata": {},
   "outputs": [
    {
     "name": "stderr",
     "output_type": "stream",
     "text": [
      "C:\\Users\\Mourya Kuntamukkala\\AppData\\Local\\Temp\\ipykernel_64892\\137815906.py:1: FutureWarning: The error_bad_lines argument has been deprecated and will be removed in a future version. Use on_bad_lines in the future.\n",
      "\n",
      "\n",
      "  df = pd.read_csv(r'C:\\Users\\Mourya Kuntamukkala\\Desktop\\Courses\\SMDM\\Final Project\\Edited\\Biden_No_Retweet_Full_Text_After_Election.csv',error_bad_lines=False)\n"
     ]
    }
   ],
   "source": [
    "df = pd.read_csv(r'C:\\Users\\Mourya Kuntamukkala\\Desktop\\Courses\\SMDM\\Final Project\\Edited\\Biden_No_Retweet_Full_Text_After_Election.csv',error_bad_lines=False)"
   ]
  },
  {
   "cell_type": "code",
   "execution_count": 4,
   "id": "271e304c",
   "metadata": {},
   "outputs": [
    {
     "data": {
      "text/html": [
       "<div>\n",
       "<style scoped>\n",
       "    .dataframe tbody tr th:only-of-type {\n",
       "        vertical-align: middle;\n",
       "    }\n",
       "\n",
       "    .dataframe tbody tr th {\n",
       "        vertical-align: top;\n",
       "    }\n",
       "\n",
       "    .dataframe thead th {\n",
       "        text-align: right;\n",
       "    }\n",
       "</style>\n",
       "<table border=\"1\" class=\"dataframe\">\n",
       "  <thead>\n",
       "    <tr style=\"text-align: right;\">\n",
       "      <th></th>\n",
       "      <th>Date</th>\n",
       "      <th>Tweet_id</th>\n",
       "      <th>Verified</th>\n",
       "      <th>Tweet</th>\n",
       "      <th>User</th>\n",
       "      <th>Location</th>\n",
       "      <th>Source</th>\n",
       "      <th>Likes</th>\n",
       "      <th>Followers</th>\n",
       "      <th>Following</th>\n",
       "      <th>Retweets</th>\n",
       "    </tr>\n",
       "  </thead>\n",
       "  <tbody>\n",
       "    <tr>\n",
       "      <th>0</th>\n",
       "      <td>2022-05-08 23:58:20+00:00</td>\n",
       "      <td>1523452270448635905</td>\n",
       "      <td>False</td>\n",
       "      <td>The fact that #BethSentUs doxxed the justices ...</td>\n",
       "      <td>SanFranSooner</td>\n",
       "      <td>NaN</td>\n",
       "      <td>Twitter for iPhone</td>\n",
       "      <td>3</td>\n",
       "      <td>285</td>\n",
       "      <td>561</td>\n",
       "      <td>2</td>\n",
       "    </tr>\n",
       "    <tr>\n",
       "      <th>1</th>\n",
       "      <td>2022-05-08 23:57:33+00:00</td>\n",
       "      <td>1523452076147179520</td>\n",
       "      <td>False</td>\n",
       "      <td>Trump complained US Navy ships ‘look ugly’: Es...</td>\n",
       "      <td>MartinJmcmah</td>\n",
       "      <td>NaN</td>\n",
       "      <td>Twitter for iPhone</td>\n",
       "      <td>2</td>\n",
       "      <td>1213</td>\n",
       "      <td>179</td>\n",
       "      <td>0</td>\n",
       "    </tr>\n",
       "    <tr>\n",
       "      <th>2</th>\n",
       "      <td>2022-05-08 23:56:51+00:00</td>\n",
       "      <td>1523451899659251712</td>\n",
       "      <td>False</td>\n",
       "      <td>Remember when #biden left Afghanistan? Why isn...</td>\n",
       "      <td>christjiminy1</td>\n",
       "      <td>NaN</td>\n",
       "      <td>Twitter for iPhone</td>\n",
       "      <td>0</td>\n",
       "      <td>8</td>\n",
       "      <td>67</td>\n",
       "      <td>0</td>\n",
       "    </tr>\n",
       "    <tr>\n",
       "      <th>3</th>\n",
       "      <td>2022-05-08 23:55:50+00:00</td>\n",
       "      <td>1523451642909061121</td>\n",
       "      <td>False</td>\n",
       "      <td>#Biden is asking for a $813,000,000,000 \"defen...</td>\n",
       "      <td>joshuamills044</td>\n",
       "      <td>NaN</td>\n",
       "      <td>Twitter for Android</td>\n",
       "      <td>0</td>\n",
       "      <td>662</td>\n",
       "      <td>1089</td>\n",
       "      <td>0</td>\n",
       "    </tr>\n",
       "    <tr>\n",
       "      <th>4</th>\n",
       "      <td>2022-05-08 23:53:44+00:00</td>\n",
       "      <td>1523451115479924741</td>\n",
       "      <td>False</td>\n",
       "      <td>@ArseGrammatica Last month, the #SCOTUS reject...</td>\n",
       "      <td>hollmic</td>\n",
       "      <td>Kansas, USA</td>\n",
       "      <td>Twitter Web App</td>\n",
       "      <td>0</td>\n",
       "      <td>89</td>\n",
       "      <td>427</td>\n",
       "      <td>0</td>\n",
       "    </tr>\n",
       "  </tbody>\n",
       "</table>\n",
       "</div>"
      ],
      "text/plain": [
       "                        Date             Tweet_id  Verified  \\\n",
       "0  2022-05-08 23:58:20+00:00  1523452270448635905     False   \n",
       "1  2022-05-08 23:57:33+00:00  1523452076147179520     False   \n",
       "2  2022-05-08 23:56:51+00:00  1523451899659251712     False   \n",
       "3  2022-05-08 23:55:50+00:00  1523451642909061121     False   \n",
       "4  2022-05-08 23:53:44+00:00  1523451115479924741     False   \n",
       "\n",
       "                                               Tweet            User  \\\n",
       "0  The fact that #BethSentUs doxxed the justices ...   SanFranSooner   \n",
       "1  Trump complained US Navy ships ‘look ugly’: Es...    MartinJmcmah   \n",
       "2  Remember when #biden left Afghanistan? Why isn...   christjiminy1   \n",
       "3  #Biden is asking for a $813,000,000,000 \"defen...  joshuamills044   \n",
       "4  @ArseGrammatica Last month, the #SCOTUS reject...         hollmic   \n",
       "\n",
       "      Location               Source  Likes  Followers  Following  Retweets  \n",
       "0          NaN   Twitter for iPhone      3        285        561         2  \n",
       "1          NaN   Twitter for iPhone      2       1213        179         0  \n",
       "2          NaN   Twitter for iPhone      0          8         67         0  \n",
       "3          NaN  Twitter for Android      0        662       1089         0  \n",
       "4  Kansas, USA      Twitter Web App      0         89        427         0  "
      ]
     },
     "execution_count": 4,
     "metadata": {},
     "output_type": "execute_result"
    }
   ],
   "source": [
    "df.head()"
   ]
  },
  {
   "cell_type": "code",
   "execution_count": 5,
   "id": "8115f6f6",
   "metadata": {},
   "outputs": [
    {
     "name": "stdout",
     "output_type": "stream",
     "text": [
      "<class 'pandas.core.frame.DataFrame'>\n",
      "RangeIndex: 13658 entries, 0 to 13657\n",
      "Data columns (total 11 columns):\n",
      " #   Column     Non-Null Count  Dtype \n",
      "---  ------     --------------  ----- \n",
      " 0   Date       13658 non-null  object\n",
      " 1   Tweet_id   13658 non-null  int64 \n",
      " 2   Verified   13658 non-null  bool  \n",
      " 3   Tweet      13658 non-null  object\n",
      " 4   User       13658 non-null  object\n",
      " 5   Location   9021 non-null   object\n",
      " 6   Source     13658 non-null  object\n",
      " 7   Likes      13658 non-null  int64 \n",
      " 8   Followers  13658 non-null  int64 \n",
      " 9   Following  13658 non-null  int64 \n",
      " 10  Retweets   13658 non-null  int64 \n",
      "dtypes: bool(1), int64(5), object(5)\n",
      "memory usage: 1.1+ MB\n"
     ]
    }
   ],
   "source": [
    "df.info()"
   ]
  },
  {
   "cell_type": "code",
   "execution_count": 6,
   "id": "0a9dd7e7",
   "metadata": {},
   "outputs": [
    {
     "data": {
      "text/plain": [
       "(13658, 11)"
      ]
     },
     "execution_count": 6,
     "metadata": {},
     "output_type": "execute_result"
    }
   ],
   "source": [
    "df.shape"
   ]
  },
  {
   "cell_type": "markdown",
   "id": "3542a601",
   "metadata": {},
   "source": [
    "Preprocessing"
   ]
  },
  {
   "cell_type": "code",
   "execution_count": 7,
   "id": "e19a3ad8",
   "metadata": {},
   "outputs": [
    {
     "data": {
      "text/html": [
       "<div>\n",
       "<style scoped>\n",
       "    .dataframe tbody tr th:only-of-type {\n",
       "        vertical-align: middle;\n",
       "    }\n",
       "\n",
       "    .dataframe tbody tr th {\n",
       "        vertical-align: top;\n",
       "    }\n",
       "\n",
       "    .dataframe thead th {\n",
       "        text-align: right;\n",
       "    }\n",
       "</style>\n",
       "<table border=\"1\" class=\"dataframe\">\n",
       "  <thead>\n",
       "    <tr style=\"text-align: right;\">\n",
       "      <th></th>\n",
       "      <th>Date</th>\n",
       "      <th>Tweet_id</th>\n",
       "      <th>Verified</th>\n",
       "      <th>Tweet</th>\n",
       "      <th>User</th>\n",
       "      <th>Location</th>\n",
       "      <th>Source</th>\n",
       "      <th>Likes</th>\n",
       "      <th>Followers</th>\n",
       "      <th>Following</th>\n",
       "      <th>Retweets</th>\n",
       "    </tr>\n",
       "  </thead>\n",
       "  <tbody>\n",
       "    <tr>\n",
       "      <th>0</th>\n",
       "      <td>2022-05-08 23:58:20</td>\n",
       "      <td>1523452270448635905</td>\n",
       "      <td>False</td>\n",
       "      <td>The fact that #BethSentUs doxxed the justices ...</td>\n",
       "      <td>SanFranSooner</td>\n",
       "      <td>NaN</td>\n",
       "      <td>Twitter for iPhone</td>\n",
       "      <td>3</td>\n",
       "      <td>285</td>\n",
       "      <td>561</td>\n",
       "      <td>2</td>\n",
       "    </tr>\n",
       "    <tr>\n",
       "      <th>1</th>\n",
       "      <td>2022-05-08 23:57:33</td>\n",
       "      <td>1523452076147179520</td>\n",
       "      <td>False</td>\n",
       "      <td>Trump complained US Navy ships ‘look ugly’: Es...</td>\n",
       "      <td>MartinJmcmah</td>\n",
       "      <td>NaN</td>\n",
       "      <td>Twitter for iPhone</td>\n",
       "      <td>2</td>\n",
       "      <td>1213</td>\n",
       "      <td>179</td>\n",
       "      <td>0</td>\n",
       "    </tr>\n",
       "    <tr>\n",
       "      <th>2</th>\n",
       "      <td>2022-05-08 23:56:51</td>\n",
       "      <td>1523451899659251712</td>\n",
       "      <td>False</td>\n",
       "      <td>Remember when #biden left Afghanistan? Why isn...</td>\n",
       "      <td>christjiminy1</td>\n",
       "      <td>NaN</td>\n",
       "      <td>Twitter for iPhone</td>\n",
       "      <td>0</td>\n",
       "      <td>8</td>\n",
       "      <td>67</td>\n",
       "      <td>0</td>\n",
       "    </tr>\n",
       "    <tr>\n",
       "      <th>3</th>\n",
       "      <td>2022-05-08 23:55:50</td>\n",
       "      <td>1523451642909061121</td>\n",
       "      <td>False</td>\n",
       "      <td>#Biden is asking for a $813,000,000,000 \"defen...</td>\n",
       "      <td>joshuamills044</td>\n",
       "      <td>NaN</td>\n",
       "      <td>Twitter for Android</td>\n",
       "      <td>0</td>\n",
       "      <td>662</td>\n",
       "      <td>1089</td>\n",
       "      <td>0</td>\n",
       "    </tr>\n",
       "    <tr>\n",
       "      <th>4</th>\n",
       "      <td>2022-05-08 23:53:44</td>\n",
       "      <td>1523451115479924741</td>\n",
       "      <td>False</td>\n",
       "      <td>@ArseGrammatica Last month, the #SCOTUS reject...</td>\n",
       "      <td>hollmic</td>\n",
       "      <td>Kansas, USA</td>\n",
       "      <td>Twitter Web App</td>\n",
       "      <td>0</td>\n",
       "      <td>89</td>\n",
       "      <td>427</td>\n",
       "      <td>0</td>\n",
       "    </tr>\n",
       "  </tbody>\n",
       "</table>\n",
       "</div>"
      ],
      "text/plain": [
       "                  Date             Tweet_id  Verified  \\\n",
       "0  2022-05-08 23:58:20  1523452270448635905     False   \n",
       "1  2022-05-08 23:57:33  1523452076147179520     False   \n",
       "2  2022-05-08 23:56:51  1523451899659251712     False   \n",
       "3  2022-05-08 23:55:50  1523451642909061121     False   \n",
       "4  2022-05-08 23:53:44  1523451115479924741     False   \n",
       "\n",
       "                                               Tweet            User  \\\n",
       "0  The fact that #BethSentUs doxxed the justices ...   SanFranSooner   \n",
       "1  Trump complained US Navy ships ‘look ugly’: Es...    MartinJmcmah   \n",
       "2  Remember when #biden left Afghanistan? Why isn...   christjiminy1   \n",
       "3  #Biden is asking for a $813,000,000,000 \"defen...  joshuamills044   \n",
       "4  @ArseGrammatica Last month, the #SCOTUS reject...         hollmic   \n",
       "\n",
       "      Location               Source  Likes  Followers  Following  Retweets  \n",
       "0          NaN   Twitter for iPhone      3        285        561         2  \n",
       "1          NaN   Twitter for iPhone      2       1213        179         0  \n",
       "2          NaN   Twitter for iPhone      0          8         67         0  \n",
       "3          NaN  Twitter for Android      0        662       1089         0  \n",
       "4  Kansas, USA      Twitter Web App      0         89        427         0  "
      ]
     },
     "execution_count": 7,
     "metadata": {},
     "output_type": "execute_result"
    }
   ],
   "source": [
    "df['Date'] = df['Date'].apply(lambda x: x[:-6] if '+' in x else x)\n",
    "df.head()"
   ]
  },
  {
   "cell_type": "code",
   "execution_count": 8,
   "id": "08407bae",
   "metadata": {},
   "outputs": [],
   "source": [
    "df['Date'] = df['Date'].apply(lambda x: dt.datetime.strptime(x,'%Y-%m-%d %H:%M:%S')) #Convert to date time format"
   ]
  },
  {
   "cell_type": "code",
   "execution_count": 9,
   "id": "722fb3c7",
   "metadata": {},
   "outputs": [
    {
     "data": {
      "text/plain": [
       "Date            0\n",
       "Tweet_id        0\n",
       "Verified        0\n",
       "Tweet           0\n",
       "User            0\n",
       "Location     4637\n",
       "Source          0\n",
       "Likes           0\n",
       "Followers       0\n",
       "Following       0\n",
       "Retweets        0\n",
       "dtype: int64"
      ]
     },
     "execution_count": 9,
     "metadata": {},
     "output_type": "execute_result"
    }
   ],
   "source": [
    "df.isnull().sum()"
   ]
  },
  {
   "cell_type": "code",
   "execution_count": 10,
   "id": "3396ea0e",
   "metadata": {},
   "outputs": [
    {
     "data": {
      "text/plain": [
       "Twitter Web App        4930\n",
       "Twitter for iPhone     3811\n",
       "Twitter for Android    2896\n",
       "Twitter for iPad        517\n",
       "Valurank                354\n",
       "                       ... \n",
       "eClincher                 1\n",
       "Infokalyptisch            1\n",
       "The Tweeted Times         1\n",
       "SocialChamp IO            1\n",
       "Bot Sentinel              1\n",
       "Name: Source, Length: 119, dtype: int64"
      ]
     },
     "execution_count": 10,
     "metadata": {},
     "output_type": "execute_result"
    }
   ],
   "source": [
    "df['Source'].value_counts()"
   ]
  },
  {
   "cell_type": "code",
   "execution_count": 11,
   "id": "dc871996",
   "metadata": {},
   "outputs": [
    {
     "data": {
      "text/plain": [
       "2490"
      ]
     },
     "execution_count": 11,
     "metadata": {},
     "output_type": "execute_result"
    }
   ],
   "source": [
    "df['Location'].nunique()"
   ]
  },
  {
   "cell_type": "code",
   "execution_count": 12,
   "id": "e3c72956",
   "metadata": {},
   "outputs": [
    {
     "data": {
      "text/plain": [
       "13658"
      ]
     },
     "execution_count": 12,
     "metadata": {},
     "output_type": "execute_result"
    }
   ],
   "source": [
    "tweets_list = df['Tweet'].tolist()\n",
    "len(tweets_list)"
   ]
  },
  {
   "cell_type": "code",
   "execution_count": 13,
   "id": "fd415d93",
   "metadata": {},
   "outputs": [
    {
     "data": {
      "text/plain": [
       "13525"
      ]
     },
     "execution_count": 13,
     "metadata": {},
     "output_type": "execute_result"
    }
   ],
   "source": [
    "tweets_list_updated = set(tweets_list)\n",
    "len(tweets_list_updated)"
   ]
  },
  {
   "cell_type": "code",
   "execution_count": 14,
   "id": "619826fd",
   "metadata": {},
   "outputs": [
    {
     "data": {
      "text/plain": [
       "list"
      ]
     },
     "execution_count": 14,
     "metadata": {},
     "output_type": "execute_result"
    }
   ],
   "source": [
    "tweets_list_updated  = list(tweets_list_updated)\n",
    "type(tweets_list_updated)"
   ]
  },
  {
   "cell_type": "code",
   "execution_count": 16,
   "id": "ec7df1b3",
   "metadata": {},
   "outputs": [
    {
     "data": {
      "text/plain": [
       "133"
      ]
     },
     "execution_count": 16,
     "metadata": {},
     "output_type": "execute_result"
    }
   ],
   "source": [
    "df['Tweet'].duplicated().sum()"
   ]
  },
  {
   "cell_type": "code",
   "execution_count": 17,
   "id": "ec928741",
   "metadata": {},
   "outputs": [
    {
     "data": {
      "text/plain": [
       "(13525, 11)"
      ]
     },
     "execution_count": 17,
     "metadata": {},
     "output_type": "execute_result"
    }
   ],
   "source": [
    "df = df.drop_duplicates(subset = 'Tweet', keep = 'first',ignore_index = True)\n",
    "df.shape"
   ]
  },
  {
   "cell_type": "code",
   "execution_count": 18,
   "id": "422223c7",
   "metadata": {},
   "outputs": [
    {
     "data": {
      "text/plain": [
       "0"
      ]
     },
     "execution_count": 18,
     "metadata": {},
     "output_type": "execute_result"
    }
   ],
   "source": [
    "df['Tweet'].duplicated().sum()"
   ]
  },
  {
   "cell_type": "markdown",
   "id": "d63c1680",
   "metadata": {},
   "source": [
    "removing emojis"
   ]
  },
  {
   "cell_type": "code",
   "execution_count": 20,
   "id": "4cdaab2a",
   "metadata": {},
   "outputs": [],
   "source": [
    "def remove_emoji(tweet):\n",
    "    emoji_pattern = re.compile(\"[\"\n",
    "            u\"\\U0001F600-\\U0001F64F\"  # emoticons\n",
    "            u\"\\U0001F300-\\U0001F5FF\"  # symbols & pictographs\n",
    "            u\"\\U0001F680-\\U0001F6FF\"  # transport & map symbols\n",
    "            u\"\\U0001F1E0-\\U0001F1FF\"  # flags (iOS)\n",
    "                               \"]+\", flags=re.UNICODE)\n",
    "    return emoji_pattern.sub(r'', tweet)\n",
    "\n",
    "df['Processed_Tweet']=df.Tweet.apply(remove_emoji)"
   ]
  },
  {
   "cell_type": "code",
   "execution_count": 21,
   "id": "e1ce4e25",
   "metadata": {},
   "outputs": [
    {
     "data": {
      "text/plain": [
       "0"
      ]
     },
     "execution_count": 21,
     "metadata": {},
     "output_type": "execute_result"
    }
   ],
   "source": [
    "count = 0\n",
    "for i in df['Processed_Tweet']:\n",
    "    if re.match(r'^RT', i):  #remove any rows that contain RT\n",
    "        df.drop(df.loc[df['Processed_Tweet']==i].index,inplace = True)\n",
    "        count+=1\n",
    "    \n",
    "count"
   ]
  },
  {
   "cell_type": "markdown",
   "id": "6d236015",
   "metadata": {},
   "source": [
    "removing retweets that is the tweet which has RT"
   ]
  },
  {
   "cell_type": "code",
   "execution_count": 22,
   "id": "67a195e1",
   "metadata": {},
   "outputs": [],
   "source": [
    "df['Processed_Tweet'] = [re.sub('^RT[\\s]','',i) for i in df['Processed_Tweet']]  #Remove RT substring"
   ]
  },
  {
   "cell_type": "code",
   "execution_count": null,
   "id": "5009a05f",
   "metadata": {},
   "outputs": [],
   "source": [
    "df['Processed_Tweet']"
   ]
  },
  {
   "cell_type": "markdown",
   "id": "6ed9b441",
   "metadata": {},
   "source": [
    "removing usernames and urls"
   ]
  },
  {
   "cell_type": "code",
   "execution_count": 25,
   "id": "b1eca4d8",
   "metadata": {},
   "outputs": [],
   "source": [
    "df['Processed_Tweet'] = [re.sub('@[^\\s]+', ' ', i) for i in df['Processed_Tweet']] #remove usernames\n",
    "df['Processed_Tweet'] = [re.sub('((www\\.[^\\s]+)|(https?://[^\\s]+))', '', i) for i in df['Processed_Tweet']] #Remove urls"
   ]
  },
  {
   "cell_type": "markdown",
   "id": "0d0342fa",
   "metadata": {},
   "source": [
    "removing the hashtags symbol from the tweets"
   ]
  },
  {
   "cell_type": "code",
   "execution_count": 27,
   "id": "f2751da3",
   "metadata": {},
   "outputs": [],
   "source": [
    "df['Processed_Tweet'] = [re.sub(r'#([^\\s]+)', r'\\1', i) for i in df['Processed_Tweet']] # remove the # in #hashtag"
   ]
  },
  {
   "cell_type": "markdown",
   "id": "ba493c21",
   "metadata": {},
   "source": [
    "using library to preprocess the tweets"
   ]
  },
  {
   "cell_type": "code",
   "execution_count": 29,
   "id": "7bb526b6",
   "metadata": {},
   "outputs": [
    {
     "data": {
      "text/plain": [
       "0        The fact that BethSentUs doxxed the justices w...\n",
       "1        Trump complained US Navy ships look ugly: Espe...\n",
       "2        Remember when biden left Afghanistan? Why isnt...\n",
       "3        Biden is asking for a $813,000,000,000 \"defens...\n",
       "4        Last month, the SCOTUS rejected the Biden admi...\n",
       "                               ...                        \n",
       "13520    Voldemort is back!** This post has been flagge...\n",
       "13521    Biden will have to either boycott G20Indonesia...\n",
       "13522    Ex-Biden aide Francis Person went to White Hou...\n",
       "13523    Did Biden compromise national security by gree...\n",
       "13524    Only fools do not believe in the possibility o...\n",
       "Name: Processed_Tweet, Length: 13525, dtype: object"
      ]
     },
     "execution_count": 29,
     "metadata": {},
     "output_type": "execute_result"
    }
   ],
   "source": [
    "import preprocessor as p #Module for faster preprocessing specifically for tweets\n",
    "df['Processed_Tweet'] = [p.clean(i) for i in df['Processed_Tweet']]\n",
    "df['Processed_Tweet']"
   ]
  },
  {
   "cell_type": "code",
   "execution_count": 31,
   "id": "438a4137",
   "metadata": {},
   "outputs": [
    {
     "name": "stderr",
     "output_type": "stream",
     "text": [
      "C:\\Users\\Mourya Kuntamukkala\\AppData\\Local\\Temp\\ipykernel_64892\\1181258175.py:2: FutureWarning: The default value of regex will change from True to False in a future version.\n",
      "  df.Processed_Tweet = df.Processed_Tweet.str.replace(\"[^a-zA-Z]\", \" \")\n"
     ]
    }
   ],
   "source": [
    "#removing unnecessary special characters, numbers, punctuations in tweets\n",
    "df.Processed_Tweet = df.Processed_Tweet.str.replace(\"[^a-zA-Z]\", \" \")"
   ]
  },
  {
   "cell_type": "code",
   "execution_count": 32,
   "id": "e2c2b8b3",
   "metadata": {},
   "outputs": [],
   "source": [
    "df.Processed_Tweet = [low.lower() for low in df.Processed_Tweet] #Converting into lower case \n",
    "df.Processed_Tweet =  df.Processed_Tweet.str.replace(\"amp\", \"\")"
   ]
  },
  {
   "cell_type": "code",
   "execution_count": 33,
   "id": "d4e42623",
   "metadata": {},
   "outputs": [
    {
     "data": {
      "text/plain": [
       "'blame biden fauci for childrens mentalhealth masksisolation in homes  mins nbc'"
      ]
     },
     "execution_count": 33,
     "metadata": {},
     "output_type": "execute_result"
    }
   ],
   "source": [
    "df['Processed_Tweet'][12] #Sample tweet"
   ]
  },
  {
   "cell_type": "markdown",
   "id": "29fd3835",
   "metadata": {},
   "source": [
    "Exploratory data analysis"
   ]
  },
  {
   "cell_type": "code",
   "execution_count": 34,
   "id": "4b936ed0",
   "metadata": {},
   "outputs": [
    {
     "data": {
      "text/plain": [
       "valurank           354\n",
       "kk131066           197\n",
       "AdorateJesus       125\n",
       "RethinkingEve      105\n",
       "dreyfus_michael     89\n",
       "                  ... \n",
       "hamid43542842        1\n",
       "TryNPuma             1\n",
       "Conscie_             1\n",
       "ChukwumaOdelugo      1\n",
       "ttstrac              1\n",
       "Name: User, Length: 6182, dtype: int64"
      ]
     },
     "execution_count": 34,
     "metadata": {},
     "output_type": "execute_result"
    }
   ],
   "source": [
    "df['User'].value_counts()"
   ]
  },
  {
   "cell_type": "code",
   "execution_count": 35,
   "id": "79007c30",
   "metadata": {},
   "outputs": [
    {
     "data": {
      "text/plain": [
       "['content analysis this article scores       the complete report can be viewed here   i m a bot president biden',\n",
       " 'content analysis this article scores       the complete report can be viewed here   i m a bot biden centern',\n",
       " 'content analysis this article scores       the complete report can be viewed here   i m a bot biden strategie',\n",
       " 'content analysis this article scores       the complete report can be viewed here   i m a bot ukraine biden',\n",
       " 'content analysis this article scores       the complete report can be viewed here   i m a bot ukraine biden',\n",
       " 'content analysis this article scores       the complete report can be viewed here   i m a bot     mules clinton russia biden',\n",
       " 'content analysis this article scores       the complete report can be viewed here   i m a bot president biden',\n",
       " 'content analysis this article scores       the complete report can be viewed here   i m a bot president biden',\n",
       " 'content analysis this article scores       the complete report can be viewed here   i m a bot biden lasvegas',\n",
       " 'content analysis this article scores       the complete report can be viewed here   i m a bot president biden',\n",
       " 'content analysis this article scores       the complete report can be viewed here   i m a bot biden tories',\n",
       " 'content analysis this article scores       the complete report can be viewed here   i m a bot president biden',\n",
       " 'content analysis this article scores       the complete report can be viewed here   i m a bot president biden',\n",
       " 'content analysis this article scores       the complete report can be viewed here   i m a bot president biden',\n",
       " 'content analysis this article scores       the complete report can be viewed here   i m a bot president biden',\n",
       " 'content analysis this article scores       the complete report can be viewed here   i m a bot president biden',\n",
       " 'content analysis this article scores       the complete report can be viewed here   i m a bot president biden',\n",
       " 'content analysis this article scores       the complete report can be viewed here   i m a bot president biden',\n",
       " 'content analysis this article scores       the complete report can be viewed here   i m a bot ukraine biden',\n",
       " 'content analysis this article scores       the complete report can be viewed here   i m a bot biden america',\n",
       " 'content analysis this article scores       the complete report can be viewed here   i m a bot biden california',\n",
       " 'content analysis this article scores       the complete report can be viewed here   i m a bot ukraine biden',\n",
       " 'content analysis this article scores       the complete report can be viewed here   i m a bot ukraine biden',\n",
       " 'content analysis this article scores       the complete report can be viewed here   i m a bot biden america',\n",
       " 'content analysis this article scores       the complete report can be viewed here   i m a bot biden america',\n",
       " 'content analysis this article scores       the complete report can be viewed here   i m a bot biden massive',\n",
       " 'content analysis this article scores       the complete report can be viewed here   i m a bot biden america',\n",
       " 'content analysis this article scores       the complete report can be viewed here   i m a bot ukraine biden',\n",
       " 'content analysis this article scores       the complete report can be viewed here   i m a bot biden price',\n",
       " 'content analysis this article scores       the complete report can be viewed here   i m a bot biden america',\n",
       " 'content analysis this article scores       the complete report can be viewed here   i m a bot government biden',\n",
       " 'content analysis this article scores       the complete report can be viewed here   i m a bot investinyou friends biden',\n",
       " 'content analysis this article scores       the complete report can be viewed here   i m a bot government biden',\n",
       " 'content analysis this article scores       the complete report can be viewed here   i m a bot biden taylor',\n",
       " 'content analysis this article scores       the complete report can be viewed here   i m a bot ukraine biden',\n",
       " 'content analysis this article scores       the complete report can be viewed here   i m a bot biden palestinian',\n",
       " 'content analysis this article scores       the complete report can be viewed here   i m a bot biden original',\n",
       " 'content analysis this article scores       the complete report can be viewed here   i m a bot ukraine biden',\n",
       " 'content analysis this article scores       the complete report can be viewed here   i m a bot thesaracartershow biden russia',\n",
       " 'content analysis this article scores       the complete report can be viewed here   i m a bot covid biden',\n",
       " 'content analysis this article scores       the complete report can be viewed here   i m a bot ukraine biden',\n",
       " 'content analysis this article scores       the complete report can be viewed here   i m a bot ukraine biden',\n",
       " 'content analysis this article scores       the complete report can be viewed here   i m a bot biden california',\n",
       " 'content analysis this article scores       the complete report can be viewed here   i m a bot biden taylor',\n",
       " 'content analysis this article scores       the complete report can be viewed here   i m a bot biden massive',\n",
       " 'content analysis this article scores       the complete report can be viewed here   i m a bot biden original',\n",
       " 'content analysis this article scores       the complete report can be viewed here   i m a bot biden politician',\n",
       " 'content analysis this article scores       the complete report can be viewed here   i m a bot covid biden',\n",
       " 'content analysis this article scores       the complete report can be viewed here   i m a bot ukraine biden',\n",
       " 'content analysis this article scores       the complete report can be viewed here   i m a bot biden america',\n",
       " 'content analysis this article scores       the complete report can be viewed here   i m a bot biden thomas',\n",
       " 'content analysis this article scores       the complete report can be viewed here   i m a bot biden polit',\n",
       " 'content analysis this article scores       the complete report can be viewed here   i m a bot ukraine biden',\n",
       " 'content analysis this article scores       the complete report can be viewed here   i m a bot president biden',\n",
       " 'content analysis this article scores       the complete report can be viewed here   i m a bot president biden',\n",
       " 'content analysis this article scores       the complete report can be viewed here   i m a bot president biden',\n",
       " 'content analysis this article scores       the complete report can be viewed here   i m a bot money biden',\n",
       " 'content analysis this article scores       the complete report can be viewed here   i m a bot biden taylor',\n",
       " 'content analysis this article scores       the complete report can be viewed here   i m a bot president biden',\n",
       " 'content analysis this article scores       the complete report can be viewed here   i m a bot president biden',\n",
       " 'content analysis this article scores       the complete report can be viewed here   i m a bot president biden',\n",
       " 'content analysis this article scores       the complete report can be viewed here   i m a bot president biden',\n",
       " 'content analysis this article scores       the complete report can be viewed here   i m a bot president biden',\n",
       " 'content analysis this article scores       the complete report can be viewed here   i m a bot president biden',\n",
       " 'content analysis this article scores       the complete report can be viewed here   i m a bot biden major',\n",
       " 'content analysis this article scores       the complete report can be viewed here   i m a bot biden democrats',\n",
       " 'content analysis this article scores       the complete report can be viewed here   i m a bot ukraine biden',\n",
       " 'content analysis this article scores       the complete report can be viewed here   i m a bot biden america',\n",
       " 'content analysis this article scores       the complete report can be viewed here   i m a bot ukraine biden',\n",
       " 'content analysis this article scores       the complete report can be viewed here   i m a bot biden democrats',\n",
       " 'content analysis this article scores       the complete report can be viewed here   i m a bot biden whitehouse',\n",
       " 'content analysis this article scores       the complete report can be viewed here   i m a bot biden russia',\n",
       " 'content analysis this article scores       the complete report can be viewed here   i m a bot biden russia',\n",
       " 'content analysis this article scores       the complete report can be viewed here   i m a bot armaments ukraine russia joebiden usa ukrainewar biden russian',\n",
       " 'content analysis this article scores       the complete report can be viewed here   i m a bot biden america',\n",
       " 'content analysis this article scores       the complete report can be viewed here   i m a bot biden russia',\n",
       " 'content analysis this article scores       the complete report can be viewed here   i m a bot biden covid  ',\n",
       " 'content analysis this article scores       the complete report can be viewed here   i m a bot biden america',\n",
       " 'content analysis this article scores       the complete report can be viewed here   i m a bot biden taylor',\n",
       " 'content analysis this article scores       the complete report can be viewed here   i m a bot biden russian',\n",
       " 'content analysis this article scores       the complete report can be viewed here   i m a bot president biden',\n",
       " 'content analysis this article scores       the complete report can be viewed here   i m a bot president biden',\n",
       " 'content analysis this article scores       the complete report can be viewed here   i m a bot oann biden florida',\n",
       " 'content analysis this article scores       the complete report can be viewed here   i m a bot president biden',\n",
       " 'content analysis this article scores       the complete report can be viewed here   i m a bot ukraine biden',\n",
       " 'content analysis this article scores       the complete report can be viewed here   i m a bot arynews ukraine biden',\n",
       " 'content analysis this article scores       the complete report can be viewed here   i m a bot ukraine biden',\n",
       " 'content analysis this article scores       the complete report can be viewed here   i m a bot biden kevin',\n",
       " 'content analysis this article scores       the complete report can be viewed here   i m a bot biden conference',\n",
       " 'content analysis this article scores       the complete report can be viewed here   i m a bot biden democrats',\n",
       " 'content analysis this article scores       the complete report can be viewed here   i m a bot biden democrats',\n",
       " 'content analysis this article scores       the complete report can be viewed here   i m a bot president biden',\n",
       " 'content analysis this article scores       the complete report can be viewed here   i m a bot president biden',\n",
       " 'content analysis this article scores       the complete report can be viewed here   i m a bot president biden',\n",
       " 'content analysis this article scores       the complete report can be viewed here   i m a bot biden conservative',\n",
       " 'content analysis this article scores       the complete report can be viewed here   i m a bot biden taylor',\n",
       " 'content analysis this article scores       the complete report can be viewed here   i m a bot covid biden',\n",
       " 'content analysis this article scores       the complete report can be viewed here   i m a bot biden andrsmanuellpezobrador',\n",
       " 'content analysis this article scores       the complete report can be viewed here   i m a bot ukraine biden',\n",
       " 'content analysis this article scores       the complete report can be viewed here   i m a bot ukraine biden',\n",
       " 'content analysis this article scores       the complete report can be viewed here   i m a bot covid biden',\n",
       " 'content analysis this article scores       the complete report can be viewed here   i m a bot biden america',\n",
       " 'content analysis this article scores       the complete report can be viewed here   i m a bot president biden',\n",
       " 'content analysis this article scores       the complete report can be viewed here   i m a bot ukraine biden',\n",
       " 'content analysis this article scores       the complete report can be viewed here   i m a bot president biden',\n",
       " 'content analysis this article scores       the complete report can be viewed here   i m a bot ukraine biden',\n",
       " 'content analysis this article scores       the complete report can be viewed here   i m a bot biden america',\n",
       " 'content analysis this article scores       the complete report can be viewed here   i m a bot ukraine biden',\n",
       " 'content analysis this article scores       the complete report can be viewed here   i m a bot biden david',\n",
       " 'content analysis this article scores       the complete report can be viewed here   i m a bot biden republicans',\n",
       " 'content analysis this article scores       the complete report can be viewed here   i m a bot tiktok biden',\n",
       " 'content analysis this article scores       the complete report can be viewed here   i m a bot ukraine biden',\n",
       " 'content analysis this article scores       the complete report can be viewed here   i m a bot biden scotus',\n",
       " 'content analysis this article scores       the complete report can be viewed here   i m a bot decision     ukraine biden',\n",
       " 'content analysis this article scores       the complete report can be viewed here   i m a bot ukraine biden',\n",
       " 'content analysis this article scores       the complete report can be viewed here   i m a bot ukraine biden',\n",
       " 'content analysis this article scores       the complete report can be viewed here   i m a bot ukraine biden',\n",
       " 'content analysis this article scores       the complete report can be viewed here   i m a bot biden america',\n",
       " 'content analysis this article scores       the complete report can be viewed here   i m a bot biden karinejeanpierre',\n",
       " 'content analysis this article scores       the complete report can be viewed here   i m a bot ukraine biden',\n",
       " 'content analysis this article scores       the complete report can be viewed here   i m a bot biden scotus',\n",
       " 'content analysis this article scores       the complete report can be viewed here   i m a bot biden trent',\n",
       " 'content analysis this article scores       the complete report can be viewed here   i m a bot ukraine biden',\n",
       " 'content analysis this article scores       the complete report can be viewed here   i m a bot biden witness',\n",
       " 'content analysis this article scores       the complete report can be viewed here   i m a bot biden america',\n",
       " 'content analysis this article scores       the complete report can be viewed here   i m a bot ukraine biden',\n",
       " 'content analysis this article scores       the complete report can be viewed here   i m a bot biden david',\n",
       " 'content analysis this article scores       the complete report can be viewed here   i m a bot biden covid  ',\n",
       " 'content analysis this article scores       the complete report can be viewed here   i m a bot black biden',\n",
       " 'content analysis this article scores       the complete report can be viewed here   i m a bot biden fiscal',\n",
       " 'content analysis this article scores       the complete report can be viewed here   i m a bot black biden',\n",
       " 'content analysis this article scores       the complete report can be viewed here   i m a bot black biden',\n",
       " 'content analysis this article scores       the complete report can be viewed here   i m a bot black biden',\n",
       " 'content analysis this article scores       the complete report can be viewed here   i m a bot biden anita',\n",
       " 'content analysis this article scores       the complete report can be viewed here   i m a bot biden details',\n",
       " 'content analysis this article scores       the complete report can be viewed here   i m a bot biden voted',\n",
       " 'content analysis this article scores       the complete report can be viewed here   i m a bot biden thefed',\n",
       " 'content analysis this article scores       the complete report can be viewed here   i m a bot opec biden russian',\n",
       " 'content analysis this article scores       the complete report can be viewed here   i m a bot ukraine biden',\n",
       " 'content analysis this article scores       the complete report can be viewed here   i m a bot biden witness',\n",
       " 'content analysis this article scores       the complete report can be viewed here   i m a bot biden russia',\n",
       " 'content analysis this article scores       the complete report can be viewed here   i m a bot biden supremecourt',\n",
       " 'content analysis this article scores       the complete report can be viewed here   i m a bot biden theoffice',\n",
       " 'content analysis this article scores       the complete report can be viewed here   i m a bot biden supremecourt',\n",
       " 'content analysis this article scores       the complete report can be viewed here   i m a bot biden russia',\n",
       " 'content analysis this article scores       the complete report can be viewed here   i m a bot biden opinion',\n",
       " 'content analysis this article scores       the complete report can be viewed here   i m a bot biden opinion',\n",
       " 'content analysis this article scores       the complete report can be viewed here   i m a bot biden details',\n",
       " 'content analysis this article scores       the complete report can be viewed here   i m a bot biden david',\n",
       " 'content analysis this article scores       the complete report can be viewed here   i m a bot cincodemayo biden details',\n",
       " 'content analysis this article scores       the complete report can be viewed here   i m a bot ukraine biden',\n",
       " 'content analysis this article scores       the complete report can be viewed here   i m a bot ukraine biden',\n",
       " 'content analysis this article scores       the complete report can be viewed here   i m a bot ukraine biden',\n",
       " 'content analysis this article scores       the complete report can be viewed here   i m a bot biden russia',\n",
       " 'content analysis this article scores       the complete report can be viewed here   i m a bot ukraine biden',\n",
       " 'content analysis this article scores       the complete report can be viewed here   i m a bot biden kimkardashian',\n",
       " 'content analysis this article scores       the complete report can be viewed here   i m a bot ukraine biden',\n",
       " 'content analysis this article scores       the complete report can be viewed here   i m a bot biden russia',\n",
       " 'content analysis this article scores       the complete report can be viewed here   i m a bot bitcoin ethereum biden metaverse',\n",
       " 'content analysis this article scores       the complete report can be viewed here   i m a bot biden bitcoin',\n",
       " 'content analysis this article scores       the complete report can be viewed here   i m a bot rireport president biden',\n",
       " 'content analysis this article scores       the complete report can be viewed here   i m a bot biden russia',\n",
       " 'content analysis this article scores       the complete report can be viewed here   i m a bot biden republicans',\n",
       " 'content analysis this article scores       the complete report can be viewed here   i m a bot supremecourt biden',\n",
       " 'content analysis this article scores       the complete report can be viewed here   i m a bot biden scotus',\n",
       " 'content analysis this article scores       the complete report can be viewed here   i m a bot biden bishop',\n",
       " 'content analysis this article scores       the complete report can be viewed here   i m a bot biden significa',\n",
       " 'content analysis this article scores       the complete report can be viewed here   i m a bot biden paris',\n",
       " 'content analysis this article scores       the complete report can be viewed here   i m a bot biden impossible',\n",
       " 'content analysis this article scores       the complete report can be viewed here   i m a bot biden fauci',\n",
       " 'content analysis this article scores       the complete report can be viewed here   i m a bot biden david',\n",
       " 'content analysis this article scores       the complete report can be viewed here   i m a bot biden david',\n",
       " 'content analysis this article scores       the complete report can be viewed here   i m a bot biden america',\n",
       " 'content analysis this article scores       the complete report can be viewed here   i m a bot biden paris',\n",
       " 'content analysis this article scores       the complete report can be viewed here   i m a bot president biden',\n",
       " 'content analysis this article scores       the complete report can be viewed here   i m a bot president biden',\n",
       " 'content analysis this article scores       the complete report can be viewed here   i m a bot theus biden',\n",
       " 'content analysis this article scores       the complete report can be viewed here   i m a bot ukraine biden',\n",
       " 'content analysis this article scores       the complete report can be viewed here   i m a bot biden foxnews',\n",
       " 'content analysis this article scores       the complete report can be viewed here   i m a bot biden russia',\n",
       " 'content analysis this article scores       the complete report can be viewed here   i m a bot president biden',\n",
       " 'content analysis this article scores       the complete report can be viewed here   i m a bot president biden',\n",
       " 'content analysis this article scores       the complete report can be viewed here   i m a bot biden chions',\n",
       " 'content analysis this article scores       the complete report can be viewed here   i m a bot biden russia',\n",
       " 'content analysis this article scores       the complete report can be viewed here   i m a bot trump biden',\n",
       " 'content analysis this article scores       the complete report can be viewed here   i m a bot supremecourt biden',\n",
       " 'content analysis this article scores       the complete report can be viewed here   i m a bot biden president',\n",
       " 'content analysis this article scores       the complete report can be viewed here   i m a bot thelateshow biden president',\n",
       " 'content analysis this article scores       the complete report can be viewed here   i m a bot biden democrats',\n",
       " 'content analysis this article scores       the complete report can be viewed here   i m a bot wnba biden president',\n",
       " 'content analysis this article scores       the complete report can be viewed here   i m a bot biden president',\n",
       " 'content analysis this article scores       the complete report can be viewed here   i m a bot thecourt biden',\n",
       " 'content analysis this article scores       the complete report can be viewed here   i m a bot thecourt biden',\n",
       " 'content analysis this article scores       the complete report can be viewed here   i m a bot biden president',\n",
       " 'content analysis this article scores       the complete report can be viewed here   i m a bot supremecourt biden',\n",
       " 'content analysis this article scores       the complete report can be viewed here   i m a bot biden bobby',\n",
       " 'content analysis this article scores       the complete report can be viewed here   i m a bot trump biden',\n",
       " 'content analysis this article scores       the complete report can be viewed here   i m a bot biden president',\n",
       " 'content analysis this article scores       the complete report can be viewed here   i m a bot trump biden',\n",
       " 'content analysis this article scores       the complete report can be viewed here   i m a bot biden president',\n",
       " 'content analysis this article scores       the complete report can be viewed here   i m a bot biden president',\n",
       " 'content analysis this article scores       the complete report can be viewed here   i m a bot biden trump',\n",
       " 'content analysis this article scores       the complete report can be viewed here   i m a bot thecourt biden',\n",
       " 'content analysis this article scores       the complete report can be viewed here   i m a bot biden trump',\n",
       " 'content analysis this article scores       the complete report can be viewed here   i m a bot biden russia',\n",
       " 'content analysis this article scores       the complete report can be viewed here   i m a bot biden president',\n",
       " 'content analysis this article scores       the complete report can be viewed here   i m a bot biden president',\n",
       " 'content analysis this article scores       the complete report can be viewed here   i m a bot khou   biden trump',\n",
       " 'content analysis this article scores       the complete report can be viewed here   i m a bot biden trump',\n",
       " 'content analysis this article scores       the complete report can be viewed here   i m a bot biden trump',\n",
       " 'content analysis this article scores       the complete report can be viewed here   i m a bot biden visas',\n",
       " 'content analysis this article scores       the complete report can be viewed here   i m a bot biden president',\n",
       " 'content analysis this article scores       the complete report can be viewed here   i m a bot ukraine biden',\n",
       " 'content analysis this article scores       the complete report can be viewed here   i m a bot biden trump',\n",
       " 'content analysis this article scores       the complete report can be viewed here   i m a bot biden russia',\n",
       " 'content analysis this article scores       the complete report can be viewed here   i m a bot biden trump',\n",
       " 'content analysis this article scores       the complete report can be viewed here   i m a bot biden president',\n",
       " 'content analysis this article scores       the complete report can be viewed here   i m a bot biden trump',\n",
       " 'content analysis this article scores       the complete report can be viewed here   i m a bot biden trump',\n",
       " 'content analysis this article scores       the complete report can be viewed here   i m a bot amazon biden',\n",
       " 'content analysis this article scores       the complete report can be viewed here   i m a bot biden covid',\n",
       " 'content analysis this article scores       the complete report can be viewed here   i m a bot biden trump',\n",
       " 'content analysis this article scores       the complete report can be viewed here   i m a bot biden america',\n",
       " 'content analysis this article scores       the complete report can be viewed here   i m a bot biden trump',\n",
       " 'content analysis this article scores       the complete report can be viewed here   i m a bot ukraine biden',\n",
       " 'content analysis this article scores       the complete report can be viewed here   i m a bot ukraine biden',\n",
       " 'content analysis this article scores       the complete report can be viewed here   i m a bot ukraine biden',\n",
       " 'content analysis this article scores       the complete report can be viewed here   i m a bot biden russia',\n",
       " 'content analysis this article scores       the complete report can be viewed here   i m a bot ukraine biden',\n",
       " 'content analysis this article scores       the complete report can be viewed here   i m a bot biden covid',\n",
       " 'content analysis this article scores       the complete report can be viewed here   i m a bot amazon biden',\n",
       " 'content analysis this article scores       the complete report can be viewed here   i m a bot ukraine biden',\n",
       " 'content analysis this article scores       the complete report can be viewed here   i m a bot ukraine biden',\n",
       " 'content analysis this article scores       the complete report can be viewed here   i m a bot biden president',\n",
       " 'content analysis this article scores       the complete report can be viewed here   i m a bot biden president',\n",
       " 'content analysis this article scores       the complete report can be viewed here   i m a bot ukraine biden',\n",
       " 'content analysis this article scores       the complete report can be viewed here   i m a bot ukraine biden',\n",
       " 'content analysis this article scores       the complete report can be viewed here   i m a bot biden president',\n",
       " 'content analysis this article scores       the complete report can be viewed here   i m a bot biden president',\n",
       " 'content analysis this article scores       the complete report can be viewed here   i m a bot president biden',\n",
       " 'content analysis this article scores       the complete report can be viewed here   i m a bot project biden',\n",
       " 'content analysis this article scores       the complete report can be viewed here   i m a bot pegasus spain biden newyork',\n",
       " 'content analysis this article scores       the complete report can be viewed here   i m a bot ukraine biden',\n",
       " 'content analysis this article scores       the complete report can be viewed here   i m a bot biden america',\n",
       " 'content analysis this article scores       the complete report can be viewed here   i m a bot black biden',\n",
       " 'content analysis this article scores       the complete report can be viewed here   i m a bot ukraine biden',\n",
       " 'content analysis this article scores       the complete report can be viewed here   i m a bot biden trump',\n",
       " 'content analysis this article scores       the complete report can be viewed here   i m a bot biden president',\n",
       " 'content analysis this article scores       the complete report can be viewed here   i m a bot oann ukraine biden',\n",
       " 'content analysis this article scores       the complete report can be viewed here   i m a bot ukraine biden',\n",
       " 'content analysis this article scores       the complete report can be viewed here   i m a bot biden president',\n",
       " 'content analysis this article scores       the complete report can be viewed here   i m a bot ukraine biden',\n",
       " 'content analysis this article scores       the complete report can be viewed here   i m a bot biden mayday',\n",
       " 'content analysis this article scores       the complete report can be viewed here   i m a bot biden covid',\n",
       " 'content analysis this article scores       the complete report can be viewed here   i m a bot ukraine biden',\n",
       " 'content analysis this article scores       the complete report can be viewed here   i m a bot biden trump',\n",
       " 'content analysis this article scores       the complete report can be viewed here   i m a bot biden president',\n",
       " 'content analysis this article scores       the complete report can be viewed here   i m a bot ukraine biden',\n",
       " 'content analysis this article scores       the complete report can be viewed here   i m a bot ukraine biden',\n",
       " 'content analysis this article scores       the complete report can be viewed here   i m a bot biden president',\n",
       " 'content analysis this article scores       the complete report can be viewed here   i m a bot ukraine biden',\n",
       " 'content analysis this article scores       the complete report can be viewed here   i m a bot ukraine biden',\n",
       " 'content analysis this article scores       the complete report can be viewed here   i m a bot biden trump',\n",
       " 'content analysis this article scores       the complete report can be viewed here   i m a bot biden ukraine',\n",
       " 'content analysis this article scores       the complete report can be viewed here   i m a bot biden union',\n",
       " 'content analysis this article scores       the complete report can be viewed here   i m a bot biden russia',\n",
       " 'content analysis this article scores       the complete report can be viewed here   i m a bot ukraine biden',\n",
       " 'content analysis this article scores       the complete report can be viewed here   i m a bot biden australia',\n",
       " 'content analysis this article scores       the complete report can be viewed here   i m a bot ukraine biden',\n",
       " 'content analysis this article scores       the complete report can be viewed here   i m a bot ukraine biden',\n",
       " 'content analysis this article scores       the complete report can be viewed here   i m a bot biden russia',\n",
       " 'content analysis this article scores       the complete report can be viewed here   i m a bot biden america',\n",
       " 'content analysis this article scores       the complete report can be viewed here   i m a bot david biden',\n",
       " 'content analysis this article scores       the complete report can be viewed here   i m a bot biden mayday',\n",
       " 'content analysis this article scores       the complete report can be viewed here   i m a bot biden david',\n",
       " 'content analysis this article scores       the complete report can be viewed here   i m a bot biden republican',\n",
       " 'content analysis this article scores       the complete report can be viewed here   i m a bot biden johnny',\n",
       " 'content analysis this article scores       the complete report can be viewed here   i m a bot biden america',\n",
       " 'content analysis this article scores       the complete report can be viewed here   i m a bot biden ukrainian',\n",
       " 'content analysis this article scores       the complete report can be viewed here   i m a bot biden masks',\n",
       " 'content analysis this article scores       the complete report can be viewed here   i m a bot biden russian',\n",
       " 'content analysis this article scores       the complete report can be viewed here   i m a bot ukraine biden',\n",
       " 'content analysis this article scores       the complete report can be viewed here   i m a bot biden ukrainians',\n",
       " 'content analysis this article scores       the complete report can be viewed here   i m a bot biden russian',\n",
       " 'content analysis this article scores       the complete report can be viewed here   i m a bot biden russian',\n",
       " 'content analysis this article scores       the complete report can be viewed here   i m a bot money biden',\n",
       " 'content analysis this article scores       the complete report can be viewed here   i m a bot biden ukrainian',\n",
       " 'content analysis this article scores       the complete report can be viewed here   i m a bot biden republican',\n",
       " 'content analysis this article scores       the complete report can be viewed here   i m a bot jamescorden whitehouse whitehousecorrespondentsdinner biden trevornoah',\n",
       " 'content analysis this article scores       the complete report can be viewed here   i m a bot biden taylor',\n",
       " 'content analysis this article scores       the complete report can be viewed here   i m a bot ukraine biden',\n",
       " 'content analysis this article scores       the complete report can be viewed here   i m a bot biden thatthat',\n",
       " 'content analysis this article scores       the complete report can be viewed here   i m a bot ukraine biden',\n",
       " 'content analysis this article scores       the complete report can be viewed here   i m a bot biden north',\n",
       " 'content analysis this article scores       the complete report can be viewed here   i m a bot biden covid',\n",
       " 'content analysis this article scores       the complete report can be viewed here   i m a bot ukraine biden',\n",
       " 'content analysis this article scores       the complete report can be viewed here   i m a bot ukraine biden',\n",
       " 'content analysis this article scores       the complete report can be viewed here   i m a bot ukraine biden',\n",
       " 'content analysis this article scores       the complete report can be viewed here   i m a bot biden republican',\n",
       " 'content analysis this article scores       the complete report can be viewed here   i m a bot biden government',\n",
       " 'content analysis this article scores       the complete report can be viewed here   i m a bot ukraine biden',\n",
       " 'content analysis this article scores       the complete report can be viewed here   i m a bot biden president',\n",
       " 'content analysis this article scores       the complete report can be viewed here   i m a bot ukraine biden',\n",
       " 'content analysis this article scores       the complete report can be viewed here   i m a bot ukraine biden',\n",
       " 'content analysis this article scores       the complete report can be viewed here   i m a bot ukraine biden',\n",
       " 'content analysis this article scores       the complete report can be viewed here   i m a bot biden president',\n",
       " 'content analysis this article scores       the complete report can be viewed here   i m a bot biden russia',\n",
       " 'content analysis this article scores       the complete report can be viewed here   i m a bot ukraine biden',\n",
       " 'content analysis this article scores       the complete report can be viewed here   i m a bot donaldtrump joebiden whitehouse biden covid',\n",
       " 'content analysis this article scores       the complete report can be viewed here   i m a bot biden thatthat',\n",
       " 'content analysis this article scores       the complete report can be viewed here   i m a bot biden covid  ',\n",
       " 'content analysis this article scores       the complete report can be viewed here   i m a bot ukraine biden',\n",
       " 'content analysis this article scores       the complete report can be viewed here   i m a bot biden covid',\n",
       " 'content analysis this article scores       the complete report can be viewed here   i m a bot biden joebiden',\n",
       " 'content analysis this article scores       the complete report can be viewed here   i m a bot biden joebiden',\n",
       " 'content analysis this article scores       the complete report can be viewed here   i m a bot ukraine biden',\n",
       " 'content analysis this article scores       the complete report can be viewed here   i m a bot biden america',\n",
       " 'content analysis this article scores       the complete report can be viewed here   i m a bot biden presidente',\n",
       " 'content analysis this article scores       the complete report can be viewed here   i m a bot biden north',\n",
       " 'content analysis this article scores       the complete report can be viewed here   i m a bot biden covid',\n",
       " 'content analysis this article scores       the complete report can be viewed here   i m a bot biden magic',\n",
       " 'content analysis this article scores       the complete report can be viewed here   i m a bot biden republicans',\n",
       " 'content analysis this article scores       the complete report can be viewed here   i m a bot ukraine biden',\n",
       " 'content analysis this article scores       the complete report can be viewed here   i m a bot biden north',\n",
       " 'content analysis this article scores       the complete report can be viewed here   i m a bot biden covid',\n",
       " 'content analysis this article scores       the complete report can be viewed here   i m a bot biden republicans',\n",
       " 'content analysis this article scores       the complete report can be viewed here   i m a bot biden recommend',\n",
       " 'content analysis this article scores       the complete report can be viewed here   i m a bot biden covid  ',\n",
       " 'content analysis this article scores       the complete report can be viewed here   i m a bot biden republicans',\n",
       " 'content analysis this article scores       the complete report can be viewed here   i m a bot biden republicans',\n",
       " 'content analysis this article scores       the complete report can be viewed here   i m a bot ukraine biden',\n",
       " 'content analysis this article scores       the complete report can be viewed here   i m a bot biden north',\n",
       " 'content analysis this article scores       the complete report can be viewed here   i m a bot biden russia',\n",
       " 'content analysis this article scores       the complete report can be viewed here   i m a bot biden republicans',\n",
       " 'content analysis this article scores       the complete report can be viewed here   i m a bot biden republicans',\n",
       " 'content analysis this article scores       the complete report can be viewed here   i m a bot biden republicans',\n",
       " 'content analysis this article scores       the complete report can be viewed here   i m a bot biden republicans',\n",
       " 'content analysis this article scores       the complete report can be viewed here   i m a bot biden congress',\n",
       " 'content analysis this article scores       the complete report can be viewed here   i m a bot biden democrats',\n",
       " 'content analysis this article scores       the complete report can be viewed here   i m a bot biden north',\n",
       " 'content analysis this article scores       the complete report can be viewed here   i m a bot biden covid',\n",
       " 'content analysis this article scores       the complete report can be viewed here   i m a bot biden trump',\n",
       " 'content analysis this article scores       the complete report can be viewed here   i m a bot biden japan',\n",
       " 'content analysis this article scores       the complete report can be viewed here   i m a bot biden north',\n",
       " 'content analysis this article scores       the complete report can be viewed here   i m a bot biden trump',\n",
       " 'content analysis this article scores       the complete report can be viewed here   i m a bot biden trump',\n",
       " 'content analysis this article scores       the complete report can be viewed here   i m a bot biden north',\n",
       " 'content analysis this article scores       the complete report can be viewed here   i m a bot biden congress',\n",
       " 'content analysis this article scores       the complete report can be viewed here   i m a bot biden ukraine',\n",
       " 'content analysis this article scores       the complete report can be viewed here   i m a bot biden japan',\n",
       " 'content analysis this article scores       the complete report can be viewed here   i m a bot biden japan',\n",
       " 'content analysis this article scores       the complete report can be viewed here   i m a bot biden ukraine',\n",
       " 'content analysis this article scores       the complete report can be viewed here   i m a bot biden ukraine',\n",
       " 'content analysis this article scores       the complete report can be viewed here   i m a bot biden ukraine']"
      ]
     },
     "execution_count": 35,
     "metadata": {},
     "output_type": "execute_result"
    }
   ],
   "source": [
    "df.query('User == \"valurank\"').Processed_Tweet.tolist()"
   ]
  },
  {
   "cell_type": "code",
   "execution_count": 38,
   "id": "4e459a36",
   "metadata": {},
   "outputs": [
    {
     "name": "stderr",
     "output_type": "stream",
     "text": [
      "C:\\Users\\Mourya Kuntamukkala\\AppData\\Local\\Programs\\Python\\Python310\\lib\\site-packages\\seaborn\\_decorators.py:36: FutureWarning: Pass the following variable as a keyword arg: x. From version 0.12, the only valid positional argument will be `data`, and passing other arguments without an explicit keyword will result in an error or misinterpretation.\n",
      "  warnings.warn(\n"
     ]
    },
    {
     "data": {
      "image/png": "[encoded data removed]",
      "text/plain": [
       "<Figure size 432x288 with 1 Axes>"
      ]
     },
     "metadata": {
      "needs_background": "light"
     },
     "output_type": "display_data"
    }
   ],
   "source": [
    "bar = sns.countplot(df['Verified'])"
   ]
  },
  {
   "cell_type": "code",
   "execution_count": 39,
   "id": "c3d36ff3",
   "metadata": {},
   "outputs": [
    {
     "data": {
      "text/plain": [
       "False    13193\n",
       "True       332\n",
       "Name: Verified, dtype: int64"
      ]
     },
     "execution_count": 39,
     "metadata": {},
     "output_type": "execute_result"
    }
   ],
   "source": [
    "df['Verified'].value_counts()"
   ]
  },
  {
   "cell_type": "code",
   "execution_count": 40,
   "id": "06e46590",
   "metadata": {},
   "outputs": [],
   "source": [
    "df_verified = df.query('Verified == True')"
   ]
  },
  {
   "cell_type": "code",
   "execution_count": 41,
   "id": "1106e4f0",
   "metadata": {},
   "outputs": [
    {
     "data": {
      "text/plain": [
       "DevonHeinen        33\n",
       "DickMorrisTweet     8\n",
       "BastianBrauns       8\n",
       "arabnews            7\n",
       "natlawreview        7\n",
       "                   ..\n",
       "matisaksk           1\n",
       "mrglenn             1\n",
       "CGTNGraphics        1\n",
       "khaleejtimes        1\n",
       "ATParasiliti        1\n",
       "Name: User, Length: 164, dtype: int64"
      ]
     },
     "execution_count": 41,
     "metadata": {},
     "output_type": "execute_result"
    }
   ],
   "source": [
    "df_verified['User'].value_counts()"
   ]
  },
  {
   "cell_type": "code",
   "execution_count": 43,
   "id": "c1c8f7cf",
   "metadata": {},
   "outputs": [
    {
     "data": {
      "text/plain": [
       "['but so why then is she still there  biden whcd correspondentsdinner',\n",
       " 'biden to trevornoah   now you gonna roast the president of the united states  and unlike in moscow you won t go to jail   biden whcd correspondentsdinner',\n",
       " 'last sentence honoring albright   by the way madeleine albright was right  we are the indispensable nation  biden whcd correspondentsdinner',\n",
       " ' republicans seem to support one fellow  some guy named brandon  he s having a really good year  and i m kind of happy for him   letsgobrandon biden whcd correspondentsdinner',\n",
       " ' i told my grandkids and they could stay up late and watch this show tonight  biden whcd correspondentsdinner',\n",
       " 'theres nothing i can say about the gop that kevin mccarthy hasnt already put on tape  biden whcd correspondentsdinner',\n",
       " ' just contact your favorite fox news reporter  vaccinated and boosted  all of them  biden whcd correspondentsdinner',\n",
       " 'biden first take against trump at correspondentsdinner   this is the first time a president attended this dinner in since years  it s understandable  we had a horrible plague followed by two years of covid  ']"
      ]
     },
     "execution_count": 43,
     "metadata": {},
     "output_type": "execute_result"
    }
   ],
   "source": [
    "df_verified.query('User == \"BastianBrauns\"').Processed_Tweet.tolist()"
   ]
  },
  {
   "cell_type": "code",
   "execution_count": 44,
   "id": "70631ca1",
   "metadata": {},
   "outputs": [
    {
     "data": {
      "text/plain": [
       "Counter({8: 1160,\n",
       "         7: 1273,\n",
       "         6: 1526,\n",
       "         5: 1625,\n",
       "         4: 1684,\n",
       "         3: 1371,\n",
       "         2: 1700,\n",
       "         1: 1651,\n",
       "         30: 1447,\n",
       "         29: 88})"
      ]
     },
     "execution_count": 44,
     "metadata": {},
     "output_type": "execute_result"
    }
   ],
   "source": [
    "days = df['Date'].dt.day.tolist()\n",
    "no_of_days = Counter(days)\n",
    "no_of_days"
   ]
  },
  {
   "cell_type": "code",
   "execution_count": 45,
   "id": "0b43b31b",
   "metadata": {},
   "outputs": [
    {
     "data": {
      "text/plain": [
       "Text(0.5, 1.0, 'Count Of Extracted Tweets On Each Day')"
      ]
     },
     "execution_count": 45,
     "metadata": {},
     "output_type": "execute_result"
    },
    {
     "data": {
      "image/png": "[encoded data removed]",
      "text/plain": [
       "<Figure size 1080x504 with 1 Axes>"
      ]
     },
     "metadata": {
      "needs_background": "light"
     },
     "output_type": "display_data"
    }
   ],
   "source": [
    "fig = plt.figure(figsize = (15,7))\n",
    "plt.bar(range(len(no_of_days)), list(no_of_days.values()), align='center', alpha = 0.5,color = 'red')\n",
    "plt.xticks(range(len(no_of_days)), list(no_of_days.keys()))\n",
    "plt.xlabel(\"Day\")\n",
    "plt.ylabel(\"Count Of Tweets\")\n",
    "plt.title(\"Count Of Extracted Tweets On Each Day\")"
   ]
  },
  {
   "cell_type": "code",
   "execution_count": 46,
   "id": "8f4a73a6",
   "metadata": {},
   "outputs": [],
   "source": [
    "hours = df['Date'].dt.hour.tolist()"
   ]
  },
  {
   "cell_type": "code",
   "execution_count": 47,
   "id": "4b613867",
   "metadata": {},
   "outputs": [
    {
     "data": {
      "text/plain": [
       "Counter({23: 764,\n",
       "         22: 610,\n",
       "         21: 656,\n",
       "         20: 694,\n",
       "         19: 775,\n",
       "         18: 689,\n",
       "         17: 694,\n",
       "         16: 756,\n",
       "         15: 853,\n",
       "         14: 747,\n",
       "         13: 761,\n",
       "         12: 634,\n",
       "         11: 521,\n",
       "         10: 333,\n",
       "         9: 312,\n",
       "         8: 267,\n",
       "         7: 299,\n",
       "         6: 292,\n",
       "         5: 316,\n",
       "         4: 404,\n",
       "         3: 470,\n",
       "         2: 546,\n",
       "         1: 526,\n",
       "         0: 606})"
      ]
     },
     "execution_count": 47,
     "metadata": {},
     "output_type": "execute_result"
    }
   ],
   "source": [
    "no_of_hours = Counter(hours)\n",
    "no_of_hours"
   ]
  },
  {
   "cell_type": "code",
   "execution_count": 48,
   "id": "a75b0875",
   "metadata": {},
   "outputs": [
    {
     "data": {
      "text/plain": [
       "Text(0.5, 1.0, 'Count Of Extracted Tweets On Each Hour')"
      ]
     },
     "execution_count": 48,
     "metadata": {},
     "output_type": "execute_result"
    },
    {
     "data": {
      "image/png": "[encoded data removed]",
      "text/plain": [
       "<Figure size 1080x576 with 1 Axes>"
      ]
     },
     "metadata": {
      "needs_background": "light"
     },
     "output_type": "display_data"
    }
   ],
   "source": [
    "fig = plt.figure(figsize = (15,8))\n",
    "plt.bar(range(len(no_of_hours)), list(no_of_hours.values()), align='center', alpha = 0.5,color = 'red')\n",
    "plt.xticks(range(len(no_of_hours)), list(no_of_hours.keys()))\n",
    "plt.xlabel(\"Hour\")\n",
    "plt.ylabel(\"Count Of Tweets\")\n",
    "plt.title(\"Count Of Extracted Tweets On Each Hour\")"
   ]
  },
  {
   "cell_type": "code",
   "execution_count": 49,
   "id": "1720d7d2",
   "metadata": {},
   "outputs": [],
   "source": [
    "from wordcloud import WordCloud\n",
    "tokenizer = TweetTokenizer()\n"
   ]
  },
  {
   "cell_type": "code",
   "execution_count": 50,
   "id": "3754df81",
   "metadata": {},
   "outputs": [
    {
     "name": "stdout",
     "output_type": "stream",
     "text": [
      "[\"you'll\", \"shouldn't\", 'haven', 'between', 'so', 'had', 'we', 'himself', 'ain', 'has', 'you', 'if', 'won', 'while', 'your', \"couldn't\", 'them', 'which', 'not', \"don't\", 'needn', 'is', 'on', 'yourself', 'she', 'am', 'my', 'by', 'further', 'can', 'the', 'wouldn', 'her', \"isn't\", \"you're\", 'yours', 'against', 'their', \"mustn't\", 'aren', 'or', 'been', 'to', 'most', \"shan't\", 'he', 'itself', 'more', 'don', 'about', 'below', 'myself', \"should've\", 'but', 's', 'no', 'same', 'will', 'once', 'its', 't', 'again', 'these', \"she's\", 'doing', 'd', \"won't\", 'ours', 'theirs', 'are', 'having', 'after', 'such', 'any', 'in', 'other', 'him', 'off', 'isn', 've', 'this', 'whom', 'me', 'at', 'hadn', 'weren', 'some', 'shouldn', 'do', 'was', 'an', 'both', 'very', \"needn't\", 'up', 'than', 'll', 'ourselves', 'and', 'all', 'm', 'shan', 'what', \"wasn't\", 'from', \"didn't\", 'few', 'ma', 'didn', 'nor', 'should', 'there', 'his', 'that', 'own', \"doesn't\", 'yourselves', \"hadn't\", 'mightn', \"weren't\", 'a', 'they', 'of', 'each', 'wasn', 'y', 'before', 'into', 'mustn', 'who', 'our', 'now', \"aren't\", 'couldn', 'why', 'be', \"hasn't\", \"haven't\", 'themselves', 'through', 'during', 'hasn', \"mightn't\", 'out', 'too', 're', 'being', 'because', 'those', 'for', 'hers', 'it', 'where', \"wouldn't\", 'then', \"you've\", 'only', 'over', 'were', 'o', 'until', 'does', 'did', 'how', 'with', 'under', \"it's\", 'when', 'above', \"that'll\", 'down', \"you'd\", 'as', 'herself', 'here', 'just', 'have', 'doesn', 'i']\n"
     ]
    }
   ],
   "source": [
    "stop_words = set(stopwords.words('english')) \n",
    "stop_words = list(stop_words)\n",
    "print(stop_words) #removing stopwords"
   ]
  },
  {
   "cell_type": "code",
   "execution_count": 51,
   "id": "2ef6ca3e",
   "metadata": {},
   "outputs": [],
   "source": [
    "df['Processed_Tweet'] = df.Processed_Tweet.apply(lambda x: ' '.join(w for w in x.split() if w not in stop_words))   #Remove stopwords"
   ]
  },
  {
   "cell_type": "code",
   "execution_count": 52,
   "id": "f5d9be48",
   "metadata": {},
   "outputs": [],
   "source": [
    "df['Processed_Tweet'] = df['Processed_Tweet'].apply(lambda x: tokenizer.tokenize(x))"
   ]
  },
  {
   "cell_type": "code",
   "execution_count": 55,
   "id": "6a9b82c7",
   "metadata": {},
   "outputs": [],
   "source": [
    "#stemming\n",
    "def lemmatize_stemming(text):\n",
    "    stemmer=PorterStemmer()\n",
    "    return stemmer.stem(text)"
   ]
  },
  {
   "cell_type": "code",
   "execution_count": 56,
   "id": "2f6a1e41",
   "metadata": {},
   "outputs": [],
   "source": [
    "df['Processed_Tweet'] = df['Processed_Tweet'].apply(lambda x: [lemmatize_stemming(i) for i in x]) # stemming"
   ]
  },
  {
   "cell_type": "code",
   "execution_count": 57,
   "id": "65b90b1f",
   "metadata": {},
   "outputs": [],
   "source": [
    "df['Processed_Tweet'] = df.Processed_Tweet.apply(lambda x: [i for i in x if len(i)>2])"
   ]
  },
  {
   "cell_type": "code",
   "execution_count": 58,
   "id": "ea6e6964",
   "metadata": {},
   "outputs": [
    {
     "data": {
      "text/html": [
       "<div>\n",
       "<style scoped>\n",
       "    .dataframe tbody tr th:only-of-type {\n",
       "        vertical-align: middle;\n",
       "    }\n",
       "\n",
       "    .dataframe tbody tr th {\n",
       "        vertical-align: top;\n",
       "    }\n",
       "\n",
       "    .dataframe thead th {\n",
       "        text-align: right;\n",
       "    }\n",
       "</style>\n",
       "<table border=\"1\" class=\"dataframe\">\n",
       "  <thead>\n",
       "    <tr style=\"text-align: right;\">\n",
       "      <th></th>\n",
       "      <th>Date</th>\n",
       "      <th>Tweet_id</th>\n",
       "      <th>Verified</th>\n",
       "      <th>Tweet</th>\n",
       "      <th>User</th>\n",
       "      <th>Location</th>\n",
       "      <th>Source</th>\n",
       "      <th>Likes</th>\n",
       "      <th>Followers</th>\n",
       "      <th>Following</th>\n",
       "      <th>Retweets</th>\n",
       "      <th>Processed_Tweet</th>\n",
       "    </tr>\n",
       "  </thead>\n",
       "  <tbody>\n",
       "    <tr>\n",
       "      <th>0</th>\n",
       "      <td>2022-05-08 23:58:20</td>\n",
       "      <td>1523452270448635905</td>\n",
       "      <td>False</td>\n",
       "      <td>The fact that #BethSentUs doxxed the justices ...</td>\n",
       "      <td>SanFranSooner</td>\n",
       "      <td>NaN</td>\n",
       "      <td>Twitter for iPhone</td>\n",
       "      <td>3</td>\n",
       "      <td>285</td>\n",
       "      <td>561</td>\n",
       "      <td>2</td>\n",
       "      <td>[fact, bethsentu, dox, justic, bad, enough, bi...</td>\n",
       "    </tr>\n",
       "    <tr>\n",
       "      <th>1</th>\n",
       "      <td>2022-05-08 23:57:33</td>\n",
       "      <td>1523452076147179520</td>\n",
       "      <td>False</td>\n",
       "      <td>Trump complained US Navy ships ‘look ugly’: Es...</td>\n",
       "      <td>MartinJmcmah</td>\n",
       "      <td>NaN</td>\n",
       "      <td>Twitter for iPhone</td>\n",
       "      <td>2</td>\n",
       "      <td>1213</td>\n",
       "      <td>179</td>\n",
       "      <td>0</td>\n",
       "      <td>[trump, complain, navi, ship, look, ugli, espe...</td>\n",
       "    </tr>\n",
       "    <tr>\n",
       "      <th>2</th>\n",
       "      <td>2022-05-08 23:56:51</td>\n",
       "      <td>1523451899659251712</td>\n",
       "      <td>False</td>\n",
       "      <td>Remember when #biden left Afghanistan? Why isn...</td>\n",
       "      <td>christjiminy1</td>\n",
       "      <td>NaN</td>\n",
       "      <td>Twitter for iPhone</td>\n",
       "      <td>0</td>\n",
       "      <td>8</td>\n",
       "      <td>67</td>\n",
       "      <td>0</td>\n",
       "      <td>[rememb, biden, left, afghanistan, isnt, bigge...</td>\n",
       "    </tr>\n",
       "    <tr>\n",
       "      <th>3</th>\n",
       "      <td>2022-05-08 23:55:50</td>\n",
       "      <td>1523451642909061121</td>\n",
       "      <td>False</td>\n",
       "      <td>#Biden is asking for a $813,000,000,000 \"defen...</td>\n",
       "      <td>joshuamills044</td>\n",
       "      <td>NaN</td>\n",
       "      <td>Twitter for Android</td>\n",
       "      <td>0</td>\n",
       "      <td>662</td>\n",
       "      <td>1089</td>\n",
       "      <td>0</td>\n",
       "      <td>[biden, ask, defen, budget, children, unitedst...</td>\n",
       "    </tr>\n",
       "    <tr>\n",
       "      <th>4</th>\n",
       "      <td>2022-05-08 23:53:44</td>\n",
       "      <td>1523451115479924741</td>\n",
       "      <td>False</td>\n",
       "      <td>@ArseGrammatica Last month, the #SCOTUS reject...</td>\n",
       "      <td>hollmic</td>\n",
       "      <td>Kansas, USA</td>\n",
       "      <td>Twitter Web App</td>\n",
       "      <td>0</td>\n",
       "      <td>89</td>\n",
       "      <td>427</td>\n",
       "      <td>0</td>\n",
       "      <td>[last, month, scotu, reject, biden, administr,...</td>\n",
       "    </tr>\n",
       "    <tr>\n",
       "      <th>...</th>\n",
       "      <td>...</td>\n",
       "      <td>...</td>\n",
       "      <td>...</td>\n",
       "      <td>...</td>\n",
       "      <td>...</td>\n",
       "      <td>...</td>\n",
       "      <td>...</td>\n",
       "      <td>...</td>\n",
       "      <td>...</td>\n",
       "      <td>...</td>\n",
       "      <td>...</td>\n",
       "      <td>...</td>\n",
       "    </tr>\n",
       "    <tr>\n",
       "      <th>13520</th>\n",
       "      <td>2022-04-29 22:47:06</td>\n",
       "      <td>1520172853454323712</td>\n",
       "      <td>False</td>\n",
       "      <td>Voldemort is back!\\n\\n** This post has been fl...</td>\n",
       "      <td>2DIEisGAIN82</td>\n",
       "      <td>NaN</td>\n",
       "      <td>Twitter for iPhone</td>\n",
       "      <td>0</td>\n",
       "      <td>75</td>\n",
       "      <td>291</td>\n",
       "      <td>0</td>\n",
       "      <td>[voldemort, back, post, flag, misinform, biden...</td>\n",
       "    </tr>\n",
       "    <tr>\n",
       "      <th>13521</th>\n",
       "      <td>2022-04-29 22:46:23</td>\n",
       "      <td>1520172674709954560</td>\n",
       "      <td>False</td>\n",
       "      <td>#Biden will have to either #boycott #G20Indone...</td>\n",
       "      <td>besthealthyou</td>\n",
       "      <td>Planet Earth</td>\n",
       "      <td>Twitter Web App</td>\n",
       "      <td>0</td>\n",
       "      <td>427</td>\n",
       "      <td>62</td>\n",
       "      <td>0</td>\n",
       "      <td>[biden, either, boycott, indonesia, mayb, zoom...</td>\n",
       "    </tr>\n",
       "    <tr>\n",
       "      <th>13522</th>\n",
       "      <td>2022-04-29 22:44:43</td>\n",
       "      <td>1520172254700703744</td>\n",
       "      <td>False</td>\n",
       "      <td>Ex-#Biden aide Francis Person went to White Ho...</td>\n",
       "      <td>livlifealliance</td>\n",
       "      <td>The Beautiful USA</td>\n",
       "      <td>Twitter for Android</td>\n",
       "      <td>0</td>\n",
       "      <td>17</td>\n",
       "      <td>140</td>\n",
       "      <td>0</td>\n",
       "      <td>[biden, aid, franci, person, went, white, hou,...</td>\n",
       "    </tr>\n",
       "    <tr>\n",
       "      <th>13523</th>\n",
       "      <td>2022-04-29 22:44:39</td>\n",
       "      <td>1520172237562728448</td>\n",
       "      <td>False</td>\n",
       "      <td>@GOP:\\nDid #Biden compromise national security...</td>\n",
       "      <td>ttstrac</td>\n",
       "      <td>America</td>\n",
       "      <td>Twitter for iPhone</td>\n",
       "      <td>0</td>\n",
       "      <td>5130</td>\n",
       "      <td>5504</td>\n",
       "      <td>0</td>\n",
       "      <td>[biden, compromi, nation, secur, green, light,...</td>\n",
       "    </tr>\n",
       "    <tr>\n",
       "      <th>13524</th>\n",
       "      <td>2022-04-29 22:42:58</td>\n",
       "      <td>1520171811878678528</td>\n",
       "      <td>False</td>\n",
       "      <td>@CBSMornings Only fools do not believe in the ...</td>\n",
       "      <td>Orlap2020</td>\n",
       "      <td>NaN</td>\n",
       "      <td>Twitter for Android</td>\n",
       "      <td>0</td>\n",
       "      <td>29</td>\n",
       "      <td>8</td>\n",
       "      <td>0</td>\n",
       "      <td>[fool, believ, possibl, nuclear, war, ukrainew...</td>\n",
       "    </tr>\n",
       "  </tbody>\n",
       "</table>\n",
       "<p>13525 rows × 12 columns</p>\n",
       "</div>"
      ],
      "text/plain": [
       "                     Date             Tweet_id  Verified  \\\n",
       "0     2022-05-08 23:58:20  1523452270448635905     False   \n",
       "1     2022-05-08 23:57:33  1523452076147179520     False   \n",
       "2     2022-05-08 23:56:51  1523451899659251712     False   \n",
       "3     2022-05-08 23:55:50  1523451642909061121     False   \n",
       "4     2022-05-08 23:53:44  1523451115479924741     False   \n",
       "...                   ...                  ...       ...   \n",
       "13520 2022-04-29 22:47:06  1520172853454323712     False   \n",
       "13521 2022-04-29 22:46:23  1520172674709954560     False   \n",
       "13522 2022-04-29 22:44:43  1520172254700703744     False   \n",
       "13523 2022-04-29 22:44:39  1520172237562728448     False   \n",
       "13524 2022-04-29 22:42:58  1520171811878678528     False   \n",
       "\n",
       "                                                   Tweet             User  \\\n",
       "0      The fact that #BethSentUs doxxed the justices ...    SanFranSooner   \n",
       "1      Trump complained US Navy ships ‘look ugly’: Es...     MartinJmcmah   \n",
       "2      Remember when #biden left Afghanistan? Why isn...    christjiminy1   \n",
       "3      #Biden is asking for a $813,000,000,000 \"defen...   joshuamills044   \n",
       "4      @ArseGrammatica Last month, the #SCOTUS reject...          hollmic   \n",
       "...                                                  ...              ...   \n",
       "13520  Voldemort is back!\\n\\n** This post has been fl...     2DIEisGAIN82   \n",
       "13521  #Biden will have to either #boycott #G20Indone...    besthealthyou   \n",
       "13522  Ex-#Biden aide Francis Person went to White Ho...  livlifealliance   \n",
       "13523  @GOP:\\nDid #Biden compromise national security...          ttstrac   \n",
       "13524  @CBSMornings Only fools do not believe in the ...        Orlap2020   \n",
       "\n",
       "                Location               Source  Likes  Followers  Following  \\\n",
       "0                    NaN   Twitter for iPhone      3        285        561   \n",
       "1                    NaN   Twitter for iPhone      2       1213        179   \n",
       "2                    NaN   Twitter for iPhone      0          8         67   \n",
       "3                    NaN  Twitter for Android      0        662       1089   \n",
       "4            Kansas, USA      Twitter Web App      0         89        427   \n",
       "...                  ...                  ...    ...        ...        ...   \n",
       "13520                NaN   Twitter for iPhone      0         75        291   \n",
       "13521       Planet Earth      Twitter Web App      0        427         62   \n",
       "13522  The Beautiful USA  Twitter for Android      0         17        140   \n",
       "13523           America    Twitter for iPhone      0       5130       5504   \n",
       "13524                NaN  Twitter for Android      0         29          8   \n",
       "\n",
       "       Retweets                                    Processed_Tweet  \n",
       "0             2  [fact, bethsentu, dox, justic, bad, enough, bi...  \n",
       "1             0  [trump, complain, navi, ship, look, ugli, espe...  \n",
       "2             0  [rememb, biden, left, afghanistan, isnt, bigge...  \n",
       "3             0  [biden, ask, defen, budget, children, unitedst...  \n",
       "4             0  [last, month, scotu, reject, biden, administr,...  \n",
       "...         ...                                                ...  \n",
       "13520         0  [voldemort, back, post, flag, misinform, biden...  \n",
       "13521         0  [biden, either, boycott, indonesia, mayb, zoom...  \n",
       "13522         0  [biden, aid, franci, person, went, white, hou,...  \n",
       "13523         0  [biden, compromi, nation, secur, green, light,...  \n",
       "13524         0  [fool, believ, possibl, nuclear, war, ukrainew...  \n",
       "\n",
       "[13525 rows x 12 columns]"
      ]
     },
     "execution_count": 58,
     "metadata": {},
     "output_type": "execute_result"
    }
   ],
   "source": [
    "df"
   ]
  },
  {
   "cell_type": "markdown",
   "id": "ecdd06de",
   "metadata": {},
   "source": [
    "modifying the tweets to feed them into the model"
   ]
  },
  {
   "cell_type": "code",
   "execution_count": 59,
   "id": "08c06916",
   "metadata": {},
   "outputs": [],
   "source": [
    "texts = []\n",
    "texts = df.Processed_Tweet.apply(lambda x: [i for i in x] )"
   ]
  },
  {
   "cell_type": "code",
   "execution_count": 60,
   "id": "fa8a2233",
   "metadata": {},
   "outputs": [],
   "source": [
    "all_words = []\n",
    "for i in texts:\n",
    "    all_words.append(\" \".join(i))"
   ]
  },
  {
   "cell_type": "code",
   "execution_count": 61,
   "id": "6a3bea63",
   "metadata": {},
   "outputs": [],
   "source": [
    "text = []\n",
    "for i in texts:\n",
    "    for j in i:\n",
    "        text.append(j)"
   ]
  },
  {
   "cell_type": "code",
   "execution_count": 63,
   "id": "31ec0b8c",
   "metadata": {},
   "outputs": [
    {
     "data": {
      "text/plain": [
       "216547"
      ]
     },
     "execution_count": 63,
     "metadata": {},
     "output_type": "execute_result"
    }
   ],
   "source": [
    "len(text)"
   ]
  },
  {
   "cell_type": "code",
   "execution_count": 64,
   "id": "ddf4f3c0",
   "metadata": {},
   "outputs": [],
   "source": [
    "wordcloud = WordCloud(width=800, height=500, random_state=21, max_font_size=110).generate(' '.join(text))"
   ]
  },
  {
   "cell_type": "code",
   "execution_count": 67,
   "id": "270eefeb",
   "metadata": {},
   "outputs": [
    {
     "data": {
      "image/png": "[encoded data removed]",
      "text/plain": [
       "<Figure size 864x864 with 1 Axes>"
      ]
     },
     "metadata": {
      "needs_background": "light"
     },
     "output_type": "display_data"
    }
   ],
   "source": [
    "plt.figure(figsize = (12, 12), facecolor=\"None\") \n",
    "plt.imshow(wordcloud,interpolation='bilinear') \n",
    "plt.axis(\"off\") \n",
    "plt.title(\"WordCloud of Biden Tweets\")\n",
    "plt.show()"
   ]
  },
  {
   "cell_type": "markdown",
   "id": "7e3b7fe3",
   "metadata": {},
   "source": [
    "SENTIMENT ANALYSIS"
   ]
  },
  {
   "cell_type": "code",
   "execution_count": 68,
   "id": "48c551b1",
   "metadata": {},
   "outputs": [],
   "source": [
    "from textblob import TextBlob"
   ]
  },
  {
   "cell_type": "code",
   "execution_count": 69,
   "id": "b716b9cf",
   "metadata": {},
   "outputs": [],
   "source": [
    "pol=[]\n",
    "for Tweet in all_words:\n",
    "    blob = TextBlob(Tweet)\n",
    "    pol.append(blob.sentiment.polarity)"
   ]
  },
  {
   "cell_type": "code",
   "execution_count": 70,
   "id": "5b28c622",
   "metadata": {},
   "outputs": [
    {
     "data": {
      "text/plain": [
       "216547"
      ]
     },
     "execution_count": 70,
     "metadata": {},
     "output_type": "execute_result"
    }
   ],
   "source": [
    "len(pol)"
   ]
  },
  {
   "cell_type": "code",
   "execution_count": 71,
   "id": "4bc60b26",
   "metadata": {},
   "outputs": [
    {
     "data": {
      "text/plain": [
       "216547"
      ]
     },
     "execution_count": 71,
     "metadata": {},
     "output_type": "execute_result"
    }
   ],
   "source": [
    "len(text)"
   ]
  },
  {
   "cell_type": "code",
   "execution_count": 72,
   "id": "2f5660b8",
   "metadata": {},
   "outputs": [
    {
     "data": {
      "text/plain": [
       "0        [fact, bethsentu, dox, justic, bad, enough, bi...\n",
       "1        [trump, complain, navi, ship, look, ugli, espe...\n",
       "2        [rememb, biden, left, afghanistan, isnt, bigge...\n",
       "3        [biden, ask, defen, budget, children, unitedst...\n",
       "4        [last, month, scotu, reject, biden, administr,...\n",
       "                               ...                        \n",
       "13520    [voldemort, back, post, flag, misinform, biden...\n",
       "13521    [biden, either, boycott, indonesia, mayb, zoom...\n",
       "13522    [biden, aid, franci, person, went, white, hou,...\n",
       "13523    [biden, compromi, nation, secur, green, light,...\n",
       "13524    [fool, believ, possibl, nuclear, war, ukrainew...\n",
       "Name: Processed_Tweet, Length: 13525, dtype: object"
      ]
     },
     "execution_count": 72,
     "metadata": {},
     "output_type": "execute_result"
    }
   ],
   "source": [
    "df['Processed_Tweet']"
   ]
  },
  {
   "cell_type": "markdown",
   "id": "a611f9d1",
   "metadata": {},
   "source": [
    "classifying tweets into positive,negative and neutral"
   ]
  },
  {
   "cell_type": "code",
   "execution_count": 73,
   "id": "0cc33586",
   "metadata": {},
   "outputs": [
    {
     "name": "stdout",
     "output_type": "stream",
     "text": [
      "Positive Tweets: 4639\n",
      "Negative Tweets: 2632\n",
      "Neutral Tweets 6254\n"
     ]
    }
   ],
   "source": [
    "positive=0\n",
    "negative=0\n",
    "neutral=0\n",
    "for i in pol:\n",
    "    if i>0:\n",
    "        positive+=1\n",
    "    elif i<0:\n",
    "        negative+=1\n",
    "    else:\n",
    "        neutral+=1\n",
    "print(\"Positive Tweets:\",positive)\n",
    "print(\"Negative Tweets:\",negative)\n",
    "print(\"Neutral Tweets\",neutral)"
   ]
  },
  {
   "cell_type": "code",
   "execution_count": 74,
   "id": "2478e0dc",
   "metadata": {},
   "outputs": [
    {
     "name": "stderr",
     "output_type": "stream",
     "text": [
      "[nltk_data] Downloading package vader_lexicon to C:\\Users\\Mourya\n",
      "[nltk_data]     Kuntamukkala\\AppData\\Roaming\\nltk_data...\n",
      "[nltk_data]   Package vader_lexicon is already up-to-date!\n"
     ]
    },
    {
     "data": {
      "text/plain": [
       "True"
      ]
     },
     "execution_count": 74,
     "metadata": {},
     "output_type": "execute_result"
    }
   ],
   "source": [
    "import nltk\n",
    "nltk.download('vader_lexicon')"
   ]
  },
  {
   "cell_type": "code",
   "execution_count": 75,
   "id": "f67b7672",
   "metadata": {},
   "outputs": [],
   "source": [
    "from nltk.sentiment.vader import SentimentIntensityAnalyzer\n",
    "sid = SentimentIntensityAnalyzer()\n",
    "sentiment_scores= []\n",
    "for i in all_words:\n",
    "    sentiment_scores.append([sid.polarity_scores(i)])"
   ]
  },
  {
   "cell_type": "code",
   "execution_count": 76,
   "id": "af62f6b9",
   "metadata": {},
   "outputs": [],
   "source": [
    "value = []\n",
    "for i in sentiment_scores:\n",
    "    for dict1 in i:\n",
    "        value.append(list(dict1.values()))"
   ]
  },
  {
   "cell_type": "code",
   "execution_count": 77,
   "id": "bcdb423b",
   "metadata": {},
   "outputs": [
    {
     "data": {
      "text/html": [
       "<div>\n",
       "<style scoped>\n",
       "    .dataframe tbody tr th:only-of-type {\n",
       "        vertical-align: middle;\n",
       "    }\n",
       "\n",
       "    .dataframe tbody tr th {\n",
       "        vertical-align: top;\n",
       "    }\n",
       "\n",
       "    .dataframe thead th {\n",
       "        text-align: right;\n",
       "    }\n",
       "</style>\n",
       "<table border=\"1\" class=\"dataframe\">\n",
       "  <thead>\n",
       "    <tr style=\"text-align: right;\">\n",
       "      <th></th>\n",
       "      <th>Negative</th>\n",
       "      <th>Neutral</th>\n",
       "      <th>Positive</th>\n",
       "      <th>Compound</th>\n",
       "    </tr>\n",
       "  </thead>\n",
       "  <tbody>\n",
       "    <tr>\n",
       "      <th>0</th>\n",
       "      <td>0.326</td>\n",
       "      <td>0.674</td>\n",
       "      <td>0.000</td>\n",
       "      <td>-0.8481</td>\n",
       "    </tr>\n",
       "    <tr>\n",
       "      <th>1</th>\n",
       "      <td>0.217</td>\n",
       "      <td>0.783</td>\n",
       "      <td>0.000</td>\n",
       "      <td>-0.3612</td>\n",
       "    </tr>\n",
       "    <tr>\n",
       "      <th>2</th>\n",
       "      <td>0.000</td>\n",
       "      <td>1.000</td>\n",
       "      <td>0.000</td>\n",
       "      <td>0.0000</td>\n",
       "    </tr>\n",
       "    <tr>\n",
       "      <th>3</th>\n",
       "      <td>0.212</td>\n",
       "      <td>0.788</td>\n",
       "      <td>0.000</td>\n",
       "      <td>-0.5423</td>\n",
       "    </tr>\n",
       "    <tr>\n",
       "      <th>4</th>\n",
       "      <td>0.131</td>\n",
       "      <td>0.631</td>\n",
       "      <td>0.238</td>\n",
       "      <td>0.2960</td>\n",
       "    </tr>\n",
       "    <tr>\n",
       "      <th>...</th>\n",
       "      <td>...</td>\n",
       "      <td>...</td>\n",
       "      <td>...</td>\n",
       "      <td>...</td>\n",
       "    </tr>\n",
       "    <tr>\n",
       "      <th>13520</th>\n",
       "      <td>0.000</td>\n",
       "      <td>0.827</td>\n",
       "      <td>0.173</td>\n",
       "      <td>0.3182</td>\n",
       "    </tr>\n",
       "    <tr>\n",
       "      <th>13521</th>\n",
       "      <td>0.263</td>\n",
       "      <td>0.648</td>\n",
       "      <td>0.089</td>\n",
       "      <td>-0.5106</td>\n",
       "    </tr>\n",
       "    <tr>\n",
       "      <th>13522</th>\n",
       "      <td>0.100</td>\n",
       "      <td>0.818</td>\n",
       "      <td>0.082</td>\n",
       "      <td>-0.1280</td>\n",
       "    </tr>\n",
       "    <tr>\n",
       "      <th>13523</th>\n",
       "      <td>0.000</td>\n",
       "      <td>0.898</td>\n",
       "      <td>0.102</td>\n",
       "      <td>0.3612</td>\n",
       "    </tr>\n",
       "    <tr>\n",
       "      <th>13524</th>\n",
       "      <td>0.416</td>\n",
       "      <td>0.584</td>\n",
       "      <td>0.000</td>\n",
       "      <td>-0.9022</td>\n",
       "    </tr>\n",
       "  </tbody>\n",
       "</table>\n",
       "<p>13525 rows × 4 columns</p>\n",
       "</div>"
      ],
      "text/plain": [
       "       Negative  Neutral  Positive  Compound\n",
       "0         0.326    0.674     0.000   -0.8481\n",
       "1         0.217    0.783     0.000   -0.3612\n",
       "2         0.000    1.000     0.000    0.0000\n",
       "3         0.212    0.788     0.000   -0.5423\n",
       "4         0.131    0.631     0.238    0.2960\n",
       "...         ...      ...       ...       ...\n",
       "13520     0.000    0.827     0.173    0.3182\n",
       "13521     0.263    0.648     0.089   -0.5106\n",
       "13522     0.100    0.818     0.082   -0.1280\n",
       "13523     0.000    0.898     0.102    0.3612\n",
       "13524     0.416    0.584     0.000   -0.9022\n",
       "\n",
       "[13525 rows x 4 columns]"
      ]
     },
     "execution_count": 77,
     "metadata": {},
     "output_type": "execute_result"
    }
   ],
   "source": [
    "sentimental_score_df = pd.DataFrame(data = value, columns = ['Negative','Neutral','Positive','Compound'])\n",
    "sentimental_score_df"
   ]
  },
  {
   "cell_type": "code",
   "execution_count": 78,
   "id": "9320c5d2",
   "metadata": {},
   "outputs": [
    {
     "data": {
      "text/html": [
       "<div>\n",
       "<style scoped>\n",
       "    .dataframe tbody tr th:only-of-type {\n",
       "        vertical-align: middle;\n",
       "    }\n",
       "\n",
       "    .dataframe tbody tr th {\n",
       "        vertical-align: top;\n",
       "    }\n",
       "\n",
       "    .dataframe thead th {\n",
       "        text-align: right;\n",
       "    }\n",
       "</style>\n",
       "<table border=\"1\" class=\"dataframe\">\n",
       "  <thead>\n",
       "    <tr style=\"text-align: right;\">\n",
       "      <th></th>\n",
       "      <th>Negative</th>\n",
       "      <th>Neutral</th>\n",
       "      <th>Positive</th>\n",
       "      <th>Compound</th>\n",
       "      <th>val</th>\n",
       "    </tr>\n",
       "  </thead>\n",
       "  <tbody>\n",
       "    <tr>\n",
       "      <th>0</th>\n",
       "      <td>0.326</td>\n",
       "      <td>0.674</td>\n",
       "      <td>0.000</td>\n",
       "      <td>-0.8481</td>\n",
       "      <td>Negative</td>\n",
       "    </tr>\n",
       "    <tr>\n",
       "      <th>1</th>\n",
       "      <td>0.217</td>\n",
       "      <td>0.783</td>\n",
       "      <td>0.000</td>\n",
       "      <td>-0.3612</td>\n",
       "      <td>Negative</td>\n",
       "    </tr>\n",
       "    <tr>\n",
       "      <th>2</th>\n",
       "      <td>0.000</td>\n",
       "      <td>1.000</td>\n",
       "      <td>0.000</td>\n",
       "      <td>0.0000</td>\n",
       "      <td>Neutral</td>\n",
       "    </tr>\n",
       "    <tr>\n",
       "      <th>3</th>\n",
       "      <td>0.212</td>\n",
       "      <td>0.788</td>\n",
       "      <td>0.000</td>\n",
       "      <td>-0.5423</td>\n",
       "      <td>Negative</td>\n",
       "    </tr>\n",
       "    <tr>\n",
       "      <th>4</th>\n",
       "      <td>0.131</td>\n",
       "      <td>0.631</td>\n",
       "      <td>0.238</td>\n",
       "      <td>0.2960</td>\n",
       "      <td>Positive</td>\n",
       "    </tr>\n",
       "  </tbody>\n",
       "</table>\n",
       "</div>"
      ],
      "text/plain": [
       "   Negative  Neutral  Positive  Compound       val\n",
       "0     0.326    0.674     0.000   -0.8481  Negative\n",
       "1     0.217    0.783     0.000   -0.3612  Negative\n",
       "2     0.000    1.000     0.000    0.0000   Neutral\n",
       "3     0.212    0.788     0.000   -0.5423  Negative\n",
       "4     0.131    0.631     0.238    0.2960  Positive"
      ]
     },
     "execution_count": 78,
     "metadata": {},
     "output_type": "execute_result"
    }
   ],
   "source": [
    "sentimental_score_df['val'] = sentimental_score_df['Compound'].apply(lambda x: 'Neutral' if x == 0 else ('Positive' if x > 0 else 'Negative'))\n",
    "sentimental_score_df.head()"
   ]
  },
  {
   "cell_type": "code",
   "execution_count": 79,
   "id": "f4daa832",
   "metadata": {},
   "outputs": [
    {
     "data": {
      "text/plain": [
       "<AxesSubplot:xlabel='sentiment', ylabel='count'>"
      ]
     },
     "execution_count": 79,
     "metadata": {},
     "output_type": "execute_result"
    },
    {
     "data": {
      "image/png": "[encoded data removed]",
      "text/plain": [
       "<Figure size 432x288 with 1 Axes>"
      ]
     },
     "metadata": {
      "needs_background": "light"
     },
     "output_type": "display_data"
    }
   ],
   "source": [
    "sent_count = pd.DataFrame.from_dict(Counter(sentimental_score_df['val']), orient = 'index').reset_index()\n",
    "sent_count.columns = ['sentiment', 'count']\n",
    "\n",
    "sns.barplot(y=\"count\", x='sentiment', data=sent_count)"
   ]
  },
  {
   "cell_type": "code",
   "execution_count": 80,
   "id": "debf0b4e",
   "metadata": {},
   "outputs": [
    {
     "data": {
      "text/plain": [
       "86343"
      ]
     },
     "execution_count": 80,
     "metadata": {},
     "output_type": "execute_result"
    }
   ],
   "source": [
    "filepath = r\"C:\\Users\\Mourya Kuntamukkala\\Desktop\\Courses\\SMDM\\Final Project\\Edited\\NRC Emotion Lexicon.txt\"\n",
    "emolex_df = pd.read_csv(filepath,  names=[\"word\", \"emotion\", \"association\"], skiprows=45, sep='\\t')\n",
    "emolex_df.head(12)\n",
    "len(emolex_df)"
   ]
  },
  {
   "cell_type": "code",
   "execution_count": 81,
   "id": "650e9cf4",
   "metadata": {},
   "outputs": [],
   "source": [
    "emotions={'positive':0, 'negative':0, 'surprise':0,'sadness':0,\n",
    "          'anger':0,'joy':0,'negative':0,'trust':0,'fear':0,'anticipation':0,'disgust':0}"
   ]
  },
  {
   "cell_type": "code",
   "execution_count": 82,
   "id": "16dc7652",
   "metadata": {},
   "outputs": [],
   "source": [
    "word_emotion=dict()\n",
    "for i in range(0,86343):\n",
    "    emotion=emolex_df['emotion'][i]\n",
    "    word=emolex_df['word'][i]\n",
    "    association=emolex_df['association'][i]\n",
    "    \n",
    "    if word not in word_emotion:\n",
    "        word_emotion[word]=dict()\n",
    "    word_emotion[word][emotion]=association  "
   ]
  },
  {
   "cell_type": "code",
   "execution_count": 84,
   "id": "aaa6461d",
   "metadata": {},
   "outputs": [],
   "source": [
    "for i in range(0,13525):\n",
    "    text=df['Tweet'][i]\n",
    "    for j in text.split():\n",
    "        if j in word_emotion:\n",
    "            for k in word_emotion[j]:\n",
    "                emotions[k]+=word_emotion[j][k]"
   ]
  },
  {
   "cell_type": "code",
   "execution_count": 85,
   "id": "04db5b62",
   "metadata": {},
   "outputs": [
    {
     "data": {
      "text/plain": [
       "{'positive': 10790.0,\n",
       " 'negative': 11798.0,\n",
       " 'surprise': 2746.0,\n",
       " 'sadness': 5302.0,\n",
       " 'anger': 6276.0,\n",
       " 'joy': 3826.0,\n",
       " 'trust': 6854.0,\n",
       " 'fear': 7014.0,\n",
       " 'anticipation': 4468.0,\n",
       " 'disgust': 3790.0}"
      ]
     },
     "execution_count": 85,
     "metadata": {},
     "output_type": "execute_result"
    }
   ],
   "source": [
    "emotions"
   ]
  },
  {
   "cell_type": "code",
   "execution_count": 86,
   "id": "982f264a",
   "metadata": {},
   "outputs": [
    {
     "data": {
      "image/png": "[encoded data removed]",
      "text/plain": [
       "<Figure size 1080x360 with 1 Axes>"
      ]
     },
     "metadata": {},
     "output_type": "display_data"
    }
   ],
   "source": [
    "plt.style.use('fivethirtyeight')\n",
    "plt.rcParams[\"figure.figsize\"] = [15,5]\n",
    "plt.bar(list(emotions.keys()),list(emotions.values()),color='red',alpha = 0.6)\n",
    "plt.xlabel('Emotions')\n",
    "plt.ylabel('Count')\n",
    "plt.title('Calculated Emotions Of Users ')\n",
    "plt.show()"
   ]
  },
  {
   "cell_type": "code",
   "execution_count": 88,
   "id": "3fe72d07",
   "metadata": {},
   "outputs": [
    {
     "data": {
      "text/plain": [
       "[]"
      ]
     },
     "execution_count": 88,
     "metadata": {},
     "output_type": "execute_result"
    }
   ],
   "source": [
    "df.Location  = df.Location.fillna('USA')\n",
    "f = [i for i in df['Location'] if type(i) != str]\n",
    "f"
   ]
  },
  {
   "cell_type": "code",
   "execution_count": 89,
   "id": "4f3e788d",
   "metadata": {},
   "outputs": [
    {
     "data": {
      "text/plain": [
       "USA                       5444\n",
       "Austin, TX                 359\n",
       "Kuala Lumpur, Malaysia     197\n",
       "Portugal                   110\n",
       "Darien, CT, USA            105\n",
       "                          ... \n",
       "NorthWest England            1\n",
       "Bavaria, Germany             1\n",
       "Paris, Ile-de-France         1\n",
       "Greenville, SC               1\n",
       "America                      1\n",
       "Name: Location, Length: 2485, dtype: int64"
      ]
     },
     "execution_count": 89,
     "metadata": {},
     "output_type": "execute_result"
    }
   ],
   "source": [
    "df.Location = df.Location.apply(lambda x: x.replace('United States','USA'))\n",
    "df.Location.value_counts()"
   ]
  },
  {
   "cell_type": "code",
   "execution_count": 90,
   "id": "49501d8d",
   "metadata": {},
   "outputs": [
    {
     "data": {
      "text/html": [
       "<div>\n",
       "<style scoped>\n",
       "    .dataframe tbody tr th:only-of-type {\n",
       "        vertical-align: middle;\n",
       "    }\n",
       "\n",
       "    .dataframe tbody tr th {\n",
       "        vertical-align: top;\n",
       "    }\n",
       "\n",
       "    .dataframe thead th {\n",
       "        text-align: right;\n",
       "    }\n",
       "</style>\n",
       "<table border=\"1\" class=\"dataframe\">\n",
       "  <thead>\n",
       "    <tr style=\"text-align: right;\">\n",
       "      <th></th>\n",
       "      <th>Date</th>\n",
       "      <th>Tweet_id</th>\n",
       "      <th>Verified</th>\n",
       "      <th>Tweet</th>\n",
       "      <th>User</th>\n",
       "      <th>Location</th>\n",
       "      <th>Source</th>\n",
       "      <th>Likes</th>\n",
       "      <th>Followers</th>\n",
       "      <th>Following</th>\n",
       "      <th>Retweets</th>\n",
       "      <th>Processed_Tweet</th>\n",
       "      <th>Processed_Location</th>\n",
       "    </tr>\n",
       "  </thead>\n",
       "  <tbody>\n",
       "    <tr>\n",
       "      <th>0</th>\n",
       "      <td>2022-05-08 23:58:20</td>\n",
       "      <td>1523452270448635905</td>\n",
       "      <td>False</td>\n",
       "      <td>The fact that #BethSentUs doxxed the justices ...</td>\n",
       "      <td>SanFranSooner</td>\n",
       "      <td>USA</td>\n",
       "      <td>Twitter for iPhone</td>\n",
       "      <td>3</td>\n",
       "      <td>285</td>\n",
       "      <td>561</td>\n",
       "      <td>2</td>\n",
       "      <td>[fact, bethsentu, dox, justic, bad, enough, bi...</td>\n",
       "      <td>USA</td>\n",
       "    </tr>\n",
       "    <tr>\n",
       "      <th>1</th>\n",
       "      <td>2022-05-08 23:57:33</td>\n",
       "      <td>1523452076147179520</td>\n",
       "      <td>False</td>\n",
       "      <td>Trump complained US Navy ships ‘look ugly’: Es...</td>\n",
       "      <td>MartinJmcmah</td>\n",
       "      <td>USA</td>\n",
       "      <td>Twitter for iPhone</td>\n",
       "      <td>2</td>\n",
       "      <td>1213</td>\n",
       "      <td>179</td>\n",
       "      <td>0</td>\n",
       "      <td>[trump, complain, navi, ship, look, ugli, espe...</td>\n",
       "      <td>USA</td>\n",
       "    </tr>\n",
       "    <tr>\n",
       "      <th>2</th>\n",
       "      <td>2022-05-08 23:56:51</td>\n",
       "      <td>1523451899659251712</td>\n",
       "      <td>False</td>\n",
       "      <td>Remember when #biden left Afghanistan? Why isn...</td>\n",
       "      <td>christjiminy1</td>\n",
       "      <td>USA</td>\n",
       "      <td>Twitter for iPhone</td>\n",
       "      <td>0</td>\n",
       "      <td>8</td>\n",
       "      <td>67</td>\n",
       "      <td>0</td>\n",
       "      <td>[rememb, biden, left, afghanistan, isnt, bigge...</td>\n",
       "      <td>USA</td>\n",
       "    </tr>\n",
       "    <tr>\n",
       "      <th>3</th>\n",
       "      <td>2022-05-08 23:55:50</td>\n",
       "      <td>1523451642909061121</td>\n",
       "      <td>False</td>\n",
       "      <td>#Biden is asking for a $813,000,000,000 \"defen...</td>\n",
       "      <td>joshuamills044</td>\n",
       "      <td>USA</td>\n",
       "      <td>Twitter for Android</td>\n",
       "      <td>0</td>\n",
       "      <td>662</td>\n",
       "      <td>1089</td>\n",
       "      <td>0</td>\n",
       "      <td>[biden, ask, defen, budget, children, unitedst...</td>\n",
       "      <td>USA</td>\n",
       "    </tr>\n",
       "    <tr>\n",
       "      <th>4</th>\n",
       "      <td>2022-05-08 23:53:44</td>\n",
       "      <td>1523451115479924741</td>\n",
       "      <td>False</td>\n",
       "      <td>@ArseGrammatica Last month, the #SCOTUS reject...</td>\n",
       "      <td>hollmic</td>\n",
       "      <td>Kansas, USA</td>\n",
       "      <td>Twitter Web App</td>\n",
       "      <td>0</td>\n",
       "      <td>89</td>\n",
       "      <td>427</td>\n",
       "      <td>0</td>\n",
       "      <td>[last, month, scotu, reject, biden, administr,...</td>\n",
       "      <td>Kansas</td>\n",
       "    </tr>\n",
       "    <tr>\n",
       "      <th>...</th>\n",
       "      <td>...</td>\n",
       "      <td>...</td>\n",
       "      <td>...</td>\n",
       "      <td>...</td>\n",
       "      <td>...</td>\n",
       "      <td>...</td>\n",
       "      <td>...</td>\n",
       "      <td>...</td>\n",
       "      <td>...</td>\n",
       "      <td>...</td>\n",
       "      <td>...</td>\n",
       "      <td>...</td>\n",
       "      <td>...</td>\n",
       "    </tr>\n",
       "    <tr>\n",
       "      <th>13520</th>\n",
       "      <td>2022-04-29 22:47:06</td>\n",
       "      <td>1520172853454323712</td>\n",
       "      <td>False</td>\n",
       "      <td>Voldemort is back!\\n\\n** This post has been fl...</td>\n",
       "      <td>2DIEisGAIN82</td>\n",
       "      <td>USA</td>\n",
       "      <td>Twitter for iPhone</td>\n",
       "      <td>0</td>\n",
       "      <td>75</td>\n",
       "      <td>291</td>\n",
       "      <td>0</td>\n",
       "      <td>[voldemort, back, post, flag, misinform, biden...</td>\n",
       "      <td>USA</td>\n",
       "    </tr>\n",
       "    <tr>\n",
       "      <th>13521</th>\n",
       "      <td>2022-04-29 22:46:23</td>\n",
       "      <td>1520172674709954560</td>\n",
       "      <td>False</td>\n",
       "      <td>#Biden will have to either #boycott #G20Indone...</td>\n",
       "      <td>besthealthyou</td>\n",
       "      <td>Planet Earth</td>\n",
       "      <td>Twitter Web App</td>\n",
       "      <td>0</td>\n",
       "      <td>427</td>\n",
       "      <td>62</td>\n",
       "      <td>0</td>\n",
       "      <td>[biden, either, boycott, indonesia, mayb, zoom...</td>\n",
       "      <td>Planet Earth</td>\n",
       "    </tr>\n",
       "    <tr>\n",
       "      <th>13522</th>\n",
       "      <td>2022-04-29 22:44:43</td>\n",
       "      <td>1520172254700703744</td>\n",
       "      <td>False</td>\n",
       "      <td>Ex-#Biden aide Francis Person went to White Ho...</td>\n",
       "      <td>livlifealliance</td>\n",
       "      <td>The Beautiful USA</td>\n",
       "      <td>Twitter for Android</td>\n",
       "      <td>0</td>\n",
       "      <td>17</td>\n",
       "      <td>140</td>\n",
       "      <td>0</td>\n",
       "      <td>[biden, aid, franci, person, went, white, hou,...</td>\n",
       "      <td>The Beautiful USA</td>\n",
       "    </tr>\n",
       "    <tr>\n",
       "      <th>13523</th>\n",
       "      <td>2022-04-29 22:44:39</td>\n",
       "      <td>1520172237562728448</td>\n",
       "      <td>False</td>\n",
       "      <td>@GOP:\\nDid #Biden compromise national security...</td>\n",
       "      <td>ttstrac</td>\n",
       "      <td>America</td>\n",
       "      <td>Twitter for iPhone</td>\n",
       "      <td>0</td>\n",
       "      <td>5130</td>\n",
       "      <td>5504</td>\n",
       "      <td>0</td>\n",
       "      <td>[biden, compromi, nation, secur, green, light,...</td>\n",
       "      <td>America</td>\n",
       "    </tr>\n",
       "    <tr>\n",
       "      <th>13524</th>\n",
       "      <td>2022-04-29 22:42:58</td>\n",
       "      <td>1520171811878678528</td>\n",
       "      <td>False</td>\n",
       "      <td>@CBSMornings Only fools do not believe in the ...</td>\n",
       "      <td>Orlap2020</td>\n",
       "      <td>USA</td>\n",
       "      <td>Twitter for Android</td>\n",
       "      <td>0</td>\n",
       "      <td>29</td>\n",
       "      <td>8</td>\n",
       "      <td>0</td>\n",
       "      <td>[fool, believ, possibl, nuclear, war, ukrainew...</td>\n",
       "      <td>USA</td>\n",
       "    </tr>\n",
       "  </tbody>\n",
       "</table>\n",
       "<p>13525 rows × 13 columns</p>\n",
       "</div>"
      ],
      "text/plain": [
       "                     Date             Tweet_id  Verified  \\\n",
       "0     2022-05-08 23:58:20  1523452270448635905     False   \n",
       "1     2022-05-08 23:57:33  1523452076147179520     False   \n",
       "2     2022-05-08 23:56:51  1523451899659251712     False   \n",
       "3     2022-05-08 23:55:50  1523451642909061121     False   \n",
       "4     2022-05-08 23:53:44  1523451115479924741     False   \n",
       "...                   ...                  ...       ...   \n",
       "13520 2022-04-29 22:47:06  1520172853454323712     False   \n",
       "13521 2022-04-29 22:46:23  1520172674709954560     False   \n",
       "13522 2022-04-29 22:44:43  1520172254700703744     False   \n",
       "13523 2022-04-29 22:44:39  1520172237562728448     False   \n",
       "13524 2022-04-29 22:42:58  1520171811878678528     False   \n",
       "\n",
       "                                                   Tweet             User  \\\n",
       "0      The fact that #BethSentUs doxxed the justices ...    SanFranSooner   \n",
       "1      Trump complained US Navy ships ‘look ugly’: Es...     MartinJmcmah   \n",
       "2      Remember when #biden left Afghanistan? Why isn...    christjiminy1   \n",
       "3      #Biden is asking for a $813,000,000,000 \"defen...   joshuamills044   \n",
       "4      @ArseGrammatica Last month, the #SCOTUS reject...          hollmic   \n",
       "...                                                  ...              ...   \n",
       "13520  Voldemort is back!\\n\\n** This post has been fl...     2DIEisGAIN82   \n",
       "13521  #Biden will have to either #boycott #G20Indone...    besthealthyou   \n",
       "13522  Ex-#Biden aide Francis Person went to White Ho...  livlifealliance   \n",
       "13523  @GOP:\\nDid #Biden compromise national security...          ttstrac   \n",
       "13524  @CBSMornings Only fools do not believe in the ...        Orlap2020   \n",
       "\n",
       "                Location               Source  Likes  Followers  Following  \\\n",
       "0                    USA   Twitter for iPhone      3        285        561   \n",
       "1                    USA   Twitter for iPhone      2       1213        179   \n",
       "2                    USA   Twitter for iPhone      0          8         67   \n",
       "3                    USA  Twitter for Android      0        662       1089   \n",
       "4            Kansas, USA      Twitter Web App      0         89        427   \n",
       "...                  ...                  ...    ...        ...        ...   \n",
       "13520                USA   Twitter for iPhone      0         75        291   \n",
       "13521       Planet Earth      Twitter Web App      0        427         62   \n",
       "13522  The Beautiful USA  Twitter for Android      0         17        140   \n",
       "13523           America    Twitter for iPhone      0       5130       5504   \n",
       "13524                USA  Twitter for Android      0         29          8   \n",
       "\n",
       "       Retweets                                    Processed_Tweet  \\\n",
       "0             2  [fact, bethsentu, dox, justic, bad, enough, bi...   \n",
       "1             0  [trump, complain, navi, ship, look, ugli, espe...   \n",
       "2             0  [rememb, biden, left, afghanistan, isnt, bigge...   \n",
       "3             0  [biden, ask, defen, budget, children, unitedst...   \n",
       "4             0  [last, month, scotu, reject, biden, administr,...   \n",
       "...         ...                                                ...   \n",
       "13520         0  [voldemort, back, post, flag, misinform, biden...   \n",
       "13521         0  [biden, either, boycott, indonesia, mayb, zoom...   \n",
       "13522         0  [biden, aid, franci, person, went, white, hou,...   \n",
       "13523         0  [biden, compromi, nation, secur, green, light,...   \n",
       "13524         0  [fool, believ, possibl, nuclear, war, ukrainew...   \n",
       "\n",
       "      Processed_Location  \n",
       "0                    USA  \n",
       "1                    USA  \n",
       "2                    USA  \n",
       "3                    USA  \n",
       "4                 Kansas  \n",
       "...                  ...  \n",
       "13520                USA  \n",
       "13521       Planet Earth  \n",
       "13522  The Beautiful USA  \n",
       "13523           America   \n",
       "13524                USA  \n",
       "\n",
       "[13525 rows x 13 columns]"
      ]
     },
     "execution_count": 90,
     "metadata": {},
     "output_type": "execute_result"
    }
   ],
   "source": [
    "locations = []\n",
    "locations_1 = []\n",
    "\n",
    "locations = [i.split(',')[-1] for i in df['Location']]\n",
    "locations_1 =  [i.split(',')[0] for i in df['Location']]\n",
    "df['Processed_Location'] = locations_1\n",
    "df"
   ]
  },
  {
   "cell_type": "code",
   "execution_count": 91,
   "id": "cfb38adc",
   "metadata": {},
   "outputs": [
    {
     "data": {
      "text/html": [
       "<div>\n",
       "<style scoped>\n",
       "    .dataframe tbody tr th:only-of-type {\n",
       "        vertical-align: middle;\n",
       "    }\n",
       "\n",
       "    .dataframe tbody tr th {\n",
       "        vertical-align: top;\n",
       "    }\n",
       "\n",
       "    .dataframe thead th {\n",
       "        text-align: right;\n",
       "    }\n",
       "</style>\n",
       "<table border=\"1\" class=\"dataframe\">\n",
       "  <thead>\n",
       "    <tr style=\"text-align: right;\">\n",
       "      <th></th>\n",
       "      <th>Date</th>\n",
       "      <th>Tweet_id</th>\n",
       "      <th>Verified</th>\n",
       "      <th>Tweet</th>\n",
       "      <th>User</th>\n",
       "      <th>Location</th>\n",
       "      <th>Source</th>\n",
       "      <th>Likes</th>\n",
       "      <th>Followers</th>\n",
       "      <th>Following</th>\n",
       "      <th>Retweets</th>\n",
       "      <th>Processed_Tweet</th>\n",
       "      <th>Processed_Location</th>\n",
       "      <th>sentiment</th>\n",
       "    </tr>\n",
       "  </thead>\n",
       "  <tbody>\n",
       "    <tr>\n",
       "      <th>0</th>\n",
       "      <td>2022-05-08 23:58:20</td>\n",
       "      <td>1523452270448635905</td>\n",
       "      <td>False</td>\n",
       "      <td>The fact that #BethSentUs doxxed the justices ...</td>\n",
       "      <td>SanFranSooner</td>\n",
       "      <td>USA</td>\n",
       "      <td>Twitter for iPhone</td>\n",
       "      <td>3</td>\n",
       "      <td>285</td>\n",
       "      <td>561</td>\n",
       "      <td>2</td>\n",
       "      <td>[fact, bethsentu, dox, justic, bad, enough, bi...</td>\n",
       "      <td>USA</td>\n",
       "      <td>Negative</td>\n",
       "    </tr>\n",
       "    <tr>\n",
       "      <th>1</th>\n",
       "      <td>2022-05-08 23:57:33</td>\n",
       "      <td>1523452076147179520</td>\n",
       "      <td>False</td>\n",
       "      <td>Trump complained US Navy ships ‘look ugly’: Es...</td>\n",
       "      <td>MartinJmcmah</td>\n",
       "      <td>USA</td>\n",
       "      <td>Twitter for iPhone</td>\n",
       "      <td>2</td>\n",
       "      <td>1213</td>\n",
       "      <td>179</td>\n",
       "      <td>0</td>\n",
       "      <td>[trump, complain, navi, ship, look, ugli, espe...</td>\n",
       "      <td>USA</td>\n",
       "      <td>Negative</td>\n",
       "    </tr>\n",
       "    <tr>\n",
       "      <th>2</th>\n",
       "      <td>2022-05-08 23:56:51</td>\n",
       "      <td>1523451899659251712</td>\n",
       "      <td>False</td>\n",
       "      <td>Remember when #biden left Afghanistan? Why isn...</td>\n",
       "      <td>christjiminy1</td>\n",
       "      <td>USA</td>\n",
       "      <td>Twitter for iPhone</td>\n",
       "      <td>0</td>\n",
       "      <td>8</td>\n",
       "      <td>67</td>\n",
       "      <td>0</td>\n",
       "      <td>[rememb, biden, left, afghanistan, isnt, bigge...</td>\n",
       "      <td>USA</td>\n",
       "      <td>Neutral</td>\n",
       "    </tr>\n",
       "    <tr>\n",
       "      <th>3</th>\n",
       "      <td>2022-05-08 23:55:50</td>\n",
       "      <td>1523451642909061121</td>\n",
       "      <td>False</td>\n",
       "      <td>#Biden is asking for a $813,000,000,000 \"defen...</td>\n",
       "      <td>joshuamills044</td>\n",
       "      <td>USA</td>\n",
       "      <td>Twitter for Android</td>\n",
       "      <td>0</td>\n",
       "      <td>662</td>\n",
       "      <td>1089</td>\n",
       "      <td>0</td>\n",
       "      <td>[biden, ask, defen, budget, children, unitedst...</td>\n",
       "      <td>USA</td>\n",
       "      <td>Negative</td>\n",
       "    </tr>\n",
       "    <tr>\n",
       "      <th>4</th>\n",
       "      <td>2022-05-08 23:53:44</td>\n",
       "      <td>1523451115479924741</td>\n",
       "      <td>False</td>\n",
       "      <td>@ArseGrammatica Last month, the #SCOTUS reject...</td>\n",
       "      <td>hollmic</td>\n",
       "      <td>Kansas, USA</td>\n",
       "      <td>Twitter Web App</td>\n",
       "      <td>0</td>\n",
       "      <td>89</td>\n",
       "      <td>427</td>\n",
       "      <td>0</td>\n",
       "      <td>[last, month, scotu, reject, biden, administr,...</td>\n",
       "      <td>Kansas</td>\n",
       "      <td>Positive</td>\n",
       "    </tr>\n",
       "  </tbody>\n",
       "</table>\n",
       "</div>"
      ],
      "text/plain": [
       "                 Date             Tweet_id  Verified  \\\n",
       "0 2022-05-08 23:58:20  1523452270448635905     False   \n",
       "1 2022-05-08 23:57:33  1523452076147179520     False   \n",
       "2 2022-05-08 23:56:51  1523451899659251712     False   \n",
       "3 2022-05-08 23:55:50  1523451642909061121     False   \n",
       "4 2022-05-08 23:53:44  1523451115479924741     False   \n",
       "\n",
       "                                               Tweet            User  \\\n",
       "0  The fact that #BethSentUs doxxed the justices ...   SanFranSooner   \n",
       "1  Trump complained US Navy ships ‘look ugly’: Es...    MartinJmcmah   \n",
       "2  Remember when #biden left Afghanistan? Why isn...   christjiminy1   \n",
       "3  #Biden is asking for a $813,000,000,000 \"defen...  joshuamills044   \n",
       "4  @ArseGrammatica Last month, the #SCOTUS reject...         hollmic   \n",
       "\n",
       "      Location               Source  Likes  Followers  Following  Retweets  \\\n",
       "0          USA   Twitter for iPhone      3        285        561         2   \n",
       "1          USA   Twitter for iPhone      2       1213        179         0   \n",
       "2          USA   Twitter for iPhone      0          8         67         0   \n",
       "3          USA  Twitter for Android      0        662       1089         0   \n",
       "4  Kansas, USA      Twitter Web App      0         89        427         0   \n",
       "\n",
       "                                     Processed_Tweet Processed_Location  \\\n",
       "0  [fact, bethsentu, dox, justic, bad, enough, bi...                USA   \n",
       "1  [trump, complain, navi, ship, look, ugli, espe...                USA   \n",
       "2  [rememb, biden, left, afghanistan, isnt, bigge...                USA   \n",
       "3  [biden, ask, defen, budget, children, unitedst...                USA   \n",
       "4  [last, month, scotu, reject, biden, administr,...             Kansas   \n",
       "\n",
       "  sentiment  \n",
       "0  Negative  \n",
       "1  Negative  \n",
       "2   Neutral  \n",
       "3  Negative  \n",
       "4  Positive  "
      ]
     },
     "execution_count": 91,
     "metadata": {},
     "output_type": "execute_result"
    }
   ],
   "source": [
    "df1 = df\n",
    "df1['sentiment'] = sentimental_score_df['val']\n",
    "df1.head()"
   ]
  },
  {
   "cell_type": "code",
   "execution_count": 92,
   "id": "20421192",
   "metadata": {},
   "outputs": [
    {
     "data": {
      "text/html": [
       "<div>\n",
       "<style scoped>\n",
       "    .dataframe tbody tr th:only-of-type {\n",
       "        vertical-align: middle;\n",
       "    }\n",
       "\n",
       "    .dataframe tbody tr th {\n",
       "        vertical-align: top;\n",
       "    }\n",
       "\n",
       "    .dataframe thead th {\n",
       "        text-align: right;\n",
       "    }\n",
       "</style>\n",
       "<table border=\"1\" class=\"dataframe\">\n",
       "  <thead>\n",
       "    <tr style=\"text-align: right;\">\n",
       "      <th></th>\n",
       "      <th>Date</th>\n",
       "      <th>Tweet_id</th>\n",
       "      <th>Verified</th>\n",
       "      <th>Tweet</th>\n",
       "      <th>User</th>\n",
       "      <th>Location</th>\n",
       "      <th>Source</th>\n",
       "      <th>Likes</th>\n",
       "      <th>Followers</th>\n",
       "      <th>Following</th>\n",
       "      <th>Retweets</th>\n",
       "      <th>Processed_Tweet</th>\n",
       "      <th>Processed_Location</th>\n",
       "      <th>sentiment</th>\n",
       "      <th>day</th>\n",
       "    </tr>\n",
       "  </thead>\n",
       "  <tbody>\n",
       "    <tr>\n",
       "      <th>0</th>\n",
       "      <td>2022-05-08 23:58:20</td>\n",
       "      <td>1523452270448635905</td>\n",
       "      <td>False</td>\n",
       "      <td>The fact that #BethSentUs doxxed the justices ...</td>\n",
       "      <td>SanFranSooner</td>\n",
       "      <td>USA</td>\n",
       "      <td>Twitter for iPhone</td>\n",
       "      <td>3</td>\n",
       "      <td>285</td>\n",
       "      <td>561</td>\n",
       "      <td>2</td>\n",
       "      <td>[fact, bethsentu, dox, justic, bad, enough, bi...</td>\n",
       "      <td>USA</td>\n",
       "      <td>Negative</td>\n",
       "      <td>8</td>\n",
       "    </tr>\n",
       "    <tr>\n",
       "      <th>1</th>\n",
       "      <td>2022-05-08 23:57:33</td>\n",
       "      <td>1523452076147179520</td>\n",
       "      <td>False</td>\n",
       "      <td>Trump complained US Navy ships ‘look ugly’: Es...</td>\n",
       "      <td>MartinJmcmah</td>\n",
       "      <td>USA</td>\n",
       "      <td>Twitter for iPhone</td>\n",
       "      <td>2</td>\n",
       "      <td>1213</td>\n",
       "      <td>179</td>\n",
       "      <td>0</td>\n",
       "      <td>[trump, complain, navi, ship, look, ugli, espe...</td>\n",
       "      <td>USA</td>\n",
       "      <td>Negative</td>\n",
       "      <td>8</td>\n",
       "    </tr>\n",
       "    <tr>\n",
       "      <th>2</th>\n",
       "      <td>2022-05-08 23:56:51</td>\n",
       "      <td>1523451899659251712</td>\n",
       "      <td>False</td>\n",
       "      <td>Remember when #biden left Afghanistan? Why isn...</td>\n",
       "      <td>christjiminy1</td>\n",
       "      <td>USA</td>\n",
       "      <td>Twitter for iPhone</td>\n",
       "      <td>0</td>\n",
       "      <td>8</td>\n",
       "      <td>67</td>\n",
       "      <td>0</td>\n",
       "      <td>[rememb, biden, left, afghanistan, isnt, bigge...</td>\n",
       "      <td>USA</td>\n",
       "      <td>Neutral</td>\n",
       "      <td>8</td>\n",
       "    </tr>\n",
       "    <tr>\n",
       "      <th>3</th>\n",
       "      <td>2022-05-08 23:55:50</td>\n",
       "      <td>1523451642909061121</td>\n",
       "      <td>False</td>\n",
       "      <td>#Biden is asking for a $813,000,000,000 \"defen...</td>\n",
       "      <td>joshuamills044</td>\n",
       "      <td>USA</td>\n",
       "      <td>Twitter for Android</td>\n",
       "      <td>0</td>\n",
       "      <td>662</td>\n",
       "      <td>1089</td>\n",
       "      <td>0</td>\n",
       "      <td>[biden, ask, defen, budget, children, unitedst...</td>\n",
       "      <td>USA</td>\n",
       "      <td>Negative</td>\n",
       "      <td>8</td>\n",
       "    </tr>\n",
       "    <tr>\n",
       "      <th>4</th>\n",
       "      <td>2022-05-08 23:53:44</td>\n",
       "      <td>1523451115479924741</td>\n",
       "      <td>False</td>\n",
       "      <td>@ArseGrammatica Last month, the #SCOTUS reject...</td>\n",
       "      <td>hollmic</td>\n",
       "      <td>Kansas, USA</td>\n",
       "      <td>Twitter Web App</td>\n",
       "      <td>0</td>\n",
       "      <td>89</td>\n",
       "      <td>427</td>\n",
       "      <td>0</td>\n",
       "      <td>[last, month, scotu, reject, biden, administr,...</td>\n",
       "      <td>Kansas</td>\n",
       "      <td>Positive</td>\n",
       "      <td>8</td>\n",
       "    </tr>\n",
       "  </tbody>\n",
       "</table>\n",
       "</div>"
      ],
      "text/plain": [
       "                 Date             Tweet_id  Verified  \\\n",
       "0 2022-05-08 23:58:20  1523452270448635905     False   \n",
       "1 2022-05-08 23:57:33  1523452076147179520     False   \n",
       "2 2022-05-08 23:56:51  1523451899659251712     False   \n",
       "3 2022-05-08 23:55:50  1523451642909061121     False   \n",
       "4 2022-05-08 23:53:44  1523451115479924741     False   \n",
       "\n",
       "                                               Tweet            User  \\\n",
       "0  The fact that #BethSentUs doxxed the justices ...   SanFranSooner   \n",
       "1  Trump complained US Navy ships ‘look ugly’: Es...    MartinJmcmah   \n",
       "2  Remember when #biden left Afghanistan? Why isn...   christjiminy1   \n",
       "3  #Biden is asking for a $813,000,000,000 \"defen...  joshuamills044   \n",
       "4  @ArseGrammatica Last month, the #SCOTUS reject...         hollmic   \n",
       "\n",
       "      Location               Source  Likes  Followers  Following  Retweets  \\\n",
       "0          USA   Twitter for iPhone      3        285        561         2   \n",
       "1          USA   Twitter for iPhone      2       1213        179         0   \n",
       "2          USA   Twitter for iPhone      0          8         67         0   \n",
       "3          USA  Twitter for Android      0        662       1089         0   \n",
       "4  Kansas, USA      Twitter Web App      0         89        427         0   \n",
       "\n",
       "                                     Processed_Tweet Processed_Location  \\\n",
       "0  [fact, bethsentu, dox, justic, bad, enough, bi...                USA   \n",
       "1  [trump, complain, navi, ship, look, ugli, espe...                USA   \n",
       "2  [rememb, biden, left, afghanistan, isnt, bigge...                USA   \n",
       "3  [biden, ask, defen, budget, children, unitedst...                USA   \n",
       "4  [last, month, scotu, reject, biden, administr,...             Kansas   \n",
       "\n",
       "  sentiment  day  \n",
       "0  Negative    8  \n",
       "1  Negative    8  \n",
       "2   Neutral    8  \n",
       "3  Negative    8  \n",
       "4  Positive    8  "
      ]
     },
     "execution_count": 92,
     "metadata": {},
     "output_type": "execute_result"
    }
   ],
   "source": [
    "df1.to_csv('Location.csv',index = False)\n",
    "df1['day'] = df.Date.dt.day\n",
    "df1.head()"
   ]
  },
  {
   "cell_type": "code",
   "execution_count": 93,
   "id": "5de6c70a",
   "metadata": {},
   "outputs": [
    {
     "name": "stderr",
     "output_type": "stream",
     "text": [
      "C:\\Users\\Mourya Kuntamukkala\\AppData\\Local\\Programs\\Python\\Python310\\lib\\site-packages\\seaborn\\_decorators.py:36: FutureWarning: Pass the following variable as a keyword arg: x. From version 0.12, the only valid positional argument will be `data`, and passing other arguments without an explicit keyword will result in an error or misinterpretation.\n",
      "  warnings.warn(\n"
     ]
    },
    {
     "data": {
      "text/plain": [
       "<AxesSubplot:xlabel='day', ylabel='count'>"
      ]
     },
     "execution_count": 93,
     "metadata": {},
     "output_type": "execute_result"
    },
    {
     "data": {
      "image/png": "[encoded data removed]",
      "text/plain": [
       "<Figure size 1080x360 with 1 Axes>"
      ]
     },
     "metadata": {},
     "output_type": "display_data"
    }
   ],
   "source": [
    "sns.countplot(df['day'],hue = df['sentiment'])"
   ]
  },
  {
   "cell_type": "markdown",
   "id": "c538efe1",
   "metadata": {},
   "source": [
    "Predictions"
   ]
  },
  {
   "cell_type": "code",
   "execution_count": 94,
   "id": "8fdd4cd9",
   "metadata": {},
   "outputs": [],
   "source": [
    "from sklearn.feature_extraction.text import CountVectorizer\n",
    "from sklearn.model_selection import train_test_split\n",
    "from sklearn.naive_bayes import GaussianNB\n",
    "from sklearn.naive_bayes import MultinomialNB\n",
    "from sklearn.metrics import confusion_matrix\n",
    "from sklearn.tree import DecisionTreeClassifier\n",
    "from sklearn.ensemble import RandomForestClassifier\n",
    "from sklearn.preprocessing import LabelEncoder \n",
    "from sklearn.model_selection import GridSearchCV\n",
    "from sklearn import model_selection\n",
    "\n",
    "from sklearn.model_selection import cross_val_score\n",
    "from sklearn.metrics import accuracy_score\n",
    "from sklearn.metrics import precision_score\n",
    "from sklearn.metrics import recall_score\n",
    "from sklearn.metrics import f1_score"
   ]
  },
  {
   "cell_type": "code",
   "execution_count": 95,
   "id": "26b25177",
   "metadata": {},
   "outputs": [],
   "source": [
    "le = LabelEncoder() \n",
    "  \n",
    "df1['sentiment_1']= le.fit_transform(df1['sentiment']) "
   ]
  },
  {
   "cell_type": "code",
   "execution_count": 96,
   "id": "b1449e7d",
   "metadata": {},
   "outputs": [
    {
     "data": {
      "text/html": [
       "<div>\n",
       "<style scoped>\n",
       "    .dataframe tbody tr th:only-of-type {\n",
       "        vertical-align: middle;\n",
       "    }\n",
       "\n",
       "    .dataframe tbody tr th {\n",
       "        vertical-align: top;\n",
       "    }\n",
       "\n",
       "    .dataframe thead th {\n",
       "        text-align: right;\n",
       "    }\n",
       "</style>\n",
       "<table border=\"1\" class=\"dataframe\">\n",
       "  <thead>\n",
       "    <tr style=\"text-align: right;\">\n",
       "      <th></th>\n",
       "      <th>Date</th>\n",
       "      <th>Tweet_id</th>\n",
       "      <th>Verified</th>\n",
       "      <th>Tweet</th>\n",
       "      <th>User</th>\n",
       "      <th>Location</th>\n",
       "      <th>Source</th>\n",
       "      <th>Likes</th>\n",
       "      <th>Followers</th>\n",
       "      <th>Following</th>\n",
       "      <th>Retweets</th>\n",
       "      <th>Processed_Tweet</th>\n",
       "      <th>Processed_Location</th>\n",
       "      <th>sentiment</th>\n",
       "      <th>day</th>\n",
       "      <th>sentiment_1</th>\n",
       "    </tr>\n",
       "  </thead>\n",
       "  <tbody>\n",
       "    <tr>\n",
       "      <th>0</th>\n",
       "      <td>2022-05-08 23:58:20</td>\n",
       "      <td>1523452270448635905</td>\n",
       "      <td>False</td>\n",
       "      <td>The fact that #BethSentUs doxxed the justices ...</td>\n",
       "      <td>SanFranSooner</td>\n",
       "      <td>USA</td>\n",
       "      <td>Twitter for iPhone</td>\n",
       "      <td>3</td>\n",
       "      <td>285</td>\n",
       "      <td>561</td>\n",
       "      <td>2</td>\n",
       "      <td>[fact, bethsentu, dox, justic, bad, enough, bi...</td>\n",
       "      <td>USA</td>\n",
       "      <td>Negative</td>\n",
       "      <td>8</td>\n",
       "      <td>0</td>\n",
       "    </tr>\n",
       "    <tr>\n",
       "      <th>1</th>\n",
       "      <td>2022-05-08 23:57:33</td>\n",
       "      <td>1523452076147179520</td>\n",
       "      <td>False</td>\n",
       "      <td>Trump complained US Navy ships ‘look ugly’: Es...</td>\n",
       "      <td>MartinJmcmah</td>\n",
       "      <td>USA</td>\n",
       "      <td>Twitter for iPhone</td>\n",
       "      <td>2</td>\n",
       "      <td>1213</td>\n",
       "      <td>179</td>\n",
       "      <td>0</td>\n",
       "      <td>[trump, complain, navi, ship, look, ugli, espe...</td>\n",
       "      <td>USA</td>\n",
       "      <td>Negative</td>\n",
       "      <td>8</td>\n",
       "      <td>0</td>\n",
       "    </tr>\n",
       "    <tr>\n",
       "      <th>2</th>\n",
       "      <td>2022-05-08 23:56:51</td>\n",
       "      <td>1523451899659251712</td>\n",
       "      <td>False</td>\n",
       "      <td>Remember when #biden left Afghanistan? Why isn...</td>\n",
       "      <td>christjiminy1</td>\n",
       "      <td>USA</td>\n",
       "      <td>Twitter for iPhone</td>\n",
       "      <td>0</td>\n",
       "      <td>8</td>\n",
       "      <td>67</td>\n",
       "      <td>0</td>\n",
       "      <td>[rememb, biden, left, afghanistan, isnt, bigge...</td>\n",
       "      <td>USA</td>\n",
       "      <td>Neutral</td>\n",
       "      <td>8</td>\n",
       "      <td>1</td>\n",
       "    </tr>\n",
       "    <tr>\n",
       "      <th>3</th>\n",
       "      <td>2022-05-08 23:55:50</td>\n",
       "      <td>1523451642909061121</td>\n",
       "      <td>False</td>\n",
       "      <td>#Biden is asking for a $813,000,000,000 \"defen...</td>\n",
       "      <td>joshuamills044</td>\n",
       "      <td>USA</td>\n",
       "      <td>Twitter for Android</td>\n",
       "      <td>0</td>\n",
       "      <td>662</td>\n",
       "      <td>1089</td>\n",
       "      <td>0</td>\n",
       "      <td>[biden, ask, defen, budget, children, unitedst...</td>\n",
       "      <td>USA</td>\n",
       "      <td>Negative</td>\n",
       "      <td>8</td>\n",
       "      <td>0</td>\n",
       "    </tr>\n",
       "    <tr>\n",
       "      <th>4</th>\n",
       "      <td>2022-05-08 23:53:44</td>\n",
       "      <td>1523451115479924741</td>\n",
       "      <td>False</td>\n",
       "      <td>@ArseGrammatica Last month, the #SCOTUS reject...</td>\n",
       "      <td>hollmic</td>\n",
       "      <td>Kansas, USA</td>\n",
       "      <td>Twitter Web App</td>\n",
       "      <td>0</td>\n",
       "      <td>89</td>\n",
       "      <td>427</td>\n",
       "      <td>0</td>\n",
       "      <td>[last, month, scotu, reject, biden, administr,...</td>\n",
       "      <td>Kansas</td>\n",
       "      <td>Positive</td>\n",
       "      <td>8</td>\n",
       "      <td>2</td>\n",
       "    </tr>\n",
       "    <tr>\n",
       "      <th>...</th>\n",
       "      <td>...</td>\n",
       "      <td>...</td>\n",
       "      <td>...</td>\n",
       "      <td>...</td>\n",
       "      <td>...</td>\n",
       "      <td>...</td>\n",
       "      <td>...</td>\n",
       "      <td>...</td>\n",
       "      <td>...</td>\n",
       "      <td>...</td>\n",
       "      <td>...</td>\n",
       "      <td>...</td>\n",
       "      <td>...</td>\n",
       "      <td>...</td>\n",
       "      <td>...</td>\n",
       "      <td>...</td>\n",
       "    </tr>\n",
       "    <tr>\n",
       "      <th>13520</th>\n",
       "      <td>2022-04-29 22:47:06</td>\n",
       "      <td>1520172853454323712</td>\n",
       "      <td>False</td>\n",
       "      <td>Voldemort is back!\\n\\n** This post has been fl...</td>\n",
       "      <td>2DIEisGAIN82</td>\n",
       "      <td>USA</td>\n",
       "      <td>Twitter for iPhone</td>\n",
       "      <td>0</td>\n",
       "      <td>75</td>\n",
       "      <td>291</td>\n",
       "      <td>0</td>\n",
       "      <td>[voldemort, back, post, flag, misinform, biden...</td>\n",
       "      <td>USA</td>\n",
       "      <td>Positive</td>\n",
       "      <td>29</td>\n",
       "      <td>2</td>\n",
       "    </tr>\n",
       "    <tr>\n",
       "      <th>13521</th>\n",
       "      <td>2022-04-29 22:46:23</td>\n",
       "      <td>1520172674709954560</td>\n",
       "      <td>False</td>\n",
       "      <td>#Biden will have to either #boycott #G20Indone...</td>\n",
       "      <td>besthealthyou</td>\n",
       "      <td>Planet Earth</td>\n",
       "      <td>Twitter Web App</td>\n",
       "      <td>0</td>\n",
       "      <td>427</td>\n",
       "      <td>62</td>\n",
       "      <td>0</td>\n",
       "      <td>[biden, either, boycott, indonesia, mayb, zoom...</td>\n",
       "      <td>Planet Earth</td>\n",
       "      <td>Negative</td>\n",
       "      <td>29</td>\n",
       "      <td>0</td>\n",
       "    </tr>\n",
       "    <tr>\n",
       "      <th>13522</th>\n",
       "      <td>2022-04-29 22:44:43</td>\n",
       "      <td>1520172254700703744</td>\n",
       "      <td>False</td>\n",
       "      <td>Ex-#Biden aide Francis Person went to White Ho...</td>\n",
       "      <td>livlifealliance</td>\n",
       "      <td>The Beautiful USA</td>\n",
       "      <td>Twitter for Android</td>\n",
       "      <td>0</td>\n",
       "      <td>17</td>\n",
       "      <td>140</td>\n",
       "      <td>0</td>\n",
       "      <td>[biden, aid, franci, person, went, white, hou,...</td>\n",
       "      <td>The Beautiful USA</td>\n",
       "      <td>Negative</td>\n",
       "      <td>29</td>\n",
       "      <td>0</td>\n",
       "    </tr>\n",
       "    <tr>\n",
       "      <th>13523</th>\n",
       "      <td>2022-04-29 22:44:39</td>\n",
       "      <td>1520172237562728448</td>\n",
       "      <td>False</td>\n",
       "      <td>@GOP:\\nDid #Biden compromise national security...</td>\n",
       "      <td>ttstrac</td>\n",
       "      <td>America</td>\n",
       "      <td>Twitter for iPhone</td>\n",
       "      <td>0</td>\n",
       "      <td>5130</td>\n",
       "      <td>5504</td>\n",
       "      <td>0</td>\n",
       "      <td>[biden, compromi, nation, secur, green, light,...</td>\n",
       "      <td>America</td>\n",
       "      <td>Positive</td>\n",
       "      <td>29</td>\n",
       "      <td>2</td>\n",
       "    </tr>\n",
       "    <tr>\n",
       "      <th>13524</th>\n",
       "      <td>2022-04-29 22:42:58</td>\n",
       "      <td>1520171811878678528</td>\n",
       "      <td>False</td>\n",
       "      <td>@CBSMornings Only fools do not believe in the ...</td>\n",
       "      <td>Orlap2020</td>\n",
       "      <td>USA</td>\n",
       "      <td>Twitter for Android</td>\n",
       "      <td>0</td>\n",
       "      <td>29</td>\n",
       "      <td>8</td>\n",
       "      <td>0</td>\n",
       "      <td>[fool, believ, possibl, nuclear, war, ukrainew...</td>\n",
       "      <td>USA</td>\n",
       "      <td>Negative</td>\n",
       "      <td>29</td>\n",
       "      <td>0</td>\n",
       "    </tr>\n",
       "  </tbody>\n",
       "</table>\n",
       "<p>13525 rows × 16 columns</p>\n",
       "</div>"
      ],
      "text/plain": [
       "                     Date             Tweet_id  Verified  \\\n",
       "0     2022-05-08 23:58:20  1523452270448635905     False   \n",
       "1     2022-05-08 23:57:33  1523452076147179520     False   \n",
       "2     2022-05-08 23:56:51  1523451899659251712     False   \n",
       "3     2022-05-08 23:55:50  1523451642909061121     False   \n",
       "4     2022-05-08 23:53:44  1523451115479924741     False   \n",
       "...                   ...                  ...       ...   \n",
       "13520 2022-04-29 22:47:06  1520172853454323712     False   \n",
       "13521 2022-04-29 22:46:23  1520172674709954560     False   \n",
       "13522 2022-04-29 22:44:43  1520172254700703744     False   \n",
       "13523 2022-04-29 22:44:39  1520172237562728448     False   \n",
       "13524 2022-04-29 22:42:58  1520171811878678528     False   \n",
       "\n",
       "                                                   Tweet             User  \\\n",
       "0      The fact that #BethSentUs doxxed the justices ...    SanFranSooner   \n",
       "1      Trump complained US Navy ships ‘look ugly’: Es...     MartinJmcmah   \n",
       "2      Remember when #biden left Afghanistan? Why isn...    christjiminy1   \n",
       "3      #Biden is asking for a $813,000,000,000 \"defen...   joshuamills044   \n",
       "4      @ArseGrammatica Last month, the #SCOTUS reject...          hollmic   \n",
       "...                                                  ...              ...   \n",
       "13520  Voldemort is back!\\n\\n** This post has been fl...     2DIEisGAIN82   \n",
       "13521  #Biden will have to either #boycott #G20Indone...    besthealthyou   \n",
       "13522  Ex-#Biden aide Francis Person went to White Ho...  livlifealliance   \n",
       "13523  @GOP:\\nDid #Biden compromise national security...          ttstrac   \n",
       "13524  @CBSMornings Only fools do not believe in the ...        Orlap2020   \n",
       "\n",
       "                Location               Source  Likes  Followers  Following  \\\n",
       "0                    USA   Twitter for iPhone      3        285        561   \n",
       "1                    USA   Twitter for iPhone      2       1213        179   \n",
       "2                    USA   Twitter for iPhone      0          8         67   \n",
       "3                    USA  Twitter for Android      0        662       1089   \n",
       "4            Kansas, USA      Twitter Web App      0         89        427   \n",
       "...                  ...                  ...    ...        ...        ...   \n",
       "13520                USA   Twitter for iPhone      0         75        291   \n",
       "13521       Planet Earth      Twitter Web App      0        427         62   \n",
       "13522  The Beautiful USA  Twitter for Android      0         17        140   \n",
       "13523           America    Twitter for iPhone      0       5130       5504   \n",
       "13524                USA  Twitter for Android      0         29          8   \n",
       "\n",
       "       Retweets                                    Processed_Tweet  \\\n",
       "0             2  [fact, bethsentu, dox, justic, bad, enough, bi...   \n",
       "1             0  [trump, complain, navi, ship, look, ugli, espe...   \n",
       "2             0  [rememb, biden, left, afghanistan, isnt, bigge...   \n",
       "3             0  [biden, ask, defen, budget, children, unitedst...   \n",
       "4             0  [last, month, scotu, reject, biden, administr,...   \n",
       "...         ...                                                ...   \n",
       "13520         0  [voldemort, back, post, flag, misinform, biden...   \n",
       "13521         0  [biden, either, boycott, indonesia, mayb, zoom...   \n",
       "13522         0  [biden, aid, franci, person, went, white, hou,...   \n",
       "13523         0  [biden, compromi, nation, secur, green, light,...   \n",
       "13524         0  [fool, believ, possibl, nuclear, war, ukrainew...   \n",
       "\n",
       "      Processed_Location sentiment  day  sentiment_1  \n",
       "0                    USA  Negative    8            0  \n",
       "1                    USA  Negative    8            0  \n",
       "2                    USA   Neutral    8            1  \n",
       "3                    USA  Negative    8            0  \n",
       "4                 Kansas  Positive    8            2  \n",
       "...                  ...       ...  ...          ...  \n",
       "13520                USA  Positive   29            2  \n",
       "13521       Planet Earth  Negative   29            0  \n",
       "13522  The Beautiful USA  Negative   29            0  \n",
       "13523           America   Positive   29            2  \n",
       "13524                USA  Negative   29            0  \n",
       "\n",
       "[13525 rows x 16 columns]"
      ]
     },
     "execution_count": 96,
     "metadata": {},
     "output_type": "execute_result"
    }
   ],
   "source": [
    "df1"
   ]
  },
  {
   "cell_type": "code",
   "execution_count": 97,
   "id": "1b2f718e",
   "metadata": {},
   "outputs": [],
   "source": [
    "cv = CountVectorizer(max_features = 1500)\n",
    "X = cv.fit_transform(all_words).toarray()\n",
    "y = df1['sentiment_1']"
   ]
  },
  {
   "cell_type": "code",
   "execution_count": 98,
   "id": "984ba900",
   "metadata": {},
   "outputs": [],
   "source": [
    "X_train, X_test, y_train, y_test = train_test_split(X, y, test_size = 0.3, random_state = 0)\n",
    "# NEGATIVE == 0\n",
    "# NEUTRAL == 1\n",
    "# POSITIVE == 2"
   ]
  },
  {
   "cell_type": "markdown",
   "id": "606ae5d1",
   "metadata": {},
   "source": [
    "DECISION TREE"
   ]
  },
  {
   "cell_type": "code",
   "execution_count": 99,
   "id": "1e965f51",
   "metadata": {},
   "outputs": [],
   "source": [
    "classifier_DT = DecisionTreeClassifier()\n",
    "classifier_DT.fit(X_train, y_train)\n",
    "y_pred_DT = classifier_DT.predict(X_test)"
   ]
  },
  {
   "cell_type": "code",
   "execution_count": 100,
   "id": "45131d0a",
   "metadata": {},
   "outputs": [
    {
     "name": "stdout",
     "output_type": "stream",
     "text": [
      "Accuracy Score:  0.8141941843272548\n",
      "Precision Score:  0.8141941843272548\n",
      "Recall Score:  0.8141941843272548\n",
      "F1 Score:  0.8141941843272548\n"
     ]
    }
   ],
   "source": [
    "accuracy_score_DT = accuracy_score(y_test, y_pred_DT)\n",
    "precision_score_DT = precision_score(y_test, y_pred_DT , average = 'micro')\n",
    "recall_score_DT = recall_score(y_test, y_pred_DT , average = 'micro')\n",
    "f1_score_DT = f1_score(y_test, y_pred_DT , average = 'micro')\n",
    "print(\"Accuracy Score: \" , accuracy_score_DT)\n",
    "print(\"Precision Score: \" , precision_score_DT)\n",
    "print(\"Recall Score: \" , recall_score_DT)\n",
    "print(\"F1 Score: \" , f1_score_DT)"
   ]
  },
  {
   "cell_type": "code",
   "execution_count": 102,
   "id": "42320e6a",
   "metadata": {},
   "outputs": [
    {
     "data": {
      "image/png": "[encoded data removed]",
      "text/plain": [
       "<Figure size 720x432 with 2 Axes>"
      ]
     },
     "metadata": {},
     "output_type": "display_data"
    }
   ],
   "source": [
    "cm_DT = confusion_matrix(y_test, y_pred_DT)\n",
    "\n",
    "      # neg # neutr  # pos\n",
    "# pos #  232   65      1397\n",
    "# neu #  87   1175     51\n",
    "# neg # 1104   82      321\n",
    "\n",
    "df_cm_DT = pd.DataFrame(cm_DT, range(3), range(3))\n",
    "plt.figure(figsize=(10,6))\n",
    "categories = ['Negative','Neutral','Positive']\n",
    "sns.set(font_scale=1.2) # for label size\n",
    "sns.heatmap(df_cm_DT, annot=True, annot_kws={\"size\": 18}, xticklabels = categories,\n",
    "            yticklabels = categories ,fmt=\"d\") # font size\n",
    "plt.ylim(0, 3)\n",
    "plt.show()"
   ]
  },
  {
   "cell_type": "markdown",
   "id": "a97b30f3",
   "metadata": {},
   "source": [
    "RANDOM FOREST CLASSIFIER"
   ]
  },
  {
   "cell_type": "code",
   "execution_count": 103,
   "id": "82b4b523",
   "metadata": {},
   "outputs": [],
   "source": [
    "classifier_RF = RandomForestClassifier()\n",
    "classifier_RF.fit(X_train, y_train)\n",
    "y_pred_RF = classifier_RF.predict(X_test)"
   ]
  },
  {
   "cell_type": "code",
   "execution_count": 104,
   "id": "1372ccc6",
   "metadata": {},
   "outputs": [
    {
     "name": "stdout",
     "output_type": "stream",
     "text": [
      "Accuracy Score:  0.8555938886150813\n",
      "Precision Score:  0.8555938886150813\n",
      "Recall Score:  0.8555938886150813\n",
      "F1 Score:  0.8555938886150813\n"
     ]
    }
   ],
   "source": [
    "accuracy_score_RF = accuracy_score(y_test, y_pred_RF)\n",
    "precision_score_RF = precision_score(y_test, y_pred_RF , average = 'micro')\n",
    "recall_score_RF = recall_score(y_test, y_pred_RF, average = 'micro')\n",
    "f1_score_RF = f1_score(y_test, y_pred_RF, average = 'micro')\n",
    "print(\"Accuracy Score: \" , accuracy_score_RF)\n",
    "print(\"Precision Score: \" , precision_score_RF)\n",
    "print(\"Recall Score: \" , recall_score_RF)\n",
    "print(\"F1 Score: \" , f1_score_RF)"
   ]
  },
  {
   "cell_type": "code",
   "execution_count": 105,
   "id": "bb78405d",
   "metadata": {},
   "outputs": [
    {
     "data": {
      "image/png": "[encoded data removed]",
      "text/plain": [
       "<Figure size 720x432 with 2 Axes>"
      ]
     },
     "metadata": {},
     "output_type": "display_data"
    }
   ],
   "source": [
    "cm_RF = confusion_matrix(y_test, y_pred_RF)\n",
    "\n",
    "      # neg # neutr  # pos\n",
    "# pos # 198    92     1404\n",
    "# neu #  53   1233      27\n",
    "# neg # 1120   121     266\n",
    "\n",
    "df_cm_RF = pd.DataFrame(cm_RF, range(3), range(3))\n",
    "categories = ['Negative','Neutral','Positive']\n",
    "plt.figure(figsize=(10,6))\n",
    "sns.set(font_scale=1.2) # for label size\n",
    "sns.heatmap(df_cm_RF, annot=True, annot_kws={\"size\": 18}, xticklabels = categories,\n",
    "            yticklabels = categories,fmt=\"d\") # font size\n",
    "plt.ylim(0, 3)\n",
    "plt.show()"
   ]
  },
  {
   "cell_type": "markdown",
   "id": "673ded0e",
   "metadata": {},
   "source": [
    "NAIVE BAYES"
   ]
  },
  {
   "cell_type": "code",
   "execution_count": 106,
   "id": "6d683d6f",
   "metadata": {},
   "outputs": [],
   "source": [
    "classifier_NB = MultinomialNB()\n",
    "classifier_NB.fit(X_train, y_train)\n",
    "y_pred_NB = classifier_NB.predict(X_test)"
   ]
  },
  {
   "cell_type": "code",
   "execution_count": 107,
   "id": "b5e355ae",
   "metadata": {},
   "outputs": [
    {
     "name": "stdout",
     "output_type": "stream",
     "text": [
      "Accuracy Score:  0.7188270083785115\n",
      "Precision Score:  0.7188270083785115\n",
      "Recall Score:  0.7188270083785115\n",
      "F1 Score:  0.7188270083785115\n"
     ]
    }
   ],
   "source": [
    "accuracy_score_NB = accuracy_score(y_test, y_pred_NB)\n",
    "precision_score_NB = precision_score(y_test, y_pred_NB , average = 'micro')\n",
    "recall_score_NB = recall_score(y_test, y_pred_NB, average = 'micro')\n",
    "f1_score_NB = f1_score(y_test, y_pred_NB, average = 'micro')\n",
    "print(\"Accuracy Score: \" , accuracy_score_NB)\n",
    "print(\"Precision Score: \" , precision_score_NB)\n",
    "print(\"Recall Score: \" , recall_score_NB)\n",
    "print(\"F1 Score: \" , f1_score_NB)"
   ]
  },
  {
   "cell_type": "code",
   "execution_count": 109,
   "id": "476c858c",
   "metadata": {},
   "outputs": [
    {
     "data": {
      "image/png": "[encoded data removed]",
      "text/plain": [
       "<Figure size 720x432 with 2 Axes>"
      ]
     },
     "metadata": {},
     "output_type": "display_data"
    }
   ],
   "source": [
    "cm_NB = confusion_matrix(y_test, y_pred_NB)\n",
    "\n",
    "      # neg # neutr  # pos\n",
    "# pos # 202    133     1359\n",
    "# neu # 137   931      245\n",
    "# neg # 1076  160      271\n",
    "\n",
    "df_cm_NB = pd.DataFrame(cm_NB, range(3), range(3))\n",
    "plt.figure(figsize=(10,6))\n",
    "categories = ['Negative','Neutral','Positive']\n",
    "sns.set(font_scale=1.2) # for label size\n",
    "sns.heatmap(df_cm_NB, annot=True, annot_kws={\"size\": 18}, xticklabels = categories,\n",
    "            yticklabels = categories,fmt=\"d\") # font size\n",
    "plt.ylim(0, 3)\n",
    "plt.show()"
   ]
  },
  {
   "cell_type": "markdown",
   "id": "e7813855",
   "metadata": {},
   "source": [
    "COMPARING THE MODELS"
   ]
  },
  {
   "cell_type": "code",
   "execution_count": 110,
   "id": "5432f30d",
   "metadata": {},
   "outputs": [
    {
     "data": {
      "image/png": "[encoded data removed]",
      "text/plain": [
       "<Figure size 1080x360 with 1 Axes>"
      ]
     },
     "metadata": {},
     "output_type": "display_data"
    }
   ],
   "source": [
    "Accuracy = [accuracy_score_RF, accuracy_score_DT, accuracy_score_NB]\n",
    "Methods = ['Random_Forest', 'Decision_Trees', 'Naive_Bayes']\n",
    "Accuracy_pos = np.arange(len(Methods))\n",
    "plt.bar(Accuracy_pos, Accuracy)\n",
    "plt.xticks(Accuracy_pos, Methods)\n",
    "plt.title('Comparing Accuracy Score')\n",
    "plt.show()"
   ]
  },
  {
   "cell_type": "code",
   "execution_count": 111,
   "id": "535fbd00",
   "metadata": {},
   "outputs": [
    {
     "data": {
      "image/png": "[encoded data removed]",
      "text/plain": [
       "<Figure size 1080x360 with 1 Axes>"
      ]
     },
     "metadata": {},
     "output_type": "display_data"
    }
   ],
   "source": [
    "Precision = [precision_score_RF, precision_score_DT, precision_score_NB]\n",
    "Methods = ['Random_Forest', 'Decision_Trees', 'Naive_Bayes']\n",
    "Precision_pos = np.arange(len(Methods))\n",
    "plt.bar(Precision_pos, Precision)\n",
    "plt.xticks(Precision_pos, Methods)\n",
    "plt.title('Comparing Precision Score')\n",
    "plt.show()"
   ]
  },
  {
   "cell_type": "code",
   "execution_count": 112,
   "id": "465c42d5",
   "metadata": {},
   "outputs": [
    {
     "data": {
      "image/png": "[encoded data removed]",
      "text/plain": [
       "<Figure size 1080x360 with 1 Axes>"
      ]
     },
     "metadata": {},
     "output_type": "display_data"
    }
   ],
   "source": [
    "Recall = [recall_score_RF, recall_score_DT, recall_score_NB]\n",
    "Methods = ['Random_Forest', 'Decision_Trees', 'Naive_Bayes']\n",
    "Recall_pos = np.arange(len(Methods))\n",
    "plt.bar(Recall_pos, Recall)\n",
    "plt.xticks(Recall_pos, Methods)\n",
    "plt.title('Comparing Recall Score')\n",
    "plt.show()"
   ]
  },
  {
   "cell_type": "code",
   "execution_count": 113,
   "id": "c25d1f77",
   "metadata": {},
   "outputs": [
    {
     "data": {
      "image/png": "[encoded data removed]",
      "text/plain": [
       "<Figure size 1080x360 with 1 Axes>"
      ]
     },
     "metadata": {},
     "output_type": "display_data"
    }
   ],
   "source": [
    "F1 = [f1_score_RF,f1_score_DT,f1_score_NB]\n",
    "Methods = ['Random_Forest', 'Decision_Trees', 'Naive_Bayes']\n",
    "F1_pos = np.arange(len(Methods))\n",
    "plt.bar(F1_pos, F1)\n",
    "plt.xticks(F1_pos, Methods)\n",
    "plt.title('Comparing F1 Score')\n",
    "plt.show()"
   ]
  },
  {
   "cell_type": "markdown",
   "id": "0bd3bdf8",
   "metadata": {},
   "source": [
    "IT MEANS THAT RANDOM FOREST CLASSIFIER WORKS BEST"
   ]
  },
  {
   "cell_type": "code",
   "execution_count": null,
   "id": "e5156201",
   "metadata": {},
   "outputs": [],
   "source": []
  }
 ],
 "metadata": {
  "kernelspec": {
   "display_name": "Python 3 (ipykernel)",
   "language": "python",
   "name": "python3"
  },
  "language_info": {
   "codemirror_mode": {
    "name": "ipython",
    "version": 3
   },
   "file_extension": ".py",
   "mimetype": "text/x-python",
   "name": "python",
   "nbconvert_exporter": "python",
   "pygments_lexer": "ipython3",
   "version": "3.10.1"
  }
 },
 "nbformat": 4,
 "nbformat_minor": 5
}
