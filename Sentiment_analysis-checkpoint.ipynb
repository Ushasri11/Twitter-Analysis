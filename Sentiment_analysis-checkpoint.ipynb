{
 "cells": [
  {
   "cell_type": "code",
   "execution_count": 25,
   "id": "326f2a30",
   "metadata": {},
   "outputs": [],
   "source": [
    "import re\n",
    "import numpy as np\n",
    "\n",
    "import matplotlib.pyplot as plt\n",
    "import seaborn as sns\n",
    "\n",
    "import pandas as pd\n",
    "\n",
    "import datetime as dt\n",
    "from collections import Counter\n",
    "\n",
    "import nltk\n",
    "from nltk.tokenize import sent_tokenize\n",
    "from nltk.tokenize import TweetTokenizer\n",
    "from nltk.tokenize import word_tokenize\n",
    "from nltk.corpus import words\n",
    "from nltk.corpus import stopwords\n",
    "from nltk.stem import PorterStemmer\n",
    "from nltk.stem import WordNetLemmatizer"
   ]
  },
  {
   "cell_type": "code",
   "execution_count": 26,
   "id": "b157be6e",
   "metadata": {},
   "outputs": [
    {
     "name": "stderr",
     "output_type": "stream",
     "text": [
      "C:\\Users\\pc\\AppData\\Local\\Temp\\ipykernel_12376\\372328953.py:1: FutureWarning: The error_bad_lines argument has been deprecated and will be removed in a future version. Use on_bad_lines in the future.\n",
      "\n",
      "\n",
      "  df = pd.read_csv(r'D:\\Syracuse_sem1\\Harini_SMDM\\SMDM_Final_project\\Biden_No_Retweet_Full_Text.csv',error_bad_lines=False)\n"
     ]
    }
   ],
   "source": [
    "df = pd.read_csv(r'D:\\Syracuse_sem1\\Harini_SMDM\\SMDM_Final_project\\Biden_No_Retweet_Full_Text.csv',error_bad_lines=False)"
   ]
  },
  {
   "cell_type": "code",
   "execution_count": 27,
   "id": "deb8eb77",
   "metadata": {},
   "outputs": [
    {
     "data": {
      "text/html": [
       "<div>\n",
       "<style scoped>\n",
       "    .dataframe tbody tr th:only-of-type {\n",
       "        vertical-align: middle;\n",
       "    }\n",
       "\n",
       "    .dataframe tbody tr th {\n",
       "        vertical-align: top;\n",
       "    }\n",
       "\n",
       "    .dataframe thead th {\n",
       "        text-align: right;\n",
       "    }\n",
       "</style>\n",
       "<table border=\"1\" class=\"dataframe\">\n",
       "  <thead>\n",
       "    <tr style=\"text-align: right;\">\n",
       "      <th></th>\n",
       "      <th>Date</th>\n",
       "      <th>Tweet_id</th>\n",
       "      <th>Verified</th>\n",
       "      <th>Tweet</th>\n",
       "      <th>User</th>\n",
       "      <th>Location</th>\n",
       "      <th>Source</th>\n",
       "      <th>Likes</th>\n",
       "      <th>Followers</th>\n",
       "      <th>Following</th>\n",
       "      <th>Retweets</th>\n",
       "    </tr>\n",
       "  </thead>\n",
       "  <tbody>\n",
       "    <tr>\n",
       "      <th>0</th>\n",
       "      <td>2022-05-08 23:58:20+00:00</td>\n",
       "      <td>1523452270448635905</td>\n",
       "      <td>False</td>\n",
       "      <td>The fact that #BethSentUs doxxed the justices ...</td>\n",
       "      <td>SanFranSooner</td>\n",
       "      <td>NaN</td>\n",
       "      <td>Twitter for iPhone</td>\n",
       "      <td>3</td>\n",
       "      <td>284</td>\n",
       "      <td>559</td>\n",
       "      <td>2</td>\n",
       "    </tr>\n",
       "    <tr>\n",
       "      <th>1</th>\n",
       "      <td>2022-05-08 23:57:33+00:00</td>\n",
       "      <td>1523452076147179520</td>\n",
       "      <td>False</td>\n",
       "      <td>Trump complained US Navy ships ‘look ugly’: Es...</td>\n",
       "      <td>MartinJmcmah</td>\n",
       "      <td>NaN</td>\n",
       "      <td>Twitter for iPhone</td>\n",
       "      <td>2</td>\n",
       "      <td>1208</td>\n",
       "      <td>179</td>\n",
       "      <td>0</td>\n",
       "    </tr>\n",
       "    <tr>\n",
       "      <th>2</th>\n",
       "      <td>2022-05-08 23:56:51+00:00</td>\n",
       "      <td>1523451899659251712</td>\n",
       "      <td>False</td>\n",
       "      <td>Remember when #biden left Afghanistan? Why isn...</td>\n",
       "      <td>christjiminy1</td>\n",
       "      <td>NaN</td>\n",
       "      <td>Twitter for iPhone</td>\n",
       "      <td>0</td>\n",
       "      <td>8</td>\n",
       "      <td>67</td>\n",
       "      <td>0</td>\n",
       "    </tr>\n",
       "    <tr>\n",
       "      <th>3</th>\n",
       "      <td>2022-05-08 23:55:50+00:00</td>\n",
       "      <td>1523451642909061121</td>\n",
       "      <td>False</td>\n",
       "      <td>#Biden is asking for a $813,000,000,000 \"defen...</td>\n",
       "      <td>joshuamills044</td>\n",
       "      <td>NaN</td>\n",
       "      <td>Twitter for Android</td>\n",
       "      <td>0</td>\n",
       "      <td>662</td>\n",
       "      <td>1089</td>\n",
       "      <td>0</td>\n",
       "    </tr>\n",
       "    <tr>\n",
       "      <th>4</th>\n",
       "      <td>2022-05-08 23:53:44+00:00</td>\n",
       "      <td>1523451115479924741</td>\n",
       "      <td>False</td>\n",
       "      <td>@ArseGrammatica Last month, the #SCOTUS reject...</td>\n",
       "      <td>hollmic</td>\n",
       "      <td>Kansas, USA</td>\n",
       "      <td>Twitter Web App</td>\n",
       "      <td>0</td>\n",
       "      <td>89</td>\n",
       "      <td>426</td>\n",
       "      <td>0</td>\n",
       "    </tr>\n",
       "  </tbody>\n",
       "</table>\n",
       "</div>"
      ],
      "text/plain": [
       "                        Date             Tweet_id  Verified  \\\n",
       "0  2022-05-08 23:58:20+00:00  1523452270448635905     False   \n",
       "1  2022-05-08 23:57:33+00:00  1523452076147179520     False   \n",
       "2  2022-05-08 23:56:51+00:00  1523451899659251712     False   \n",
       "3  2022-05-08 23:55:50+00:00  1523451642909061121     False   \n",
       "4  2022-05-08 23:53:44+00:00  1523451115479924741     False   \n",
       "\n",
       "                                               Tweet            User  \\\n",
       "0  The fact that #BethSentUs doxxed the justices ...   SanFranSooner   \n",
       "1  Trump complained US Navy ships ‘look ugly’: Es...    MartinJmcmah   \n",
       "2  Remember when #biden left Afghanistan? Why isn...   christjiminy1   \n",
       "3  #Biden is asking for a $813,000,000,000 \"defen...  joshuamills044   \n",
       "4  @ArseGrammatica Last month, the #SCOTUS reject...         hollmic   \n",
       "\n",
       "      Location               Source  Likes  Followers  Following  Retweets  \n",
       "0          NaN   Twitter for iPhone      3        284        559         2  \n",
       "1          NaN   Twitter for iPhone      2       1208        179         0  \n",
       "2          NaN   Twitter for iPhone      0          8         67         0  \n",
       "3          NaN  Twitter for Android      0        662       1089         0  \n",
       "4  Kansas, USA      Twitter Web App      0         89        426         0  "
      ]
     },
     "execution_count": 27,
     "metadata": {},
     "output_type": "execute_result"
    }
   ],
   "source": [
    "df.head()"
   ]
  },
  {
   "cell_type": "code",
   "execution_count": 28,
   "id": "ac0094e5",
   "metadata": {},
   "outputs": [
    {
     "name": "stdout",
     "output_type": "stream",
     "text": [
      "<class 'pandas.core.frame.DataFrame'>\n",
      "RangeIndex: 14788 entries, 0 to 14787\n",
      "Data columns (total 11 columns):\n",
      " #   Column     Non-Null Count  Dtype \n",
      "---  ------     --------------  ----- \n",
      " 0   Date       14788 non-null  object\n",
      " 1   Tweet_id   14788 non-null  int64 \n",
      " 2   Verified   14788 non-null  bool  \n",
      " 3   Tweet      14788 non-null  object\n",
      " 4   User       14788 non-null  object\n",
      " 5   Location   9823 non-null   object\n",
      " 6   Source     14788 non-null  object\n",
      " 7   Likes      14788 non-null  int64 \n",
      " 8   Followers  14788 non-null  int64 \n",
      " 9   Following  14788 non-null  int64 \n",
      " 10  Retweets   14788 non-null  int64 \n",
      "dtypes: bool(1), int64(5), object(5)\n",
      "memory usage: 1.1+ MB\n"
     ]
    }
   ],
   "source": [
    "df.info()"
   ]
  },
  {
   "cell_type": "code",
   "execution_count": 29,
   "id": "f61ef778",
   "metadata": {},
   "outputs": [
    {
     "data": {
      "text/plain": [
       "(14788, 11)"
      ]
     },
     "execution_count": 29,
     "metadata": {},
     "output_type": "execute_result"
    }
   ],
   "source": [
    "df.shape"
   ]
  },
  {
   "cell_type": "markdown",
   "id": "576d6640",
   "metadata": {},
   "source": [
    "Preprocessing"
   ]
  },
  {
   "cell_type": "code",
   "execution_count": 30,
   "id": "9c7825e6",
   "metadata": {},
   "outputs": [
    {
     "data": {
      "text/html": [
       "<div>\n",
       "<style scoped>\n",
       "    .dataframe tbody tr th:only-of-type {\n",
       "        vertical-align: middle;\n",
       "    }\n",
       "\n",
       "    .dataframe tbody tr th {\n",
       "        vertical-align: top;\n",
       "    }\n",
       "\n",
       "    .dataframe thead th {\n",
       "        text-align: right;\n",
       "    }\n",
       "</style>\n",
       "<table border=\"1\" class=\"dataframe\">\n",
       "  <thead>\n",
       "    <tr style=\"text-align: right;\">\n",
       "      <th></th>\n",
       "      <th>Date</th>\n",
       "      <th>Tweet_id</th>\n",
       "      <th>Verified</th>\n",
       "      <th>Tweet</th>\n",
       "      <th>User</th>\n",
       "      <th>Location</th>\n",
       "      <th>Source</th>\n",
       "      <th>Likes</th>\n",
       "      <th>Followers</th>\n",
       "      <th>Following</th>\n",
       "      <th>Retweets</th>\n",
       "    </tr>\n",
       "  </thead>\n",
       "  <tbody>\n",
       "    <tr>\n",
       "      <th>0</th>\n",
       "      <td>2022-05-08 23:58:20</td>\n",
       "      <td>1523452270448635905</td>\n",
       "      <td>False</td>\n",
       "      <td>The fact that #BethSentUs doxxed the justices ...</td>\n",
       "      <td>SanFranSooner</td>\n",
       "      <td>NaN</td>\n",
       "      <td>Twitter for iPhone</td>\n",
       "      <td>3</td>\n",
       "      <td>284</td>\n",
       "      <td>559</td>\n",
       "      <td>2</td>\n",
       "    </tr>\n",
       "    <tr>\n",
       "      <th>1</th>\n",
       "      <td>2022-05-08 23:57:33</td>\n",
       "      <td>1523452076147179520</td>\n",
       "      <td>False</td>\n",
       "      <td>Trump complained US Navy ships ‘look ugly’: Es...</td>\n",
       "      <td>MartinJmcmah</td>\n",
       "      <td>NaN</td>\n",
       "      <td>Twitter for iPhone</td>\n",
       "      <td>2</td>\n",
       "      <td>1208</td>\n",
       "      <td>179</td>\n",
       "      <td>0</td>\n",
       "    </tr>\n",
       "    <tr>\n",
       "      <th>2</th>\n",
       "      <td>2022-05-08 23:56:51</td>\n",
       "      <td>1523451899659251712</td>\n",
       "      <td>False</td>\n",
       "      <td>Remember when #biden left Afghanistan? Why isn...</td>\n",
       "      <td>christjiminy1</td>\n",
       "      <td>NaN</td>\n",
       "      <td>Twitter for iPhone</td>\n",
       "      <td>0</td>\n",
       "      <td>8</td>\n",
       "      <td>67</td>\n",
       "      <td>0</td>\n",
       "    </tr>\n",
       "    <tr>\n",
       "      <th>3</th>\n",
       "      <td>2022-05-08 23:55:50</td>\n",
       "      <td>1523451642909061121</td>\n",
       "      <td>False</td>\n",
       "      <td>#Biden is asking for a $813,000,000,000 \"defen...</td>\n",
       "      <td>joshuamills044</td>\n",
       "      <td>NaN</td>\n",
       "      <td>Twitter for Android</td>\n",
       "      <td>0</td>\n",
       "      <td>662</td>\n",
       "      <td>1089</td>\n",
       "      <td>0</td>\n",
       "    </tr>\n",
       "    <tr>\n",
       "      <th>4</th>\n",
       "      <td>2022-05-08 23:53:44</td>\n",
       "      <td>1523451115479924741</td>\n",
       "      <td>False</td>\n",
       "      <td>@ArseGrammatica Last month, the #SCOTUS reject...</td>\n",
       "      <td>hollmic</td>\n",
       "      <td>Kansas, USA</td>\n",
       "      <td>Twitter Web App</td>\n",
       "      <td>0</td>\n",
       "      <td>89</td>\n",
       "      <td>426</td>\n",
       "      <td>0</td>\n",
       "    </tr>\n",
       "  </tbody>\n",
       "</table>\n",
       "</div>"
      ],
      "text/plain": [
       "                  Date             Tweet_id  Verified  \\\n",
       "0  2022-05-08 23:58:20  1523452270448635905     False   \n",
       "1  2022-05-08 23:57:33  1523452076147179520     False   \n",
       "2  2022-05-08 23:56:51  1523451899659251712     False   \n",
       "3  2022-05-08 23:55:50  1523451642909061121     False   \n",
       "4  2022-05-08 23:53:44  1523451115479924741     False   \n",
       "\n",
       "                                               Tweet            User  \\\n",
       "0  The fact that #BethSentUs doxxed the justices ...   SanFranSooner   \n",
       "1  Trump complained US Navy ships ‘look ugly’: Es...    MartinJmcmah   \n",
       "2  Remember when #biden left Afghanistan? Why isn...   christjiminy1   \n",
       "3  #Biden is asking for a $813,000,000,000 \"defen...  joshuamills044   \n",
       "4  @ArseGrammatica Last month, the #SCOTUS reject...         hollmic   \n",
       "\n",
       "      Location               Source  Likes  Followers  Following  Retweets  \n",
       "0          NaN   Twitter for iPhone      3        284        559         2  \n",
       "1          NaN   Twitter for iPhone      2       1208        179         0  \n",
       "2          NaN   Twitter for iPhone      0          8         67         0  \n",
       "3          NaN  Twitter for Android      0        662       1089         0  \n",
       "4  Kansas, USA      Twitter Web App      0         89        426         0  "
      ]
     },
     "execution_count": 30,
     "metadata": {},
     "output_type": "execute_result"
    }
   ],
   "source": [
    "df['Date'] = df['Date'].apply(lambda x: x[:-6] if '+' in x else x)\n",
    "df.head()"
   ]
  },
  {
   "cell_type": "code",
   "execution_count": 31,
   "id": "5b8532c9",
   "metadata": {},
   "outputs": [],
   "source": [
    "\n",
    "df['Date'] = df['Date'].apply(lambda x: dt.datetime.strptime(x,'%Y-%m-%d %H:%M:%S')) #Convert to date time format"
   ]
  },
  {
   "cell_type": "code",
   "execution_count": 32,
   "id": "253863fc",
   "metadata": {},
   "outputs": [
    {
     "data": {
      "text/plain": [
       "Date         datetime64[ns]\n",
       "Tweet_id              int64\n",
       "Verified               bool\n",
       "Tweet                object\n",
       "User                 object\n",
       "Location             object\n",
       "Source               object\n",
       "Likes                 int64\n",
       "Followers             int64\n",
       "Following             int64\n",
       "Retweets              int64\n",
       "dtype: object"
      ]
     },
     "execution_count": 32,
     "metadata": {},
     "output_type": "execute_result"
    }
   ],
   "source": [
    "df.dtypes"
   ]
  },
  {
   "cell_type": "code",
   "execution_count": 33,
   "id": "ccba3f7f",
   "metadata": {},
   "outputs": [
    {
     "data": {
      "text/plain": [
       "Date            0\n",
       "Tweet_id        0\n",
       "Verified        0\n",
       "Tweet           0\n",
       "User            0\n",
       "Location     4965\n",
       "Source          0\n",
       "Likes           0\n",
       "Followers       0\n",
       "Following       0\n",
       "Retweets        0\n",
       "dtype: int64"
      ]
     },
     "execution_count": 33,
     "metadata": {},
     "output_type": "execute_result"
    }
   ],
   "source": [
    "df.isnull().sum()"
   ]
  },
  {
   "cell_type": "code",
   "execution_count": 34,
   "id": "b04037db",
   "metadata": {},
   "outputs": [
    {
     "data": {
      "text/plain": [
       "Twitter Web App             5272\n",
       "Twitter for iPhone          4047\n",
       "Twitter for Android         3039\n",
       "Twitter for iPad             546\n",
       "Valurank                     379\n",
       "                            ... \n",
       "The Tweeted Times              1\n",
       "SocialChamp IO                 1\n",
       "Canva                          1\n",
       "abu ali english bot test       1\n",
       "Typorama2019                   1\n",
       "Name: Source, Length: 122, dtype: int64"
      ]
     },
     "execution_count": 34,
     "metadata": {},
     "output_type": "execute_result"
    }
   ],
   "source": [
    "df['Source'].value_counts()"
   ]
  },
  {
   "cell_type": "code",
   "execution_count": 35,
   "id": "d90ed597",
   "metadata": {},
   "outputs": [
    {
     "data": {
      "text/plain": [
       "2589"
      ]
     },
     "execution_count": 35,
     "metadata": {},
     "output_type": "execute_result"
    }
   ],
   "source": [
    "df['Location'].nunique()"
   ]
  },
  {
   "cell_type": "code",
   "execution_count": 36,
   "id": "4f4c6a7d",
   "metadata": {},
   "outputs": [
    {
     "data": {
      "text/plain": [
       "14788"
      ]
     },
     "execution_count": 36,
     "metadata": {},
     "output_type": "execute_result"
    }
   ],
   "source": [
    "tweets_list = df['Tweet'].tolist()\n",
    "len(tweets_list)"
   ]
  },
  {
   "cell_type": "code",
   "execution_count": 37,
   "id": "faa3a751",
   "metadata": {},
   "outputs": [
    {
     "data": {
      "text/plain": [
       "14640"
      ]
     },
     "execution_count": 37,
     "metadata": {},
     "output_type": "execute_result"
    }
   ],
   "source": [
    "tweets_list_updated = set(tweets_list)\n",
    "len(tweets_list_updated)"
   ]
  },
  {
   "cell_type": "code",
   "execution_count": 38,
   "id": "9b45d2d9",
   "metadata": {},
   "outputs": [
    {
     "data": {
      "text/plain": [
       "list"
      ]
     },
     "execution_count": 38,
     "metadata": {},
     "output_type": "execute_result"
    }
   ],
   "source": [
    "tweets_list_updated  = list(tweets_list_updated)\n",
    "type(tweets_list_updated)"
   ]
  },
  {
   "cell_type": "code",
   "execution_count": 39,
   "id": "963b33e4",
   "metadata": {},
   "outputs": [
    {
     "data": {
      "text/plain": [
       "148"
      ]
     },
     "execution_count": 39,
     "metadata": {},
     "output_type": "execute_result"
    }
   ],
   "source": [
    "df['Tweet'].duplicated().sum()"
   ]
  },
  {
   "cell_type": "code",
   "execution_count": 40,
   "id": "8a8cbba0",
   "metadata": {},
   "outputs": [
    {
     "data": {
      "text/plain": [
       "(14640, 11)"
      ]
     },
     "execution_count": 40,
     "metadata": {},
     "output_type": "execute_result"
    }
   ],
   "source": [
    "df = df.drop_duplicates(subset = 'Tweet', keep = 'first',ignore_index = True)\n",
    "df.shape"
   ]
  },
  {
   "cell_type": "code",
   "execution_count": 41,
   "id": "fda83936",
   "metadata": {},
   "outputs": [
    {
     "data": {
      "text/plain": [
       "0"
      ]
     },
     "execution_count": 41,
     "metadata": {},
     "output_type": "execute_result"
    }
   ],
   "source": [
    "df['Tweet'].duplicated().sum()"
   ]
  },
  {
   "cell_type": "markdown",
   "id": "239debe4",
   "metadata": {},
   "source": [
    "removing emojis"
   ]
  },
  {
   "cell_type": "code",
   "execution_count": 42,
   "id": "928d1e75",
   "metadata": {},
   "outputs": [],
   "source": [
    "def remove_emoji(tweet):\n",
    "    emoji_pattern = re.compile(\"[\"\n",
    "            u\"\\U0001F600-\\U0001F64F\"  # emoticons\n",
    "            u\"\\U0001F300-\\U0001F5FF\"  # symbols & pictographs\n",
    "            u\"\\U0001F680-\\U0001F6FF\"  # transport & map symbols\n",
    "            u\"\\U0001F1E0-\\U0001F1FF\"  # flags (iOS)\n",
    "                               \"]+\", flags=re.UNICODE)\n",
    "    return emoji_pattern.sub(r'', tweet)\n",
    "\n",
    "df['Processed_Tweet']=df.Tweet.apply(remove_emoji)"
   ]
  },
  {
   "cell_type": "code",
   "execution_count": 43,
   "id": "d680957c",
   "metadata": {},
   "outputs": [
    {
     "data": {
      "text/plain": [
       "0"
      ]
     },
     "execution_count": 43,
     "metadata": {},
     "output_type": "execute_result"
    }
   ],
   "source": [
    "count = 0\n",
    "for i in df['Processed_Tweet']:\n",
    "    if re.match(r'^RT', i):  #remove any rows that contain RT\n",
    "        df.drop(df.loc[df['Processed_Tweet']==i].index,inplace = True)\n",
    "        count+=1\n",
    "    \n",
    "count"
   ]
  },
  {
   "cell_type": "code",
   "execution_count": 44,
   "id": "9319cc9d",
   "metadata": {},
   "outputs": [
    {
     "data": {
      "text/plain": [
       "0        The fact that #BethSentUs doxxed the justices ...\n",
       "1        Trump complained US Navy ships ‘look ugly’: Es...\n",
       "2        Remember when #biden left Afghanistan? Why isn...\n",
       "3        #Biden is asking for a $813,000,000,000 \"defen...\n",
       "4        @ArseGrammatica Last month, the #SCOTUS reject...\n",
       "                               ...                        \n",
       "14635    @RepRaskin should 100% run in 2024 if #Biden d...\n",
       "14636    Wow!! Looks like the petro #us  petro #Dollar ...\n",
       "14637    The #US government should issue a bottle of wi...\n",
       "14638    TruthSocial highkey the shit rn #TruthSocial #...\n",
       "14639    'You cannot have a Ministry of Truth in this c...\n",
       "Name: Processed_Tweet, Length: 14640, dtype: object"
      ]
     },
     "execution_count": 44,
     "metadata": {},
     "output_type": "execute_result"
    }
   ],
   "source": [
    "df['Processed_Tweet']"
   ]
  },
  {
   "cell_type": "markdown",
   "id": "74ebef5b",
   "metadata": {},
   "source": [
    "removing retweets that is the tweet which has RT"
   ]
  },
  {
   "cell_type": "code",
   "execution_count": 46,
   "id": "1832b05d",
   "metadata": {},
   "outputs": [],
   "source": [
    "df['Processed_Tweet'] = [re.sub('^RT[\\s]','',i) for i in df['Processed_Tweet']]  #Remove RT substring"
   ]
  },
  {
   "cell_type": "code",
   "execution_count": 48,
   "id": "c8b7d54a",
   "metadata": {},
   "outputs": [
    {
     "data": {
      "text/plain": [
       "0        The fact that #BethSentUs doxxed the justices ...\n",
       "1        Trump complained US Navy ships ‘look ugly’: Es...\n",
       "2        Remember when #biden left Afghanistan? Why isn...\n",
       "3        #Biden is asking for a $813,000,000,000 \"defen...\n",
       "4        @ArseGrammatica Last month, the #SCOTUS reject...\n",
       "                               ...                        \n",
       "14635    @RepRaskin should 100% run in 2024 if #Biden d...\n",
       "14636    Wow!! Looks like the petro #us  petro #Dollar ...\n",
       "14637    The #US government should issue a bottle of wi...\n",
       "14638    TruthSocial highkey the shit rn #TruthSocial #...\n",
       "14639    'You cannot have a Ministry of Truth in this c...\n",
       "Name: Processed_Tweet, Length: 14640, dtype: object"
      ]
     },
     "execution_count": 48,
     "metadata": {},
     "output_type": "execute_result"
    }
   ],
   "source": [
    "df['Processed_Tweet']"
   ]
  },
  {
   "cell_type": "markdown",
   "id": "81bd7544",
   "metadata": {},
   "source": [
    "removing usernames"
   ]
  },
  {
   "cell_type": "code",
   "execution_count": 49,
   "id": "3d01d8c3",
   "metadata": {},
   "outputs": [],
   "source": [
    "df['Processed_Tweet'] = [re.sub('@[^\\s]+', ' ', i) for i in df['Processed_Tweet']] #remove usernames"
   ]
  },
  {
   "cell_type": "code",
   "execution_count": 50,
   "id": "4db8954e",
   "metadata": {},
   "outputs": [
    {
     "data": {
      "text/plain": [
       "0        The fact that #BethSentUs doxxed the justices ...\n",
       "1        Trump complained US Navy ships ‘look ugly’: Es...\n",
       "2        Remember when #biden left Afghanistan? Why isn...\n",
       "3        #Biden is asking for a $813,000,000,000 \"defen...\n",
       "4          Last month, the #SCOTUS rejected the #Biden ...\n",
       "                               ...                        \n",
       "14635      should 100% run in 2024 if #Biden doesn't. \\...\n",
       "14636    Wow!! Looks like the petro #us  petro #Dollar ...\n",
       "14637    The #US government should issue a bottle of wi...\n",
       "14638    TruthSocial highkey the shit rn #TruthSocial #...\n",
       "14639    'You cannot have a Ministry of Truth in this c...\n",
       "Name: Processed_Tweet, Length: 14640, dtype: object"
      ]
     },
     "execution_count": 50,
     "metadata": {},
     "output_type": "execute_result"
    }
   ],
   "source": [
    "df['Processed_Tweet']"
   ]
  },
  {
   "cell_type": "markdown",
   "id": "bc316471",
   "metadata": {},
   "source": [
    "removing anyh urls that are present"
   ]
  },
  {
   "cell_type": "code",
   "execution_count": 51,
   "id": "90ab5e51",
   "metadata": {},
   "outputs": [],
   "source": [
    "df['Processed_Tweet'] = [re.sub('((www\\.[^\\s]+)|(https?://[^\\s]+))', '', i) for i in df['Processed_Tweet']] #Remove urls"
   ]
  },
  {
   "cell_type": "code",
   "execution_count": 52,
   "id": "73bb667a",
   "metadata": {},
   "outputs": [
    {
     "data": {
      "text/plain": [
       "0        The fact that #BethSentUs doxxed the justices ...\n",
       "1        Trump complained US Navy ships ‘look ugly’: Es...\n",
       "2        Remember when #biden left Afghanistan? Why isn...\n",
       "3        #Biden is asking for a $813,000,000,000 \"defen...\n",
       "4          Last month, the #SCOTUS rejected the #Biden ...\n",
       "                               ...                        \n",
       "14635      should 100% run in 2024 if #Biden doesn't. \\...\n",
       "14636    Wow!! Looks like the petro #us  petro #Dollar ...\n",
       "14637    The #US government should issue a bottle of wi...\n",
       "14638    TruthSocial highkey the shit rn #TruthSocial #...\n",
       "14639    'You cannot have a Ministry of Truth in this c...\n",
       "Name: Processed_Tweet, Length: 14640, dtype: object"
      ]
     },
     "execution_count": 52,
     "metadata": {},
     "output_type": "execute_result"
    }
   ],
   "source": [
    "df['Processed_Tweet']"
   ]
  },
  {
   "cell_type": "markdown",
   "id": "2842a795",
   "metadata": {},
   "source": [
    "removing the hashtags symbol from the tweets"
   ]
  },
  {
   "cell_type": "code",
   "execution_count": 53,
   "id": "bcac606d",
   "metadata": {},
   "outputs": [],
   "source": [
    "df['Processed_Tweet'] = [re.sub(r'#([^\\s]+)', r'\\1', i) for i in df['Processed_Tweet']] # remove the # in #hashtag"
   ]
  },
  {
   "cell_type": "code",
   "execution_count": 54,
   "id": "6ea17b51",
   "metadata": {},
   "outputs": [
    {
     "data": {
      "text/plain": [
       "0        The fact that BethSentUs doxxed the justices w...\n",
       "1        Trump complained US Navy ships ‘look ugly’: Es...\n",
       "2        Remember when biden left Afghanistan? Why isn’...\n",
       "3        Biden is asking for a $813,000,000,000 \"defens...\n",
       "4          Last month, the SCOTUS rejected the Biden  a...\n",
       "                               ...                        \n",
       "14635      should 100% run in 2024 if Biden doesn't. \\n...\n",
       "14636    Wow!! Looks like the petro us  petro Dollar is...\n",
       "14637    The US government should issue a bottle of win...\n",
       "14638    TruthSocial highkey the shit rn TruthSocial Tr...\n",
       "14639    'You cannot have a Ministry of Truth in this c...\n",
       "Name: Processed_Tweet, Length: 14640, dtype: object"
      ]
     },
     "execution_count": 54,
     "metadata": {},
     "output_type": "execute_result"
    }
   ],
   "source": [
    "df['Processed_Tweet']"
   ]
  },
  {
   "cell_type": "markdown",
   "id": "728cf1a5",
   "metadata": {},
   "source": [
    "using library to preprocess the tweets"
   ]
  },
  {
   "cell_type": "code",
   "execution_count": 64,
   "id": "6d0910f4",
   "metadata": {},
   "outputs": [],
   "source": [
    "import preprocessor as p #Module for faster preprocessing specifically for tweets"
   ]
  },
  {
   "cell_type": "code",
   "execution_count": 65,
   "id": "7143072b",
   "metadata": {
    "scrolled": true
   },
   "outputs": [
    {
     "ename": "AttributeError",
     "evalue": "module 'preprocessor' has no attribute 'clean'",
     "output_type": "error",
     "traceback": [
      "\u001b[1;31m---------------------------------------------------------------------------\u001b[0m",
      "\u001b[1;31mAttributeError\u001b[0m                            Traceback (most recent call last)",
      "Input \u001b[1;32mIn [65]\u001b[0m, in \u001b[0;36m<cell line: 1>\u001b[1;34m()\u001b[0m\n\u001b[1;32m----> 1\u001b[0m df[\u001b[38;5;124m'\u001b[39m\u001b[38;5;124mProcessed_Tweet\u001b[39m\u001b[38;5;124m'\u001b[39m] \u001b[38;5;241m=\u001b[39m [p\u001b[38;5;241m.\u001b[39mclean(i) \u001b[38;5;28;01mfor\u001b[39;00m i \u001b[38;5;129;01min\u001b[39;00m df[\u001b[38;5;124m'\u001b[39m\u001b[38;5;124mProcessed_Tweet\u001b[39m\u001b[38;5;124m'\u001b[39m]]\n",
      "Input \u001b[1;32mIn [65]\u001b[0m, in \u001b[0;36m<listcomp>\u001b[1;34m(.0)\u001b[0m\n\u001b[1;32m----> 1\u001b[0m df[\u001b[38;5;124m'\u001b[39m\u001b[38;5;124mProcessed_Tweet\u001b[39m\u001b[38;5;124m'\u001b[39m] \u001b[38;5;241m=\u001b[39m [\u001b[43mp\u001b[49m\u001b[38;5;241;43m.\u001b[39;49m\u001b[43mclean\u001b[49m(i) \u001b[38;5;28;01mfor\u001b[39;00m i \u001b[38;5;129;01min\u001b[39;00m df[\u001b[38;5;124m'\u001b[39m\u001b[38;5;124mProcessed_Tweet\u001b[39m\u001b[38;5;124m'\u001b[39m]]\n",
      "\u001b[1;31mAttributeError\u001b[0m: module 'preprocessor' has no attribute 'clean'"
     ]
    }
   ],
   "source": [
    "df['Processed_Tweet'] = [p.clean(i) for i in df['Processed_Tweet']]"
   ]
  },
  {
   "cell_type": "code",
   "execution_count": null,
   "id": "911c06f9",
   "metadata": {},
   "outputs": [],
   "source": []
  }
 ],
 "metadata": {
  "kernelspec": {
   "display_name": "Python 3",
   "language": "python",
   "name": "python3"
  },
  "language_info": {
   "codemirror_mode": {
    "name": "ipython",
    "version": 3
   },
   "file_extension": ".py",
   "mimetype": "text/x-python",
   "name": "python",
   "nbconvert_exporter": "python",
   "pygments_lexer": "ipython3",
   "version": "3.9.5"
  }
 },
 "nbformat": 4,
 "nbformat_minor": 5
}
