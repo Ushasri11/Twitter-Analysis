{
 "cells": [
  {
   "cell_type": "code",
   "execution_count": 72,
   "id": "53d21a03",
   "metadata": {},
   "outputs": [],
   "source": [
    "import tweepy \n",
    "import pandas as pd"
   ]
  },
  {
   "cell_type": "code",
   "execution_count": 73,
   "id": "e0022a0f",
   "metadata": {},
   "outputs": [],
   "source": [
    "consumer_key= \"DLNYp53hKpcDDquWW9h8t8U4q\"\n",
    "consumer_secret  = \"BfGBDyE1fMBtpQQyOuHMgEXLPpk0n4uUkUFrK4zt33i4aQyBnY\"\n",
    "access_token =\"1373473045105442817-9wBGuzgArQ2idsByjktOZBCF36t69L\"\n",
    "access_token_secret= \"ZxBtPiZke9MootjThdPlsiJAIoyjiQA1AHo1mm5WZx7cB\""
   ]
  },
  {
   "cell_type": "code",
   "execution_count": 74,
   "id": "38c736a1",
   "metadata": {},
   "outputs": [],
   "source": [
    "auth = tweepy.OAuthHandler(consumer_key, consumer_secret)  # authentication of access token and secret \n",
    "auth.set_access_token(access_token, access_token_secret) \n",
    "api = tweepy.API(auth,wait_on_rate_limit = True)"
   ]
  },
  {
   "cell_type": "code",
   "execution_count": 78,
   "id": "8f607360",
   "metadata": {},
   "outputs": [],
   "source": [
    "date1 = \"2020-03-01\"  #Date from which you need to extract tweets before election\n",
    "date2 = \"2020-10-31\"  #Date till when you need to extract tweets before election"
   ]
  },
  {
   "cell_type": "code",
   "execution_count": 75,
   "id": "4db39af3",
   "metadata": {},
   "outputs": [],
   "source": [
    "date3 = \"2021-09-13\"  #Date from which you need to extract tweets after election\n",
    "date4 = \"2022-05-09\"  #Date till when you need to extract tweets after election"
   ]
  },
  {
   "cell_type": "code",
   "execution_count": 76,
   "id": "ffb45f6c",
   "metadata": {},
   "outputs": [],
   "source": [
    "date =[]\n",
    "user_id = []\n",
    "verified = []\n",
    "text = []\n",
    "user = []\n",
    "location = []\n",
    "source = []\n",
    "likes = []\n",
    "followers = []\n",
    "following = []\n",
    "retweets = []"
   ]
  },
  {
   "cell_type": "code",
   "execution_count": 77,
   "id": "68462e8e",
   "metadata": {},
   "outputs": [],
   "source": [
    "def get_tweets(date1,date2,word):\n",
    "    count = 0\n",
    "    for tweet in tweepy.Cursor(api.search_tweets , q=word,count =1000,lang=\"en\",since_id = date1,until = date2,tweet_mode = 'extended').items():\n",
    "        print(tweet.created_at)  #Date at which it was tweet\n",
    "        date.append(tweet.created_at)\n",
    "        print(tweet.id)          #Unique ID of tweet\n",
    "        user_id.append(tweet.id)\n",
    "        print(tweet.user.verified)   #If user who tweet is verified or not\n",
    "        verified.append(tweet.user.verified)\n",
    "        print(tweet.full_text)   #To get full text of the tweet\n",
    "        text.append(tweet.full_text)\n",
    "        print(tweet.user.screen_name)  #User screen name\n",
    "        user.append(tweet.user.screen_name)\n",
    "        print(tweet.user.location)     #Location from where the tweet came\n",
    "        location.append(tweet.user.location)\n",
    "        print(tweet.source)            #Which twitter application was used to tweet\n",
    "        source.append(tweet.source)\n",
    "        print(tweet.favorite_count)     #Number of likes on the tweet\n",
    "        likes.append(tweet.favorite_count)\n",
    "        print(tweet.user.followers_count)    #Number of followers of the user\n",
    "        followers.append(tweet.user.followers_count)\n",
    "        print(tweet.user.friends_count)      #Number of following by the user\n",
    "        following.append(tweet.user.friends_count)\n",
    "        print(tweet.retweet_count)               #Number of the retweets of the original tweet\n",
    "        retweets.append(tweet.retweet_count)\n",
    "    \n",
    "        print('<--------------------------------------------------->')\n",
    "        count+=1\n",
    "        print(count)"
   ]
  },
  {
   "cell_type": "code",
   "execution_count": 71,
   "id": "bc61377e",
   "metadata": {},
   "outputs": [],
   "source": [
    "get_tweets(date1,date2,\"#joebiden\"+\" -filter:retweets\") #Filtering out retweets to avoid duplication\n",
    "\n",
    "data = list(zip(date,user_id,verified,text,user,location,source,likes,followers,following,retweets))\n",
    "df = pd.DataFrame(data =data, columns =[\"Date\",\"Tweet_id\",\"Verified\",\"Tweet\",\n",
    "                                   \"User\",\"Location\",\"Source\",\"Likes\",\"Followers\",\"Following\",\"Retweets\"])\n",
    "\n",
    "           \n",
    "df.to_csv('Biden_No_Retweet_Full_Text_Before_Election.csv',index = False)"
   ]
  },
  {
   "cell_type": "code",
   "execution_count": 79,
   "id": "4b611948",
   "metadata": {},
   "outputs": [
    {
     "ename": "NameError",
     "evalue": "name 'date3' is not defined",
     "output_type": "error",
     "traceback": [
      "\u001b[1;31m---------------------------------------------------------------------------\u001b[0m",
      "\u001b[1;31mNameError\u001b[0m                                 Traceback (most recent call last)",
      "Input \u001b[1;32mIn [79]\u001b[0m, in \u001b[0;36m<cell line: 1>\u001b[1;34m()\u001b[0m\n\u001b[1;32m----> 1\u001b[0m get_tweets(\u001b[43mdate3\u001b[49m,date4,\u001b[38;5;124m\"\u001b[39m\u001b[38;5;124m#joebiden\u001b[39m\u001b[38;5;124m\"\u001b[39m\u001b[38;5;241m+\u001b[39m\u001b[38;5;124m\"\u001b[39m\u001b[38;5;124m -filter:retweets\u001b[39m\u001b[38;5;124m\"\u001b[39m) \u001b[38;5;66;03m#Filtering out retweets to avoid duplication\u001b[39;00m\n\u001b[0;32m      3\u001b[0m data \u001b[38;5;241m=\u001b[39m \u001b[38;5;28mlist\u001b[39m(\u001b[38;5;28mzip\u001b[39m(date,user_id,verified,text,user,location,source,likes,followers,following,retweets))\n\u001b[0;32m      4\u001b[0m df \u001b[38;5;241m=\u001b[39m pd\u001b[38;5;241m.\u001b[39mDataFrame(data \u001b[38;5;241m=\u001b[39mdata, columns \u001b[38;5;241m=\u001b[39m[\u001b[38;5;124m\"\u001b[39m\u001b[38;5;124mDate\u001b[39m\u001b[38;5;124m\"\u001b[39m,\u001b[38;5;124m\"\u001b[39m\u001b[38;5;124mTweet_id\u001b[39m\u001b[38;5;124m\"\u001b[39m,\u001b[38;5;124m\"\u001b[39m\u001b[38;5;124mVerified\u001b[39m\u001b[38;5;124m\"\u001b[39m,\u001b[38;5;124m\"\u001b[39m\u001b[38;5;124mTweet\u001b[39m\u001b[38;5;124m\"\u001b[39m,\n\u001b[0;32m      5\u001b[0m                                    \u001b[38;5;124m\"\u001b[39m\u001b[38;5;124mUser\u001b[39m\u001b[38;5;124m\"\u001b[39m,\u001b[38;5;124m\"\u001b[39m\u001b[38;5;124mLocation\u001b[39m\u001b[38;5;124m\"\u001b[39m,\u001b[38;5;124m\"\u001b[39m\u001b[38;5;124mSource\u001b[39m\u001b[38;5;124m\"\u001b[39m,\u001b[38;5;124m\"\u001b[39m\u001b[38;5;124mLikes\u001b[39m\u001b[38;5;124m\"\u001b[39m,\u001b[38;5;124m\"\u001b[39m\u001b[38;5;124mFollowers\u001b[39m\u001b[38;5;124m\"\u001b[39m,\u001b[38;5;124m\"\u001b[39m\u001b[38;5;124mFollowing\u001b[39m\u001b[38;5;124m\"\u001b[39m,\u001b[38;5;124m\"\u001b[39m\u001b[38;5;124mRetweets\u001b[39m\u001b[38;5;124m\"\u001b[39m])\n",
      "\u001b[1;31mNameError\u001b[0m: name 'date3' is not defined"
     ]
    }
   ],
   "source": [
    "get_tweets(date3,date4,\"#joebiden\"+\" -filter:retweets\") #Filtering out retweets to avoid duplication\n",
    "\n",
    "data = list(zip(date,user_id,verified,text,user,location,source,likes,followers,following,retweets))\n",
    "df = pd.DataFrame(data =data, columns =[\"Date\",\"Tweet_id\",\"Verified\",\"Tweet\",\n",
    "                                   \"User\",\"Location\",\"Source\",\"Likes\",\"Followers\",\"Following\",\"Retweets\"])\n",
    "\n",
    "           \n",
    "df.to_csv('Biden_No_Retweet_Full_Text_After_Election.csv',index = False)"
   ]
  }
 ],
 "metadata": {
  "kernelspec": {
   "display_name": "Python 3 (ipykernel)",
   "language": "python",
   "name": "python3"
  },
  "language_info": {
   "codemirror_mode": {
    "name": "ipython",
    "version": 3
   },
   "file_extension": ".py",
   "mimetype": "text/x-python",
   "name": "python",
   "nbconvert_exporter": "python",
   "pygments_lexer": "ipython3",
   "version": "3.10.1"
  }
 },
 "nbformat": 4,
 "nbformat_minor": 5
}
